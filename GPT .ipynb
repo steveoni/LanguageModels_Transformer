{
  "nbformat": 4,
  "nbformat_minor": 0,
  "metadata": {
    "colab": {
      "name": "GPT.ipynb",
      "provenance": [],
      "collapsed_sections": []
    },
    "kernelspec": {
      "name": "python3",
      "display_name": "Python 3"
    },
    "accelerator": "GPU"
  },
  "cells": [
    {
      "cell_type": "code",
      "metadata": {
        "id": "8CTFf34f3c-j",
        "colab_type": "code",
        "colab": {
          "base_uri": "https://localhost:8080/",
          "height": 124
        },
        "outputId": "436b013c-e7da-45b0-f627-ac54a28e77fb"
      },
      "source": [
        "from google.colab import drive\n",
        "drive.mount('/content/drive')"
      ],
      "execution_count": null,
      "outputs": [
        {
          "output_type": "stream",
          "text": [
            "Go to this URL in a browser: https://accounts.google.com/o/oauth2/auth?client_id=947318989803-6bn6qk8qdgf4n4g3pfee6491hc0brc4i.apps.googleusercontent.com&redirect_uri=urn%3aietf%3awg%3aoauth%3a2.0%3aoob&response_type=code&scope=email%20https%3a%2f%2fwww.googleapis.com%2fauth%2fdocs.test%20https%3a%2f%2fwww.googleapis.com%2fauth%2fdrive%20https%3a%2f%2fwww.googleapis.com%2fauth%2fdrive.photos.readonly%20https%3a%2f%2fwww.googleapis.com%2fauth%2fpeopleapi.readonly\n",
            "\n",
            "Enter your authorization code:\n",
            "··········\n",
            "Mounted at /content/drive\n"
          ],
          "name": "stdout"
        }
      ]
    },
    {
      "cell_type": "code",
      "metadata": {
        "id": "geiWTOAImuyi",
        "colab_type": "code",
        "colab": {}
      },
      "source": [
        "%reload_ext autoreload\n",
        "%autoreload 2\n",
        "%matplotlib inline"
      ],
      "execution_count": null,
      "outputs": []
    },
    {
      "cell_type": "code",
      "metadata": {
        "id": "HU1KUMl8urBM",
        "colab_type": "code",
        "colab": {}
      },
      "source": [
        "import numpy as np\n",
        "import pandas as pd\n",
        "import unicodedata\n",
        "import string\n",
        "import re\n",
        "import random\n",
        "import torch"
      ],
      "execution_count": null,
      "outputs": []
    },
    {
      "cell_type": "code",
      "metadata": {
        "id": "P4IUTQYduunV",
        "colab_type": "code",
        "colab": {
          "base_uri": "https://localhost:8080/",
          "height": 34
        },
        "outputId": "b47dd576-f911-402f-d0d0-30e516b9e3f3"
      },
      "source": [
        "print(torch.__version__)"
      ],
      "execution_count": null,
      "outputs": [
        {
          "output_type": "stream",
          "text": [
            "1.5.1+cu101\n"
          ],
          "name": "stdout"
        }
      ]
    },
    {
      "cell_type": "code",
      "metadata": {
        "id": "yjlPEay3uxWL",
        "colab_type": "code",
        "colab": {}
      },
      "source": [
        "df = pd.read_csv(\"drive/My Drive/GPT/elon_musk.csv\")"
      ],
      "execution_count": null,
      "outputs": []
    },
    {
      "cell_type": "code",
      "metadata": {
        "id": "YfAD4zzU8rEb",
        "colab_type": "code",
        "colab": {}
      },
      "source": [
        "index = list(df.text.isna()[data.text.isna() == True].index)"
      ],
      "execution_count": null,
      "outputs": []
    },
    {
      "cell_type": "code",
      "metadata": {
        "id": "Zqp_VAGm9vVS",
        "colab_type": "code",
        "colab": {}
      },
      "source": [
        "data = df.text.drop(index,axis=0)"
      ],
      "execution_count": null,
      "outputs": []
    },
    {
      "cell_type": "code",
      "metadata": {
        "id": "eqJSnAfY-eUx",
        "colab_type": "code",
        "colab": {}
      },
      "source": [
        "data = data.to_list()"
      ],
      "execution_count": null,
      "outputs": []
    },
    {
      "cell_type": "code",
      "metadata": {
        "id": "F97AKH2s9-6v",
        "colab_type": "code",
        "colab": {}
      },
      "source": [
        "## remove uneccesory text\n",
        "def clean_tweet(tweet):\n",
        "#     tweet = normalize('NFD', tweet).encode('ascii', 'ignore')\n",
        "    tweet = str(tweet)\n",
        "    tweet = re.sub('(RT\\s(@\\w+))', '', tweet)\n",
        "    tweet = re.sub('@\\\\w+', '', tweet)\n",
        "   \n",
        "    tweet = re.sub('((http|https):(\\S+))', '', tweet)\n",
        "    tweet = re.sub('[!#?:*%$]', ' ', tweet)\n",
        "    tweet = re.sub('[^\\s\\w+]', '', tweet)\n",
        "    tweet = re.sub('[\\n]', '', tweet)\n",
        "    tweet = tweet.lower().strip()\n",
        "    return tweet"
      ],
      "execution_count": null,
      "outputs": []
    },
    {
      "cell_type": "code",
      "metadata": {
        "id": "BZj54gA9-VGO",
        "colab_type": "code",
        "colab": {}
      },
      "source": [
        "data_clean = list(map(lambda x: clean_tweet(x), data))"
      ],
      "execution_count": null,
      "outputs": []
    },
    {
      "cell_type": "code",
      "metadata": {
        "id": "1FcVX3R3u9Pn",
        "colab_type": "code",
        "colab": {}
      },
      "source": [
        "EOS_token = 1\n",
        "\n",
        "class Vocab:\n",
        "    def __init__(self, name):\n",
        "        self.name = name\n",
        "        self.word2index = {\"<blank>\":0,\"EOS\":1}\n",
        "        self.word2count = {}\n",
        "        self.index2word = {0:\"<blank>\", 1: \"EOS\"}\n",
        "        self.n_words = 2\n",
        "\n",
        "    def addSentence(self, sentence):\n",
        "        for word in sentence.split(' '):\n",
        "            self.addWord(word)\n",
        "\n",
        "    def addWord(self, word):\n",
        "        if word not in self.word2index:\n",
        "            self.word2index[word] = self.n_words\n",
        "            self.word2count[word] = 1\n",
        "            self.index2word[self.n_words] = word\n",
        "            self.n_words += 1\n",
        "        else:\n",
        "            self.word2count[word] += 1"
      ],
      "execution_count": null,
      "outputs": []
    },
    {
      "cell_type": "code",
      "metadata": {
        "id": "spph-lghR0rx",
        "colab_type": "code",
        "colab": {}
      },
      "source": [
        "vocab = Vocab(\"elon\")"
      ],
      "execution_count": null,
      "outputs": []
    },
    {
      "cell_type": "code",
      "metadata": {
        "id": "bvb9xBsGv5Sm",
        "colab_type": "code",
        "colab": {}
      },
      "source": [
        "# create a vocab for the data\n",
        "for tweet in data_clean:\n",
        "  vocab.addSentence(tweet)"
      ],
      "execution_count": null,
      "outputs": []
    },
    {
      "cell_type": "code",
      "metadata": {
        "id": "mkuHOFAKwdEQ",
        "colab_type": "code",
        "colab": {}
      },
      "source": [
        "def tokenize(lang,sentence):\n",
        "    \n",
        "    sent = sentence + \" \" + \"EOS\"\n",
        "    return [lang.word2index[word] for word in sent.split(' ')]"
      ],
      "execution_count": null,
      "outputs": []
    },
    {
      "cell_type": "code",
      "metadata": {
        "id": "h1bHGuBdw7Jn",
        "colab_type": "code",
        "colab": {}
      },
      "source": [
        "data_token = list(map(lambda x: tokenize(vocab, x), data_clean))"
      ],
      "execution_count": null,
      "outputs": []
    },
    {
      "cell_type": "code",
      "metadata": {
        "id": "Jzsv6DwYxQvL",
        "colab_type": "code",
        "colab": {}
      },
      "source": [
        "word_len = list(map(lambda x: len(x), data_token))"
      ],
      "execution_count": null,
      "outputs": []
    },
    {
      "cell_type": "code",
      "metadata": {
        "id": "MlijxsUqxUfZ",
        "colab_type": "code",
        "colab": {}
      },
      "source": [
        "MAX_LENGTH = max(word_len)"
      ],
      "execution_count": null,
      "outputs": []
    },
    {
      "cell_type": "code",
      "metadata": {
        "id": "8CkMJJt6-FVi",
        "colab_type": "code",
        "colab": {
          "base_uri": "https://localhost:8080/",
          "height": 34
        },
        "outputId": "4d329512-47e0-4888-f0ec-ae9cd3299973"
      },
      "source": [
        "MAX_LENGTH"
      ],
      "execution_count": null,
      "outputs": [
        {
          "output_type": "execute_result",
          "data": {
            "text/plain": [
              "60"
            ]
          },
          "metadata": {
            "tags": []
          },
          "execution_count": 19
        }
      ]
    },
    {
      "cell_type": "code",
      "metadata": {
        "id": "F4PjHnwsx3Yw",
        "colab_type": "code",
        "colab": {}
      },
      "source": [
        "token_pad = np.zeros((len(data_token), MAX_LENGTH))"
      ],
      "execution_count": null,
      "outputs": []
    },
    {
      "cell_type": "code",
      "metadata": {
        "id": "dxhONT95x6QK",
        "colab_type": "code",
        "colab": {}
      },
      "source": [
        "for i,v in enumerate(data_token):\n",
        "    \n",
        "    for j, token in enumerate(v):\n",
        "        \n",
        "        token_pad[i,j] = token"
      ],
      "execution_count": null,
      "outputs": []
    },
    {
      "cell_type": "code",
      "metadata": {
        "id": "boOKmixRy3gy",
        "colab_type": "code",
        "colab": {
          "base_uri": "https://localhost:8080/",
          "height": 104
        },
        "outputId": "60a9971f-4031-425e-f782-530b0b076993"
      },
      "source": [
        "token_pad[0]"
      ],
      "execution_count": null,
      "outputs": [
        {
          "output_type": "execute_result",
          "data": {
            "text/plain": [
              "array([ 2.,  3.,  4.,  5.,  6.,  7.,  8.,  9., 10., 11., 12., 13., 14.,\n",
              "       12., 15., 16., 17., 18., 19., 20., 14., 21., 22.,  1.,  0.,  0.,\n",
              "        0.,  0.,  0.,  0.,  0.,  0.,  0.,  0.,  0.,  0.,  0.,  0.,  0.,\n",
              "        0.,  0.,  0.,  0.,  0.,  0.,  0.,  0.,  0.,  0.,  0.,  0.,  0.,\n",
              "        0.,  0.,  0.,  0.,  0.,  0.,  0.,  0.])"
            ]
          },
          "metadata": {
            "tags": []
          },
          "execution_count": 23
        }
      ]
    },
    {
      "cell_type": "code",
      "metadata": {
        "id": "wLTa4-2UzUeG",
        "colab_type": "code",
        "colab": {}
      },
      "source": [
        "valid = token_pad[:500]\n",
        "train = token_pad[800:]"
      ],
      "execution_count": null,
      "outputs": []
    },
    {
      "cell_type": "code",
      "metadata": {
        "id": "HwST5u20zzSr",
        "colab_type": "code",
        "colab": {}
      },
      "source": [
        "from torch.utils.data import TensorDataset, DataLoader"
      ],
      "execution_count": null,
      "outputs": []
    },
    {
      "cell_type": "code",
      "metadata": {
        "id": "nb-SMWtGz4MV",
        "colab_type": "code",
        "colab": {}
      },
      "source": [
        "train_data = TensorDataset(torch.from_numpy(train).long())"
      ],
      "execution_count": null,
      "outputs": []
    },
    {
      "cell_type": "code",
      "metadata": {
        "id": "FRtluUzB0MTw",
        "colab_type": "code",
        "colab": {}
      },
      "source": [
        "valid_data = TensorDataset(torch.from_numpy(valid).long())"
      ],
      "execution_count": null,
      "outputs": []
    },
    {
      "cell_type": "code",
      "metadata": {
        "id": "Y5jU2No10XAb",
        "colab_type": "code",
        "colab": {}
      },
      "source": [
        "batch_size = 100\n",
        "\n",
        "train_loader= DataLoader(train_data,shuffle=True,batch_size=batch_size,)\n",
        "valid_loader =DataLoader(valid_data,shuffle=True,batch_size=batch_size,)"
      ],
      "execution_count": null,
      "outputs": []
    },
    {
      "cell_type": "code",
      "metadata": {
        "id": "6XpPzRuf0bkR",
        "colab_type": "code",
        "colab": {
          "base_uri": "https://localhost:8080/",
          "height": 34
        },
        "outputId": "a40e5caf-9ae8-4e7d-9dd1-05310dcdd492"
      },
      "source": [
        "dataiter = iter(train_loader)\n",
        "sample_x= dataiter.next()[0]\n",
        "\n",
        "sample_x.shape"
      ],
      "execution_count": null,
      "outputs": [
        {
          "output_type": "execute_result",
          "data": {
            "text/plain": [
              "torch.Size([100, 60])"
            ]
          },
          "metadata": {
            "tags": []
          },
          "execution_count": 29
        }
      ]
    },
    {
      "cell_type": "code",
      "metadata": {
        "id": "tSSG19uj0fpQ",
        "colab_type": "code",
        "colab": {
          "base_uri": "https://localhost:8080/",
          "height": 72
        },
        "outputId": "16290ae2-f4a7-4908-be4c-875ac6f3b4d5"
      },
      "source": [
        "import torch.nn as nn\n",
        "import torch.nn.functional as F\n",
        "import math, copy, time\n",
        "from torch.autograd import Variable\n",
        "import matplotlib.pyplot as plt\n",
        "import seaborn\n",
        "seaborn.set_context(context=\"talk\")\n",
        "%matplotlib inline"
      ],
      "execution_count": null,
      "outputs": [
        {
          "output_type": "stream",
          "text": [
            "/usr/local/lib/python3.6/dist-packages/statsmodels/tools/_testing.py:19: FutureWarning: pandas.util.testing is deprecated. Use the functions in the public API at pandas.testing instead.\n",
            "  import pandas.util.testing as tm\n"
          ],
          "name": "stderr"
        }
      ]
    },
    {
      "cell_type": "code",
      "metadata": {
        "id": "krdfex6e0y_b",
        "colab_type": "code",
        "colab": {}
      },
      "source": [
        "class Generator(nn.Module):\n",
        "    \"Define standard linear + softmax generation step.\"\n",
        "    def __init__(self, d_model, vocab):\n",
        "        super(Generator, self).__init__()\n",
        "        self.proj = nn.Linear(d_model, vocab)\n",
        "\n",
        "    def forward(self, x):\n",
        "        return F.log_softmax(self.proj(x), dim=-1)"
      ],
      "execution_count": null,
      "outputs": []
    },
    {
      "cell_type": "code",
      "metadata": {
        "id": "2i6AC4gp06dh",
        "colab_type": "code",
        "colab": {}
      },
      "source": [
        "def clones(module, N):\n",
        "    \"Produce N identical layers.\"\n",
        "    return nn.ModuleList([copy.deepcopy(module) for _ in range(N)])"
      ],
      "execution_count": null,
      "outputs": []
    },
    {
      "cell_type": "code",
      "metadata": {
        "id": "vLpzA4wi09wS",
        "colab_type": "code",
        "colab": {}
      },
      "source": [
        "class LayerNorm(nn.Module):\n",
        "    \"Construct a layernorm module (See citation for details).\"\n",
        "    def __init__(self, features, eps=1e-6):\n",
        "        super(LayerNorm, self).__init__()\n",
        "        self.a_2 = nn.Parameter(torch.ones(features))\n",
        "        self.b_2 = nn.Parameter(torch.zeros(features))\n",
        "        self.eps = eps\n",
        "\n",
        "    def forward(self, x):\n",
        "        mean = x.mean(-1, keepdim=True)\n",
        "        std = x.std(-1, keepdim=True)\n",
        "        return self.a_2 * (x - mean) / (std + self.eps) + self.b_2"
      ],
      "execution_count": null,
      "outputs": []
    },
    {
      "cell_type": "code",
      "metadata": {
        "id": "lWAu5yTc1KxG",
        "colab_type": "code",
        "colab": {}
      },
      "source": [
        "class SublayerConnection(nn.Module):\n",
        "    \"\"\"\n",
        "    A residual connection followed by a layer norm.\n",
        "    Note for code simplicity the norm is first as opposed to last.\n",
        "    \"\"\"\n",
        "    def __init__(self, size, dropout):\n",
        "        super(SublayerConnection, self).__init__()\n",
        "        self.norm = LayerNorm(size)\n",
        "        self.dropout = nn.Dropout(dropout)\n",
        "\n",
        "    def forward(self, x, sublayer):\n",
        "        \"Apply residual connection to any sublayer with the same size.\"\n",
        "        return x + self.dropout(sublayer(self.norm(x)))"
      ],
      "execution_count": null,
      "outputs": []
    },
    {
      "cell_type": "code",
      "metadata": {
        "id": "xvdzzdVi1PZV",
        "colab_type": "code",
        "colab": {}
      },
      "source": [
        "class Decoder(nn.Module):\n",
        "\n",
        "  def __init__(self, layer, N):\n",
        "\n",
        "    super(Decoder, self).__init__()\n",
        "    self.layers = clones(layer, N)\n",
        "    self.norm = LayerNorm(layer.size)\n",
        "\n",
        "  def forward(self,x, tgt_mask):\n",
        "\n",
        "    for layer in self.layers:\n",
        "      x = layer(x, tgt_mask)\n",
        "    return self.norm(x)"
      ],
      "execution_count": null,
      "outputs": []
    },
    {
      "cell_type": "code",
      "metadata": {
        "id": "bRj5bOeb2Iw7",
        "colab_type": "code",
        "colab": {}
      },
      "source": [
        "class DecoderLayer(nn.Module):\n",
        "\n",
        "  def __init__(self, size, self_attn, feed_forward, dropout):\n",
        "    super(DecoderLayer, self).__init__()\n",
        "    self.size = size\n",
        "    self.self_attn = self_attn\n",
        "    self.feed_forward = feed_forward\n",
        "    self.sublayer = clones(SublayerConnection(size, dropout), 2)\n",
        "\n",
        "  def forward(self, x, tgt_mask):\n",
        "\n",
        "    x = self.sublayer[0](x, lambda x: self.self_attn(x, x, x, tgt_mask))\n",
        "    return self.sublayer[1](x, self.feed_forward)"
      ],
      "execution_count": null,
      "outputs": []
    },
    {
      "cell_type": "code",
      "metadata": {
        "id": "w1Txc6Tu3rSX",
        "colab_type": "code",
        "colab": {}
      },
      "source": [
        "def subsequent_mask(size):\n",
        "    \"Mask out subsequent positions.\"\n",
        "    attn_shape = (1, size, size)\n",
        "    subsequent_mask = np.triu(np.ones(attn_shape), k=1).astype('uint8')\n",
        "    return torch.from_numpy(subsequent_mask) == 0"
      ],
      "execution_count": null,
      "outputs": []
    },
    {
      "cell_type": "code",
      "metadata": {
        "id": "e5f2STj13wR1",
        "colab_type": "code",
        "colab": {}
      },
      "source": [
        "def attention(query, key, value, mask=None, dropout=None):\n",
        "    \"Compute 'Scaled Dot Product Attention'\"\n",
        "    d_k = query.size(-1)\n",
        "    scores = torch.matmul(query, key.transpose(-2, -1)) \\\n",
        "             / math.sqrt(d_k)\n",
        "    if mask is not None:\n",
        "        scores = scores.masked_fill(mask == 0, -1e9)\n",
        "    p_attn = F.softmax(scores, dim = -1)\n",
        "    if dropout is not None:\n",
        "        p_attn = dropout(p_attn)\n",
        "    return torch.matmul(p_attn, value), p_attn"
      ],
      "execution_count": null,
      "outputs": []
    },
    {
      "cell_type": "code",
      "metadata": {
        "id": "fFXwTFum4Dpf",
        "colab_type": "code",
        "colab": {}
      },
      "source": [
        "class MultiHeadedAttention(nn.Module):\n",
        "    def __init__(self, h, d_model, dropout=0.1):\n",
        "        \"Take in model size and number of heads.\"\n",
        "        super(MultiHeadedAttention, self).__init__()\n",
        "        assert d_model % h == 0\n",
        "        # We assume d_v always equals d_k\n",
        "        self.d_k = d_model // h\n",
        "        self.h = h\n",
        "        self.linears = clones(nn.Linear(d_model, d_model), 4)\n",
        "        self.attn = None\n",
        "        self.dropout = nn.Dropout(p=dropout)\n",
        "        \n",
        "    def forward(self, query, key, value, mask=None):\n",
        "        \"Implements Figure 2\"\n",
        "        if mask is not None:\n",
        "            # Same mask applied to all h heads.\n",
        "            mask = mask.unsqueeze(1)\n",
        "        nbatches = query.size(0)\n",
        "        \n",
        "        # 1) Do all the linear projections in batch from d_model => h x d_k \n",
        "        query, key, value = \\\n",
        "            [l(x).view(nbatches, -1, self.h, self.d_k).transpose(1, 2)\n",
        "             for l, x in zip(self.linears, (query, key, value))]\n",
        "        \n",
        "        # 2) Apply attention on all the projected vectors in batch. \n",
        "        x, self.attn = attention(query, key, value, mask=mask, \n",
        "                                 dropout=self.dropout)\n",
        "        \n",
        "        # 3) \"Concat\" using a view and apply a final linear. \n",
        "        x = x.transpose(1, 2).contiguous() \\\n",
        "             .view(nbatches, -1, self.h * self.d_k)\n",
        "        return self.linears[-1](x)"
      ],
      "execution_count": null,
      "outputs": []
    },
    {
      "cell_type": "code",
      "metadata": {
        "id": "4l1YDXVF4J14",
        "colab_type": "code",
        "colab": {}
      },
      "source": [
        "class PositionwiseFeedForward(nn.Module):\n",
        "    \"Implements FFN equation.\"\n",
        "    def __init__(self, d_model, d_ff, dropout=0.1):\n",
        "        super(PositionwiseFeedForward, self).__init__()\n",
        "        self.w_1 = nn.Linear(d_model, d_ff)\n",
        "        self.w_2 = nn.Linear(d_ff, d_model)\n",
        "        self.dropout = nn.Dropout(dropout)\n",
        "\n",
        "    def forward(self, x):\n",
        "        return self.w_2(self.dropout(F.gelu(self.w_1(x))))"
      ],
      "execution_count": null,
      "outputs": []
    },
    {
      "cell_type": "code",
      "metadata": {
        "id": "AMHS4a4a4On1",
        "colab_type": "code",
        "colab": {}
      },
      "source": [
        "class Embeddings(nn.Module):\n",
        "    def __init__(self, d_model, vocab):\n",
        "        super(Embeddings, self).__init__()\n",
        "        self.lut = nn.Embedding(vocab, d_model)\n",
        "        self.d_model = d_model\n",
        "\n",
        "    def forward(self, x):\n",
        "        return self.lut(x) * math.sqrt(self.d_model)"
      ],
      "execution_count": null,
      "outputs": []
    },
    {
      "cell_type": "code",
      "metadata": {
        "id": "x6Rje_Ox4S7X",
        "colab_type": "code",
        "colab": {}
      },
      "source": [
        "class PositionalEncoding(nn.Module):\n",
        "    \"Implement the PE function.\"\n",
        "    def __init__(self, d_model, dropout, max_len=5000):\n",
        "        super(PositionalEncoding, self).__init__()\n",
        "        self.dropout = nn.Dropout(p=dropout)\n",
        "        \n",
        "        # Compute the positional encodings once in log space.\n",
        "        pe = torch.zeros(max_len, d_model)\n",
        "        position = torch.arange(0., max_len).unsqueeze(1)\n",
        "        div_term = torch.exp(torch.arange(0., d_model, 2) *\n",
        "                             -(math.log(10000.0) / d_model))\n",
        "        pe[:, 0::2] = torch.sin(position * div_term)\n",
        "        pe[:, 1::2] = torch.cos(position * div_term)\n",
        "        pe = pe.unsqueeze(0)\n",
        "        self.register_buffer('pe', pe)\n",
        "        \n",
        "    def forward(self, x):\n",
        "        x = x + Variable(self.pe[:, :x.size(1)], \n",
        "                         requires_grad=False)\n",
        "        return self.dropout(x)"
      ],
      "execution_count": null,
      "outputs": []
    },
    {
      "cell_type": "code",
      "metadata": {
        "id": "S4vM-ES8A2fO",
        "colab_type": "code",
        "colab": {}
      },
      "source": [
        "class GP(nn.Module):\n",
        "\n",
        "  def __init__(self, decoder, tgt_embed, generator):\n",
        "    super(GP, self).__init__()\n",
        "    self.decoder = decoder\n",
        "    self.embed = tgt_embed\n",
        "    self.generator = generator\n",
        "\n",
        "  def forward(self, x, x_mask):\n",
        "\n",
        "    x = self.embed(x)\n",
        "    x =  self.decoder(x,x_mask)\n",
        "\n",
        "    return x"
      ],
      "execution_count": null,
      "outputs": []
    },
    {
      "cell_type": "code",
      "metadata": {
        "id": "gVAMspq84YXZ",
        "colab_type": "code",
        "colab": {}
      },
      "source": [
        "def make_model(eng_vocab, N=12, d_model=768, d_ff=3072, h=12, dropout=0.1):\n",
        "\n",
        "  c = copy.deepcopy\n",
        "  attn = MultiHeadedAttention(h,d_model)\n",
        "  ff   = PositionwiseFeedForward(d_model, d_ff, dropout)\n",
        "  position = PositionalEncoding(d_model, dropout)\n",
        "\n",
        "\n",
        "  model = GP(\n",
        "      Decoder(DecoderLayer(d_model, c(attn), c(ff), dropout), N),\n",
        "      nn.Sequential(Embeddings(d_model, eng_vocab), c(position)),\n",
        "      Generator(d_model, eng_vocab)\n",
        "  )\n",
        "\n",
        "  for p in model.parameters():\n",
        "    if p.dim() > 1:\n",
        "      nn.init.xavier_uniform(p)\n",
        "  return model"
      ],
      "execution_count": null,
      "outputs": []
    },
    {
      "cell_type": "code",
      "metadata": {
        "id": "6DfPOtIP7ZwO",
        "colab_type": "code",
        "colab": {}
      },
      "source": [
        "class Batch:\n",
        "\n",
        "  def __init__(self, trg, pad=0):\n",
        "\n",
        "    self.trg = trg[:, :-1]\n",
        "    self.trg_y = trg[:, 1:]\n",
        "\n",
        "    self.trg_mask = self.make_std_mask(self.trg,pad)\n",
        "\n",
        "    self.ntokens = (self.trg_y !=pad).data.sum()\n",
        "\n",
        "  @staticmethod\n",
        "  def make_std_mask(tgt, pad):\n",
        "    tgt_mask = (tgt != pad).unsqueeze(-2)\n",
        "    tgt_mask = tgt_mask & Variable(\n",
        "            subsequent_mask(tgt.size(-1)).type_as(tgt_mask.data))\n",
        "    return tgt_mask\n"
      ],
      "execution_count": null,
      "outputs": []
    },
    {
      "cell_type": "code",
      "metadata": {
        "id": "7vAswT8B8p3x",
        "colab_type": "code",
        "colab": {}
      },
      "source": [
        "def run_epoch(data_iter, model, loss_compute):\n",
        "\n",
        "  start = time.time()\n",
        "  total_tokens = 0\n",
        "  total_loss = 0\n",
        "  tokens = 0\n",
        "\n",
        "  for i , data in enumerate(data_iter):\n",
        "\n",
        "    trg = data[0]\n",
        "\n",
        "    batch = Batch(trg.cuda())\n",
        "\n",
        "    out = model.forward(batch.trg, batch.trg_mask)\n",
        "\n",
        "    loss = loss_compute(out, batch.trg_y, batch.ntokens)\n",
        "\n",
        "    total_loss += loss\n",
        "    total_tokens += batch.ntokens\n",
        "    tokens += batch.ntokens\n",
        "\n",
        "    if i % 50 == 1:\n",
        "\n",
        "      elapsed = time.time() - start\n",
        "      print(\"Epoch Step: %d Loss: %f Tokens per Sec: %f\" %\n",
        "              (i, loss / batch.ntokens, tokens / elapsed))\n",
        "      start = time.time()\n",
        "      tokens = 0\n",
        "  return total_loss / total_tokens"
      ],
      "execution_count": null,
      "outputs": []
    },
    {
      "cell_type": "code",
      "metadata": {
        "id": "QDk-A1lk-8K8",
        "colab_type": "code",
        "colab": {}
      },
      "source": [
        "class NoamOpt:\n",
        "    \"Optim wrapper that implements rate.\"\n",
        "    def __init__(self, model_size, factor, warmup, optimizer):\n",
        "        self.optimizer = optimizer\n",
        "        self._step = 0\n",
        "        self.warmup = warmup\n",
        "        self.factor = factor\n",
        "        self.model_size = model_size\n",
        "        self._rate = 0\n",
        "        \n",
        "    def step(self):\n",
        "        \"Update parameters and rate\"\n",
        "        self._step += 1\n",
        "        rate = self.rate()\n",
        "        for p in self.optimizer.param_groups:\n",
        "            p['lr'] = rate\n",
        "        self._rate = rate\n",
        "        self.optimizer.step()\n",
        "        \n",
        "    def rate(self, step = None):\n",
        "        \"Implement `lrate` above\"\n",
        "        if step is None:\n",
        "            step = self._step\n",
        "        return self.factor * \\\n",
        "            (self.model_size ** (-0.5) *\n",
        "            min(step ** (-0.5), step * self.warmup ** (-1.5)))\n",
        "        \n",
        "def get_std_opt(model):\n",
        "    return NoamOpt(model.src_embed[0].d_model, 2, 4000,\n",
        "            torch.optim.Adam(model.parameters(), lr=0, betas=(0.9, 0.98), eps=1e-9))"
      ],
      "execution_count": null,
      "outputs": []
    },
    {
      "cell_type": "code",
      "metadata": {
        "id": "_5aqge7V_Ahj",
        "colab_type": "code",
        "colab": {
          "base_uri": "https://localhost:8080/",
          "height": 278
        },
        "outputId": "78379d73-6c64-40be-cc17-ead1ea77765e"
      },
      "source": [
        "# Three settings of the lrate hyperparameters.\n",
        "opts = [NoamOpt(512, 1, 4000, None), \n",
        "        NoamOpt(512, 1, 8000, None),\n",
        "        NoamOpt(256, 1, 4000, None)]\n",
        "plt.plot(np.arange(1, 20000), [[opt.rate(i) for opt in opts] for i in range(1, 20000)])\n",
        "plt.legend([\"512:4000\", \"512:8000\", \"256:4000\"])\n",
        "None"
      ],
      "execution_count": null,
      "outputs": [
        {
          "output_type": "display_data",
          "data": {
            "image/png": "[encoded data removed]",
            "text/plain": [
              "<Figure size 432x288 with 1 Axes>"
            ]
          },
          "metadata": {
            "tags": [],
            "needs_background": "light"
          }
        }
      ]
    },
    {
      "cell_type": "code",
      "metadata": {
        "id": "5mkDsfTy_EK5",
        "colab_type": "code",
        "colab": {}
      },
      "source": [
        "class LabelSmoothing(nn.Module):\n",
        "    \"Implement label smoothing.\"\n",
        "    def __init__(self, size, padding_idx, smoothing=0.0):\n",
        "        super(LabelSmoothing, self).__init__()\n",
        "        self.criterion = nn.KLDivLoss(size_average=False)\n",
        "        self.padding_idx = padding_idx\n",
        "        self.confidence = 1.0 - smoothing\n",
        "        self.smoothing = smoothing\n",
        "        self.size = size\n",
        "        self.true_dist = None\n",
        "        \n",
        "    def forward(self, x, target):\n",
        "        assert x.size(1) == self.size\n",
        "        true_dist = x.data.clone()\n",
        "        true_dist.fill_(self.smoothing / (self.size - 2))\n",
        "        true_dist.scatter_(1, target.data.unsqueeze(1), self.confidence)\n",
        "        true_dist[:, self.padding_idx] = 0\n",
        "        mask = torch.nonzero(target.data == self.padding_idx)\n",
        "        if mask.dim() > 0:\n",
        "            true_dist.index_fill_(0, mask.squeeze(), 0.0)\n",
        "        self.true_dist = true_dist\n",
        "        return self.criterion(x, Variable(true_dist, requires_grad=False))"
      ],
      "execution_count": null,
      "outputs": []
    },
    {
      "cell_type": "code",
      "metadata": {
        "id": "Ah1svWBg_XHb",
        "colab_type": "code",
        "colab": {}
      },
      "source": [
        "class SimpleLossCompute:\n",
        "    \"A simple loss compute and train function.\"\n",
        "    def __init__(self, generator, criterion, opt=None):\n",
        "        self.generator = generator\n",
        "        self.criterion = criterion\n",
        "        self.opt = opt\n",
        "        \n",
        "    def __call__(self, x, y, norm):\n",
        "        x = self.generator(x)\n",
        "        loss = self.criterion(x.contiguous().view(-1, x.size(-1)), \n",
        "                              y.contiguous().view(-1)) / norm\n",
        "        loss.backward()\n",
        "        if self.opt is not None:\n",
        "            self.opt.step()\n",
        "            self.opt.optimizer.zero_grad()\n",
        "        return loss.item() * norm"
      ],
      "execution_count": null,
      "outputs": []
    },
    {
      "cell_type": "code",
      "metadata": {
        "id": "Z0WsyiJr_cLD",
        "colab_type": "code",
        "colab": {}
      },
      "source": [
        "def greedy_decode(model, src, max_len):\n",
        "    for i in range(max_len-1):\n",
        "        out = model(Variable(src), \n",
        "                    Variable(subsequent_mask(src.size(1)).type_as(src.data)))\n",
        "        prob = model.generator(out[:, -1])\n",
        "        _, next_word = torch.max(prob, dim = 1)\n",
        "        next_word = next_word.data[0]\n",
        "        src = torch.cat([src, \n",
        "                        torch.ones(1, 1).type_as(src.data).fill_(next_word)], dim=1)\n",
        "    return src"
      ],
      "execution_count": null,
      "outputs": []
    },
    {
      "cell_type": "code",
      "metadata": {
        "id": "4gHIcNP2_gcP",
        "colab_type": "code",
        "colab": {
          "base_uri": "https://localhost:8080/",
          "height": 141
        },
        "outputId": "3c699632-588d-414c-ce25-1749b0ac96bb"
      },
      "source": [
        "pad_idx = vocab.word2index[\"<blank>\"]\n",
        "model = make_model(vocab.n_words)\n",
        "model.cuda()\n",
        "criterion = LabelSmoothing(size=vocab.n_words,padding_idx=pad_idx,smoothing=0.1)\n",
        "criterion.cuda()"
      ],
      "execution_count": null,
      "outputs": [
        {
          "output_type": "stream",
          "text": [
            "/usr/local/lib/python3.6/dist-packages/ipykernel_launcher.py:17: UserWarning: nn.init.xavier_uniform is now deprecated in favor of nn.init.xavier_uniform_.\n",
            "/usr/local/lib/python3.6/dist-packages/torch/nn/_reduction.py:43: UserWarning: size_average and reduce args will be deprecated, please use reduction='sum' instead.\n",
            "  warnings.warn(warning.format(ret))\n"
          ],
          "name": "stderr"
        },
        {
          "output_type": "execute_result",
          "data": {
            "text/plain": [
              "LabelSmoothing(\n",
              "  (criterion): KLDivLoss()\n",
              ")"
            ]
          },
          "metadata": {
            "tags": []
          },
          "execution_count": 54
        }
      ]
    },
    {
      "cell_type": "code",
      "metadata": {
        "id": "8YPFH-_hElOK",
        "colab_type": "code",
        "colab": {
          "base_uri": "https://localhost:8080/",
          "height": 1000
        },
        "outputId": "9fedec13-4c50-4862-c8a3-214ff9886282"
      },
      "source": [
        "model_opt = NoamOpt(model.embed[0].d_model, 1, 2000,\n",
        "            torch.optim.Adam(model.parameters(), lr=0, betas=(0.9, 0.98), eps=1e-9))\n",
        "\n",
        "for epoch in range(70):\n",
        "  model.train()\n",
        "  \n",
        "    \n",
        "  run_epoch(train_loader,model,\n",
        "           SimpleLossCompute(model.generator,criterion,model_opt))\n",
        "  model.eval()\n",
        "  print(run_epoch(valid_loader,model,\n",
        "           SimpleLossCompute(model.generator,criterion,None)))"
      ],
      "execution_count": null,
      "outputs": [
        {
          "output_type": "stream",
          "text": [
            "/pytorch/torch/csrc/utils/python_arg_parser.cpp:756: UserWarning: This overload of nonzero is deprecated:\n",
            "\tnonzero(Tensor input, *, Tensor out)\n",
            "Consider using one of the following signatures instead:\n",
            "\tnonzero(Tensor input, *, bool as_tuple)\n"
          ],
          "name": "stderr"
        },
        {
          "output_type": "stream",
          "text": [
            "Epoch Step: 1 Loss: 7.188176 Tokens per Sec: 616.605164\n",
            "Epoch Step: 1 Loss: 7.030713 Tokens per Sec: 559.379517\n",
            "tensor(7.0258, device='cuda:0')\n",
            "Epoch Step: 1 Loss: 7.075574 Tokens per Sec: 718.628540\n",
            "Epoch Step: 1 Loss: 6.807343 Tokens per Sec: 564.475342\n",
            "tensor(6.7730, device='cuda:0')\n",
            "Epoch Step: 1 Loss: 6.803943 Tokens per Sec: 655.220520\n",
            "Epoch Step: 1 Loss: 6.500838 Tokens per Sec: 556.737976\n",
            "tensor(6.5055, device='cuda:0')\n",
            "Epoch Step: 1 Loss: 6.594892 Tokens per Sec: 636.391052\n",
            "Epoch Step: 1 Loss: 6.253706 Tokens per Sec: 537.631165\n",
            "tensor(6.3276, device='cuda:0')\n",
            "Epoch Step: 1 Loss: 6.492273 Tokens per Sec: 637.713318\n",
            "Epoch Step: 1 Loss: 6.252992 Tokens per Sec: 582.473694\n",
            "tensor(6.1844, device='cuda:0')\n",
            "Epoch Step: 1 Loss: 6.303047 Tokens per Sec: 656.761780\n",
            "Epoch Step: 1 Loss: 6.067269 Tokens per Sec: 555.334534\n",
            "tensor(6.0653, device='cuda:0')\n",
            "Epoch Step: 1 Loss: 6.156277 Tokens per Sec: 643.956238\n",
            "Epoch Step: 1 Loss: 5.893267 Tokens per Sec: 443.916199\n",
            "tensor(5.9786, device='cuda:0')\n",
            "Epoch Step: 1 Loss: 6.134102 Tokens per Sec: 615.264343\n",
            "Epoch Step: 1 Loss: 5.863060 Tokens per Sec: 553.245850\n",
            "tensor(5.9067, device='cuda:0')\n",
            "Epoch Step: 1 Loss: 5.909223 Tokens per Sec: 584.766113\n",
            "Epoch Step: 1 Loss: 5.741478 Tokens per Sec: 564.195435\n",
            "tensor(5.8411, device='cuda:0')\n",
            "Epoch Step: 1 Loss: 5.893626 Tokens per Sec: 665.748047\n",
            "Epoch Step: 1 Loss: 5.728013 Tokens per Sec: 530.782898\n",
            "tensor(5.7882, device='cuda:0')\n",
            "Epoch Step: 1 Loss: 5.985819 Tokens per Sec: 641.718384\n",
            "Epoch Step: 1 Loss: 5.713028 Tokens per Sec: 574.386169\n",
            "tensor(5.7313, device='cuda:0')\n",
            "Epoch Step: 1 Loss: 5.752438 Tokens per Sec: 604.473389\n",
            "Epoch Step: 1 Loss: 5.765166 Tokens per Sec: 607.555298\n",
            "tensor(5.7370, device='cuda:0')\n",
            "Epoch Step: 1 Loss: 5.773231 Tokens per Sec: 655.307800\n",
            "Epoch Step: 1 Loss: 5.514007 Tokens per Sec: 521.127747\n",
            "tensor(5.6919, device='cuda:0')\n",
            "Epoch Step: 1 Loss: 5.728027 Tokens per Sec: 728.056458\n",
            "Epoch Step: 1 Loss: 5.804850 Tokens per Sec: 544.728149\n",
            "tensor(5.7887, device='cuda:0')\n",
            "Epoch Step: 1 Loss: 5.727611 Tokens per Sec: 617.525452\n",
            "Epoch Step: 1 Loss: 5.484776 Tokens per Sec: 523.326904\n",
            "tensor(5.5380, device='cuda:0')\n",
            "Epoch Step: 1 Loss: 5.629394 Tokens per Sec: 665.693726\n",
            "Epoch Step: 1 Loss: 5.564200 Tokens per Sec: 568.893127\n",
            "tensor(5.5112, device='cuda:0')\n",
            "Epoch Step: 1 Loss: 5.540038 Tokens per Sec: 629.395630\n",
            "Epoch Step: 1 Loss: 5.406088 Tokens per Sec: 584.895325\n",
            "tensor(5.4425, device='cuda:0')\n",
            "Epoch Step: 1 Loss: 5.566204 Tokens per Sec: 594.221924\n",
            "Epoch Step: 1 Loss: 5.287086 Tokens per Sec: 589.393677\n",
            "tensor(5.2685, device='cuda:0')\n",
            "Epoch Step: 1 Loss: 5.556657 Tokens per Sec: 666.637207\n",
            "Epoch Step: 1 Loss: 5.060785 Tokens per Sec: 543.570312\n",
            "tensor(5.0995, device='cuda:0')\n",
            "Epoch Step: 1 Loss: 5.400372 Tokens per Sec: 674.851501\n",
            "Epoch Step: 1 Loss: 4.956173 Tokens per Sec: 555.586243\n",
            "tensor(4.9585, device='cuda:0')\n",
            "Epoch Step: 1 Loss: 5.291388 Tokens per Sec: 672.509338\n",
            "Epoch Step: 1 Loss: 4.859633 Tokens per Sec: 605.067627\n",
            "tensor(4.7962, device='cuda:0')\n",
            "Epoch Step: 1 Loss: 5.245294 Tokens per Sec: 654.636719\n",
            "Epoch Step: 1 Loss: 4.553090 Tokens per Sec: 516.515869\n",
            "tensor(4.5720, device='cuda:0')\n",
            "Epoch Step: 1 Loss: 5.077842 Tokens per Sec: 637.771545\n",
            "Epoch Step: 1 Loss: 4.374399 Tokens per Sec: 511.463531\n",
            "tensor(4.3742, device='cuda:0')\n",
            "Epoch Step: 1 Loss: 4.957806 Tokens per Sec: 593.722961\n",
            "Epoch Step: 1 Loss: 4.150363 Tokens per Sec: 567.710449\n",
            "tensor(4.1785, device='cuda:0')\n",
            "Epoch Step: 1 Loss: 4.884173 Tokens per Sec: 643.730286\n",
            "Epoch Step: 1 Loss: 4.078430 Tokens per Sec: 531.977966\n",
            "tensor(4.0621, device='cuda:0')\n",
            "Epoch Step: 1 Loss: 4.753294 Tokens per Sec: 597.414124\n",
            "Epoch Step: 1 Loss: 3.897585 Tokens per Sec: 527.945068\n",
            "tensor(3.8677, device='cuda:0')\n",
            "Epoch Step: 1 Loss: 4.818195 Tokens per Sec: 639.417053\n",
            "Epoch Step: 1 Loss: 3.659221 Tokens per Sec: 517.065857\n",
            "tensor(3.7132, device='cuda:0')\n",
            "Epoch Step: 1 Loss: 4.586591 Tokens per Sec: 657.492371\n",
            "Epoch Step: 1 Loss: 3.644611 Tokens per Sec: 548.292236\n",
            "tensor(3.6292, device='cuda:0')\n",
            "Epoch Step: 1 Loss: 4.650463 Tokens per Sec: 632.525391\n",
            "Epoch Step: 1 Loss: 3.557346 Tokens per Sec: 504.037384\n",
            "tensor(3.6195, device='cuda:0')\n",
            "Epoch Step: 1 Loss: 4.436391 Tokens per Sec: 613.640381\n",
            "Epoch Step: 1 Loss: 3.501006 Tokens per Sec: 588.407104\n",
            "tensor(3.4604, device='cuda:0')\n",
            "Epoch Step: 1 Loss: 4.373694 Tokens per Sec: 630.121338\n",
            "Epoch Step: 1 Loss: 3.188726 Tokens per Sec: 507.544342\n",
            "tensor(3.1457, device='cuda:0')\n",
            "Epoch Step: 1 Loss: 4.287053 Tokens per Sec: 623.558044\n",
            "Epoch Step: 1 Loss: 2.886989 Tokens per Sec: 571.943420\n",
            "tensor(2.8954, device='cuda:0')\n",
            "Epoch Step: 1 Loss: 4.144368 Tokens per Sec: 589.016052\n",
            "Epoch Step: 1 Loss: 2.856446 Tokens per Sec: 532.184082\n",
            "tensor(2.8106, device='cuda:0')\n",
            "Epoch Step: 1 Loss: 4.004915 Tokens per Sec: 678.010376\n",
            "Epoch Step: 1 Loss: 2.568811 Tokens per Sec: 523.941040\n",
            "tensor(2.6229, device='cuda:0')\n",
            "Epoch Step: 1 Loss: 3.928266 Tokens per Sec: 653.592896\n",
            "Epoch Step: 1 Loss: 2.408086 Tokens per Sec: 588.063965\n",
            "tensor(2.4147, device='cuda:0')\n",
            "Epoch Step: 1 Loss: 3.850441 Tokens per Sec: 616.391113\n",
            "Epoch Step: 1 Loss: 2.273536 Tokens per Sec: 546.670471\n",
            "tensor(2.2322, device='cuda:0')\n",
            "Epoch Step: 1 Loss: 3.772123 Tokens per Sec: 609.781677\n",
            "Epoch Step: 1 Loss: 2.174589 Tokens per Sec: 576.285583\n",
            "tensor(2.1402, device='cuda:0')\n",
            "Epoch Step: 1 Loss: 3.560668 Tokens per Sec: 676.745117\n",
            "Epoch Step: 1 Loss: 2.014490 Tokens per Sec: 521.357666\n",
            "tensor(2.0034, device='cuda:0')\n",
            "Epoch Step: 1 Loss: 3.478746 Tokens per Sec: 652.947998\n",
            "Epoch Step: 1 Loss: 1.852958 Tokens per Sec: 560.328430\n",
            "tensor(1.9031, device='cuda:0')\n",
            "Epoch Step: 1 Loss: 3.407422 Tokens per Sec: 671.155701\n",
            "Epoch Step: 1 Loss: 1.717476 Tokens per Sec: 558.833557\n",
            "tensor(1.7267, device='cuda:0')\n",
            "Epoch Step: 1 Loss: 3.331183 Tokens per Sec: 714.231750\n",
            "Epoch Step: 1 Loss: 1.498535 Tokens per Sec: 537.428528\n",
            "tensor(1.5371, device='cuda:0')\n",
            "Epoch Step: 1 Loss: 3.127384 Tokens per Sec: 593.909912\n",
            "Epoch Step: 1 Loss: 1.341853 Tokens per Sec: 560.138916\n",
            "tensor(1.3620, device='cuda:0')\n",
            "Epoch Step: 1 Loss: 3.004213 Tokens per Sec: 580.596924\n",
            "Epoch Step: 1 Loss: 1.131878 Tokens per Sec: 569.975525\n",
            "tensor(1.1656, device='cuda:0')\n",
            "Epoch Step: 1 Loss: 2.933165 Tokens per Sec: 683.044067\n",
            "Epoch Step: 1 Loss: 1.093205 Tokens per Sec: 527.220947\n",
            "tensor(1.0432, device='cuda:0')\n",
            "Epoch Step: 1 Loss: 2.835334 Tokens per Sec: 690.971985\n",
            "Epoch Step: 1 Loss: 0.929978 Tokens per Sec: 506.944946\n",
            "tensor(0.9220, device='cuda:0')\n",
            "Epoch Step: 1 Loss: 2.695163 Tokens per Sec: 656.364807\n",
            "Epoch Step: 1 Loss: 0.817401 Tokens per Sec: 633.420532\n",
            "tensor(0.7941, device='cuda:0')\n",
            "Epoch Step: 1 Loss: 2.584468 Tokens per Sec: 604.935486\n",
            "Epoch Step: 1 Loss: 0.686759 Tokens per Sec: 541.251099\n",
            "tensor(0.6758, device='cuda:0')\n",
            "Epoch Step: 1 Loss: 2.457644 Tokens per Sec: 620.050049\n",
            "Epoch Step: 1 Loss: 0.581471 Tokens per Sec: 578.242737\n",
            "tensor(0.5960, device='cuda:0')\n",
            "Epoch Step: 1 Loss: 2.303477 Tokens per Sec: 570.852417\n",
            "Epoch Step: 1 Loss: 0.493723 Tokens per Sec: 533.136719\n",
            "tensor(0.5099, device='cuda:0')\n",
            "Epoch Step: 1 Loss: 2.272316 Tokens per Sec: 675.955383\n",
            "Epoch Step: 1 Loss: 0.444655 Tokens per Sec: 568.692810\n",
            "tensor(0.4420, device='cuda:0')\n",
            "Epoch Step: 1 Loss: 2.111941 Tokens per Sec: 573.179688\n",
            "Epoch Step: 1 Loss: 0.446593 Tokens per Sec: 570.475403\n",
            "tensor(0.4164, device='cuda:0')\n",
            "Epoch Step: 1 Loss: 2.026320 Tokens per Sec: 599.917542\n",
            "Epoch Step: 1 Loss: 0.386998 Tokens per Sec: 566.546387\n",
            "tensor(0.3658, device='cuda:0')\n",
            "Epoch Step: 1 Loss: 1.911124 Tokens per Sec: 649.645935\n",
            "Epoch Step: 1 Loss: 0.331961 Tokens per Sec: 508.572937\n",
            "tensor(0.3345, device='cuda:0')\n",
            "Epoch Step: 1 Loss: 1.765355 Tokens per Sec: 656.965637\n",
            "Epoch Step: 1 Loss: 0.275855 Tokens per Sec: 517.178406\n",
            "tensor(0.2919, device='cuda:0')\n",
            "Epoch Step: 1 Loss: 1.669047 Tokens per Sec: 631.662354\n",
            "Epoch Step: 1 Loss: 0.286365 Tokens per Sec: 518.591003\n",
            "tensor(0.2788, device='cuda:0')\n",
            "Epoch Step: 1 Loss: 1.501153 Tokens per Sec: 671.136169\n",
            "Epoch Step: 1 Loss: 0.249683 Tokens per Sec: 570.586731\n",
            "tensor(0.2617, device='cuda:0')\n",
            "Epoch Step: 1 Loss: 1.389824 Tokens per Sec: 702.747925\n",
            "Epoch Step: 1 Loss: 0.229672 Tokens per Sec: 565.751465\n",
            "tensor(0.2307, device='cuda:0')\n",
            "Epoch Step: 1 Loss: 1.304052 Tokens per Sec: 629.057129\n",
            "Epoch Step: 1 Loss: 0.219786 Tokens per Sec: 606.433594\n",
            "tensor(0.2078, device='cuda:0')\n",
            "Epoch Step: 1 Loss: 1.200194 Tokens per Sec: 609.605408\n",
            "Epoch Step: 1 Loss: 0.198266 Tokens per Sec: 526.374512\n",
            "tensor(0.1975, device='cuda:0')\n",
            "Epoch Step: 1 Loss: 1.052355 Tokens per Sec: 695.884766\n",
            "Epoch Step: 1 Loss: 0.227602 Tokens per Sec: 549.972412\n",
            "tensor(0.1882, device='cuda:0')\n",
            "Epoch Step: 1 Loss: 0.934371 Tokens per Sec: 620.094055\n",
            "Epoch Step: 1 Loss: 0.173545 Tokens per Sec: 518.665649\n",
            "tensor(0.1846, device='cuda:0')\n",
            "Epoch Step: 1 Loss: 0.837820 Tokens per Sec: 635.857178\n",
            "Epoch Step: 1 Loss: 0.177327 Tokens per Sec: 618.580933\n",
            "tensor(0.1825, device='cuda:0')\n",
            "Epoch Step: 1 Loss: 0.784978 Tokens per Sec: 570.970337\n",
            "Epoch Step: 1 Loss: 0.183882 Tokens per Sec: 565.424622\n",
            "tensor(0.1878, device='cuda:0')\n",
            "Epoch Step: 1 Loss: 0.703799 Tokens per Sec: 612.785156\n",
            "Epoch Step: 1 Loss: 0.209384 Tokens per Sec: 506.687195\n",
            "tensor(0.1817, device='cuda:0')\n",
            "Epoch Step: 1 Loss: 0.608593 Tokens per Sec: 618.826233\n",
            "Epoch Step: 1 Loss: 0.189410 Tokens per Sec: 549.505127\n",
            "tensor(0.1922, device='cuda:0')\n",
            "Epoch Step: 1 Loss: 0.547869 Tokens per Sec: 583.711792\n",
            "Epoch Step: 1 Loss: 0.214432 Tokens per Sec: 534.215088\n",
            "tensor(0.2128, device='cuda:0')\n",
            "Epoch Step: 1 Loss: 0.488557 Tokens per Sec: 661.126953\n",
            "Epoch Step: 1 Loss: 0.226046 Tokens per Sec: 533.452087\n",
            "tensor(0.2172, device='cuda:0')\n",
            "Epoch Step: 1 Loss: 0.472614 Tokens per Sec: 692.581604\n",
            "Epoch Step: 1 Loss: 0.223254 Tokens per Sec: 532.181519\n",
            "tensor(0.2168, device='cuda:0')\n",
            "Epoch Step: 1 Loss: 0.430616 Tokens per Sec: 756.292358\n",
            "Epoch Step: 1 Loss: 0.238005 Tokens per Sec: 501.656433\n",
            "tensor(0.2274, device='cuda:0')\n",
            "Epoch Step: 1 Loss: 0.401094 Tokens per Sec: 645.655273\n",
            "Epoch Step: 1 Loss: 0.209750 Tokens per Sec: 530.640503\n",
            "tensor(0.2115, device='cuda:0')\n"
          ],
          "name": "stdout"
        }
      ]
    },
    {
      "cell_type": "code",
      "metadata": {
        "id": "kWkzpgG0H4zb",
        "colab_type": "code",
        "colab": {}
      },
      "source": [
        "def generate_word(words, max_len, model=model):\n",
        "\n",
        "  token_word = torch.Tensor([vocab.word2index[word] for word in words]).long()\n",
        "  tok_word = token_word[None, ...]\n",
        "\n",
        "  model.eval()\n",
        "\n",
        "  out = greedy_decode(model, tok_word, max_len=max_len)\n",
        "\n",
        "  rslt = [vocab.index2word[item.item()] for item in out.data[0]]\n",
        "\n",
        "  return \" \".join(rslt)"
      ],
      "execution_count": null,
      "outputs": []
    },
    {
      "cell_type": "code",
      "metadata": {
        "id": "19pm5oq2jgpw",
        "colab_type": "code",
        "colab": {
          "base_uri": "https://localhost:8080/",
          "height": 34
        },
        "outputId": "8f912c17-b576-483c-ec79-5620574c1f43"
      },
      "source": [
        "generate_word(\"spacex stock\".split(), 22)"
      ],
      "execution_count": null,
      "outputs": [
        {
          "output_type": "execute_result",
          "data": {
            "text/plain": [
              "'spacex stock has 8000 employees in california washington texas  florida operating this entire time as we have national security exemption zero deaths'"
            ]
          },
          "metadata": {
            "tags": []
          },
          "execution_count": 67
        }
      ]
    },
    {
      "cell_type": "code",
      "metadata": {
        "id": "dyObFg8gGZZ2",
        "colab_type": "code",
        "colab": {}
      },
      "source": [
        "model.eval()\n",
        "torch.save({\n",
        "            'vocab':vocab,\n",
        "            'model': model.state_dict()\n",
        "            }, \"drive/My Drive/GPT/gpt.pt\")"
      ],
      "execution_count": null,
      "outputs": []
    },
    {
      "cell_type": "code",
      "metadata": {
        "id": "2iS9s5_vBg4s",
        "colab_type": "code",
        "colab": {}
      },
      "source": [
        "v = torch.load(\"drive/My Drive/GPT/gpt.pt\")"
      ],
      "execution_count": null,
      "outputs": []
    },
    {
      "cell_type": "code",
      "metadata": {
        "id": "unK5uIHoHJGz",
        "colab_type": "code",
        "colab": {}
      },
      "source": [
        "vo = v[\"vocab\"]"
      ],
      "execution_count": null,
      "outputs": []
    },
    {
      "cell_type": "code",
      "metadata": {
        "id": "Xai0ORWHHN-l",
        "colab_type": "code",
        "colab": {
          "base_uri": "https://localhost:8080/",
          "height": 34
        },
        "outputId": "31fb780f-28dd-4c71-b1de-6c613d044cb8"
      },
      "source": [
        "m = make_model(vocab.n_words)"
      ],
      "execution_count": null,
      "outputs": [
        {
          "output_type": "stream",
          "text": [
            "/usr/local/lib/python3.6/dist-packages/ipykernel_launcher.py:17: UserWarning: nn.init.xavier_uniform is now deprecated in favor of nn.init.xavier_uniform_.\n"
          ],
          "name": "stderr"
        }
      ]
    },
    {
      "cell_type": "code",
      "metadata": {
        "id": "G-DbelE2HRFv",
        "colab_type": "code",
        "colab": {
          "base_uri": "https://localhost:8080/",
          "height": 34
        },
        "outputId": "b1ae8feb-ba33-48ec-e69b-4641de8828c0"
      },
      "source": [
        "m.load_state_dict(v[\"model\"])"
      ],
      "execution_count": null,
      "outputs": [
        {
          "output_type": "execute_result",
          "data": {
            "text/plain": [
              "<All keys matched successfully>"
            ]
          },
          "metadata": {
            "tags": []
          },
          "execution_count": 74
        }
      ]
    },
    {
      "cell_type": "code",
      "metadata": {
        "id": "F6WGbQvBHcdd",
        "colab_type": "code",
        "colab": {
          "base_uri": "https://localhost:8080/",
          "height": 34
        },
        "outputId": "ec2c8eff-9a4a-443d-ca77-9ddf96a61f1f"
      },
      "source": [
        "generate_word(\"spacex stock\".split(), 22,m)"
      ],
      "execution_count": null,
      "outputs": [
        {
          "output_type": "execute_result",
          "data": {
            "text/plain": [
              "'spacex stock has 8000 employees in california washington texas  florida operating this entire time as we have national security exemption zero deaths'"
            ]
          },
          "metadata": {
            "tags": []
          },
          "execution_count": 77
        }
      ]
    },
    {
      "cell_type": "code",
      "metadata": {
        "id": "VhyV3yY3Hxis",
        "colab_type": "code",
        "colab": {}
      },
      "source": [
        ""
      ],
      "execution_count": null,
      "outputs": []
    }
  ]
}