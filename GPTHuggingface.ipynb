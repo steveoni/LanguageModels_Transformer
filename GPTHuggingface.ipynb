{
  "nbformat": 4,
  "nbformat_minor": 0,
  "metadata": {
    "colab": {
      "name": "GPTHuggingface.ipynb",
      "provenance": [],
      "collapsed_sections": []
    },
    "kernelspec": {
      "name": "python3",
      "display_name": "Python 3"
    },
    "accelerator": "GPU",
    "widgets": {
      "application/vnd.jupyter.widget-state+json": {
        "1d5698f70eba415980453c7a624c45d5": {
          "model_module": "@jupyter-widgets/controls",
          "model_name": "HBoxModel",
          "state": {
            "_view_name": "HBoxView",
            "_dom_classes": [],
            "_model_name": "HBoxModel",
            "_view_module": "@jupyter-widgets/controls",
            "_model_module_version": "1.5.0",
            "_view_count": null,
            "_view_module_version": "1.5.0",
            "box_style": "",
            "layout": "IPY_MODEL_4c532d54f04042d491ad53eafb8188cd",
            "_model_module": "@jupyter-widgets/controls",
            "children": [
              "IPY_MODEL_0e7205d7c0c04d1a84110e3b047ba3a5",
              "IPY_MODEL_f52bad14795e40be905f4d18508d0a99"
            ]
          }
        },
        "4c532d54f04042d491ad53eafb8188cd": {
          "model_module": "@jupyter-widgets/base",
          "model_name": "LayoutModel",
          "state": {
            "_view_name": "LayoutView",
            "grid_template_rows": null,
            "right": null,
            "justify_content": null,
            "_view_module": "@jupyter-widgets/base",
            "overflow": null,
            "_model_module_version": "1.2.0",
            "_view_count": null,
            "flex_flow": null,
            "width": null,
            "min_width": null,
            "border": null,
            "align_items": null,
            "bottom": null,
            "_model_module": "@jupyter-widgets/base",
            "top": null,
            "grid_column": null,
            "overflow_y": null,
            "overflow_x": null,
            "grid_auto_flow": null,
            "grid_area": null,
            "grid_template_columns": null,
            "flex": null,
            "_model_name": "LayoutModel",
            "justify_items": null,
            "grid_row": null,
            "max_height": null,
            "align_content": null,
            "visibility": null,
            "align_self": null,
            "height": null,
            "min_height": null,
            "padding": null,
            "grid_auto_rows": null,
            "grid_gap": null,
            "max_width": null,
            "order": null,
            "_view_module_version": "1.2.0",
            "grid_template_areas": null,
            "object_position": null,
            "object_fit": null,
            "grid_auto_columns": null,
            "margin": null,
            "display": null,
            "left": null
          }
        },
        "0e7205d7c0c04d1a84110e3b047ba3a5": {
          "model_module": "@jupyter-widgets/controls",
          "model_name": "FloatProgressModel",
          "state": {
            "_view_name": "ProgressView",
            "style": "IPY_MODEL_53f8fd96600442ec96ed70aeab1ef885",
            "_dom_classes": [],
            "description": "Downloading: 100%",
            "_model_name": "FloatProgressModel",
            "bar_style": "success",
            "max": 1042301,
            "_view_module": "@jupyter-widgets/controls",
            "_model_module_version": "1.5.0",
            "value": 1042301,
            "_view_count": null,
            "_view_module_version": "1.5.0",
            "orientation": "horizontal",
            "min": 0,
            "description_tooltip": null,
            "_model_module": "@jupyter-widgets/controls",
            "layout": "IPY_MODEL_b309b68241bb49a1a6a72a110bcdd980"
          }
        },
        "f52bad14795e40be905f4d18508d0a99": {
          "model_module": "@jupyter-widgets/controls",
          "model_name": "HTMLModel",
          "state": {
            "_view_name": "HTMLView",
            "style": "IPY_MODEL_10109027c8024d1682ba9187e8c39a9d",
            "_dom_classes": [],
            "description": "",
            "_model_name": "HTMLModel",
            "placeholder": "​",
            "_view_module": "@jupyter-widgets/controls",
            "_model_module_version": "1.5.0",
            "value": " 1.04M/1.04M [00:02&lt;00:00, 388kB/s]",
            "_view_count": null,
            "_view_module_version": "1.5.0",
            "description_tooltip": null,
            "_model_module": "@jupyter-widgets/controls",
            "layout": "IPY_MODEL_c840a27acc484392a0795e33469d6c17"
          }
        },
        "53f8fd96600442ec96ed70aeab1ef885": {
          "model_module": "@jupyter-widgets/controls",
          "model_name": "ProgressStyleModel",
          "state": {
            "_view_name": "StyleView",
            "_model_name": "ProgressStyleModel",
            "description_width": "initial",
            "_view_module": "@jupyter-widgets/base",
            "_model_module_version": "1.5.0",
            "_view_count": null,
            "_view_module_version": "1.2.0",
            "bar_color": null,
            "_model_module": "@jupyter-widgets/controls"
          }
        },
        "b309b68241bb49a1a6a72a110bcdd980": {
          "model_module": "@jupyter-widgets/base",
          "model_name": "LayoutModel",
          "state": {
            "_view_name": "LayoutView",
            "grid_template_rows": null,
            "right": null,
            "justify_content": null,
            "_view_module": "@jupyter-widgets/base",
            "overflow": null,
            "_model_module_version": "1.2.0",
            "_view_count": null,
            "flex_flow": null,
            "width": null,
            "min_width": null,
            "border": null,
            "align_items": null,
            "bottom": null,
            "_model_module": "@jupyter-widgets/base",
            "top": null,
            "grid_column": null,
            "overflow_y": null,
            "overflow_x": null,
            "grid_auto_flow": null,
            "grid_area": null,
            "grid_template_columns": null,
            "flex": null,
            "_model_name": "LayoutModel",
            "justify_items": null,
            "grid_row": null,
            "max_height": null,
            "align_content": null,
            "visibility": null,
            "align_self": null,
            "height": null,
            "min_height": null,
            "padding": null,
            "grid_auto_rows": null,
            "grid_gap": null,
            "max_width": null,
            "order": null,
            "_view_module_version": "1.2.0",
            "grid_template_areas": null,
            "object_position": null,
            "object_fit": null,
            "grid_auto_columns": null,
            "margin": null,
            "display": null,
            "left": null
          }
        },
        "10109027c8024d1682ba9187e8c39a9d": {
          "model_module": "@jupyter-widgets/controls",
          "model_name": "DescriptionStyleModel",
          "state": {
            "_view_name": "StyleView",
            "_model_name": "DescriptionStyleModel",
            "description_width": "",
            "_view_module": "@jupyter-widgets/base",
            "_model_module_version": "1.5.0",
            "_view_count": null,
            "_view_module_version": "1.2.0",
            "_model_module": "@jupyter-widgets/controls"
          }
        },
        "c840a27acc484392a0795e33469d6c17": {
          "model_module": "@jupyter-widgets/base",
          "model_name": "LayoutModel",
          "state": {
            "_view_name": "LayoutView",
            "grid_template_rows": null,
            "right": null,
            "justify_content": null,
            "_view_module": "@jupyter-widgets/base",
            "overflow": null,
            "_model_module_version": "1.2.0",
            "_view_count": null,
            "flex_flow": null,
            "width": null,
            "min_width": null,
            "border": null,
            "align_items": null,
            "bottom": null,
            "_model_module": "@jupyter-widgets/base",
            "top": null,
            "grid_column": null,
            "overflow_y": null,
            "overflow_x": null,
            "grid_auto_flow": null,
            "grid_area": null,
            "grid_template_columns": null,
            "flex": null,
            "_model_name": "LayoutModel",
            "justify_items": null,
            "grid_row": null,
            "max_height": null,
            "align_content": null,
            "visibility": null,
            "align_self": null,
            "height": null,
            "min_height": null,
            "padding": null,
            "grid_auto_rows": null,
            "grid_gap": null,
            "max_width": null,
            "order": null,
            "_view_module_version": "1.2.0",
            "grid_template_areas": null,
            "object_position": null,
            "object_fit": null,
            "grid_auto_columns": null,
            "margin": null,
            "display": null,
            "left": null
          }
        },
        "9869463f2cf74c2da64a0cec96f125d5": {
          "model_module": "@jupyter-widgets/controls",
          "model_name": "HBoxModel",
          "state": {
            "_view_name": "HBoxView",
            "_dom_classes": [],
            "_model_name": "HBoxModel",
            "_view_module": "@jupyter-widgets/controls",
            "_model_module_version": "1.5.0",
            "_view_count": null,
            "_view_module_version": "1.5.0",
            "box_style": "",
            "layout": "IPY_MODEL_66f41ac675c5469daede728b400523a4",
            "_model_module": "@jupyter-widgets/controls",
            "children": [
              "IPY_MODEL_e5849490268c45b59fad3d5dfc3a11c8",
              "IPY_MODEL_4e57bceee57c47f2bf72f7f5bab75dc8"
            ]
          }
        },
        "66f41ac675c5469daede728b400523a4": {
          "model_module": "@jupyter-widgets/base",
          "model_name": "LayoutModel",
          "state": {
            "_view_name": "LayoutView",
            "grid_template_rows": null,
            "right": null,
            "justify_content": null,
            "_view_module": "@jupyter-widgets/base",
            "overflow": null,
            "_model_module_version": "1.2.0",
            "_view_count": null,
            "flex_flow": null,
            "width": null,
            "min_width": null,
            "border": null,
            "align_items": null,
            "bottom": null,
            "_model_module": "@jupyter-widgets/base",
            "top": null,
            "grid_column": null,
            "overflow_y": null,
            "overflow_x": null,
            "grid_auto_flow": null,
            "grid_area": null,
            "grid_template_columns": null,
            "flex": null,
            "_model_name": "LayoutModel",
            "justify_items": null,
            "grid_row": null,
            "max_height": null,
            "align_content": null,
            "visibility": null,
            "align_self": null,
            "height": null,
            "min_height": null,
            "padding": null,
            "grid_auto_rows": null,
            "grid_gap": null,
            "max_width": null,
            "order": null,
            "_view_module_version": "1.2.0",
            "grid_template_areas": null,
            "object_position": null,
            "object_fit": null,
            "grid_auto_columns": null,
            "margin": null,
            "display": null,
            "left": null
          }
        },
        "e5849490268c45b59fad3d5dfc3a11c8": {
          "model_module": "@jupyter-widgets/controls",
          "model_name": "FloatProgressModel",
          "state": {
            "_view_name": "ProgressView",
            "style": "IPY_MODEL_848a13fb7a224303b758a568490e89c1",
            "_dom_classes": [],
            "description": "Downloading: 100%",
            "_model_name": "FloatProgressModel",
            "bar_style": "success",
            "max": 456318,
            "_view_module": "@jupyter-widgets/controls",
            "_model_module_version": "1.5.0",
            "value": 456318,
            "_view_count": null,
            "_view_module_version": "1.5.0",
            "orientation": "horizontal",
            "min": 0,
            "description_tooltip": null,
            "_model_module": "@jupyter-widgets/controls",
            "layout": "IPY_MODEL_4d72784f3a2a42a5894005148c01c7a0"
          }
        },
        "4e57bceee57c47f2bf72f7f5bab75dc8": {
          "model_module": "@jupyter-widgets/controls",
          "model_name": "HTMLModel",
          "state": {
            "_view_name": "HTMLView",
            "style": "IPY_MODEL_d4dc0c7b348446bba329062ad3daf0e3",
            "_dom_classes": [],
            "description": "",
            "_model_name": "HTMLModel",
            "placeholder": "​",
            "_view_module": "@jupyter-widgets/controls",
            "_model_module_version": "1.5.0",
            "value": " 456k/456k [00:00&lt;00:00, 465kB/s]",
            "_view_count": null,
            "_view_module_version": "1.5.0",
            "description_tooltip": null,
            "_model_module": "@jupyter-widgets/controls",
            "layout": "IPY_MODEL_dd8d4dea33e94c79afe6c0630544e1f2"
          }
        },
        "848a13fb7a224303b758a568490e89c1": {
          "model_module": "@jupyter-widgets/controls",
          "model_name": "ProgressStyleModel",
          "state": {
            "_view_name": "StyleView",
            "_model_name": "ProgressStyleModel",
            "description_width": "initial",
            "_view_module": "@jupyter-widgets/base",
            "_model_module_version": "1.5.0",
            "_view_count": null,
            "_view_module_version": "1.2.0",
            "bar_color": null,
            "_model_module": "@jupyter-widgets/controls"
          }
        },
        "4d72784f3a2a42a5894005148c01c7a0": {
          "model_module": "@jupyter-widgets/base",
          "model_name": "LayoutModel",
          "state": {
            "_view_name": "LayoutView",
            "grid_template_rows": null,
            "right": null,
            "justify_content": null,
            "_view_module": "@jupyter-widgets/base",
            "overflow": null,
            "_model_module_version": "1.2.0",
            "_view_count": null,
            "flex_flow": null,
            "width": null,
            "min_width": null,
            "border": null,
            "align_items": null,
            "bottom": null,
            "_model_module": "@jupyter-widgets/base",
            "top": null,
            "grid_column": null,
            "overflow_y": null,
            "overflow_x": null,
            "grid_auto_flow": null,
            "grid_area": null,
            "grid_template_columns": null,
            "flex": null,
            "_model_name": "LayoutModel",
            "justify_items": null,
            "grid_row": null,
            "max_height": null,
            "align_content": null,
            "visibility": null,
            "align_self": null,
            "height": null,
            "min_height": null,
            "padding": null,
            "grid_auto_rows": null,
            "grid_gap": null,
            "max_width": null,
            "order": null,
            "_view_module_version": "1.2.0",
            "grid_template_areas": null,
            "object_position": null,
            "object_fit": null,
            "grid_auto_columns": null,
            "margin": null,
            "display": null,
            "left": null
          }
        },
        "d4dc0c7b348446bba329062ad3daf0e3": {
          "model_module": "@jupyter-widgets/controls",
          "model_name": "DescriptionStyleModel",
          "state": {
            "_view_name": "StyleView",
            "_model_name": "DescriptionStyleModel",
            "description_width": "",
            "_view_module": "@jupyter-widgets/base",
            "_model_module_version": "1.5.0",
            "_view_count": null,
            "_view_module_version": "1.2.0",
            "_model_module": "@jupyter-widgets/controls"
          }
        },
        "dd8d4dea33e94c79afe6c0630544e1f2": {
          "model_module": "@jupyter-widgets/base",
          "model_name": "LayoutModel",
          "state": {
            "_view_name": "LayoutView",
            "grid_template_rows": null,
            "right": null,
            "justify_content": null,
            "_view_module": "@jupyter-widgets/base",
            "overflow": null,
            "_model_module_version": "1.2.0",
            "_view_count": null,
            "flex_flow": null,
            "width": null,
            "min_width": null,
            "border": null,
            "align_items": null,
            "bottom": null,
            "_model_module": "@jupyter-widgets/base",
            "top": null,
            "grid_column": null,
            "overflow_y": null,
            "overflow_x": null,
            "grid_auto_flow": null,
            "grid_area": null,
            "grid_template_columns": null,
            "flex": null,
            "_model_name": "LayoutModel",
            "justify_items": null,
            "grid_row": null,
            "max_height": null,
            "align_content": null,
            "visibility": null,
            "align_self": null,
            "height": null,
            "min_height": null,
            "padding": null,
            "grid_auto_rows": null,
            "grid_gap": null,
            "max_width": null,
            "order": null,
            "_view_module_version": "1.2.0",
            "grid_template_areas": null,
            "object_position": null,
            "object_fit": null,
            "grid_auto_columns": null,
            "margin": null,
            "display": null,
            "left": null
          }
        },
        "f22b3a8d69994d3c8115d3ef48044d9a": {
          "model_module": "@jupyter-widgets/controls",
          "model_name": "HBoxModel",
          "state": {
            "_view_name": "HBoxView",
            "_dom_classes": [],
            "_model_name": "HBoxModel",
            "_view_module": "@jupyter-widgets/controls",
            "_model_module_version": "1.5.0",
            "_view_count": null,
            "_view_module_version": "1.5.0",
            "box_style": "",
            "layout": "IPY_MODEL_cfce9217d27c4f7582d960215688c8fe",
            "_model_module": "@jupyter-widgets/controls",
            "children": [
              "IPY_MODEL_bcec1845de18456b89996225776524f7",
              "IPY_MODEL_5e9b3ee7184b48c0a4eb29ce154d9249"
            ]
          }
        },
        "cfce9217d27c4f7582d960215688c8fe": {
          "model_module": "@jupyter-widgets/base",
          "model_name": "LayoutModel",
          "state": {
            "_view_name": "LayoutView",
            "grid_template_rows": null,
            "right": null,
            "justify_content": null,
            "_view_module": "@jupyter-widgets/base",
            "overflow": null,
            "_model_module_version": "1.2.0",
            "_view_count": null,
            "flex_flow": null,
            "width": null,
            "min_width": null,
            "border": null,
            "align_items": null,
            "bottom": null,
            "_model_module": "@jupyter-widgets/base",
            "top": null,
            "grid_column": null,
            "overflow_y": null,
            "overflow_x": null,
            "grid_auto_flow": null,
            "grid_area": null,
            "grid_template_columns": null,
            "flex": null,
            "_model_name": "LayoutModel",
            "justify_items": null,
            "grid_row": null,
            "max_height": null,
            "align_content": null,
            "visibility": null,
            "align_self": null,
            "height": null,
            "min_height": null,
            "padding": null,
            "grid_auto_rows": null,
            "grid_gap": null,
            "max_width": null,
            "order": null,
            "_view_module_version": "1.2.0",
            "grid_template_areas": null,
            "object_position": null,
            "object_fit": null,
            "grid_auto_columns": null,
            "margin": null,
            "display": null,
            "left": null
          }
        },
        "bcec1845de18456b89996225776524f7": {
          "model_module": "@jupyter-widgets/controls",
          "model_name": "FloatProgressModel",
          "state": {
            "_view_name": "ProgressView",
            "style": "IPY_MODEL_8647ee732c404466966c845f5577004c",
            "_dom_classes": [],
            "description": "Downloading: 100%",
            "_model_name": "FloatProgressModel",
            "bar_style": "success",
            "max": 665,
            "_view_module": "@jupyter-widgets/controls",
            "_model_module_version": "1.5.0",
            "value": 665,
            "_view_count": null,
            "_view_module_version": "1.5.0",
            "orientation": "horizontal",
            "min": 0,
            "description_tooltip": null,
            "_model_module": "@jupyter-widgets/controls",
            "layout": "IPY_MODEL_8627d4fabd734966838aa860cc638d4d"
          }
        },
        "5e9b3ee7184b48c0a4eb29ce154d9249": {
          "model_module": "@jupyter-widgets/controls",
          "model_name": "HTMLModel",
          "state": {
            "_view_name": "HTMLView",
            "style": "IPY_MODEL_02b239b5cbd34bcd9cc7bbe1d098501e",
            "_dom_classes": [],
            "description": "",
            "_model_name": "HTMLModel",
            "placeholder": "​",
            "_view_module": "@jupyter-widgets/controls",
            "_model_module_version": "1.5.0",
            "value": " 665/665 [00:17&lt;00:00, 38.2B/s]",
            "_view_count": null,
            "_view_module_version": "1.5.0",
            "description_tooltip": null,
            "_model_module": "@jupyter-widgets/controls",
            "layout": "IPY_MODEL_49edc0f63edd49c5bebfa5fbc576de9c"
          }
        },
        "8647ee732c404466966c845f5577004c": {
          "model_module": "@jupyter-widgets/controls",
          "model_name": "ProgressStyleModel",
          "state": {
            "_view_name": "StyleView",
            "_model_name": "ProgressStyleModel",
            "description_width": "initial",
            "_view_module": "@jupyter-widgets/base",
            "_model_module_version": "1.5.0",
            "_view_count": null,
            "_view_module_version": "1.2.0",
            "bar_color": null,
            "_model_module": "@jupyter-widgets/controls"
          }
        },
        "8627d4fabd734966838aa860cc638d4d": {
          "model_module": "@jupyter-widgets/base",
          "model_name": "LayoutModel",
          "state": {
            "_view_name": "LayoutView",
            "grid_template_rows": null,
            "right": null,
            "justify_content": null,
            "_view_module": "@jupyter-widgets/base",
            "overflow": null,
            "_model_module_version": "1.2.0",
            "_view_count": null,
            "flex_flow": null,
            "width": null,
            "min_width": null,
            "border": null,
            "align_items": null,
            "bottom": null,
            "_model_module": "@jupyter-widgets/base",
            "top": null,
            "grid_column": null,
            "overflow_y": null,
            "overflow_x": null,
            "grid_auto_flow": null,
            "grid_area": null,
            "grid_template_columns": null,
            "flex": null,
            "_model_name": "LayoutModel",
            "justify_items": null,
            "grid_row": null,
            "max_height": null,
            "align_content": null,
            "visibility": null,
            "align_self": null,
            "height": null,
            "min_height": null,
            "padding": null,
            "grid_auto_rows": null,
            "grid_gap": null,
            "max_width": null,
            "order": null,
            "_view_module_version": "1.2.0",
            "grid_template_areas": null,
            "object_position": null,
            "object_fit": null,
            "grid_auto_columns": null,
            "margin": null,
            "display": null,
            "left": null
          }
        },
        "02b239b5cbd34bcd9cc7bbe1d098501e": {
          "model_module": "@jupyter-widgets/controls",
          "model_name": "DescriptionStyleModel",
          "state": {
            "_view_name": "StyleView",
            "_model_name": "DescriptionStyleModel",
            "description_width": "",
            "_view_module": "@jupyter-widgets/base",
            "_model_module_version": "1.5.0",
            "_view_count": null,
            "_view_module_version": "1.2.0",
            "_model_module": "@jupyter-widgets/controls"
          }
        },
        "49edc0f63edd49c5bebfa5fbc576de9c": {
          "model_module": "@jupyter-widgets/base",
          "model_name": "LayoutModel",
          "state": {
            "_view_name": "LayoutView",
            "grid_template_rows": null,
            "right": null,
            "justify_content": null,
            "_view_module": "@jupyter-widgets/base",
            "overflow": null,
            "_model_module_version": "1.2.0",
            "_view_count": null,
            "flex_flow": null,
            "width": null,
            "min_width": null,
            "border": null,
            "align_items": null,
            "bottom": null,
            "_model_module": "@jupyter-widgets/base",
            "top": null,
            "grid_column": null,
            "overflow_y": null,
            "overflow_x": null,
            "grid_auto_flow": null,
            "grid_area": null,
            "grid_template_columns": null,
            "flex": null,
            "_model_name": "LayoutModel",
            "justify_items": null,
            "grid_row": null,
            "max_height": null,
            "align_content": null,
            "visibility": null,
            "align_self": null,
            "height": null,
            "min_height": null,
            "padding": null,
            "grid_auto_rows": null,
            "grid_gap": null,
            "max_width": null,
            "order": null,
            "_view_module_version": "1.2.0",
            "grid_template_areas": null,
            "object_position": null,
            "object_fit": null,
            "grid_auto_columns": null,
            "margin": null,
            "display": null,
            "left": null
          }
        },
        "ef6631c43a3f40bd900f3d16ca213381": {
          "model_module": "@jupyter-widgets/controls",
          "model_name": "HBoxModel",
          "state": {
            "_view_name": "HBoxView",
            "_dom_classes": [],
            "_model_name": "HBoxModel",
            "_view_module": "@jupyter-widgets/controls",
            "_model_module_version": "1.5.0",
            "_view_count": null,
            "_view_module_version": "1.5.0",
            "box_style": "",
            "layout": "IPY_MODEL_9d4e4fc1a17a424ebdcb56a0c0e05b32",
            "_model_module": "@jupyter-widgets/controls",
            "children": [
              "IPY_MODEL_38a5a3a3f1bf48aaa7faa0a5f13d03b0",
              "IPY_MODEL_c276b851ce334ce19b5c7184891b3251"
            ]
          }
        },
        "9d4e4fc1a17a424ebdcb56a0c0e05b32": {
          "model_module": "@jupyter-widgets/base",
          "model_name": "LayoutModel",
          "state": {
            "_view_name": "LayoutView",
            "grid_template_rows": null,
            "right": null,
            "justify_content": null,
            "_view_module": "@jupyter-widgets/base",
            "overflow": null,
            "_model_module_version": "1.2.0",
            "_view_count": null,
            "flex_flow": null,
            "width": null,
            "min_width": null,
            "border": null,
            "align_items": null,
            "bottom": null,
            "_model_module": "@jupyter-widgets/base",
            "top": null,
            "grid_column": null,
            "overflow_y": null,
            "overflow_x": null,
            "grid_auto_flow": null,
            "grid_area": null,
            "grid_template_columns": null,
            "flex": null,
            "_model_name": "LayoutModel",
            "justify_items": null,
            "grid_row": null,
            "max_height": null,
            "align_content": null,
            "visibility": null,
            "align_self": null,
            "height": null,
            "min_height": null,
            "padding": null,
            "grid_auto_rows": null,
            "grid_gap": null,
            "max_width": null,
            "order": null,
            "_view_module_version": "1.2.0",
            "grid_template_areas": null,
            "object_position": null,
            "object_fit": null,
            "grid_auto_columns": null,
            "margin": null,
            "display": null,
            "left": null
          }
        },
        "38a5a3a3f1bf48aaa7faa0a5f13d03b0": {
          "model_module": "@jupyter-widgets/controls",
          "model_name": "FloatProgressModel",
          "state": {
            "_view_name": "ProgressView",
            "style": "IPY_MODEL_6a5f28ffcc1b46b595125a9f24983982",
            "_dom_classes": [],
            "description": "Downloading: 100%",
            "_model_name": "FloatProgressModel",
            "bar_style": "success",
            "max": 548118077,
            "_view_module": "@jupyter-widgets/controls",
            "_model_module_version": "1.5.0",
            "value": 548118077,
            "_view_count": null,
            "_view_module_version": "1.5.0",
            "orientation": "horizontal",
            "min": 0,
            "description_tooltip": null,
            "_model_module": "@jupyter-widgets/controls",
            "layout": "IPY_MODEL_8b246f0d4ee943f1816ccb62ada89355"
          }
        },
        "c276b851ce334ce19b5c7184891b3251": {
          "model_module": "@jupyter-widgets/controls",
          "model_name": "HTMLModel",
          "state": {
            "_view_name": "HTMLView",
            "style": "IPY_MODEL_0c9b3362b96540e8a6b559c81f49dabc",
            "_dom_classes": [],
            "description": "",
            "_model_name": "HTMLModel",
            "placeholder": "​",
            "_view_module": "@jupyter-widgets/controls",
            "_model_module_version": "1.5.0",
            "value": " 548M/548M [00:11&lt;00:00, 46.7MB/s]",
            "_view_count": null,
            "_view_module_version": "1.5.0",
            "description_tooltip": null,
            "_model_module": "@jupyter-widgets/controls",
            "layout": "IPY_MODEL_876069fb4d88427bb8605e4a38f65381"
          }
        },
        "6a5f28ffcc1b46b595125a9f24983982": {
          "model_module": "@jupyter-widgets/controls",
          "model_name": "ProgressStyleModel",
          "state": {
            "_view_name": "StyleView",
            "_model_name": "ProgressStyleModel",
            "description_width": "initial",
            "_view_module": "@jupyter-widgets/base",
            "_model_module_version": "1.5.0",
            "_view_count": null,
            "_view_module_version": "1.2.0",
            "bar_color": null,
            "_model_module": "@jupyter-widgets/controls"
          }
        },
        "8b246f0d4ee943f1816ccb62ada89355": {
          "model_module": "@jupyter-widgets/base",
          "model_name": "LayoutModel",
          "state": {
            "_view_name": "LayoutView",
            "grid_template_rows": null,
            "right": null,
            "justify_content": null,
            "_view_module": "@jupyter-widgets/base",
            "overflow": null,
            "_model_module_version": "1.2.0",
            "_view_count": null,
            "flex_flow": null,
            "width": null,
            "min_width": null,
            "border": null,
            "align_items": null,
            "bottom": null,
            "_model_module": "@jupyter-widgets/base",
            "top": null,
            "grid_column": null,
            "overflow_y": null,
            "overflow_x": null,
            "grid_auto_flow": null,
            "grid_area": null,
            "grid_template_columns": null,
            "flex": null,
            "_model_name": "LayoutModel",
            "justify_items": null,
            "grid_row": null,
            "max_height": null,
            "align_content": null,
            "visibility": null,
            "align_self": null,
            "height": null,
            "min_height": null,
            "padding": null,
            "grid_auto_rows": null,
            "grid_gap": null,
            "max_width": null,
            "order": null,
            "_view_module_version": "1.2.0",
            "grid_template_areas": null,
            "object_position": null,
            "object_fit": null,
            "grid_auto_columns": null,
            "margin": null,
            "display": null,
            "left": null
          }
        },
        "0c9b3362b96540e8a6b559c81f49dabc": {
          "model_module": "@jupyter-widgets/controls",
          "model_name": "DescriptionStyleModel",
          "state": {
            "_view_name": "StyleView",
            "_model_name": "DescriptionStyleModel",
            "description_width": "",
            "_view_module": "@jupyter-widgets/base",
            "_model_module_version": "1.5.0",
            "_view_count": null,
            "_view_module_version": "1.2.0",
            "_model_module": "@jupyter-widgets/controls"
          }
        },
        "876069fb4d88427bb8605e4a38f65381": {
          "model_module": "@jupyter-widgets/base",
          "model_name": "LayoutModel",
          "state": {
            "_view_name": "LayoutView",
            "grid_template_rows": null,
            "right": null,
            "justify_content": null,
            "_view_module": "@jupyter-widgets/base",
            "overflow": null,
            "_model_module_version": "1.2.0",
            "_view_count": null,
            "flex_flow": null,
            "width": null,
            "min_width": null,
            "border": null,
            "align_items": null,
            "bottom": null,
            "_model_module": "@jupyter-widgets/base",
            "top": null,
            "grid_column": null,
            "overflow_y": null,
            "overflow_x": null,
            "grid_auto_flow": null,
            "grid_area": null,
            "grid_template_columns": null,
            "flex": null,
            "_model_name": "LayoutModel",
            "justify_items": null,
            "grid_row": null,
            "max_height": null,
            "align_content": null,
            "visibility": null,
            "align_self": null,
            "height": null,
            "min_height": null,
            "padding": null,
            "grid_auto_rows": null,
            "grid_gap": null,
            "max_width": null,
            "order": null,
            "_view_module_version": "1.2.0",
            "grid_template_areas": null,
            "object_position": null,
            "object_fit": null,
            "grid_auto_columns": null,
            "margin": null,
            "display": null,
            "left": null
          }
        }
      }
    }
  },
  "cells": [
    {
      "cell_type": "code",
      "metadata": {
        "id": "ujg-m7D80tAE",
        "colab_type": "code",
        "colab": {
          "base_uri": "https://localhost:8080/",
          "height": 626
        },
        "outputId": "8823caf4-13c1-4052-8686-5b4e2ef32343"
      },
      "source": [
        "!pip install transformers"
      ],
      "execution_count": null,
      "outputs": [
        {
          "output_type": "stream",
          "text": [
            "Collecting transformers\n",
            "\u001b[?25l  Downloading https://files.pythonhosted.org/packages/82/25/89050e69ed53c2a3b7f8c67844b3c8339c1192612ba89a172cf85b298948/transformers-3.0.1-py3-none-any.whl (757kB)\n",
            "\r\u001b[K     |▍                               | 10kB 18.0MB/s eta 0:00:01\r\u001b[K     |▉                               | 20kB 1.8MB/s eta 0:00:01\r\u001b[K     |█▎                              | 30kB 2.3MB/s eta 0:00:01\r\u001b[K     |█▊                              | 40kB 2.5MB/s eta 0:00:01\r\u001b[K     |██▏                             | 51kB 2.0MB/s eta 0:00:01\r\u001b[K     |██▋                             | 61kB 2.3MB/s eta 0:00:01\r\u001b[K     |███                             | 71kB 2.5MB/s eta 0:00:01\r\u001b[K     |███▌                            | 81kB 2.7MB/s eta 0:00:01\r\u001b[K     |████                            | 92kB 2.9MB/s eta 0:00:01\r\u001b[K     |████▎                           | 102kB 2.8MB/s eta 0:00:01\r\u001b[K     |████▊                           | 112kB 2.8MB/s eta 0:00:01\r\u001b[K     |█████▏                          | 122kB 2.8MB/s eta 0:00:01\r\u001b[K     |█████▋                          | 133kB 2.8MB/s eta 0:00:01\r\u001b[K     |██████                          | 143kB 2.8MB/s eta 0:00:01\r\u001b[K     |██████▌                         | 153kB 2.8MB/s eta 0:00:01\r\u001b[K     |███████                         | 163kB 2.8MB/s eta 0:00:01\r\u001b[K     |███████▍                        | 174kB 2.8MB/s eta 0:00:01\r\u001b[K     |███████▉                        | 184kB 2.8MB/s eta 0:00:01\r\u001b[K     |████████▎                       | 194kB 2.8MB/s eta 0:00:01\r\u001b[K     |████████▋                       | 204kB 2.8MB/s eta 0:00:01\r\u001b[K     |█████████                       | 215kB 2.8MB/s eta 0:00:01\r\u001b[K     |█████████▌                      | 225kB 2.8MB/s eta 0:00:01\r\u001b[K     |██████████                      | 235kB 2.8MB/s eta 0:00:01\r\u001b[K     |██████████▍                     | 245kB 2.8MB/s eta 0:00:01\r\u001b[K     |██████████▉                     | 256kB 2.8MB/s eta 0:00:01\r\u001b[K     |███████████▎                    | 266kB 2.8MB/s eta 0:00:01\r\u001b[K     |███████████▊                    | 276kB 2.8MB/s eta 0:00:01\r\u001b[K     |████████████▏                   | 286kB 2.8MB/s eta 0:00:01\r\u001b[K     |████████████▌                   | 296kB 2.8MB/s eta 0:00:01\r\u001b[K     |█████████████                   | 307kB 2.8MB/s eta 0:00:01\r\u001b[K     |█████████████▍                  | 317kB 2.8MB/s eta 0:00:01\r\u001b[K     |█████████████▉                  | 327kB 2.8MB/s eta 0:00:01\r\u001b[K     |██████████████▎                 | 337kB 2.8MB/s eta 0:00:01\r\u001b[K     |██████████████▊                 | 348kB 2.8MB/s eta 0:00:01\r\u001b[K     |███████████████▏                | 358kB 2.8MB/s eta 0:00:01\r\u001b[K     |███████████████▋                | 368kB 2.8MB/s eta 0:00:01\r\u001b[K     |████████████████                | 378kB 2.8MB/s eta 0:00:01\r\u001b[K     |████████████████▌               | 389kB 2.8MB/s eta 0:00:01\r\u001b[K     |████████████████▉               | 399kB 2.8MB/s eta 0:00:01\r\u001b[K     |█████████████████▎              | 409kB 2.8MB/s eta 0:00:01\r\u001b[K     |█████████████████▊              | 419kB 2.8MB/s eta 0:00:01\r\u001b[K     |██████████████████▏             | 430kB 2.8MB/s eta 0:00:01\r\u001b[K     |██████████████████▋             | 440kB 2.8MB/s eta 0:00:01\r\u001b[K     |███████████████████             | 450kB 2.8MB/s eta 0:00:01\r\u001b[K     |███████████████████▌            | 460kB 2.8MB/s eta 0:00:01\r\u001b[K     |████████████████████            | 471kB 2.8MB/s eta 0:00:01\r\u001b[K     |████████████████████▍           | 481kB 2.8MB/s eta 0:00:01\r\u001b[K     |████████████████████▊           | 491kB 2.8MB/s eta 0:00:01\r\u001b[K     |█████████████████████▏          | 501kB 2.8MB/s eta 0:00:01\r\u001b[K     |█████████████████████▋          | 512kB 2.8MB/s eta 0:00:01\r\u001b[K     |██████████████████████          | 522kB 2.8MB/s eta 0:00:01\r\u001b[K     |██████████████████████▌         | 532kB 2.8MB/s eta 0:00:01\r\u001b[K     |███████████████████████         | 542kB 2.8MB/s eta 0:00:01\r\u001b[K     |███████████████████████▍        | 552kB 2.8MB/s eta 0:00:01\r\u001b[K     |███████████████████████▉        | 563kB 2.8MB/s eta 0:00:01\r\u001b[K     |████████████████████████▎       | 573kB 2.8MB/s eta 0:00:01\r\u001b[K     |████████████████████████▊       | 583kB 2.8MB/s eta 0:00:01\r\u001b[K     |█████████████████████████       | 593kB 2.8MB/s eta 0:00:01\r\u001b[K     |█████████████████████████▌      | 604kB 2.8MB/s eta 0:00:01\r\u001b[K     |██████████████████████████      | 614kB 2.8MB/s eta 0:00:01\r\u001b[K     |██████████████████████████▍     | 624kB 2.8MB/s eta 0:00:01\r\u001b[K     |██████████████████████████▉     | 634kB 2.8MB/s eta 0:00:01\r\u001b[K     |███████████████████████████▎    | 645kB 2.8MB/s eta 0:00:01\r\u001b[K     |███████████████████████████▊    | 655kB 2.8MB/s eta 0:00:01\r\u001b[K     |████████████████████████████▏   | 665kB 2.8MB/s eta 0:00:01\r\u001b[K     |████████████████████████████▋   | 675kB 2.8MB/s eta 0:00:01\r\u001b[K     |█████████████████████████████   | 686kB 2.8MB/s eta 0:00:01\r\u001b[K     |█████████████████████████████▍  | 696kB 2.8MB/s eta 0:00:01\r\u001b[K     |█████████████████████████████▉  | 706kB 2.8MB/s eta 0:00:01\r\u001b[K     |██████████████████████████████▎ | 716kB 2.8MB/s eta 0:00:01\r\u001b[K     |██████████████████████████████▊ | 727kB 2.8MB/s eta 0:00:01\r\u001b[K     |███████████████████████████████▏| 737kB 2.8MB/s eta 0:00:01\r\u001b[K     |███████████████████████████████▋| 747kB 2.8MB/s eta 0:00:01\r\u001b[K     |████████████████████████████████| 757kB 2.8MB/s \n",
            "\u001b[?25hCollecting sacremoses\n",
            "\u001b[?25l  Downloading https://files.pythonhosted.org/packages/7d/34/09d19aff26edcc8eb2a01bed8e98f13a1537005d31e95233fd48216eed10/sacremoses-0.0.43.tar.gz (883kB)\n",
            "\r\u001b[K     |▍                               | 10kB 24.1MB/s eta 0:00:01\r\u001b[K     |▊                               | 20kB 26.4MB/s eta 0:00:01\r\u001b[K     |█▏                              | 30kB 31.6MB/s eta 0:00:01\r\u001b[K     |█▌                              | 40kB 15.3MB/s eta 0:00:01\r\u001b[K     |█▉                              | 51kB 13.3MB/s eta 0:00:01\r\u001b[K     |██▎                             | 61kB 15.1MB/s eta 0:00:01\r\u001b[K     |██▋                             | 71kB 12.7MB/s eta 0:00:01\r\u001b[K     |███                             | 81kB 13.9MB/s eta 0:00:01\r\u001b[K     |███▍                            | 92kB 14.0MB/s eta 0:00:01\r\u001b[K     |███▊                            | 102kB 12.5MB/s eta 0:00:01\r\u001b[K     |████                            | 112kB 12.5MB/s eta 0:00:01\r\u001b[K     |████▌                           | 122kB 12.5MB/s eta 0:00:01\r\u001b[K     |████▉                           | 133kB 12.5MB/s eta 0:00:01\r\u001b[K     |█████▏                          | 143kB 12.5MB/s eta 0:00:01\r\u001b[K     |█████▋                          | 153kB 12.5MB/s eta 0:00:01\r\u001b[K     |██████                          | 163kB 12.5MB/s eta 0:00:01\r\u001b[K     |██████▎                         | 174kB 12.5MB/s eta 0:00:01\r\u001b[K     |██████▊                         | 184kB 12.5MB/s eta 0:00:01\r\u001b[K     |███████                         | 194kB 12.5MB/s eta 0:00:01\r\u001b[K     |███████▍                        | 204kB 12.5MB/s eta 0:00:01\r\u001b[K     |███████▉                        | 215kB 12.5MB/s eta 0:00:01\r\u001b[K     |████████▏                       | 225kB 12.5MB/s eta 0:00:01\r\u001b[K     |████████▌                       | 235kB 12.5MB/s eta 0:00:01\r\u001b[K     |█████████                       | 245kB 12.5MB/s eta 0:00:01\r\u001b[K     |█████████▎                      | 256kB 12.5MB/s eta 0:00:01\r\u001b[K     |█████████▋                      | 266kB 12.5MB/s eta 0:00:01\r\u001b[K     |██████████                      | 276kB 12.5MB/s eta 0:00:01\r\u001b[K     |██████████▍                     | 286kB 12.5MB/s eta 0:00:01\r\u001b[K     |██████████▊                     | 296kB 12.5MB/s eta 0:00:01\r\u001b[K     |███████████▏                    | 307kB 12.5MB/s eta 0:00:01\r\u001b[K     |███████████▌                    | 317kB 12.5MB/s eta 0:00:01\r\u001b[K     |███████████▉                    | 327kB 12.5MB/s eta 0:00:01\r\u001b[K     |████████████▎                   | 337kB 12.5MB/s eta 0:00:01\r\u001b[K     |████████████▋                   | 348kB 12.5MB/s eta 0:00:01\r\u001b[K     |█████████████                   | 358kB 12.5MB/s eta 0:00:01\r\u001b[K     |█████████████▍                  | 368kB 12.5MB/s eta 0:00:01\r\u001b[K     |█████████████▊                  | 378kB 12.5MB/s eta 0:00:01\r\u001b[K     |██████████████                  | 389kB 12.5MB/s eta 0:00:01\r\u001b[K     |██████████████▌                 | 399kB 12.5MB/s eta 0:00:01\r\u001b[K     |██████████████▉                 | 409kB 12.5MB/s eta 0:00:01\r\u001b[K     |███████████████▏                | 419kB 12.5MB/s eta 0:00:01\r\u001b[K     |███████████████▋                | 430kB 12.5MB/s eta 0:00:01\r\u001b[K     |████████████████                | 440kB 12.5MB/s eta 0:00:01\r\u001b[K     |████████████████▎               | 450kB 12.5MB/s eta 0:00:01\r\u001b[K     |████████████████▊               | 460kB 12.5MB/s eta 0:00:01\r\u001b[K     |█████████████████               | 471kB 12.5MB/s eta 0:00:01\r\u001b[K     |█████████████████▍              | 481kB 12.5MB/s eta 0:00:01\r\u001b[K     |█████████████████▉              | 491kB 12.5MB/s eta 0:00:01\r\u001b[K     |██████████████████▏             | 501kB 12.5MB/s eta 0:00:01\r\u001b[K     |██████████████████▌             | 512kB 12.5MB/s eta 0:00:01\r\u001b[K     |███████████████████             | 522kB 12.5MB/s eta 0:00:01\r\u001b[K     |███████████████████▎            | 532kB 12.5MB/s eta 0:00:01\r\u001b[K     |███████████████████▋            | 542kB 12.5MB/s eta 0:00:01\r\u001b[K     |████████████████████            | 552kB 12.5MB/s eta 0:00:01\r\u001b[K     |████████████████████▍           | 563kB 12.5MB/s eta 0:00:01\r\u001b[K     |████████████████████▊           | 573kB 12.5MB/s eta 0:00:01\r\u001b[K     |█████████████████████▏          | 583kB 12.5MB/s eta 0:00:01\r\u001b[K     |█████████████████████▌          | 593kB 12.5MB/s eta 0:00:01\r\u001b[K     |█████████████████████▉          | 604kB 12.5MB/s eta 0:00:01\r\u001b[K     |██████████████████████▎         | 614kB 12.5MB/s eta 0:00:01\r\u001b[K     |██████████████████████▋         | 624kB 12.5MB/s eta 0:00:01\r\u001b[K     |███████████████████████         | 634kB 12.5MB/s eta 0:00:01\r\u001b[K     |███████████████████████▍        | 645kB 12.5MB/s eta 0:00:01\r\u001b[K     |███████████████████████▊        | 655kB 12.5MB/s eta 0:00:01\r\u001b[K     |████████████████████████        | 665kB 12.5MB/s eta 0:00:01\r\u001b[K     |████████████████████████▌       | 675kB 12.5MB/s eta 0:00:01\r\u001b[K     |████████████████████████▉       | 686kB 12.5MB/s eta 0:00:01\r\u001b[K     |█████████████████████████▏      | 696kB 12.5MB/s eta 0:00:01\r\u001b[K     |█████████████████████████▋      | 706kB 12.5MB/s eta 0:00:01\r\u001b[K     |██████████████████████████      | 716kB 12.5MB/s eta 0:00:01\r\u001b[K     |██████████████████████████▎     | 727kB 12.5MB/s eta 0:00:01\r\u001b[K     |██████████████████████████▊     | 737kB 12.5MB/s eta 0:00:01\r\u001b[K     |███████████████████████████     | 747kB 12.5MB/s eta 0:00:01\r\u001b[K     |███████████████████████████▍    | 757kB 12.5MB/s eta 0:00:01\r\u001b[K     |███████████████████████████▉    | 768kB 12.5MB/s eta 0:00:01\r\u001b[K     |████████████████████████████▏   | 778kB 12.5MB/s eta 0:00:01\r\u001b[K     |████████████████████████████▌   | 788kB 12.5MB/s eta 0:00:01\r\u001b[K     |█████████████████████████████   | 798kB 12.5MB/s eta 0:00:01\r\u001b[K     |█████████████████████████████▎  | 808kB 12.5MB/s eta 0:00:01\r\u001b[K     |█████████████████████████████▋  | 819kB 12.5MB/s eta 0:00:01\r\u001b[K     |██████████████████████████████  | 829kB 12.5MB/s eta 0:00:01\r\u001b[K     |██████████████████████████████▍ | 839kB 12.5MB/s eta 0:00:01\r\u001b[K     |██████████████████████████████▊ | 849kB 12.5MB/s eta 0:00:01\r\u001b[K     |███████████████████████████████▏| 860kB 12.5MB/s eta 0:00:01\r\u001b[K     |███████████████████████████████▌| 870kB 12.5MB/s eta 0:00:01\r\u001b[K     |███████████████████████████████▉| 880kB 12.5MB/s eta 0:00:01\r\u001b[K     |████████████████████████████████| 890kB 12.5MB/s \n",
            "\u001b[?25hRequirement already satisfied: tqdm>=4.27 in /usr/local/lib/python3.6/dist-packages (from transformers) (4.41.1)\n",
            "Collecting tokenizers==0.8.0-rc4\n",
            "\u001b[?25l  Downloading https://files.pythonhosted.org/packages/e8/bd/e5abec46af977c8a1375c1dca7cb1e5b3ec392ef279067af7f6bc50491a0/tokenizers-0.8.0rc4-cp36-cp36m-manylinux1_x86_64.whl (3.0MB)\n",
            "\u001b[K     |████████████████████████████████| 3.0MB 16.8MB/s \n",
            "\u001b[?25hRequirement already satisfied: dataclasses; python_version < \"3.7\" in /usr/local/lib/python3.6/dist-packages (from transformers) (0.7)\n",
            "Collecting sentencepiece!=0.1.92\n",
            "\u001b[?25l  Downloading https://files.pythonhosted.org/packages/d4/a4/d0a884c4300004a78cca907a6ff9a5e9fe4f090f5d95ab341c53d28cbc58/sentencepiece-0.1.91-cp36-cp36m-manylinux1_x86_64.whl (1.1MB)\n",
            "\u001b[K     |████████████████████████████████| 1.1MB 41.7MB/s \n",
            "\u001b[?25hRequirement already satisfied: regex!=2019.12.17 in /usr/local/lib/python3.6/dist-packages (from transformers) (2019.12.20)\n",
            "Requirement already satisfied: packaging in /usr/local/lib/python3.6/dist-packages (from transformers) (20.4)\n",
            "Requirement already satisfied: requests in /usr/local/lib/python3.6/dist-packages (from transformers) (2.23.0)\n",
            "Requirement already satisfied: filelock in /usr/local/lib/python3.6/dist-packages (from transformers) (3.0.12)\n",
            "Requirement already satisfied: numpy in /usr/local/lib/python3.6/dist-packages (from transformers) (1.18.5)\n",
            "Requirement already satisfied: six in /usr/local/lib/python3.6/dist-packages (from sacremoses->transformers) (1.12.0)\n",
            "Requirement already satisfied: click in /usr/local/lib/python3.6/dist-packages (from sacremoses->transformers) (7.1.2)\n",
            "Requirement already satisfied: joblib in /usr/local/lib/python3.6/dist-packages (from sacremoses->transformers) (0.15.1)\n",
            "Requirement already satisfied: pyparsing>=2.0.2 in /usr/local/lib/python3.6/dist-packages (from packaging->transformers) (2.4.7)\n",
            "Requirement already satisfied: certifi>=2017.4.17 in /usr/local/lib/python3.6/dist-packages (from requests->transformers) (2020.6.20)\n",
            "Requirement already satisfied: urllib3!=1.25.0,!=1.25.1,<1.26,>=1.21.1 in /usr/local/lib/python3.6/dist-packages (from requests->transformers) (1.24.3)\n",
            "Requirement already satisfied: idna<3,>=2.5 in /usr/local/lib/python3.6/dist-packages (from requests->transformers) (2.9)\n",
            "Requirement already satisfied: chardet<4,>=3.0.2 in /usr/local/lib/python3.6/dist-packages (from requests->transformers) (3.0.4)\n",
            "Building wheels for collected packages: sacremoses\n",
            "  Building wheel for sacremoses (setup.py) ... \u001b[?25l\u001b[?25hdone\n",
            "  Created wheel for sacremoses: filename=sacremoses-0.0.43-cp36-none-any.whl size=893260 sha256=9d3e6572433efb8d5e18b72646b993a36eb9172130ab29be54c5aa7e5eb8720b\n",
            "  Stored in directory: /root/.cache/pip/wheels/29/3c/fd/7ce5c3f0666dab31a50123635e6fb5e19ceb42ce38d4e58f45\n",
            "Successfully built sacremoses\n",
            "Installing collected packages: sacremoses, tokenizers, sentencepiece, transformers\n",
            "Successfully installed sacremoses-0.0.43 sentencepiece-0.1.91 tokenizers-0.8.0rc4 transformers-3.0.1\n"
          ],
          "name": "stdout"
        }
      ]
    },
    {
      "cell_type": "code",
      "metadata": {
        "id": "HfvjaV3rLvsn",
        "colab_type": "code",
        "colab": {}
      },
      "source": [
        "import torch\n",
        "import numpy as np\n",
        "from transformers import GPT2Tokenizer, GPT2LMHeadModel\n",
        "from transformers import AdamW, get_linear_schedule_with_warmup\n",
        "from torch.utils.data import Dataset\n",
        "from torch.utils.data import Dataset, DataLoader\n",
        "import os"
      ],
      "execution_count": null,
      "outputs": []
    },
    {
      "cell_type": "code",
      "metadata": {
        "id": "ZOF_5UMq1NFE",
        "colab_type": "code",
        "colab": {
          "base_uri": "https://localhost:8080/",
          "height": 269,
          "referenced_widgets": [
            "1d5698f70eba415980453c7a624c45d5",
            "4c532d54f04042d491ad53eafb8188cd",
            "0e7205d7c0c04d1a84110e3b047ba3a5",
            "f52bad14795e40be905f4d18508d0a99",
            "53f8fd96600442ec96ed70aeab1ef885",
            "b309b68241bb49a1a6a72a110bcdd980",
            "10109027c8024d1682ba9187e8c39a9d",
            "c840a27acc484392a0795e33469d6c17",
            "9869463f2cf74c2da64a0cec96f125d5",
            "66f41ac675c5469daede728b400523a4",
            "e5849490268c45b59fad3d5dfc3a11c8",
            "4e57bceee57c47f2bf72f7f5bab75dc8",
            "848a13fb7a224303b758a568490e89c1",
            "4d72784f3a2a42a5894005148c01c7a0",
            "d4dc0c7b348446bba329062ad3daf0e3",
            "dd8d4dea33e94c79afe6c0630544e1f2",
            "f22b3a8d69994d3c8115d3ef48044d9a",
            "cfce9217d27c4f7582d960215688c8fe",
            "bcec1845de18456b89996225776524f7",
            "5e9b3ee7184b48c0a4eb29ce154d9249",
            "8647ee732c404466966c845f5577004c",
            "8627d4fabd734966838aa860cc638d4d",
            "02b239b5cbd34bcd9cc7bbe1d098501e",
            "49edc0f63edd49c5bebfa5fbc576de9c",
            "ef6631c43a3f40bd900f3d16ca213381",
            "9d4e4fc1a17a424ebdcb56a0c0e05b32",
            "38a5a3a3f1bf48aaa7faa0a5f13d03b0",
            "c276b851ce334ce19b5c7184891b3251",
            "6a5f28ffcc1b46b595125a9f24983982",
            "8b246f0d4ee943f1816ccb62ada89355",
            "0c9b3362b96540e8a6b559c81f49dabc",
            "876069fb4d88427bb8605e4a38f65381"
          ]
        },
        "outputId": "e369276b-c0df-4831-9da1-337ac54ddf65"
      },
      "source": [
        "device = 'cpu'\n",
        "if torch.cuda.is_available():\n",
        "    device = 'cuda'\n",
        "    \n",
        "tokenizer = GPT2Tokenizer.from_pretrained('gpt2')\n",
        "model = GPT2LMHeadModel.from_pretrained('gpt2')\n",
        "model = model.to(device)"
      ],
      "execution_count": null,
      "outputs": [
        {
          "output_type": "display_data",
          "data": {
            "application/vnd.jupyter.widget-view+json": {
              "model_id": "1d5698f70eba415980453c7a624c45d5",
              "version_minor": 0,
              "version_major": 2
            },
            "text/plain": [
              "HBox(children=(FloatProgress(value=0.0, description='Downloading', max=1042301.0, style=ProgressStyle(descript…"
            ]
          },
          "metadata": {
            "tags": []
          }
        },
        {
          "output_type": "stream",
          "text": [
            "\n"
          ],
          "name": "stdout"
        },
        {
          "output_type": "display_data",
          "data": {
            "application/vnd.jupyter.widget-view+json": {
              "model_id": "9869463f2cf74c2da64a0cec96f125d5",
              "version_minor": 0,
              "version_major": 2
            },
            "text/plain": [
              "HBox(children=(FloatProgress(value=0.0, description='Downloading', max=456318.0, style=ProgressStyle(descripti…"
            ]
          },
          "metadata": {
            "tags": []
          }
        },
        {
          "output_type": "stream",
          "text": [
            "\n"
          ],
          "name": "stdout"
        },
        {
          "output_type": "display_data",
          "data": {
            "application/vnd.jupyter.widget-view+json": {
              "model_id": "f22b3a8d69994d3c8115d3ef48044d9a",
              "version_minor": 0,
              "version_major": 2
            },
            "text/plain": [
              "HBox(children=(FloatProgress(value=0.0, description='Downloading', max=665.0, style=ProgressStyle(description_…"
            ]
          },
          "metadata": {
            "tags": []
          }
        },
        {
          "output_type": "stream",
          "text": [
            "\n"
          ],
          "name": "stdout"
        },
        {
          "output_type": "display_data",
          "data": {
            "application/vnd.jupyter.widget-view+json": {
              "model_id": "ef6631c43a3f40bd900f3d16ca213381",
              "version_minor": 0,
              "version_major": 2
            },
            "text/plain": [
              "HBox(children=(FloatProgress(value=0.0, description='Downloading', max=548118077.0, style=ProgressStyle(descri…"
            ]
          },
          "metadata": {
            "tags": []
          }
        },
        {
          "output_type": "stream",
          "text": [
            "\n"
          ],
          "name": "stdout"
        },
        {
          "output_type": "stream",
          "text": [
            "Some weights of GPT2LMHeadModel were not initialized from the model checkpoint at gpt2 and are newly initialized: ['h.0.attn.masked_bias', 'h.1.attn.masked_bias', 'h.2.attn.masked_bias', 'h.3.attn.masked_bias', 'h.4.attn.masked_bias', 'h.5.attn.masked_bias', 'h.6.attn.masked_bias', 'h.7.attn.masked_bias', 'h.8.attn.masked_bias', 'h.9.attn.masked_bias', 'h.10.attn.masked_bias', 'h.11.attn.masked_bias', 'lm_head.weight']\n",
            "You should probably TRAIN this model on a down-stream task to be able to use it for predictions and inference.\n"
          ],
          "name": "stderr"
        }
      ]
    },
    {
      "cell_type": "code",
      "metadata": {
        "id": "UWgvySdZ5hpR",
        "colab_type": "code",
        "colab": {
          "base_uri": "https://localhost:8080/",
          "height": 34
        },
        "outputId": "79baee02-b0d5-4b2d-8f85-3c2fe9ce21c8"
      },
      "source": [
        "tokenizer.max_len"
      ],
      "execution_count": null,
      "outputs": [
        {
          "output_type": "execute_result",
          "data": {
            "text/plain": [
              "1024"
            ]
          },
          "metadata": {
            "tags": []
          },
          "execution_count": 6
        }
      ]
    },
    {
      "cell_type": "code",
      "metadata": {
        "id": "1KtW98acbvMs",
        "colab_type": "code",
        "colab": {}
      },
      "source": [
        "d = tokenizer.encode(\"the fabric of the universe\", return_tensors='pt')"
      ],
      "execution_count": null,
      "outputs": []
    },
    {
      "cell_type": "code",
      "metadata": {
        "id": "tHSQHFzU-0_q",
        "colab_type": "code",
        "colab": {
          "base_uri": "https://localhost:8080/",
          "height": 34
        },
        "outputId": "e8878f3a-4511-4292-c19b-75aff30c6dd2"
      },
      "source": [
        "d"
      ],
      "execution_count": null,
      "outputs": [
        {
          "output_type": "execute_result",
          "data": {
            "text/plain": [
              "tensor([[1169, 9664,  286,  262, 6881]])"
            ]
          },
          "metadata": {
            "tags": []
          },
          "execution_count": 6
        }
      ]
    },
    {
      "cell_type": "code",
      "metadata": {
        "id": "toG5BMaYb1U0",
        "colab_type": "code",
        "colab": {
          "base_uri": "https://localhost:8080/",
          "height": 121
        },
        "outputId": "6e59469c-10c6-4aa5-ad7c-b4c1bb27fd17"
      },
      "source": [
        "tokenizer.decode(model.generate(d.cuda(), do_sample=True, \n",
        "    max_length=100, \n",
        "    top_k=50)[0],skip_special_tokens=True)"
      ],
      "execution_count": null,
      "outputs": [
        {
          "output_type": "stream",
          "text": [
            "Setting `pad_token_id` to 50256 (first `eos_token_id`) to generate sequence\n"
          ],
          "name": "stderr"
        },
        {
          "output_type": "execute_result",
          "data": {
            "application/vnd.google.colaboratory.intrinsic": {
              "type": "string"
            },
            "text/plain": [
              "'the fabric of the universe - not the human being that we believe exists in this world). For these reasons, God is one thing, but he is also the reason that our present world is so radically different from the one that we hold so dear. As Einstein himself commented, \"When we get a bit too much faith in God, I\\'m convinced there really is nothing more fundamental to man\\'s nature.\" (Ibid.)\\n\\nGod and Time\\n\\nThe fact of such great difference in world'"
            ]
          },
          "metadata": {
            "tags": []
          },
          "execution_count": 5
        }
      ]
    },
    {
      "cell_type": "code",
      "metadata": {
        "id": "G3vLe-XL6fuX",
        "colab_type": "code",
        "colab": {
          "base_uri": "https://localhost:8080/",
          "height": 34
        },
        "outputId": "ef0dfb91-699a-418d-9233-527506d5e894"
      },
      "source": [
        "model.lm_head"
      ],
      "execution_count": null,
      "outputs": [
        {
          "output_type": "execute_result",
          "data": {
            "text/plain": [
              "Linear(in_features=768, out_features=50257, bias=False)"
            ]
          },
          "metadata": {
            "tags": []
          },
          "execution_count": 6
        }
      ]
    },
    {
      "cell_type": "code",
      "metadata": {
        "id": "K0Tw1mXXZhUw",
        "colab_type": "code",
        "colab": {}
      },
      "source": [
        "class Data(Dataset):\n",
        "\n",
        "  def __init__(self, tokenizer, df, block_size=512):\n",
        "\n",
        "    block_size = block_size - (\n",
        "        tokenizer.max_len - tokenizer.max_len_single_sentence\n",
        "    )\n",
        "\n",
        "    tokenized_text = tokenizer.convert_tokens_to_ids(tokenizer.tokenize(df))\n",
        "\n",
        "    self.examples = []\n",
        "    for i in range(0, len(tokenized_text) - block_size +1, block_size):\n",
        "\n",
        "      self.examples.append(\n",
        "          tokenized_text[i : i + block_size] + [tokenizer.eos_token_id]\n",
        "      )\n",
        "\n",
        "  def __len__(self):\n",
        "    return len(self.examples)\n",
        "\n",
        "  def __getitem__(self, item):\n",
        "    return torch.tensor(self.examples[item], dtype=torch.long)"
      ],
      "execution_count": null,
      "outputs": []
    },
    {
      "cell_type": "code",
      "metadata": {
        "id": "n1NlRs70mfrK",
        "colab_type": "code",
        "colab": {}
      },
      "source": [
        "import pandas as pd"
      ],
      "execution_count": null,
      "outputs": []
    },
    {
      "cell_type": "code",
      "metadata": {
        "id": "SPVCfH75kBUB",
        "colab_type": "code",
        "colab": {}
      },
      "source": [
        "data = pd.read_csv(\"drive/My Drive/machine_tran/data1.csv\")[\"en\"].to_list()"
      ],
      "execution_count": null,
      "outputs": []
    },
    {
      "cell_type": "code",
      "metadata": {
        "id": "aReNlGZ5mu_p",
        "colab_type": "code",
        "colab": {
          "base_uri": "https://localhost:8080/",
          "height": 34
        },
        "outputId": "b5ffe2bf-8056-40b1-e708-a200ad2ae677"
      },
      "source": [
        "len(data)"
      ],
      "execution_count": null,
      "outputs": [
        {
          "output_type": "execute_result",
          "data": {
            "text/plain": [
              "20073"
            ]
          },
          "metadata": {
            "tags": []
          },
          "execution_count": 10
        }
      ]
    },
    {
      "cell_type": "code",
      "metadata": {
        "id": "oIJcpwvFmeIS",
        "colab_type": "code",
        "colab": {}
      },
      "source": [
        "valid = Data(tokenizer,\" \".join(data[:800]))\n",
        "train = Data(tokenizer,\" \".join(data[800:]))"
      ],
      "execution_count": null,
      "outputs": []
    },
    {
      "cell_type": "code",
      "metadata": {
        "id": "7SsV6_w_m9Qn",
        "colab_type": "code",
        "colab": {}
      },
      "source": [
        "batch_size = 1\n",
        "\n",
        "train_loader= DataLoader(train,shuffle=False,batch_size=batch_size,)\n",
        "valid_loader =DataLoader(valid,shuffle=False,batch_size=batch_size,)"
      ],
      "execution_count": null,
      "outputs": []
    },
    {
      "cell_type": "code",
      "metadata": {
        "id": "bt0dqBEDp3ls",
        "colab_type": "code",
        "colab": {}
      },
      "source": [
        "epochs = 10\n",
        "learning_rate = 0.00002\n",
        "warmup_steps = 2000"
      ],
      "execution_count": null,
      "outputs": []
    },
    {
      "cell_type": "code",
      "metadata": {
        "id": "bBrpaSsfnN2s",
        "colab_type": "code",
        "colab": {}
      },
      "source": [
        "\n",
        "optimizer = AdamW(model.parameters(), lr=learning_rate)\n",
        "scheduler = get_linear_schedule_with_warmup(optimizer, num_warmup_steps=warmup_steps, num_training_steps=-1)\n"
      ],
      "execution_count": null,
      "outputs": []
    },
    {
      "cell_type": "code",
      "metadata": {
        "id": "KLblcbZou9Fz",
        "colab_type": "code",
        "colab": {}
      },
      "source": [
        "d = next(iter(train_loader))"
      ],
      "execution_count": null,
      "outputs": []
    },
    {
      "cell_type": "code",
      "metadata": {
        "id": "rR7Vc0T0vYNd",
        "colab_type": "code",
        "colab": {
          "base_uri": "https://localhost:8080/",
          "height": 34
        },
        "outputId": "d13deab6-28e5-4452-93ec-1c6efaa9ac62"
      },
      "source": [
        "d.shape"
      ],
      "execution_count": null,
      "outputs": [
        {
          "output_type": "execute_result",
          "data": {
            "text/plain": [
              "torch.Size([2, 513])"
            ]
          },
          "metadata": {
            "tags": []
          },
          "execution_count": 20
        }
      ]
    },
    {
      "cell_type": "code",
      "metadata": {
        "id": "Lk3JQx0QqA07",
        "colab_type": "code",
        "colab": {
          "base_uri": "https://localhost:8080/",
          "height": 434
        },
        "outputId": "d77e7cdf-21d1-4c6c-b357-3b80f2bf59f2"
      },
      "source": [
        "model.train()\n",
        "for epoch in range(EPOCHS):\n",
        "\n",
        "  print(f\"Epoch {epoch} started\")\n",
        "\n",
        "  sum_loss = 0\n",
        "  val_loss = 0\n",
        "  model.train()\n",
        "  for data in train_loader:\n",
        "\n",
        "    output = model(data.cuda(), labels= data.cuda())\n",
        "\n",
        "\n",
        "    loss, logits = output[:2]\n",
        "    loss.backward()\n",
        "\n",
        "    sum_loss += loss.item()\n",
        "    optimizer.step()\n",
        "    scheduler.step()\n",
        "    optimizer.zero_grad()\n",
        "\n",
        "\n",
        "  # model.eval()\n",
        "  # for data in valid_loader:\n",
        "\n",
        "  #   output = model(data.cuda(), labels= data.cuda())\n",
        "\n",
        "\n",
        "  #   loss, logits = output[:2]\n",
        "\n",
        "  #   val_loss += loss.item()\n",
        "\n",
        "  print(f\"training loss { sum_loss / len(train_loader)}\")\n",
        "\n"
      ],
      "execution_count": null,
      "outputs": [
        {
          "output_type": "stream",
          "text": [
            "Epoch 0 started\n"
          ],
          "name": "stdout"
        },
        {
          "output_type": "stream",
          "text": [
            "/pytorch/torch/csrc/utils/python_arg_parser.cpp:756: UserWarning: This overload of add_ is deprecated:\n",
            "\tadd_(Number alpha, Tensor other)\n",
            "Consider using one of the following signatures instead:\n",
            "\tadd_(Tensor other, *, Number alpha)\n"
          ],
          "name": "stderr"
        },
        {
          "output_type": "stream",
          "text": [
            "training loss 3.573071580515443\n",
            "Epoch 1 started\n",
            "training loss 3.2052259990090977\n",
            "Epoch 2 started\n",
            "training loss 3.120949829765672\n",
            "Epoch 3 started\n",
            "training loss 3.1209272521950626\n",
            "Epoch 4 started\n",
            "training loss 3.121183654262681\n",
            "Epoch 5 started\n",
            "training loss 3.1209100142563924\n",
            "Epoch 6 started\n",
            "training loss 3.120586305955062\n",
            "Epoch 7 started\n",
            "training loss 3.119599896098914\n",
            "Epoch 8 started\n",
            "training loss 3.1208393678019934\n",
            "Epoch 9 started\n",
            "training loss 3.121278724064528\n"
          ],
          "name": "stdout"
        }
      ]
    },
    {
      "cell_type": "code",
      "metadata": {
        "id": "GhvSEQBywrDk",
        "colab_type": "code",
        "colab": {}
      },
      "source": [
        "f = tokenizer.encode(\"please\", return_tensors='pt')"
      ],
      "execution_count": null,
      "outputs": []
    },
    {
      "cell_type": "code",
      "metadata": {
        "id": "Lr_NLTPSfnAS",
        "colab_type": "code",
        "colab": {
          "base_uri": "https://localhost:8080/",
          "height": 72
        },
        "outputId": "64425cfb-b871-4e9d-9feb-7dcd1d0e7d72"
      },
      "source": [
        "tokenizer.decode(model.generate(f.cuda(), do_sample=True, \n",
        "    max_length=100, \n",
        "    top_k=50)[0],skip_special_tokens=True)"
      ],
      "execution_count": null,
      "outputs": [
        {
          "output_type": "stream",
          "text": [
            "Setting `pad_token_id` to 50256 (first `eos_token_id`) to generate sequence\n"
          ],
          "name": "stderr"
        },
        {
          "output_type": "execute_result",
          "data": {
            "text/plain": [
              "'please and let us do it. He will bring about a lasting and lasting kindness for all the people that will be around him.” They will have to go on an upright walk for the rest of their lives, so that you may have peace. Look! The sun will shine out like a cloud, and with it will be a full moon like those who were alive at its light. Then they will walk straightly in their paths, not looking down on the sun, as though they were'"
            ]
          },
          "metadata": {
            "tags": []
          },
          "execution_count": 24
        }
      ]
    },
    {
      "cell_type": "code",
      "metadata": {
        "id": "sbfN3Nwcoje3",
        "colab_type": "code",
        "colab": {}
      },
      "source": [
        ""
      ],
      "execution_count": null,
      "outputs": []
    }
  ]
}