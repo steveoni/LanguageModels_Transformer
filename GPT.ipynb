{
  "nbformat": 4,
  "nbformat_minor": 0,
  "metadata": {
    "colab": {
      "name": "GPT.ipynb",
      "provenance": [],
      "collapsed_sections": []
    },
    "kernelspec": {
      "name": "python3",
      "display_name": "Python 3"
    },
    "accelerator": "GPU"
  },
  "cells": [
    {
      "cell_type": "code",
      "metadata": {
        "id": "geiWTOAImuyi",
        "colab_type": "code",
        "colab": {}
      },
      "source": [
        "%reload_ext autoreload\n",
        "%autoreload 2\n",
        "%matplotlib inline"
      ],
      "execution_count": 0,
      "outputs": []
    },
    {
      "cell_type": "code",
      "metadata": {
        "id": "HU1KUMl8urBM",
        "colab_type": "code",
        "colab": {}
      },
      "source": [
        "import numpy as np\n",
        "import pandas as pd\n",
        "import unicodedata\n",
        "import string\n",
        "import re\n",
        "import random\n",
        "import torch"
      ],
      "execution_count": 0,
      "outputs": []
    },
    {
      "cell_type": "code",
      "metadata": {
        "id": "P4IUTQYduunV",
        "colab_type": "code",
        "outputId": "4d2e596c-c3b9-4d0e-cc32-bd7048b1eb66",
        "colab": {
          "base_uri": "https://localhost:8080/",
          "height": 34
        }
      },
      "source": [
        "print(torch.__version__)"
      ],
      "execution_count": 3,
      "outputs": [
        {
          "output_type": "stream",
          "text": [
            "1.4.0\n"
          ],
          "name": "stdout"
        }
      ]
    },
    {
      "cell_type": "code",
      "metadata": {
        "id": "yjlPEay3uxWL",
        "colab_type": "code",
        "colab": {}
      },
      "source": [
        "data = pd.read_csv(\"drive/My Drive/machine_tran/data1.csv\")"
      ],
      "execution_count": 0,
      "outputs": []
    },
    {
      "cell_type": "code",
      "metadata": {
        "id": "fqM3HgVBu0OU",
        "colab_type": "code",
        "colab": {}
      },
      "source": [
        "eng = data['en'][:2000].to_list()"
      ],
      "execution_count": 0,
      "outputs": []
    },
    {
      "cell_type": "code",
      "metadata": {
        "id": "1FcVX3R3u9Pn",
        "colab_type": "code",
        "colab": {}
      },
      "source": [
        "SOS_token = 0\n",
        "EOS_token = 1\n",
        "\n",
        "\n",
        "class Lang:\n",
        "    def __init__(self, name):\n",
        "        self.name = name\n",
        "        self.word2index = {\"<blank>\":0, \"SOS\":1,\"EOS\":2}\n",
        "        self.word2count = {}\n",
        "        self.index2word = {0:\"<blank>\", 1: \"SOS\", 2: \"EOS\"}\n",
        "        self.n_words = 3  # Count SOS and EOS\n",
        "\n",
        "    def addSentence(self, sentence):\n",
        "        for word in sentence.split(' '):\n",
        "            self.addWord(word)\n",
        "\n",
        "    def addWord(self, word):\n",
        "        if word not in self.word2index:\n",
        "            self.word2index[word] = self.n_words\n",
        "            self.word2count[word] = 1\n",
        "            self.index2word[self.n_words] = word\n",
        "            self.n_words += 1\n",
        "        else:\n",
        "            self.word2count[word] += 1"
      ],
      "execution_count": 0,
      "outputs": []
    },
    {
      "cell_type": "code",
      "metadata": {
        "id": "paTsNPazvB9c",
        "colab_type": "code",
        "colab": {}
      },
      "source": [
        "def unicodeToAscii(s):\n",
        "    return ''.join(\n",
        "        c for c in unicodedata.normalize('NFD', s)\n",
        "        if unicodedata.category(c) != 'Mn'\n",
        "    )\n",
        "\n",
        "# Lowercase, trim, and remove non-letter characters\n",
        "def normalizeString(s):\n",
        "    s = unicodeToAscii(s.lower().strip())\n",
        "    s = re.sub(r\"([.!?])\", r\" \\1\", s)\n",
        "    s = re.sub(r\"[^a-zA-Z.!?]+\", r\" \", s)\n",
        "    return s"
      ],
      "execution_count": 0,
      "outputs": []
    },
    {
      "cell_type": "code",
      "metadata": {
        "id": "8UuOr4twvJFP",
        "colab_type": "code",
        "colab": {}
      },
      "source": [
        "eng_lang = Lang(\"eng\")"
      ],
      "execution_count": 0,
      "outputs": []
    },
    {
      "cell_type": "code",
      "metadata": {
        "id": "bvb9xBsGv5Sm",
        "colab_type": "code",
        "colab": {}
      },
      "source": [
        "en_data  = []\n",
        "for sent in eng:\n",
        "\n",
        "  sent  = normalizeString(sent)\n",
        "  en_data.append(sent)\n",
        "  eng_lang.addSentence(sent)"
      ],
      "execution_count": 0,
      "outputs": []
    },
    {
      "cell_type": "code",
      "metadata": {
        "id": "aPPWwVmOwUsQ",
        "colab_type": "code",
        "outputId": "93e0512d-243a-401e-8f4d-0f3c2ec28eb9",
        "colab": {
          "base_uri": "https://localhost:8080/",
          "height": 34
        }
      },
      "source": [
        "eng_lang.n_words"
      ],
      "execution_count": 11,
      "outputs": [
        {
          "output_type": "execute_result",
          "data": {
            "text/plain": [
              "4581"
            ]
          },
          "metadata": {
            "tags": []
          },
          "execution_count": 11
        }
      ]
    },
    {
      "cell_type": "code",
      "metadata": {
        "id": "kApTgqa-wX3f",
        "colab_type": "code",
        "outputId": "5379576f-d4e1-4979-e7ee-b4808f80dc1b",
        "colab": {
          "base_uri": "https://localhost:8080/",
          "height": 54
        }
      },
      "source": [
        "en_data[0]"
      ],
      "execution_count": 12,
      "outputs": [
        {
          "output_type": "execute_result",
          "data": {
            "text/plain": [
              "'the priest will then examine the contaminated item after it has been thoroughly washed . if the appearance of the contamination has not changed even if the disease has not spread it is unclean . you should burn it in the fire because it has been eaten away either from its underside or from its outside .'"
            ]
          },
          "metadata": {
            "tags": []
          },
          "execution_count": 12
        }
      ]
    },
    {
      "cell_type": "code",
      "metadata": {
        "id": "mkuHOFAKwdEQ",
        "colab_type": "code",
        "colab": {}
      },
      "source": [
        "def tokenize(lang,sentence):\n",
        "    \n",
        "    sent = \"SOS\" + \" \" + sentence + \" \" + \"EOS\"\n",
        "    return [lang.word2index[word] for word in sent.split(' ')]"
      ],
      "execution_count": 0,
      "outputs": []
    },
    {
      "cell_type": "code",
      "metadata": {
        "id": "h1bHGuBdw7Jn",
        "colab_type": "code",
        "colab": {}
      },
      "source": [
        "en_token = list(map(lambda x: tokenize(eng_lang, x), en_data))"
      ],
      "execution_count": 0,
      "outputs": []
    },
    {
      "cell_type": "code",
      "metadata": {
        "id": "Jzsv6DwYxQvL",
        "colab_type": "code",
        "colab": {}
      },
      "source": [
        "word_len = list(map(lambda x: len(x), en_token))"
      ],
      "execution_count": 0,
      "outputs": []
    },
    {
      "cell_type": "code",
      "metadata": {
        "id": "MlijxsUqxUfZ",
        "colab_type": "code",
        "colab": {}
      },
      "source": [
        "MAX_LENGTH = max(word_len)"
      ],
      "execution_count": 0,
      "outputs": []
    },
    {
      "cell_type": "code",
      "metadata": {
        "id": "8CkMJJt6-FVi",
        "colab_type": "code",
        "outputId": "e6f10c58-2036-4983-94f5-e4fa98a71181",
        "colab": {
          "base_uri": "https://localhost:8080/",
          "height": 34
        }
      },
      "source": [
        "MAX_LENGTH"
      ],
      "execution_count": 17,
      "outputs": [
        {
          "output_type": "execute_result",
          "data": {
            "text/plain": [
              "80"
            ]
          },
          "metadata": {
            "tags": []
          },
          "execution_count": 17
        }
      ]
    },
    {
      "cell_type": "code",
      "metadata": {
        "id": "F4PjHnwsx3Yw",
        "colab_type": "code",
        "colab": {}
      },
      "source": [
        "token_pad = np.zeros((len(en_token), MAX_LENGTH))"
      ],
      "execution_count": 0,
      "outputs": []
    },
    {
      "cell_type": "code",
      "metadata": {
        "id": "dxhONT95x6QK",
        "colab_type": "code",
        "colab": {}
      },
      "source": [
        "for i,v in enumerate(en_token):\n",
        "    \n",
        "    for j, token in enumerate(v):\n",
        "        \n",
        "        token_pad[i,j] = token"
      ],
      "execution_count": 0,
      "outputs": []
    },
    {
      "cell_type": "code",
      "metadata": {
        "id": "boOKmixRy3gy",
        "colab_type": "code",
        "outputId": "bd8169ad-336c-47da-837c-917af5d3ace1",
        "colab": {
          "base_uri": "https://localhost:8080/",
          "height": 139
        }
      },
      "source": [
        "token_pad[0]"
      ],
      "execution_count": 20,
      "outputs": [
        {
          "output_type": "execute_result",
          "data": {
            "text/plain": [
              "array([ 1.,  3.,  4.,  5.,  6.,  7.,  3.,  8.,  9., 10., 11., 12., 13.,\n",
              "       14., 15., 16., 17.,  3., 18., 19.,  3., 20., 12., 21., 22., 23.,\n",
              "       17.,  3., 24., 12., 21., 25., 11., 26., 27., 16., 28., 29., 30.,\n",
              "       11., 31.,  3., 32., 33., 11., 12., 13., 34., 35., 36., 37., 38.,\n",
              "       39., 40., 37., 38., 41., 16.,  2.,  0.,  0.,  0.,  0.,  0.,  0.,\n",
              "        0.,  0.,  0.,  0.,  0.,  0.,  0.,  0.,  0.,  0.,  0.,  0.,  0.,\n",
              "        0.,  0.])"
            ]
          },
          "metadata": {
            "tags": []
          },
          "execution_count": 20
        }
      ]
    },
    {
      "cell_type": "code",
      "metadata": {
        "id": "wLTa4-2UzUeG",
        "colab_type": "code",
        "colab": {}
      },
      "source": [
        "valid = token_pad[:800]\n",
        "train = token_pad[800:]"
      ],
      "execution_count": 0,
      "outputs": []
    },
    {
      "cell_type": "code",
      "metadata": {
        "id": "HwST5u20zzSr",
        "colab_type": "code",
        "colab": {}
      },
      "source": [
        "from torch.utils.data import TensorDataset, DataLoader"
      ],
      "execution_count": 0,
      "outputs": []
    },
    {
      "cell_type": "code",
      "metadata": {
        "id": "nb-SMWtGz4MV",
        "colab_type": "code",
        "colab": {}
      },
      "source": [
        "train_data = TensorDataset(torch.from_numpy(train).long())"
      ],
      "execution_count": 0,
      "outputs": []
    },
    {
      "cell_type": "code",
      "metadata": {
        "id": "FRtluUzB0MTw",
        "colab_type": "code",
        "colab": {}
      },
      "source": [
        "valid_data = TensorDataset(torch.from_numpy(valid).long())"
      ],
      "execution_count": 0,
      "outputs": []
    },
    {
      "cell_type": "code",
      "metadata": {
        "id": "Y5jU2No10XAb",
        "colab_type": "code",
        "colab": {}
      },
      "source": [
        "batch_size = 100\n",
        "\n",
        "train_loader= DataLoader(train_data,shuffle=True,batch_size=batch_size,)\n",
        "valid_loader =DataLoader(valid_data,shuffle=True,batch_size=batch_size,)"
      ],
      "execution_count": 0,
      "outputs": []
    },
    {
      "cell_type": "code",
      "metadata": {
        "id": "6XpPzRuf0bkR",
        "colab_type": "code",
        "outputId": "d2c47c12-353d-44a7-9789-b36e6f14809d",
        "colab": {
          "base_uri": "https://localhost:8080/",
          "height": 34
        }
      },
      "source": [
        "dataiter = iter(train_loader)\n",
        "sample_x= dataiter.next()[0]\n",
        "\n",
        "sample_x.shape"
      ],
      "execution_count": 26,
      "outputs": [
        {
          "output_type": "execute_result",
          "data": {
            "text/plain": [
              "torch.Size([100, 80])"
            ]
          },
          "metadata": {
            "tags": []
          },
          "execution_count": 26
        }
      ]
    },
    {
      "cell_type": "code",
      "metadata": {
        "id": "tSSG19uj0fpQ",
        "colab_type": "code",
        "outputId": "532ddf0a-0136-4a65-9cb4-ae21e1e7d58c",
        "colab": {
          "base_uri": "https://localhost:8080/",
          "height": 72
        }
      },
      "source": [
        "import torch.nn as nn\n",
        "import torch.nn.functional as F\n",
        "import math, copy, time\n",
        "from torch.autograd import Variable\n",
        "import matplotlib.pyplot as plt\n",
        "import seaborn\n",
        "seaborn.set_context(context=\"talk\")\n",
        "%matplotlib inline"
      ],
      "execution_count": 27,
      "outputs": [
        {
          "output_type": "stream",
          "text": [
            "/usr/local/lib/python3.6/dist-packages/statsmodels/tools/_testing.py:19: FutureWarning: pandas.util.testing is deprecated. Use the functions in the public API at pandas.testing instead.\n",
            "  import pandas.util.testing as tm\n"
          ],
          "name": "stderr"
        }
      ]
    },
    {
      "cell_type": "code",
      "metadata": {
        "id": "krdfex6e0y_b",
        "colab_type": "code",
        "colab": {}
      },
      "source": [
        "class Generator(nn.Module):\n",
        "    \"Define standard linear + softmax generation step.\"\n",
        "    def __init__(self, d_model, vocab):\n",
        "        super(Generator, self).__init__()\n",
        "        self.proj = nn.Linear(d_model, vocab)\n",
        "\n",
        "    def forward(self, x):\n",
        "        return F.log_softmax(self.proj(x), dim=-1)"
      ],
      "execution_count": 0,
      "outputs": []
    },
    {
      "cell_type": "code",
      "metadata": {
        "id": "2i6AC4gp06dh",
        "colab_type": "code",
        "colab": {}
      },
      "source": [
        "def clones(module, N):\n",
        "    \"Produce N identical layers.\"\n",
        "    return nn.ModuleList([copy.deepcopy(module) for _ in range(N)])"
      ],
      "execution_count": 0,
      "outputs": []
    },
    {
      "cell_type": "code",
      "metadata": {
        "id": "vLpzA4wi09wS",
        "colab_type": "code",
        "colab": {}
      },
      "source": [
        "class LayerNorm(nn.Module):\n",
        "    \"Construct a layernorm module (See citation for details).\"\n",
        "    def __init__(self, features, eps=1e-6):\n",
        "        super(LayerNorm, self).__init__()\n",
        "        self.a_2 = nn.Parameter(torch.ones(features))\n",
        "        self.b_2 = nn.Parameter(torch.zeros(features))\n",
        "        self.eps = eps\n",
        "\n",
        "    def forward(self, x):\n",
        "        mean = x.mean(-1, keepdim=True)\n",
        "        std = x.std(-1, keepdim=True)\n",
        "        return self.a_2 * (x - mean) / (std + self.eps) + self.b_2"
      ],
      "execution_count": 0,
      "outputs": []
    },
    {
      "cell_type": "code",
      "metadata": {
        "id": "lWAu5yTc1KxG",
        "colab_type": "code",
        "colab": {}
      },
      "source": [
        "class SublayerConnection(nn.Module):\n",
        "    \"\"\"\n",
        "    A residual connection followed by a layer norm.\n",
        "    Note for code simplicity the norm is first as opposed to last.\n",
        "    \"\"\"\n",
        "    def __init__(self, size, dropout):\n",
        "        super(SublayerConnection, self).__init__()\n",
        "        self.norm = LayerNorm(size)\n",
        "        self.dropout = nn.Dropout(dropout)\n",
        "\n",
        "    def forward(self, x, sublayer):\n",
        "        \"Apply residual connection to any sublayer with the same size.\"\n",
        "        return x + self.dropout(sublayer(self.norm(x)))"
      ],
      "execution_count": 0,
      "outputs": []
    },
    {
      "cell_type": "code",
      "metadata": {
        "id": "xvdzzdVi1PZV",
        "colab_type": "code",
        "colab": {}
      },
      "source": [
        "class Decoder(nn.Module):\n",
        "\n",
        "  def __init__(self, layer, N):\n",
        "\n",
        "    super(Decoder, self).__init__()\n",
        "    self.layers = clones(layer, N)\n",
        "    self.norm = LayerNorm(layer.size)\n",
        "\n",
        "  def forward(self,x, tgt_mask):\n",
        "\n",
        "    for layer in self.layers:\n",
        "      x = layer(x, tgt_mask)\n",
        "    return self.norm(x)"
      ],
      "execution_count": 0,
      "outputs": []
    },
    {
      "cell_type": "code",
      "metadata": {
        "id": "bRj5bOeb2Iw7",
        "colab_type": "code",
        "colab": {}
      },
      "source": [
        "class DecoderLayer(nn.Module):\n",
        "\n",
        "  def __init__(self, size, self_attn, feed_forward, dropout):\n",
        "    super(DecoderLayer, self).__init__()\n",
        "    self.size = size\n",
        "    self.self_attn = self_attn\n",
        "    self.feed_forward = feed_forward\n",
        "    self.sublayer = clones(SublayerConnection(size, dropout), 2)\n",
        "\n",
        "  def forward(self, x, tgt_mask):\n",
        "\n",
        "    x = self.sublayer[0](x, lambda x: self.self_attn(x, x, x, tgt_mask))\n",
        "    return self.sublayer[1](x, self.feed_forward)"
      ],
      "execution_count": 0,
      "outputs": []
    },
    {
      "cell_type": "code",
      "metadata": {
        "id": "w1Txc6Tu3rSX",
        "colab_type": "code",
        "colab": {}
      },
      "source": [
        "def subsequent_mask(size):\n",
        "    \"Mask out subsequent positions.\"\n",
        "    attn_shape = (1, size, size)\n",
        "    subsequent_mask = np.triu(np.ones(attn_shape), k=1).astype('uint8')\n",
        "    return torch.from_numpy(subsequent_mask) == 0"
      ],
      "execution_count": 0,
      "outputs": []
    },
    {
      "cell_type": "code",
      "metadata": {
        "id": "e5f2STj13wR1",
        "colab_type": "code",
        "colab": {}
      },
      "source": [
        "def attention(query, key, value, mask=None, dropout=None):\n",
        "    \"Compute 'Scaled Dot Product Attention'\"\n",
        "    d_k = query.size(-1)\n",
        "    scores = torch.matmul(query, key.transpose(-2, -1)) \\\n",
        "             / math.sqrt(d_k)\n",
        "    if mask is not None:\n",
        "        scores = scores.masked_fill(mask == 0, -1e9)\n",
        "    p_attn = F.softmax(scores, dim = -1)\n",
        "    if dropout is not None:\n",
        "        p_attn = dropout(p_attn)\n",
        "    return torch.matmul(p_attn, value), p_attn"
      ],
      "execution_count": 0,
      "outputs": []
    },
    {
      "cell_type": "code",
      "metadata": {
        "id": "fFXwTFum4Dpf",
        "colab_type": "code",
        "colab": {}
      },
      "source": [
        "class MultiHeadedAttention(nn.Module):\n",
        "    def __init__(self, h, d_model, dropout=0.1):\n",
        "        \"Take in model size and number of heads.\"\n",
        "        super(MultiHeadedAttention, self).__init__()\n",
        "        assert d_model % h == 0\n",
        "        # We assume d_v always equals d_k\n",
        "        self.d_k = d_model // h\n",
        "        self.h = h\n",
        "        self.linears = clones(nn.Linear(d_model, d_model), 4)\n",
        "        self.attn = None\n",
        "        self.dropout = nn.Dropout(p=dropout)\n",
        "        \n",
        "    def forward(self, query, key, value, mask=None):\n",
        "        \"Implements Figure 2\"\n",
        "        if mask is not None:\n",
        "            # Same mask applied to all h heads.\n",
        "            mask = mask.unsqueeze(1)\n",
        "        nbatches = query.size(0)\n",
        "        \n",
        "        # 1) Do all the linear projections in batch from d_model => h x d_k \n",
        "        query, key, value = \\\n",
        "            [l(x).view(nbatches, -1, self.h, self.d_k).transpose(1, 2)\n",
        "             for l, x in zip(self.linears, (query, key, value))]\n",
        "        \n",
        "        # 2) Apply attention on all the projected vectors in batch. \n",
        "        x, self.attn = attention(query, key, value, mask=mask, \n",
        "                                 dropout=self.dropout)\n",
        "        \n",
        "        # 3) \"Concat\" using a view and apply a final linear. \n",
        "        x = x.transpose(1, 2).contiguous() \\\n",
        "             .view(nbatches, -1, self.h * self.d_k)\n",
        "        return self.linears[-1](x)"
      ],
      "execution_count": 0,
      "outputs": []
    },
    {
      "cell_type": "code",
      "metadata": {
        "id": "4l1YDXVF4J14",
        "colab_type": "code",
        "colab": {}
      },
      "source": [
        "class PositionwiseFeedForward(nn.Module):\n",
        "    \"Implements FFN equation.\"\n",
        "    def __init__(self, d_model, d_ff, dropout=0.1):\n",
        "        super(PositionwiseFeedForward, self).__init__()\n",
        "        self.w_1 = nn.Linear(d_model, d_ff)\n",
        "        self.w_2 = nn.Linear(d_ff, d_model)\n",
        "        self.dropout = nn.Dropout(dropout)\n",
        "\n",
        "    def forward(self, x):\n",
        "        return self.w_2(self.dropout(F.gelu(self.w_1(x))))"
      ],
      "execution_count": 0,
      "outputs": []
    },
    {
      "cell_type": "code",
      "metadata": {
        "id": "AMHS4a4a4On1",
        "colab_type": "code",
        "colab": {}
      },
      "source": [
        "class Embeddings(nn.Module):\n",
        "    def __init__(self, d_model, vocab):\n",
        "        super(Embeddings, self).__init__()\n",
        "        self.lut = nn.Embedding(vocab, d_model)\n",
        "        self.d_model = d_model\n",
        "\n",
        "    def forward(self, x):\n",
        "        return self.lut(x) * math.sqrt(self.d_model)"
      ],
      "execution_count": 0,
      "outputs": []
    },
    {
      "cell_type": "code",
      "metadata": {
        "id": "x6Rje_Ox4S7X",
        "colab_type": "code",
        "colab": {}
      },
      "source": [
        "class PositionalEncoding(nn.Module):\n",
        "    \"Implement the PE function.\"\n",
        "    def __init__(self, d_model, dropout, max_len=5000):\n",
        "        super(PositionalEncoding, self).__init__()\n",
        "        self.dropout = nn.Dropout(p=dropout)\n",
        "        \n",
        "        # Compute the positional encodings once in log space.\n",
        "        pe = torch.zeros(max_len, d_model)\n",
        "        position = torch.arange(0., max_len).unsqueeze(1)\n",
        "        div_term = torch.exp(torch.arange(0., d_model, 2) *\n",
        "                             -(math.log(10000.0) / d_model))\n",
        "        pe[:, 0::2] = torch.sin(position * div_term)\n",
        "        pe[:, 1::2] = torch.cos(position * div_term)\n",
        "        pe = pe.unsqueeze(0)\n",
        "        self.register_buffer('pe', pe)\n",
        "        \n",
        "    def forward(self, x):\n",
        "        x = x + Variable(self.pe[:, :x.size(1)], \n",
        "                         requires_grad=False)\n",
        "        return self.dropout(x)"
      ],
      "execution_count": 0,
      "outputs": []
    },
    {
      "cell_type": "code",
      "metadata": {
        "id": "S4vM-ES8A2fO",
        "colab_type": "code",
        "colab": {}
      },
      "source": [
        "class GP(nn.Module):\n",
        "\n",
        "  def __init__(self, decoder, tgt_embed, generator):\n",
        "    super(GP, self).__init__()\n",
        "    self.decoder = decoder\n",
        "    self.embed = tgt_embed\n",
        "    self.generator = generator\n",
        "\n",
        "  def forward(self, x, x_mask):\n",
        "\n",
        "    x = self.embed(x)\n",
        "    x =  self.decoder(x,x_mask)\n",
        "\n",
        "    return x"
      ],
      "execution_count": 0,
      "outputs": []
    },
    {
      "cell_type": "code",
      "metadata": {
        "id": "gVAMspq84YXZ",
        "colab_type": "code",
        "colab": {}
      },
      "source": [
        "def make_model(eng_vocab, N=12, d_model=768, d_ff=3072, h=12, dropout=0.1):\n",
        "\n",
        "  c = copy.deepcopy\n",
        "  attn = MultiHeadedAttention(h,d_model)\n",
        "  ff   = PositionwiseFeedForward(d_model, d_ff, dropout)\n",
        "  position = PositionalEncoding(d_model, dropout)\n",
        "\n",
        "\n",
        "  model = GP(\n",
        "      Decoder(DecoderLayer(d_model, c(attn), c(ff), dropout), N),\n",
        "      nn.Sequential(Embeddings(d_model, eng_vocab), c(position)),\n",
        "      Generator(d_model, eng_vocab)\n",
        "  )\n",
        "\n",
        "  for p in model.parameters():\n",
        "    if p.dim() > 1:\n",
        "      nn.init.xavier_uniform(p)\n",
        "  return model"
      ],
      "execution_count": 0,
      "outputs": []
    },
    {
      "cell_type": "code",
      "metadata": {
        "id": "_pw6FOgk67SX",
        "colab_type": "code",
        "outputId": "f1556750-ec02-453a-d5f4-ff6a25065c18",
        "colab": {
          "base_uri": "https://localhost:8080/",
          "height": 34
        }
      },
      "source": [
        "tmp_model = make_model(10,2)"
      ],
      "execution_count": 42,
      "outputs": [
        {
          "output_type": "stream",
          "text": [
            "/usr/local/lib/python3.6/dist-packages/ipykernel_launcher.py:17: UserWarning: nn.init.xavier_uniform is now deprecated in favor of nn.init.xavier_uniform_.\n"
          ],
          "name": "stderr"
        }
      ]
    },
    {
      "cell_type": "code",
      "metadata": {
        "id": "l6cU7GuG6-Ra",
        "colab_type": "code",
        "outputId": "07679369-a996-4ff9-afd1-dd89b0f56975",
        "colab": {
          "base_uri": "https://localhost:8080/",
          "height": 1000
        }
      },
      "source": [
        "tmp_model"
      ],
      "execution_count": 43,
      "outputs": [
        {
          "output_type": "execute_result",
          "data": {
            "text/plain": [
              "GP(\n",
              "  (decoder): Decoder(\n",
              "    (layers): ModuleList(\n",
              "      (0): DecoderLayer(\n",
              "        (self_attn): MultiHeadedAttention(\n",
              "          (linears): ModuleList(\n",
              "            (0): Linear(in_features=768, out_features=768, bias=True)\n",
              "            (1): Linear(in_features=768, out_features=768, bias=True)\n",
              "            (2): Linear(in_features=768, out_features=768, bias=True)\n",
              "            (3): Linear(in_features=768, out_features=768, bias=True)\n",
              "          )\n",
              "          (dropout): Dropout(p=0.1, inplace=False)\n",
              "        )\n",
              "        (feed_forward): PositionwiseFeedForward(\n",
              "          (w_1): Linear(in_features=768, out_features=3072, bias=True)\n",
              "          (w_2): Linear(in_features=3072, out_features=768, bias=True)\n",
              "          (dropout): Dropout(p=0.1, inplace=False)\n",
              "        )\n",
              "        (sublayer): ModuleList(\n",
              "          (0): SublayerConnection(\n",
              "            (norm): LayerNorm()\n",
              "            (dropout): Dropout(p=0.1, inplace=False)\n",
              "          )\n",
              "          (1): SublayerConnection(\n",
              "            (norm): LayerNorm()\n",
              "            (dropout): Dropout(p=0.1, inplace=False)\n",
              "          )\n",
              "        )\n",
              "      )\n",
              "      (1): DecoderLayer(\n",
              "        (self_attn): MultiHeadedAttention(\n",
              "          (linears): ModuleList(\n",
              "            (0): Linear(in_features=768, out_features=768, bias=True)\n",
              "            (1): Linear(in_features=768, out_features=768, bias=True)\n",
              "            (2): Linear(in_features=768, out_features=768, bias=True)\n",
              "            (3): Linear(in_features=768, out_features=768, bias=True)\n",
              "          )\n",
              "          (dropout): Dropout(p=0.1, inplace=False)\n",
              "        )\n",
              "        (feed_forward): PositionwiseFeedForward(\n",
              "          (w_1): Linear(in_features=768, out_features=3072, bias=True)\n",
              "          (w_2): Linear(in_features=3072, out_features=768, bias=True)\n",
              "          (dropout): Dropout(p=0.1, inplace=False)\n",
              "        )\n",
              "        (sublayer): ModuleList(\n",
              "          (0): SublayerConnection(\n",
              "            (norm): LayerNorm()\n",
              "            (dropout): Dropout(p=0.1, inplace=False)\n",
              "          )\n",
              "          (1): SublayerConnection(\n",
              "            (norm): LayerNorm()\n",
              "            (dropout): Dropout(p=0.1, inplace=False)\n",
              "          )\n",
              "        )\n",
              "      )\n",
              "    )\n",
              "    (norm): LayerNorm()\n",
              "  )\n",
              "  (embed): Sequential(\n",
              "    (0): Embeddings(\n",
              "      (lut): Embedding(10, 768)\n",
              "    )\n",
              "    (1): PositionalEncoding(\n",
              "      (dropout): Dropout(p=0.1, inplace=False)\n",
              "    )\n",
              "  )\n",
              "  (generator): Generator(\n",
              "    (proj): Linear(in_features=768, out_features=10, bias=True)\n",
              "  )\n",
              ")"
            ]
          },
          "metadata": {
            "tags": []
          },
          "execution_count": 43
        }
      ]
    },
    {
      "cell_type": "code",
      "metadata": {
        "id": "6DfPOtIP7ZwO",
        "colab_type": "code",
        "colab": {}
      },
      "source": [
        "class Batch:\n",
        "\n",
        "  def __init__(self, trg, pad=0):\n",
        "\n",
        "    self.trg = trg[:, :-1]\n",
        "    self.trg_y = trg[:, 1:]\n",
        "\n",
        "    self.trg_mask = self.make_std_mask(self.trg,pad)\n",
        "\n",
        "    self.ntokens = (self.trg_y !=pad).data.sum()\n",
        "\n",
        "  @staticmethod\n",
        "  def make_std_mask(tgt, pad):\n",
        "    tgt_mask = (tgt != pad).unsqueeze(-2)\n",
        "    tgt_mask = tgt_mask & Variable(\n",
        "            subsequent_mask(tgt.size(-1)).type_as(tgt_mask.data))\n",
        "    return tgt_mask\n"
      ],
      "execution_count": 0,
      "outputs": []
    },
    {
      "cell_type": "code",
      "metadata": {
        "id": "7vAswT8B8p3x",
        "colab_type": "code",
        "colab": {}
      },
      "source": [
        "def run_epoch(data_iter, model, loss_compute):\n",
        "\n",
        "  start = time.time()\n",
        "  total_tokens = 0\n",
        "  total_loss = 0\n",
        "  tokens = 0\n",
        "\n",
        "  for i , data in enumerate(data_iter):\n",
        "\n",
        "    trg = data[0]\n",
        "\n",
        "    batch = Batch(trg.cuda())\n",
        "\n",
        "    out = model.forward(batch.trg, batch.trg_mask)\n",
        "\n",
        "    loss = loss_compute(out, batch.trg_y, batch.ntokens)\n",
        "\n",
        "    total_loss += loss\n",
        "    total_tokens += batch.ntokens\n",
        "    tokens += batch.ntokens\n",
        "\n",
        "    if i % 50 == 1:\n",
        "\n",
        "      elapsed = time.time() - start\n",
        "      print(\"Epoch Step: %d Loss: %f Tokens per Sec: %f\" %\n",
        "              (i, loss / batch.ntokens, tokens / elapsed))\n",
        "      start = time.time()\n",
        "      tokens = 0\n",
        "  return total_loss / total_tokens"
      ],
      "execution_count": 0,
      "outputs": []
    },
    {
      "cell_type": "code",
      "metadata": {
        "id": "QDk-A1lk-8K8",
        "colab_type": "code",
        "colab": {}
      },
      "source": [
        "class NoamOpt:\n",
        "    \"Optim wrapper that implements rate.\"\n",
        "    def __init__(self, model_size, factor, warmup, optimizer):\n",
        "        self.optimizer = optimizer\n",
        "        self._step = 0\n",
        "        self.warmup = warmup\n",
        "        self.factor = factor\n",
        "        self.model_size = model_size\n",
        "        self._rate = 0\n",
        "        \n",
        "    def step(self):\n",
        "        \"Update parameters and rate\"\n",
        "        self._step += 1\n",
        "        rate = self.rate()\n",
        "        for p in self.optimizer.param_groups:\n",
        "            p['lr'] = rate\n",
        "        self._rate = rate\n",
        "        self.optimizer.step()\n",
        "        \n",
        "    def rate(self, step = None):\n",
        "        \"Implement `lrate` above\"\n",
        "        if step is None:\n",
        "            step = self._step\n",
        "        return self.factor * \\\n",
        "            (self.model_size ** (-0.5) *\n",
        "            min(step ** (-0.5), step * self.warmup ** (-1.5)))\n",
        "        \n",
        "def get_std_opt(model):\n",
        "    return NoamOpt(model.src_embed[0].d_model, 2, 4000,\n",
        "            torch.optim.Adam(model.parameters(), lr=0, betas=(0.9, 0.98), eps=1e-9))"
      ],
      "execution_count": 0,
      "outputs": []
    },
    {
      "cell_type": "code",
      "metadata": {
        "id": "_5aqge7V_Ahj",
        "colab_type": "code",
        "outputId": "84dc6e02-07f9-43a3-b0e9-58184d1b0f8e",
        "colab": {
          "base_uri": "https://localhost:8080/",
          "height": 279
        }
      },
      "source": [
        "# Three settings of the lrate hyperparameters.\n",
        "opts = [NoamOpt(512, 1, 4000, None), \n",
        "        NoamOpt(512, 1, 8000, None),\n",
        "        NoamOpt(256, 1, 4000, None)]\n",
        "plt.plot(np.arange(1, 20000), [[opt.rate(i) for opt in opts] for i in range(1, 20000)])\n",
        "plt.legend([\"512:4000\", \"512:8000\", \"256:4000\"])\n",
        "None"
      ],
      "execution_count": 47,
      "outputs": [
        {
          "output_type": "display_data",
          "data": {
            "image/png": "[encoded data removed]",
            "text/plain": [
              "<Figure size 432x288 with 1 Axes>"
            ]
          },
          "metadata": {
            "tags": [],
            "needs_background": "light"
          }
        }
      ]
    },
    {
      "cell_type": "code",
      "metadata": {
        "id": "5mkDsfTy_EK5",
        "colab_type": "code",
        "colab": {}
      },
      "source": [
        "class LabelSmoothing(nn.Module):\n",
        "    \"Implement label smoothing.\"\n",
        "    def __init__(self, size, padding_idx, smoothing=0.0):\n",
        "        super(LabelSmoothing, self).__init__()\n",
        "        self.criterion = nn.KLDivLoss(size_average=False)\n",
        "        self.padding_idx = padding_idx\n",
        "        self.confidence = 1.0 - smoothing\n",
        "        self.smoothing = smoothing\n",
        "        self.size = size\n",
        "        self.true_dist = None\n",
        "        \n",
        "    def forward(self, x, target):\n",
        "        assert x.size(1) == self.size\n",
        "        true_dist = x.data.clone()\n",
        "        true_dist.fill_(self.smoothing / (self.size - 2))\n",
        "        true_dist.scatter_(1, target.data.unsqueeze(1), self.confidence)\n",
        "        true_dist[:, self.padding_idx] = 0\n",
        "        mask = torch.nonzero(target.data == self.padding_idx)\n",
        "        if mask.dim() > 0:\n",
        "            true_dist.index_fill_(0, mask.squeeze(), 0.0)\n",
        "        self.true_dist = true_dist\n",
        "        return self.criterion(x, Variable(true_dist, requires_grad=False))"
      ],
      "execution_count": 0,
      "outputs": []
    },
    {
      "cell_type": "code",
      "metadata": {
        "id": "Ah1svWBg_XHb",
        "colab_type": "code",
        "colab": {}
      },
      "source": [
        "class SimpleLossCompute:\n",
        "    \"A simple loss compute and train function.\"\n",
        "    def __init__(self, generator, criterion, opt=None):\n",
        "        self.generator = generator\n",
        "        self.criterion = criterion\n",
        "        self.opt = opt\n",
        "        \n",
        "    def __call__(self, x, y, norm):\n",
        "        x = self.generator(x)\n",
        "        loss = self.criterion(x.contiguous().view(-1, x.size(-1)), \n",
        "                              y.contiguous().view(-1)) / norm\n",
        "        loss.backward()\n",
        "        if self.opt is not None:\n",
        "            self.opt.step()\n",
        "            self.opt.optimizer.zero_grad()\n",
        "        return loss.item() * norm"
      ],
      "execution_count": 0,
      "outputs": []
    },
    {
      "cell_type": "code",
      "metadata": {
        "id": "Z0WsyiJr_cLD",
        "colab_type": "code",
        "colab": {}
      },
      "source": [
        "def greedy_decode(model, src, max_len):\n",
        "    for i in range(max_len-1):\n",
        "        out = model(Variable(src), \n",
        "                    Variable(subsequent_mask(src.size(1)).type_as(src.data)))\n",
        "        prob = model.generator(out[:, -1])\n",
        "        _, next_word = torch.max(prob, dim = 1)\n",
        "        next_word = next_word.data[0]\n",
        "        src = torch.cat([src, \n",
        "                        torch.ones(1, 1).type_as(src.data).fill_(next_word)], dim=1)\n",
        "    return src"
      ],
      "execution_count": 0,
      "outputs": []
    },
    {
      "cell_type": "code",
      "metadata": {
        "id": "4gHIcNP2_gcP",
        "colab_type": "code",
        "outputId": "87021ec4-ada4-4e75-c665-e398adde4c4c",
        "colab": {
          "base_uri": "https://localhost:8080/",
          "height": 121
        }
      },
      "source": [
        "pad_idx = eng_lang.word2index[\"<blank>\"]\n",
        "model = make_model(eng_lang.n_words)\n",
        "model.cuda()\n",
        "criterion = LabelSmoothing(size=eng_lang.n_words,padding_idx=pad_idx,smoothing=0.1)\n",
        "criterion.cuda()"
      ],
      "execution_count": 52,
      "outputs": [
        {
          "output_type": "stream",
          "text": [
            "/usr/local/lib/python3.6/dist-packages/ipykernel_launcher.py:17: UserWarning: nn.init.xavier_uniform is now deprecated in favor of nn.init.xavier_uniform_.\n",
            "/usr/local/lib/python3.6/dist-packages/torch/nn/_reduction.py:43: UserWarning: size_average and reduce args will be deprecated, please use reduction='sum' instead.\n",
            "  warnings.warn(warning.format(ret))\n"
          ],
          "name": "stderr"
        },
        {
          "output_type": "execute_result",
          "data": {
            "text/plain": [
              "LabelSmoothing(\n",
              "  (criterion): KLDivLoss()\n",
              ")"
            ]
          },
          "metadata": {
            "tags": []
          },
          "execution_count": 52
        }
      ]
    },
    {
      "cell_type": "code",
      "metadata": {
        "id": "8YPFH-_hElOK",
        "colab_type": "code",
        "outputId": "f48159a3-0290-430f-bd75-53db304880ac",
        "colab": {
          "base_uri": "https://localhost:8080/",
          "height": 1000
        }
      },
      "source": [
        "model_opt = NoamOpt(model.embed[0].d_model, 1, 2000,\n",
        "            torch.optim.Adam(model.parameters(), lr=0, betas=(0.9, 0.98), eps=1e-9))\n",
        "\n",
        "for epoch in range(70):\n",
        "  model.train()\n",
        "  \n",
        "    \n",
        "  run_epoch(train_loader,model,\n",
        "           SimpleLossCompute(model.generator,criterion,model_opt))\n",
        "  model.eval()\n",
        "  print(run_epoch(valid_loader,model,\n",
        "           SimpleLossCompute(model.generator,criterion,None)))"
      ],
      "execution_count": 53,
      "outputs": [
        {
          "output_type": "stream",
          "text": [
            "Epoch Step: 1 Loss: 7.490267 Tokens per Sec: 3238.666016\n",
            "Epoch Step: 1 Loss: 7.039496 Tokens per Sec: 3925.093994\n",
            "tensor(7.0439, device='cuda:0')\n",
            "Epoch Step: 1 Loss: 7.062612 Tokens per Sec: 3727.297119\n",
            "Epoch Step: 1 Loss: 6.565397 Tokens per Sec: 3838.799316\n",
            "tensor(6.5669, device='cuda:0')\n",
            "Epoch Step: 1 Loss: 6.594292 Tokens per Sec: 3676.047119\n",
            "Epoch Step: 1 Loss: 6.203159 Tokens per Sec: 4143.526367\n",
            "tensor(6.2170, device='cuda:0')\n",
            "Epoch Step: 1 Loss: 6.270242 Tokens per Sec: 3604.899170\n",
            "Epoch Step: 1 Loss: 5.953823 Tokens per Sec: 3873.957764\n",
            "tensor(5.9930, device='cuda:0')\n",
            "Epoch Step: 1 Loss: 6.028389 Tokens per Sec: 3783.276611\n",
            "Epoch Step: 1 Loss: 5.820293 Tokens per Sec: 4017.642334\n",
            "tensor(5.8395, device='cuda:0')\n",
            "Epoch Step: 1 Loss: 5.889585 Tokens per Sec: 3700.244873\n",
            "Epoch Step: 1 Loss: 5.701013 Tokens per Sec: 3970.195312\n",
            "tensor(5.6939, device='cuda:0')\n",
            "Epoch Step: 1 Loss: 5.701090 Tokens per Sec: 3835.337891\n",
            "Epoch Step: 1 Loss: 5.507428 Tokens per Sec: 3867.852783\n",
            "tensor(5.5418, device='cuda:0')\n",
            "Epoch Step: 1 Loss: 5.495640 Tokens per Sec: 3696.126221\n",
            "Epoch Step: 1 Loss: 5.440743 Tokens per Sec: 4067.737549\n",
            "tensor(5.3980, device='cuda:0')\n",
            "Epoch Step: 1 Loss: 5.428802 Tokens per Sec: 3644.112061\n",
            "Epoch Step: 1 Loss: 5.207631 Tokens per Sec: 3684.683594\n",
            "tensor(5.2653, device='cuda:0')\n",
            "Epoch Step: 1 Loss: 5.288195 Tokens per Sec: 3784.513916\n",
            "Epoch Step: 1 Loss: 5.130897 Tokens per Sec: 3973.689697\n",
            "tensor(5.1366, device='cuda:0')\n",
            "Epoch Step: 1 Loss: 5.177948 Tokens per Sec: 3702.715088\n",
            "Epoch Step: 1 Loss: 4.933444 Tokens per Sec: 3869.600342\n",
            "tensor(4.9973, device='cuda:0')\n",
            "Epoch Step: 1 Loss: 4.935969 Tokens per Sec: 3716.290527\n",
            "Epoch Step: 1 Loss: 4.813285 Tokens per Sec: 4000.973877\n",
            "tensor(4.8414, device='cuda:0')\n",
            "Epoch Step: 1 Loss: 4.856498 Tokens per Sec: 3764.373047\n",
            "Epoch Step: 1 Loss: 4.721395 Tokens per Sec: 4066.581299\n",
            "tensor(4.7114, device='cuda:0')\n",
            "Epoch Step: 1 Loss: 4.721613 Tokens per Sec: 3422.248291\n",
            "Epoch Step: 1 Loss: 4.636448 Tokens per Sec: 3991.953125\n",
            "tensor(4.5618, device='cuda:0')\n",
            "Epoch Step: 1 Loss: 4.626477 Tokens per Sec: 3730.142578\n",
            "Epoch Step: 1 Loss: 4.403911 Tokens per Sec: 3969.656494\n",
            "tensor(4.4075, device='cuda:0')\n",
            "Epoch Step: 1 Loss: 4.516255 Tokens per Sec: 3679.951172\n",
            "Epoch Step: 1 Loss: 4.253894 Tokens per Sec: 3995.053223\n",
            "tensor(4.3027, device='cuda:0')\n",
            "Epoch Step: 1 Loss: 4.488828 Tokens per Sec: 3580.277832\n",
            "Epoch Step: 1 Loss: 4.231923 Tokens per Sec: 3961.439453\n",
            "tensor(4.2144, device='cuda:0')\n",
            "Epoch Step: 1 Loss: 4.357902 Tokens per Sec: 3652.532227\n",
            "Epoch Step: 1 Loss: 4.083190 Tokens per Sec: 3943.324707\n",
            "tensor(4.1467, device='cuda:0')\n",
            "Epoch Step: 1 Loss: 4.262853 Tokens per Sec: 3719.057617\n",
            "Epoch Step: 1 Loss: 4.028544 Tokens per Sec: 3886.704834\n",
            "tensor(4.0226, device='cuda:0')\n",
            "Epoch Step: 1 Loss: 4.201278 Tokens per Sec: 3639.025879\n",
            "Epoch Step: 1 Loss: 3.985243 Tokens per Sec: 3845.076172\n",
            "tensor(3.9367, device='cuda:0')\n",
            "Epoch Step: 1 Loss: 4.075765 Tokens per Sec: 3508.411621\n",
            "Epoch Step: 1 Loss: 3.808599 Tokens per Sec: 3917.179932\n",
            "tensor(3.8123, device='cuda:0')\n",
            "Epoch Step: 1 Loss: 3.970937 Tokens per Sec: 3667.120117\n",
            "Epoch Step: 1 Loss: 3.697527 Tokens per Sec: 3853.463867\n",
            "tensor(3.6789, device='cuda:0')\n",
            "Epoch Step: 1 Loss: 3.999237 Tokens per Sec: 3683.746582\n",
            "Epoch Step: 1 Loss: 3.621971 Tokens per Sec: 3934.949951\n",
            "tensor(3.5580, device='cuda:0')\n",
            "Epoch Step: 1 Loss: 3.877817 Tokens per Sec: 3684.517334\n",
            "Epoch Step: 1 Loss: 3.456226 Tokens per Sec: 3880.703369\n",
            "tensor(3.4632, device='cuda:0')\n",
            "Epoch Step: 1 Loss: 3.899753 Tokens per Sec: 3623.565674\n",
            "Epoch Step: 1 Loss: 3.380168 Tokens per Sec: 3867.062012\n",
            "tensor(3.4263, device='cuda:0')\n",
            "Epoch Step: 1 Loss: 3.706553 Tokens per Sec: 3557.874756\n",
            "Epoch Step: 1 Loss: 3.284268 Tokens per Sec: 3924.128906\n",
            "tensor(3.3135, device='cuda:0')\n",
            "Epoch Step: 1 Loss: 3.656595 Tokens per Sec: 3692.953857\n",
            "Epoch Step: 1 Loss: 3.225434 Tokens per Sec: 4043.195557\n",
            "tensor(3.1966, device='cuda:0')\n",
            "Epoch Step: 1 Loss: 3.577503 Tokens per Sec: 3672.249023\n",
            "Epoch Step: 1 Loss: 3.108242 Tokens per Sec: 3872.999512\n",
            "tensor(3.0738, device='cuda:0')\n",
            "Epoch Step: 1 Loss: 3.554952 Tokens per Sec: 3715.346436\n",
            "Epoch Step: 1 Loss: 2.917279 Tokens per Sec: 3796.532959\n",
            "tensor(2.9245, device='cuda:0')\n",
            "Epoch Step: 1 Loss: 3.348783 Tokens per Sec: 3592.294434\n",
            "Epoch Step: 1 Loss: 2.818603 Tokens per Sec: 4029.325684\n",
            "tensor(2.8069, device='cuda:0')\n",
            "Epoch Step: 1 Loss: 3.335038 Tokens per Sec: 3733.399902\n",
            "Epoch Step: 1 Loss: 2.679493 Tokens per Sec: 3864.596436\n",
            "tensor(2.6764, device='cuda:0')\n",
            "Epoch Step: 1 Loss: 3.243510 Tokens per Sec: 3684.979492\n",
            "Epoch Step: 1 Loss: 2.574385 Tokens per Sec: 3982.024414\n",
            "tensor(2.5486, device='cuda:0')\n",
            "Epoch Step: 1 Loss: 3.280560 Tokens per Sec: 3848.844482\n",
            "Epoch Step: 1 Loss: 2.429760 Tokens per Sec: 3809.878418\n",
            "tensor(2.4905, device='cuda:0')\n",
            "Epoch Step: 1 Loss: 3.309782 Tokens per Sec: 3810.839600\n",
            "Epoch Step: 1 Loss: 2.400774 Tokens per Sec: 3742.705566\n",
            "tensor(2.3943, device='cuda:0')\n",
            "Epoch Step: 1 Loss: 3.135189 Tokens per Sec: 3625.032715\n",
            "Epoch Step: 1 Loss: 2.235671 Tokens per Sec: 4019.888428\n",
            "tensor(2.2516, device='cuda:0')\n",
            "Epoch Step: 1 Loss: 2.954116 Tokens per Sec: 3752.090088\n",
            "Epoch Step: 1 Loss: 2.078182 Tokens per Sec: 3938.345703\n",
            "tensor(2.1042, device='cuda:0')\n",
            "Epoch Step: 1 Loss: 2.934163 Tokens per Sec: 3714.332764\n",
            "Epoch Step: 1 Loss: 1.995017 Tokens per Sec: 3854.240234\n",
            "tensor(1.9962, device='cuda:0')\n",
            "Epoch Step: 1 Loss: 2.825068 Tokens per Sec: 3514.857178\n",
            "Epoch Step: 1 Loss: 1.893099 Tokens per Sec: 3901.909912\n",
            "tensor(1.8976, device='cuda:0')\n",
            "Epoch Step: 1 Loss: 2.799202 Tokens per Sec: 3462.846191\n",
            "Epoch Step: 1 Loss: 1.797132 Tokens per Sec: 3766.169189\n",
            "tensor(1.7835, device='cuda:0')\n",
            "Epoch Step: 1 Loss: 2.734469 Tokens per Sec: 3760.577637\n",
            "Epoch Step: 1 Loss: 1.667212 Tokens per Sec: 3865.642822\n",
            "tensor(1.6909, device='cuda:0')\n",
            "Epoch Step: 1 Loss: 2.590250 Tokens per Sec: 3926.578857\n",
            "Epoch Step: 1 Loss: 1.542711 Tokens per Sec: 3802.398926\n",
            "tensor(1.5676, device='cuda:0')\n",
            "Epoch Step: 1 Loss: 2.502575 Tokens per Sec: 3769.844238\n",
            "Epoch Step: 1 Loss: 1.432823 Tokens per Sec: 4096.537598\n",
            "tensor(1.4571, device='cuda:0')\n",
            "Epoch Step: 1 Loss: 2.365032 Tokens per Sec: 3769.001221\n",
            "Epoch Step: 1 Loss: 1.327188 Tokens per Sec: 3798.484131\n",
            "tensor(1.3459, device='cuda:0')\n",
            "Epoch Step: 1 Loss: 2.277414 Tokens per Sec: 3598.337891\n",
            "Epoch Step: 1 Loss: 1.222049 Tokens per Sec: 3910.834961\n",
            "tensor(1.2549, device='cuda:0')\n",
            "Epoch Step: 1 Loss: 2.211613 Tokens per Sec: 3592.671143\n",
            "Epoch Step: 1 Loss: 1.162800 Tokens per Sec: 3890.875977\n",
            "tensor(1.1536, device='cuda:0')\n",
            "Epoch Step: 1 Loss: 2.071633 Tokens per Sec: 3562.953857\n",
            "Epoch Step: 1 Loss: 1.026351 Tokens per Sec: 3910.188721\n",
            "tensor(1.0370, device='cuda:0')\n",
            "Epoch Step: 1 Loss: 2.026142 Tokens per Sec: 3600.494873\n",
            "Epoch Step: 1 Loss: 0.951499 Tokens per Sec: 4036.594971\n",
            "tensor(0.9409, device='cuda:0')\n",
            "Epoch Step: 1 Loss: 1.925312 Tokens per Sec: 3891.541016\n",
            "Epoch Step: 1 Loss: 0.869216 Tokens per Sec: 3877.788818\n",
            "tensor(0.8716, device='cuda:0')\n",
            "Epoch Step: 1 Loss: 1.888911 Tokens per Sec: 3690.440430\n",
            "Epoch Step: 1 Loss: 0.778777 Tokens per Sec: 3879.910156\n",
            "tensor(0.7796, device='cuda:0')\n",
            "Epoch Step: 1 Loss: 1.710041 Tokens per Sec: 3893.465820\n",
            "Epoch Step: 1 Loss: 0.697339 Tokens per Sec: 4013.720459\n",
            "tensor(0.6980, device='cuda:0')\n",
            "Epoch Step: 1 Loss: 1.519193 Tokens per Sec: 3807.604492\n",
            "Epoch Step: 1 Loss: 0.602385 Tokens per Sec: 3809.052246\n",
            "tensor(0.6216, device='cuda:0')\n",
            "Epoch Step: 1 Loss: 1.424423 Tokens per Sec: 3715.606689\n",
            "Epoch Step: 1 Loss: 0.573904 Tokens per Sec: 3851.610352\n",
            "tensor(0.5639, device='cuda:0')\n",
            "Epoch Step: 1 Loss: 1.311292 Tokens per Sec: 3763.528564\n",
            "Epoch Step: 1 Loss: 0.527136 Tokens per Sec: 3777.143555\n",
            "tensor(0.5134, device='cuda:0')\n",
            "Epoch Step: 1 Loss: 1.211500 Tokens per Sec: 3706.684814\n",
            "Epoch Step: 1 Loss: 0.468314 Tokens per Sec: 4028.023438\n",
            "tensor(0.4704, device='cuda:0')\n",
            "Epoch Step: 1 Loss: 1.110517 Tokens per Sec: 3737.694824\n",
            "Epoch Step: 1 Loss: 0.452792 Tokens per Sec: 3848.127930\n",
            "tensor(0.4456, device='cuda:0')\n",
            "Epoch Step: 1 Loss: 1.043196 Tokens per Sec: 3779.401611\n",
            "Epoch Step: 1 Loss: 0.432627 Tokens per Sec: 3880.840088\n",
            "tensor(0.4321, device='cuda:0')\n",
            "Epoch Step: 1 Loss: 0.933430 Tokens per Sec: 3549.198242\n",
            "Epoch Step: 1 Loss: 0.411007 Tokens per Sec: 3941.023682\n",
            "tensor(0.4170, device='cuda:0')\n",
            "Epoch Step: 1 Loss: 0.882702 Tokens per Sec: 3468.364746\n",
            "Epoch Step: 1 Loss: 0.425191 Tokens per Sec: 3842.926270\n",
            "tensor(0.4128, device='cuda:0')\n",
            "Epoch Step: 1 Loss: 0.832115 Tokens per Sec: 3617.591553\n",
            "Epoch Step: 1 Loss: 0.430255 Tokens per Sec: 3763.772949\n",
            "tensor(0.4248, device='cuda:0')\n",
            "Epoch Step: 1 Loss: 0.798032 Tokens per Sec: 3700.606934\n",
            "Epoch Step: 1 Loss: 0.398573 Tokens per Sec: 4014.588135\n",
            "tensor(0.4274, device='cuda:0')\n",
            "Epoch Step: 1 Loss: 0.703113 Tokens per Sec: 3839.284912\n",
            "Epoch Step: 1 Loss: 0.396488 Tokens per Sec: 4009.519775\n",
            "tensor(0.4131, device='cuda:0')\n",
            "Epoch Step: 1 Loss: 0.661347 Tokens per Sec: 3783.947510\n",
            "Epoch Step: 1 Loss: 0.411152 Tokens per Sec: 3896.469482\n",
            "tensor(0.4055, device='cuda:0')\n",
            "Epoch Step: 1 Loss: 0.615178 Tokens per Sec: 3744.744141\n",
            "Epoch Step: 1 Loss: 0.400819 Tokens per Sec: 3885.940186\n",
            "tensor(0.3973, device='cuda:0')\n",
            "Epoch Step: 1 Loss: 0.593659 Tokens per Sec: 3720.844727\n",
            "Epoch Step: 1 Loss: 0.388527 Tokens per Sec: 3925.049316\n",
            "tensor(0.3994, device='cuda:0')\n",
            "Epoch Step: 1 Loss: 0.554674 Tokens per Sec: 3540.754639\n",
            "Epoch Step: 1 Loss: 0.398486 Tokens per Sec: 3975.943359\n",
            "tensor(0.3998, device='cuda:0')\n",
            "Epoch Step: 1 Loss: 0.544407 Tokens per Sec: 3463.422852\n",
            "Epoch Step: 1 Loss: 0.402467 Tokens per Sec: 3916.244873\n",
            "tensor(0.3993, device='cuda:0')\n",
            "Epoch Step: 1 Loss: 0.502962 Tokens per Sec: 3539.166992\n",
            "Epoch Step: 1 Loss: 0.410109 Tokens per Sec: 3829.404785\n",
            "tensor(0.3989, device='cuda:0')\n",
            "Epoch Step: 1 Loss: 0.498267 Tokens per Sec: 3592.249268\n",
            "Epoch Step: 1 Loss: 0.398313 Tokens per Sec: 3845.408447\n",
            "tensor(0.3951, device='cuda:0')\n",
            "Epoch Step: 1 Loss: 0.474905 Tokens per Sec: 3586.920898\n",
            "Epoch Step: 1 Loss: 0.394723 Tokens per Sec: 3953.535889\n",
            "tensor(0.3953, device='cuda:0')\n",
            "Epoch Step: 1 Loss: 0.465933 Tokens per Sec: 3688.241699\n",
            "Epoch Step: 1 Loss: 0.390710 Tokens per Sec: 3964.617432\n",
            "tensor(0.3947, device='cuda:0')\n"
          ],
          "name": "stdout"
        }
      ]
    },
    {
      "cell_type": "code",
      "metadata": {
        "id": "kWkzpgG0H4zb",
        "colab_type": "code",
        "colab": {}
      },
      "source": [
        "def generate_word(words, max_len, model=model):\n",
        "\n",
        "  token_word = torch.Tensor([eng_lang.word2index[word] for word in words]).long()\n",
        "  tok_word = token_word[None, ...]\n",
        "\n",
        "  model.eval()\n",
        "\n",
        "  out = greedy_decode(model, tok_word.cuda(), max_len=max_len)\n",
        "\n",
        "  rslt = [eng_lang.index2word[item.item()] for item in out.data[0]]\n",
        "\n",
        "  return \" \".join(rslt)"
      ],
      "execution_count": 0,
      "outputs": []
    },
    {
      "cell_type": "code",
      "metadata": {
        "id": "19pm5oq2jgpw",
        "colab_type": "code",
        "colab": {
          "base_uri": "https://localhost:8080/",
          "height": 34
        },
        "outputId": "cd3d2e9f-e53e-44d7-88e6-c9a7678b4cdf"
      },
      "source": [
        "generate_word(\"SOS father\".split(), 20)"
      ],
      "execution_count": 86,
      "outputs": [
        {
          "output_type": "execute_result",
          "data": {
            "text/plain": [
              "'SOS father of the fatherless and a protector of widows is god in his holy dwelling . EOS in his holy'"
            ]
          },
          "metadata": {
            "tags": []
          },
          "execution_count": 86
        }
      ]
    }
  ]
}