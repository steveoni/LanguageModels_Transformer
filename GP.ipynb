{
  "nbformat": 4,
  "nbformat_minor": 0,
  "metadata": {
    "colab": {
      "name": "GP.ipynb",
      "provenance": [],
      "collapsed_sections": []
    },
    "kernelspec": {
      "name": "python3",
      "display_name": "Python 3"
    },
    "accelerator": "GPU"
  },
  "cells": [
    {
      "cell_type": "code",
      "metadata": {
        "id": "geiWTOAImuyi",
        "colab_type": "code",
        "colab": {}
      },
      "source": [
        "%reload_ext autoreload\n",
        "%autoreload 2\n",
        "%matplotlib inline"
      ],
      "execution_count": 0,
      "outputs": []
    },
    {
      "cell_type": "code",
      "metadata": {
        "id": "HU1KUMl8urBM",
        "colab_type": "code",
        "colab": {}
      },
      "source": [
        "import numpy as np\n",
        "import pandas as pd\n",
        "import unicodedata\n",
        "import string\n",
        "import re\n",
        "import random\n",
        "import torch"
      ],
      "execution_count": 0,
      "outputs": []
    },
    {
      "cell_type": "code",
      "metadata": {
        "id": "P4IUTQYduunV",
        "colab_type": "code",
        "outputId": "26de0bef-7eab-45f1-8c9c-8664ccb42db7",
        "colab": {
          "base_uri": "https://localhost:8080/",
          "height": 34
        }
      },
      "source": [
        "print(torch.__version__)"
      ],
      "execution_count": 3,
      "outputs": [
        {
          "output_type": "stream",
          "text": [
            "1.4.0\n"
          ],
          "name": "stdout"
        }
      ]
    },
    {
      "cell_type": "code",
      "metadata": {
        "id": "yjlPEay3uxWL",
        "colab_type": "code",
        "colab": {}
      },
      "source": [
        "data = pd.read_csv(\"drive/My Drive/machine_tran/data1.csv\")"
      ],
      "execution_count": 0,
      "outputs": []
    },
    {
      "cell_type": "code",
      "metadata": {
        "id": "fqM3HgVBu0OU",
        "colab_type": "code",
        "colab": {}
      },
      "source": [
        "eng = data['en'][:2000].to_list()"
      ],
      "execution_count": 0,
      "outputs": []
    },
    {
      "cell_type": "code",
      "metadata": {
        "id": "1FcVX3R3u9Pn",
        "colab_type": "code",
        "colab": {}
      },
      "source": [
        "SOS_token = 0\n",
        "EOS_token = 1\n",
        "\n",
        "\n",
        "class Lang:\n",
        "    def __init__(self, name):\n",
        "        self.name = name\n",
        "        self.word2index = {\"<blank>\":0, \"SOS\":1,\"EOS\":2}\n",
        "        self.word2count = {}\n",
        "        self.index2word = {0:\"<blank>\", 1: \"SOS\", 2: \"EOS\"}\n",
        "        self.n_words = 3  # Count SOS and EOS\n",
        "\n",
        "    def addSentence(self, sentence):\n",
        "        for word in sentence.split(' '):\n",
        "            self.addWord(word)\n",
        "\n",
        "    def addWord(self, word):\n",
        "        if word not in self.word2index:\n",
        "            self.word2index[word] = self.n_words\n",
        "            self.word2count[word] = 1\n",
        "            self.index2word[self.n_words] = word\n",
        "            self.n_words += 1\n",
        "        else:\n",
        "            self.word2count[word] += 1"
      ],
      "execution_count": 0,
      "outputs": []
    },
    {
      "cell_type": "code",
      "metadata": {
        "id": "paTsNPazvB9c",
        "colab_type": "code",
        "colab": {}
      },
      "source": [
        "def unicodeToAscii(s):\n",
        "    return ''.join(\n",
        "        c for c in unicodedata.normalize('NFD', s)\n",
        "        if unicodedata.category(c) != 'Mn'\n",
        "    )\n",
        "\n",
        "# Lowercase, trim, and remove non-letter characters\n",
        "def normalizeString(s):\n",
        "    s = unicodeToAscii(s.lower().strip())\n",
        "    s = re.sub(r\"([.!?])\", r\" \\1\", s)\n",
        "    s = re.sub(r\"[^a-zA-Z.!?]+\", r\" \", s)\n",
        "    return s"
      ],
      "execution_count": 0,
      "outputs": []
    },
    {
      "cell_type": "code",
      "metadata": {
        "id": "8UuOr4twvJFP",
        "colab_type": "code",
        "colab": {}
      },
      "source": [
        "eng_lang = Lang(\"eng\")"
      ],
      "execution_count": 0,
      "outputs": []
    },
    {
      "cell_type": "code",
      "metadata": {
        "id": "bvb9xBsGv5Sm",
        "colab_type": "code",
        "colab": {}
      },
      "source": [
        "en_data  = []\n",
        "for sent in eng:\n",
        "\n",
        "  sent  = normalizeString(sent)\n",
        "  en_data.append(sent)\n",
        "  eng_lang.addSentence(sent)"
      ],
      "execution_count": 0,
      "outputs": []
    },
    {
      "cell_type": "code",
      "metadata": {
        "id": "aPPWwVmOwUsQ",
        "colab_type": "code",
        "outputId": "2d644178-efb2-4d07-9115-02c5e2b310f8",
        "colab": {
          "base_uri": "https://localhost:8080/",
          "height": 34
        }
      },
      "source": [
        "eng_lang.n_words"
      ],
      "execution_count": 10,
      "outputs": [
        {
          "output_type": "execute_result",
          "data": {
            "text/plain": [
              "4581"
            ]
          },
          "metadata": {
            "tags": []
          },
          "execution_count": 10
        }
      ]
    },
    {
      "cell_type": "code",
      "metadata": {
        "id": "kApTgqa-wX3f",
        "colab_type": "code",
        "outputId": "9388d5a4-201a-4a8f-86f3-5a1e47f9ea18",
        "colab": {
          "base_uri": "https://localhost:8080/",
          "height": 54
        }
      },
      "source": [
        "en_data[0]"
      ],
      "execution_count": 11,
      "outputs": [
        {
          "output_type": "execute_result",
          "data": {
            "text/plain": [
              "'the priest will then examine the contaminated item after it has been thoroughly washed . if the appearance of the contamination has not changed even if the disease has not spread it is unclean . you should burn it in the fire because it has been eaten away either from its underside or from its outside .'"
            ]
          },
          "metadata": {
            "tags": []
          },
          "execution_count": 11
        }
      ]
    },
    {
      "cell_type": "code",
      "metadata": {
        "id": "mkuHOFAKwdEQ",
        "colab_type": "code",
        "colab": {}
      },
      "source": [
        "def tokenize(lang,sentence):\n",
        "    \n",
        "    sent = \"SOS\" + \" \" + sentence + \" \" + \"EOS\"\n",
        "    return [lang.word2index[word] for word in sent.split(' ')]"
      ],
      "execution_count": 0,
      "outputs": []
    },
    {
      "cell_type": "code",
      "metadata": {
        "id": "h1bHGuBdw7Jn",
        "colab_type": "code",
        "colab": {}
      },
      "source": [
        "en_token = list(map(lambda x: tokenize(eng_lang, x), en_data))"
      ],
      "execution_count": 0,
      "outputs": []
    },
    {
      "cell_type": "code",
      "metadata": {
        "id": "Jzsv6DwYxQvL",
        "colab_type": "code",
        "colab": {}
      },
      "source": [
        "word_len = list(map(lambda x: len(x), en_token))"
      ],
      "execution_count": 0,
      "outputs": []
    },
    {
      "cell_type": "code",
      "metadata": {
        "id": "MlijxsUqxUfZ",
        "colab_type": "code",
        "colab": {}
      },
      "source": [
        "MAX_LENGTH = max(word_len)"
      ],
      "execution_count": 0,
      "outputs": []
    },
    {
      "cell_type": "code",
      "metadata": {
        "id": "8CkMJJt6-FVi",
        "colab_type": "code",
        "colab": {
          "base_uri": "https://localhost:8080/",
          "height": 34
        },
        "outputId": "5b683222-5253-47a4-a3e5-fba1815a7826"
      },
      "source": [
        "MAX_LENGTH"
      ],
      "execution_count": 18,
      "outputs": [
        {
          "output_type": "execute_result",
          "data": {
            "text/plain": [
              "80"
            ]
          },
          "metadata": {
            "tags": []
          },
          "execution_count": 18
        }
      ]
    },
    {
      "cell_type": "code",
      "metadata": {
        "id": "F4PjHnwsx3Yw",
        "colab_type": "code",
        "colab": {}
      },
      "source": [
        "token_pad = np.zeros((len(en_token), MAX_LENGTH))"
      ],
      "execution_count": 0,
      "outputs": []
    },
    {
      "cell_type": "code",
      "metadata": {
        "id": "dxhONT95x6QK",
        "colab_type": "code",
        "colab": {}
      },
      "source": [
        "for i,v in enumerate(en_token):\n",
        "    \n",
        "    for j, token in enumerate(v):\n",
        "        \n",
        "        token_pad[i,j] = token"
      ],
      "execution_count": 0,
      "outputs": []
    },
    {
      "cell_type": "code",
      "metadata": {
        "id": "boOKmixRy3gy",
        "colab_type": "code",
        "outputId": "ecbbffac-cc08-40ce-c681-4d819f8193e0",
        "colab": {
          "base_uri": "https://localhost:8080/",
          "height": 136
        }
      },
      "source": [
        "token_pad[0]"
      ],
      "execution_count": 21,
      "outputs": [
        {
          "output_type": "execute_result",
          "data": {
            "text/plain": [
              "array([ 1.,  3.,  4.,  5.,  6.,  7.,  3.,  8.,  9., 10., 11., 12., 13.,\n",
              "       14., 15., 16., 17.,  3., 18., 19.,  3., 20., 12., 21., 22., 23.,\n",
              "       17.,  3., 24., 12., 21., 25., 11., 26., 27., 16., 28., 29., 30.,\n",
              "       11., 31.,  3., 32., 33., 11., 12., 13., 34., 35., 36., 37., 38.,\n",
              "       39., 40., 37., 38., 41., 16.,  2.,  0.,  0.,  0.,  0.,  0.,  0.,\n",
              "        0.,  0.,  0.,  0.,  0.,  0.,  0.,  0.,  0.,  0.,  0.,  0.,  0.,\n",
              "        0.,  0.])"
            ]
          },
          "metadata": {
            "tags": []
          },
          "execution_count": 21
        }
      ]
    },
    {
      "cell_type": "code",
      "metadata": {
        "id": "wLTa4-2UzUeG",
        "colab_type": "code",
        "colab": {}
      },
      "source": [
        "valid = token_pad[:800]\n",
        "train = token_pad[800:]"
      ],
      "execution_count": 0,
      "outputs": []
    },
    {
      "cell_type": "code",
      "metadata": {
        "id": "HwST5u20zzSr",
        "colab_type": "code",
        "colab": {}
      },
      "source": [
        "from torch.utils.data import TensorDataset, DataLoader"
      ],
      "execution_count": 0,
      "outputs": []
    },
    {
      "cell_type": "code",
      "metadata": {
        "id": "nb-SMWtGz4MV",
        "colab_type": "code",
        "colab": {}
      },
      "source": [
        "train_data = TensorDataset(torch.from_numpy(train).long())"
      ],
      "execution_count": 0,
      "outputs": []
    },
    {
      "cell_type": "code",
      "metadata": {
        "id": "FRtluUzB0MTw",
        "colab_type": "code",
        "colab": {}
      },
      "source": [
        "valid_data = TensorDataset(torch.from_numpy(valid).long())"
      ],
      "execution_count": 0,
      "outputs": []
    },
    {
      "cell_type": "code",
      "metadata": {
        "id": "Y5jU2No10XAb",
        "colab_type": "code",
        "colab": {}
      },
      "source": [
        "batch_size = 100\n",
        "\n",
        "train_loader= DataLoader(train_data,shuffle=True,batch_size=batch_size,)\n",
        "valid_loader =DataLoader(valid_data,shuffle=True,batch_size=batch_size,)"
      ],
      "execution_count": 0,
      "outputs": []
    },
    {
      "cell_type": "code",
      "metadata": {
        "id": "6XpPzRuf0bkR",
        "colab_type": "code",
        "outputId": "68a02edd-9e36-4a2f-d2d4-126ee5e55a04",
        "colab": {
          "base_uri": "https://localhost:8080/",
          "height": 34
        }
      },
      "source": [
        "dataiter = iter(train_loader)\n",
        "sample_x= dataiter.next()[0]\n",
        "\n",
        "sample_x.shape"
      ],
      "execution_count": 27,
      "outputs": [
        {
          "output_type": "execute_result",
          "data": {
            "text/plain": [
              "torch.Size([100, 80])"
            ]
          },
          "metadata": {
            "tags": []
          },
          "execution_count": 27
        }
      ]
    },
    {
      "cell_type": "code",
      "metadata": {
        "id": "tSSG19uj0fpQ",
        "colab_type": "code",
        "outputId": "d6cdbc2c-8c9f-44cb-ab9b-e6c16bef4d45",
        "colab": {
          "base_uri": "https://localhost:8080/",
          "height": 51
        }
      },
      "source": [
        "import torch.nn as nn\n",
        "import torch.nn.functional as F\n",
        "import math, copy, time\n",
        "from torch.autograd import Variable\n",
        "import matplotlib.pyplot as plt\n",
        "import seaborn\n",
        "seaborn.set_context(context=\"talk\")\n",
        "%matplotlib inline"
      ],
      "execution_count": 28,
      "outputs": [
        {
          "output_type": "stream",
          "text": [
            "/usr/local/lib/python3.6/dist-packages/statsmodels/tools/_testing.py:19: FutureWarning: pandas.util.testing is deprecated. Use the functions in the public API at pandas.testing instead.\n",
            "  import pandas.util.testing as tm\n"
          ],
          "name": "stderr"
        }
      ]
    },
    {
      "cell_type": "code",
      "metadata": {
        "id": "krdfex6e0y_b",
        "colab_type": "code",
        "colab": {}
      },
      "source": [
        "class Generator(nn.Module):\n",
        "    \"Define standard linear + softmax generation step.\"\n",
        "    def __init__(self, d_model, vocab):\n",
        "        super(Generator, self).__init__()\n",
        "        self.proj = nn.Linear(d_model, vocab)\n",
        "\n",
        "    def forward(self, x):\n",
        "        return F.log_softmax(self.proj(x), dim=-1)"
      ],
      "execution_count": 0,
      "outputs": []
    },
    {
      "cell_type": "code",
      "metadata": {
        "id": "2i6AC4gp06dh",
        "colab_type": "code",
        "colab": {}
      },
      "source": [
        "def clones(module, N):\n",
        "    \"Produce N identical layers.\"\n",
        "    return nn.ModuleList([copy.deepcopy(module) for _ in range(N)])"
      ],
      "execution_count": 0,
      "outputs": []
    },
    {
      "cell_type": "code",
      "metadata": {
        "id": "vLpzA4wi09wS",
        "colab_type": "code",
        "colab": {}
      },
      "source": [
        "class LayerNorm(nn.Module):\n",
        "    \"Construct a layernorm module (See citation for details).\"\n",
        "    def __init__(self, features, eps=1e-6):\n",
        "        super(LayerNorm, self).__init__()\n",
        "        self.a_2 = nn.Parameter(torch.ones(features))\n",
        "        self.b_2 = nn.Parameter(torch.zeros(features))\n",
        "        self.eps = eps\n",
        "\n",
        "    def forward(self, x):\n",
        "        mean = x.mean(-1, keepdim=True)\n",
        "        std = x.std(-1, keepdim=True)\n",
        "        return self.a_2 * (x - mean) / (std + self.eps) + self.b_2"
      ],
      "execution_count": 0,
      "outputs": []
    },
    {
      "cell_type": "code",
      "metadata": {
        "id": "lWAu5yTc1KxG",
        "colab_type": "code",
        "colab": {}
      },
      "source": [
        "class SublayerConnection(nn.Module):\n",
        "    \"\"\"\n",
        "    A residual connection followed by a layer norm.\n",
        "    Note for code simplicity the norm is first as opposed to last.\n",
        "    \"\"\"\n",
        "    def __init__(self, size, dropout):\n",
        "        super(SublayerConnection, self).__init__()\n",
        "        self.norm = LayerNorm(size)\n",
        "        self.dropout = nn.Dropout(dropout)\n",
        "\n",
        "    def forward(self, x, sublayer):\n",
        "        \"Apply residual connection to any sublayer with the same size.\"\n",
        "        return x + self.dropout(sublayer(self.norm(x)))"
      ],
      "execution_count": 0,
      "outputs": []
    },
    {
      "cell_type": "code",
      "metadata": {
        "id": "xvdzzdVi1PZV",
        "colab_type": "code",
        "colab": {}
      },
      "source": [
        "class Decoder(nn.Module):\n",
        "\n",
        "  def __init__(self, layer, N):\n",
        "\n",
        "    super(Decoder, self).__init__()\n",
        "    self.layers = clones(layer, N)\n",
        "    self.norm = LayerNorm(layer.size)\n",
        "\n",
        "  def forward(self,x, tgt_mask):\n",
        "\n",
        "    for layer in self.layers:\n",
        "      x = layer(x, tgt_mask)\n",
        "    return self.norm(x)"
      ],
      "execution_count": 0,
      "outputs": []
    },
    {
      "cell_type": "code",
      "metadata": {
        "id": "bRj5bOeb2Iw7",
        "colab_type": "code",
        "colab": {}
      },
      "source": [
        "class DecoderLayer(nn.Module):\n",
        "\n",
        "  def __init__(self, size, self_attn, feed_forward, dropout):\n",
        "    super(DecoderLayer, self).__init__()\n",
        "    self.size = size\n",
        "    self.self_attn = self_attn\n",
        "    self.feed_forward = feed_forward\n",
        "    self.sublayer = clones(SublayerConnection(size, dropout), 2)\n",
        "\n",
        "  def forward(self, x, tgt_mask):\n",
        "\n",
        "    x = self.sublayer[0](x, lambda x: self.self_attn(x, x, x, tgt_mask))\n",
        "    return self.sublayer[1](x, self.feed_forward)"
      ],
      "execution_count": 0,
      "outputs": []
    },
    {
      "cell_type": "code",
      "metadata": {
        "id": "w1Txc6Tu3rSX",
        "colab_type": "code",
        "colab": {}
      },
      "source": [
        "def subsequent_mask(size):\n",
        "    \"Mask out subsequent positions.\"\n",
        "    attn_shape = (1, size, size)\n",
        "    subsequent_mask = np.triu(np.ones(attn_shape), k=1).astype('uint8')\n",
        "    return torch.from_numpy(subsequent_mask) == 0"
      ],
      "execution_count": 0,
      "outputs": []
    },
    {
      "cell_type": "code",
      "metadata": {
        "id": "e5f2STj13wR1",
        "colab_type": "code",
        "colab": {}
      },
      "source": [
        "def attention(query, key, value, mask=None, dropout=None):\n",
        "    \"Compute 'Scaled Dot Product Attention'\"\n",
        "    d_k = query.size(-1)\n",
        "    scores = torch.matmul(query, key.transpose(-2, -1)) \\\n",
        "             / math.sqrt(d_k)\n",
        "    if mask is not None:\n",
        "        scores = scores.masked_fill(mask == 0, -1e9)\n",
        "    p_attn = F.softmax(scores, dim = -1)\n",
        "    if dropout is not None:\n",
        "        p_attn = dropout(p_attn)\n",
        "    return torch.matmul(p_attn, value), p_attn"
      ],
      "execution_count": 0,
      "outputs": []
    },
    {
      "cell_type": "code",
      "metadata": {
        "id": "fFXwTFum4Dpf",
        "colab_type": "code",
        "colab": {}
      },
      "source": [
        "class MultiHeadedAttention(nn.Module):\n",
        "    def __init__(self, h, d_model, dropout=0.1):\n",
        "        \"Take in model size and number of heads.\"\n",
        "        super(MultiHeadedAttention, self).__init__()\n",
        "        assert d_model % h == 0\n",
        "        # We assume d_v always equals d_k\n",
        "        self.d_k = d_model // h\n",
        "        self.h = h\n",
        "        self.linears = clones(nn.Linear(d_model, d_model), 4)\n",
        "        self.attn = None\n",
        "        self.dropout = nn.Dropout(p=dropout)\n",
        "        \n",
        "    def forward(self, query, key, value, mask=None):\n",
        "        \"Implements Figure 2\"\n",
        "        if mask is not None:\n",
        "            # Same mask applied to all h heads.\n",
        "            mask = mask.unsqueeze(1)\n",
        "        nbatches = query.size(0)\n",
        "        \n",
        "        # 1) Do all the linear projections in batch from d_model => h x d_k \n",
        "        query, key, value = \\\n",
        "            [l(x).view(nbatches, -1, self.h, self.d_k).transpose(1, 2)\n",
        "             for l, x in zip(self.linears, (query, key, value))]\n",
        "        \n",
        "        # 2) Apply attention on all the projected vectors in batch. \n",
        "        x, self.attn = attention(query, key, value, mask=mask, \n",
        "                                 dropout=self.dropout)\n",
        "        \n",
        "        # 3) \"Concat\" using a view and apply a final linear. \n",
        "        x = x.transpose(1, 2).contiguous() \\\n",
        "             .view(nbatches, -1, self.h * self.d_k)\n",
        "        return self.linears[-1](x)"
      ],
      "execution_count": 0,
      "outputs": []
    },
    {
      "cell_type": "code",
      "metadata": {
        "id": "4l1YDXVF4J14",
        "colab_type": "code",
        "colab": {}
      },
      "source": [
        "class PositionwiseFeedForward(nn.Module):\n",
        "    \"Implements FFN equation.\"\n",
        "    def __init__(self, d_model, d_ff, dropout=0.1):\n",
        "        super(PositionwiseFeedForward, self).__init__()\n",
        "        self.w_1 = nn.Linear(d_model, d_ff)\n",
        "        self.w_2 = nn.Linear(d_ff, d_model)\n",
        "        self.dropout = nn.Dropout(dropout)\n",
        "\n",
        "    def forward(self, x):\n",
        "        return self.w_2(self.dropout(F.relu(self.w_1(x))))"
      ],
      "execution_count": 0,
      "outputs": []
    },
    {
      "cell_type": "code",
      "metadata": {
        "id": "AMHS4a4a4On1",
        "colab_type": "code",
        "colab": {}
      },
      "source": [
        "class Embeddings(nn.Module):\n",
        "    def __init__(self, d_model, vocab):\n",
        "        super(Embeddings, self).__init__()\n",
        "        self.lut = nn.Embedding(vocab, d_model)\n",
        "        self.d_model = d_model\n",
        "\n",
        "    def forward(self, x):\n",
        "        return self.lut(x) * math.sqrt(self.d_model)"
      ],
      "execution_count": 0,
      "outputs": []
    },
    {
      "cell_type": "code",
      "metadata": {
        "id": "x6Rje_Ox4S7X",
        "colab_type": "code",
        "colab": {}
      },
      "source": [
        "class PositionalEncoding(nn.Module):\n",
        "    \"Implement the PE function.\"\n",
        "    def __init__(self, d_model, dropout, max_len=5000):\n",
        "        super(PositionalEncoding, self).__init__()\n",
        "        self.dropout = nn.Dropout(p=dropout)\n",
        "        \n",
        "        # Compute the positional encodings once in log space.\n",
        "        pe = torch.zeros(max_len, d_model)\n",
        "        position = torch.arange(0., max_len).unsqueeze(1)\n",
        "        div_term = torch.exp(torch.arange(0., d_model, 2) *\n",
        "                             -(math.log(10000.0) / d_model))\n",
        "        pe[:, 0::2] = torch.sin(position * div_term)\n",
        "        pe[:, 1::2] = torch.cos(position * div_term)\n",
        "        pe = pe.unsqueeze(0)\n",
        "        self.register_buffer('pe', pe)\n",
        "        \n",
        "    def forward(self, x):\n",
        "        x = x + Variable(self.pe[:, :x.size(1)], \n",
        "                         requires_grad=False)\n",
        "        return self.dropout(x)"
      ],
      "execution_count": 0,
      "outputs": []
    },
    {
      "cell_type": "code",
      "metadata": {
        "id": "S4vM-ES8A2fO",
        "colab_type": "code",
        "colab": {}
      },
      "source": [
        "class GP(nn.Module):\n",
        "\n",
        "  def __init__(self, decoder, tgt_embed, generator):\n",
        "    super(GP, self).__init__()\n",
        "    self.decoder = decoder\n",
        "    self.embed = tgt_embed\n",
        "    self.generator = generator\n",
        "\n",
        "  def forward(self, x, x_mask):\n",
        "\n",
        "    x = self.embed(x)\n",
        "    x =  self.decoder(x,x_mask)\n",
        "\n",
        "    return x"
      ],
      "execution_count": 0,
      "outputs": []
    },
    {
      "cell_type": "code",
      "metadata": {
        "id": "gVAMspq84YXZ",
        "colab_type": "code",
        "colab": {}
      },
      "source": [
        "def make_model(eng_vocab, N=6, d_model=512, d_ff=2048, h=8, dropout=0.1):\n",
        "\n",
        "  c = copy.deepcopy\n",
        "  attn = MultiHeadedAttention(h,d_model)\n",
        "  ff   = PositionwiseFeedForward(d_model, d_ff, dropout)\n",
        "  position = PositionalEncoding(d_model, dropout)\n",
        "\n",
        "\n",
        "  model = GP(\n",
        "      Decoder(DecoderLayer(d_model, c(attn), c(ff), dropout), N),\n",
        "      nn.Sequential(Embeddings(d_model, eng_vocab), c(position)),\n",
        "      Generator(d_model, eng_vocab)\n",
        "  )\n",
        "\n",
        "  for p in model.parameters():\n",
        "    if p.dim() > 1:\n",
        "      nn.init.xavier_uniform(p)\n",
        "  return model"
      ],
      "execution_count": 0,
      "outputs": []
    },
    {
      "cell_type": "code",
      "metadata": {
        "id": "_pw6FOgk67SX",
        "colab_type": "code",
        "outputId": "bf315caf-fb1c-4eae-e352-bac5a5de7609",
        "colab": {
          "base_uri": "https://localhost:8080/",
          "height": 34
        }
      },
      "source": [
        "tmp_model = make_model(10,2)"
      ],
      "execution_count": 43,
      "outputs": [
        {
          "output_type": "stream",
          "text": [
            "/usr/local/lib/python3.6/dist-packages/ipykernel_launcher.py:17: UserWarning: nn.init.xavier_uniform is now deprecated in favor of nn.init.xavier_uniform_.\n"
          ],
          "name": "stderr"
        }
      ]
    },
    {
      "cell_type": "code",
      "metadata": {
        "id": "l6cU7GuG6-Ra",
        "colab_type": "code",
        "outputId": "28918bdb-a48e-4f23-b355-415a1d79ffe3",
        "colab": {
          "base_uri": "https://localhost:8080/",
          "height": 1000
        }
      },
      "source": [
        "tmp_model"
      ],
      "execution_count": 44,
      "outputs": [
        {
          "output_type": "execute_result",
          "data": {
            "text/plain": [
              "GP(\n",
              "  (decoder): Decoder(\n",
              "    (layers): ModuleList(\n",
              "      (0): DecoderLayer(\n",
              "        (self_attn): MultiHeadedAttention(\n",
              "          (linears): ModuleList(\n",
              "            (0): Linear(in_features=512, out_features=512, bias=True)\n",
              "            (1): Linear(in_features=512, out_features=512, bias=True)\n",
              "            (2): Linear(in_features=512, out_features=512, bias=True)\n",
              "            (3): Linear(in_features=512, out_features=512, bias=True)\n",
              "          )\n",
              "          (dropout): Dropout(p=0.1, inplace=False)\n",
              "        )\n",
              "        (feed_forward): PositionwiseFeedForward(\n",
              "          (w_1): Linear(in_features=512, out_features=2048, bias=True)\n",
              "          (w_2): Linear(in_features=2048, out_features=512, bias=True)\n",
              "          (dropout): Dropout(p=0.1, inplace=False)\n",
              "        )\n",
              "        (sublayer): ModuleList(\n",
              "          (0): SublayerConnection(\n",
              "            (norm): LayerNorm()\n",
              "            (dropout): Dropout(p=0.1, inplace=False)\n",
              "          )\n",
              "          (1): SublayerConnection(\n",
              "            (norm): LayerNorm()\n",
              "            (dropout): Dropout(p=0.1, inplace=False)\n",
              "          )\n",
              "        )\n",
              "      )\n",
              "      (1): DecoderLayer(\n",
              "        (self_attn): MultiHeadedAttention(\n",
              "          (linears): ModuleList(\n",
              "            (0): Linear(in_features=512, out_features=512, bias=True)\n",
              "            (1): Linear(in_features=512, out_features=512, bias=True)\n",
              "            (2): Linear(in_features=512, out_features=512, bias=True)\n",
              "            (3): Linear(in_features=512, out_features=512, bias=True)\n",
              "          )\n",
              "          (dropout): Dropout(p=0.1, inplace=False)\n",
              "        )\n",
              "        (feed_forward): PositionwiseFeedForward(\n",
              "          (w_1): Linear(in_features=512, out_features=2048, bias=True)\n",
              "          (w_2): Linear(in_features=2048, out_features=512, bias=True)\n",
              "          (dropout): Dropout(p=0.1, inplace=False)\n",
              "        )\n",
              "        (sublayer): ModuleList(\n",
              "          (0): SublayerConnection(\n",
              "            (norm): LayerNorm()\n",
              "            (dropout): Dropout(p=0.1, inplace=False)\n",
              "          )\n",
              "          (1): SublayerConnection(\n",
              "            (norm): LayerNorm()\n",
              "            (dropout): Dropout(p=0.1, inplace=False)\n",
              "          )\n",
              "        )\n",
              "      )\n",
              "    )\n",
              "    (norm): LayerNorm()\n",
              "  )\n",
              "  (embed): Sequential(\n",
              "    (0): Embeddings(\n",
              "      (lut): Embedding(10, 512)\n",
              "    )\n",
              "    (1): PositionalEncoding(\n",
              "      (dropout): Dropout(p=0.1, inplace=False)\n",
              "    )\n",
              "  )\n",
              "  (generator): Generator(\n",
              "    (proj): Linear(in_features=512, out_features=10, bias=True)\n",
              "  )\n",
              ")"
            ]
          },
          "metadata": {
            "tags": []
          },
          "execution_count": 44
        }
      ]
    },
    {
      "cell_type": "code",
      "metadata": {
        "id": "6DfPOtIP7ZwO",
        "colab_type": "code",
        "colab": {}
      },
      "source": [
        "class Batch:\n",
        "\n",
        "  def __init__(self, trg, pad=0):\n",
        "\n",
        "    self.trg = trg[:, :-1]\n",
        "    self.trg_y = trg[:, 1:]\n",
        "\n",
        "    self.trg_mask = self.make_std_mask(self.trg,pad)\n",
        "\n",
        "    self.ntokens = (self.trg_y !=pad).data.sum()\n",
        "\n",
        "  @staticmethod\n",
        "  def make_std_mask(tgt, pad):\n",
        "    tgt_mask = (tgt != pad).unsqueeze(-2)\n",
        "    tgt_mask = tgt_mask & Variable(\n",
        "            subsequent_mask(tgt.size(-1)).type_as(tgt_mask.data))\n",
        "    return tgt_mask\n"
      ],
      "execution_count": 0,
      "outputs": []
    },
    {
      "cell_type": "code",
      "metadata": {
        "id": "7vAswT8B8p3x",
        "colab_type": "code",
        "colab": {}
      },
      "source": [
        "def run_epoch(data_iter, model, loss_compute):\n",
        "\n",
        "  start = time.time()\n",
        "  total_tokens = 0\n",
        "  total_loss = 0\n",
        "  tokens = 0\n",
        "\n",
        "  for i , data in enumerate(data_iter):\n",
        "\n",
        "    trg = data[0]\n",
        "\n",
        "    batch = Batch(trg.cuda())\n",
        "\n",
        "    out = model.forward(batch.trg, batch.trg_mask)\n",
        "\n",
        "    loss = loss_compute(out, batch.trg_y, batch.ntokens)\n",
        "\n",
        "    total_loss += loss\n",
        "    total_tokens += batch.ntokens\n",
        "    tokens += batch.ntokens\n",
        "\n",
        "    if i % 50 == 1:\n",
        "\n",
        "      elapsed = time.time() - start\n",
        "      print(\"Epoch Step: %d Loss: %f Tokens per Sec: %f\" %\n",
        "              (i, loss / batch.ntokens, tokens / elapsed))\n",
        "      start = time.time()\n",
        "      tokens = 0\n",
        "  return total_loss / total_tokens"
      ],
      "execution_count": 0,
      "outputs": []
    },
    {
      "cell_type": "code",
      "metadata": {
        "id": "QDk-A1lk-8K8",
        "colab_type": "code",
        "colab": {}
      },
      "source": [
        "class NoamOpt:\n",
        "    \"Optim wrapper that implements rate.\"\n",
        "    def __init__(self, model_size, factor, warmup, optimizer):\n",
        "        self.optimizer = optimizer\n",
        "        self._step = 0\n",
        "        self.warmup = warmup\n",
        "        self.factor = factor\n",
        "        self.model_size = model_size\n",
        "        self._rate = 0\n",
        "        \n",
        "    def step(self):\n",
        "        \"Update parameters and rate\"\n",
        "        self._step += 1\n",
        "        rate = self.rate()\n",
        "        for p in self.optimizer.param_groups:\n",
        "            p['lr'] = rate\n",
        "        self._rate = rate\n",
        "        self.optimizer.step()\n",
        "        \n",
        "    def rate(self, step = None):\n",
        "        \"Implement `lrate` above\"\n",
        "        if step is None:\n",
        "            step = self._step\n",
        "        return self.factor * \\\n",
        "            (self.model_size ** (-0.5) *\n",
        "            min(step ** (-0.5), step * self.warmup ** (-1.5)))\n",
        "        \n",
        "def get_std_opt(model):\n",
        "    return NoamOpt(model.src_embed[0].d_model, 2, 4000,\n",
        "            torch.optim.Adam(model.parameters(), lr=0, betas=(0.9, 0.98), eps=1e-9))"
      ],
      "execution_count": 0,
      "outputs": []
    },
    {
      "cell_type": "code",
      "metadata": {
        "id": "_5aqge7V_Ahj",
        "colab_type": "code",
        "outputId": "fcf14483-f9a4-4041-c415-a76565b47280",
        "colab": {
          "base_uri": "https://localhost:8080/",
          "height": 279
        }
      },
      "source": [
        "# Three settings of the lrate hyperparameters.\n",
        "opts = [NoamOpt(512, 1, 4000, None), \n",
        "        NoamOpt(512, 1, 8000, None),\n",
        "        NoamOpt(256, 1, 4000, None)]\n",
        "plt.plot(np.arange(1, 20000), [[opt.rate(i) for opt in opts] for i in range(1, 20000)])\n",
        "plt.legend([\"512:4000\", \"512:8000\", \"256:4000\"])\n",
        "None"
      ],
      "execution_count": 48,
      "outputs": [
        {
          "output_type": "display_data",
          "data": {
            "image/png": "[encoded data removed]",
            "text/plain": [
              "<Figure size 432x288 with 1 Axes>"
            ]
          },
          "metadata": {
            "tags": [],
            "needs_background": "light"
          }
        }
      ]
    },
    {
      "cell_type": "code",
      "metadata": {
        "id": "5mkDsfTy_EK5",
        "colab_type": "code",
        "colab": {}
      },
      "source": [
        "class LabelSmoothing(nn.Module):\n",
        "    \"Implement label smoothing.\"\n",
        "    def __init__(self, size, padding_idx, smoothing=0.0):\n",
        "        super(LabelSmoothing, self).__init__()\n",
        "        self.criterion = nn.KLDivLoss(size_average=False)\n",
        "        self.padding_idx = padding_idx\n",
        "        self.confidence = 1.0 - smoothing\n",
        "        self.smoothing = smoothing\n",
        "        self.size = size\n",
        "        self.true_dist = None\n",
        "        \n",
        "    def forward(self, x, target):\n",
        "        assert x.size(1) == self.size\n",
        "        true_dist = x.data.clone()\n",
        "        true_dist.fill_(self.smoothing / (self.size - 2))\n",
        "        true_dist.scatter_(1, target.data.unsqueeze(1), self.confidence)\n",
        "        true_dist[:, self.padding_idx] = 0\n",
        "        mask = torch.nonzero(target.data == self.padding_idx)\n",
        "        if mask.dim() > 0:\n",
        "            true_dist.index_fill_(0, mask.squeeze(), 0.0)\n",
        "        self.true_dist = true_dist\n",
        "        return self.criterion(x, Variable(true_dist, requires_grad=False))"
      ],
      "execution_count": 0,
      "outputs": []
    },
    {
      "cell_type": "code",
      "metadata": {
        "id": "Ah1svWBg_XHb",
        "colab_type": "code",
        "colab": {}
      },
      "source": [
        "class SimpleLossCompute:\n",
        "    \"A simple loss compute and train function.\"\n",
        "    def __init__(self, generator, criterion, opt=None):\n",
        "        self.generator = generator\n",
        "        self.criterion = criterion\n",
        "        self.opt = opt\n",
        "        \n",
        "    def __call__(self, x, y, norm):\n",
        "        x = self.generator(x)\n",
        "        loss = self.criterion(x.contiguous().view(-1, x.size(-1)), \n",
        "                              y.contiguous().view(-1)) / norm\n",
        "        loss.backward()\n",
        "        if self.opt is not None:\n",
        "            self.opt.step()\n",
        "            self.opt.optimizer.zero_grad()\n",
        "        return loss.item() * norm"
      ],
      "execution_count": 0,
      "outputs": []
    },
    {
      "cell_type": "code",
      "metadata": {
        "id": "Z0WsyiJr_cLD",
        "colab_type": "code",
        "colab": {}
      },
      "source": [
        "def greedy_decode(model, src, max_len):\n",
        "    for i in range(max_len-1):\n",
        "        out = model(Variable(src), \n",
        "                    Variable(subsequent_mask(src.size(1)).type_as(src.data)))\n",
        "        prob = model.generator(out[:, -1])\n",
        "        _, next_word = torch.max(prob, dim = 1)\n",
        "        next_word = next_word.data[0]\n",
        "        src = torch.cat([src, \n",
        "                        torch.ones(1, 1).type_as(src.data).fill_(next_word)], dim=1)\n",
        "    return src"
      ],
      "execution_count": 0,
      "outputs": []
    },
    {
      "cell_type": "code",
      "metadata": {
        "id": "4gHIcNP2_gcP",
        "colab_type": "code",
        "outputId": "577fb775-6e41-4616-ff47-0c4ba5ccfdbd",
        "colab": {
          "base_uri": "https://localhost:8080/",
          "height": 119
        }
      },
      "source": [
        "pad_idx = eng_lang.word2index[\"<blank>\"]\n",
        "model = make_model(eng_lang.n_words,N=6)\n",
        "model.cuda()\n",
        "criterion = LabelSmoothing(size=eng_lang.n_words,padding_idx=pad_idx,smoothing=0.1)\n",
        "criterion.cuda()"
      ],
      "execution_count": 54,
      "outputs": [
        {
          "output_type": "stream",
          "text": [
            "/usr/local/lib/python3.6/dist-packages/ipykernel_launcher.py:17: UserWarning: nn.init.xavier_uniform is now deprecated in favor of nn.init.xavier_uniform_.\n",
            "/usr/local/lib/python3.6/dist-packages/torch/nn/_reduction.py:43: UserWarning: size_average and reduce args will be deprecated, please use reduction='sum' instead.\n",
            "  warnings.warn(warning.format(ret))\n"
          ],
          "name": "stderr"
        },
        {
          "output_type": "execute_result",
          "data": {
            "text/plain": [
              "LabelSmoothing(\n",
              "  (criterion): KLDivLoss()\n",
              ")"
            ]
          },
          "metadata": {
            "tags": []
          },
          "execution_count": 54
        }
      ]
    },
    {
      "cell_type": "code",
      "metadata": {
        "id": "8YPFH-_hElOK",
        "colab_type": "code",
        "outputId": "a6f7905c-7d28-49d9-9f0a-dc655d0a22b9",
        "colab": {
          "base_uri": "https://localhost:8080/",
          "height": 1000
        }
      },
      "source": [
        "model_opt = NoamOpt(model.embed[0].d_model, 1, 2000,\n",
        "            torch.optim.Adam(model.parameters(), lr=0, betas=(0.9, 0.98), eps=1e-9))\n",
        "\n",
        "for epoch in range(50):\n",
        "  model.train()\n",
        "  \n",
        "    \n",
        "  run_epoch(train_loader,model,\n",
        "           SimpleLossCompute(model.generator,criterion,model_opt))\n",
        "  model.eval()\n",
        "  print(run_epoch(valid_loader,model,\n",
        "           SimpleLossCompute(model.generator,criterion,None)))"
      ],
      "execution_count": 55,
      "outputs": [
        {
          "output_type": "stream",
          "text": [
            "Epoch Step: 1 Loss: 7.396464 Tokens per Sec: 7053.786133\n",
            "Epoch Step: 1 Loss: 7.236523 Tokens per Sec: 7912.279785\n",
            "tensor(7.2409, device='cuda:0')\n",
            "Epoch Step: 1 Loss: 7.216270 Tokens per Sec: 7606.249512\n",
            "Epoch Step: 1 Loss: 6.973568 Tokens per Sec: 8124.592773\n",
            "tensor(6.9559, device='cuda:0')\n",
            "Epoch Step: 1 Loss: 6.956969 Tokens per Sec: 7420.616211\n",
            "Epoch Step: 1 Loss: 6.650668 Tokens per Sec: 8058.843750\n",
            "tensor(6.6582, device='cuda:0')\n",
            "Epoch Step: 1 Loss: 6.689518 Tokens per Sec: 7264.666504\n",
            "Epoch Step: 1 Loss: 6.410838 Tokens per Sec: 7782.106445\n",
            "tensor(6.4207, device='cuda:0')\n",
            "Epoch Step: 1 Loss: 6.448503 Tokens per Sec: 7242.434570\n",
            "Epoch Step: 1 Loss: 6.228018 Tokens per Sec: 8101.823730\n",
            "tensor(6.2346, device='cuda:0')\n",
            "Epoch Step: 1 Loss: 6.270282 Tokens per Sec: 7498.058105\n",
            "Epoch Step: 1 Loss: 6.098858 Tokens per Sec: 7482.851562\n",
            "tensor(6.0804, device='cuda:0')\n",
            "Epoch Step: 1 Loss: 6.129325 Tokens per Sec: 7418.392578\n",
            "Epoch Step: 1 Loss: 5.950793 Tokens per Sec: 7748.404297\n",
            "tensor(5.9336, device='cuda:0')\n",
            "Epoch Step: 1 Loss: 5.936315 Tokens per Sec: 7482.143066\n",
            "Epoch Step: 1 Loss: 5.732530 Tokens per Sec: 7708.396973\n",
            "tensor(5.7785, device='cuda:0')\n",
            "Epoch Step: 1 Loss: 5.803975 Tokens per Sec: 7644.006836\n",
            "Epoch Step: 1 Loss: 5.625587 Tokens per Sec: 8090.169434\n",
            "tensor(5.6131, device='cuda:0')\n",
            "Epoch Step: 1 Loss: 5.657264 Tokens per Sec: 7607.099121\n",
            "Epoch Step: 1 Loss: 5.477799 Tokens per Sec: 8085.893066\n",
            "tensor(5.4534, device='cuda:0')\n",
            "Epoch Step: 1 Loss: 5.448915 Tokens per Sec: 7759.877930\n",
            "Epoch Step: 1 Loss: 5.307011 Tokens per Sec: 8020.008789\n",
            "tensor(5.3114, device='cuda:0')\n",
            "Epoch Step: 1 Loss: 5.343514 Tokens per Sec: 7875.250977\n",
            "Epoch Step: 1 Loss: 5.192467 Tokens per Sec: 7903.258301\n",
            "tensor(5.1839, device='cuda:0')\n",
            "Epoch Step: 1 Loss: 5.160598 Tokens per Sec: 7395.591309\n",
            "Epoch Step: 1 Loss: 5.095046 Tokens per Sec: 8267.662109\n",
            "tensor(5.0737, device='cuda:0')\n",
            "Epoch Step: 1 Loss: 5.051558 Tokens per Sec: 7598.705566\n",
            "Epoch Step: 1 Loss: 4.983458 Tokens per Sec: 7616.375488\n",
            "tensor(4.9882, device='cuda:0')\n",
            "Epoch Step: 1 Loss: 4.972686 Tokens per Sec: 7249.718750\n",
            "Epoch Step: 1 Loss: 4.890252 Tokens per Sec: 7734.952637\n",
            "tensor(4.8910, device='cuda:0')\n",
            "Epoch Step: 1 Loss: 4.882520 Tokens per Sec: 7587.709961\n",
            "Epoch Step: 1 Loss: 4.813382 Tokens per Sec: 7960.728516\n",
            "tensor(4.7889, device='cuda:0')\n",
            "Epoch Step: 1 Loss: 4.753909 Tokens per Sec: 7577.239746\n",
            "Epoch Step: 1 Loss: 4.616719 Tokens per Sec: 7837.235352\n",
            "tensor(4.6868, device='cuda:0')\n",
            "Epoch Step: 1 Loss: 4.719011 Tokens per Sec: 7597.137695\n",
            "Epoch Step: 1 Loss: 4.540783 Tokens per Sec: 7637.016602\n",
            "tensor(4.5748, device='cuda:0')\n",
            "Epoch Step: 1 Loss: 4.666014 Tokens per Sec: 7358.741699\n",
            "Epoch Step: 1 Loss: 4.526703 Tokens per Sec: 8316.458984\n",
            "tensor(4.4610, device='cuda:0')\n",
            "Epoch Step: 1 Loss: 4.542040 Tokens per Sec: 7660.176270\n",
            "Epoch Step: 1 Loss: 4.308486 Tokens per Sec: 8037.012207\n",
            "tensor(4.3713, device='cuda:0')\n",
            "Epoch Step: 1 Loss: 4.470562 Tokens per Sec: 7706.116699\n",
            "Epoch Step: 1 Loss: 4.249688 Tokens per Sec: 8027.659180\n",
            "tensor(4.2781, device='cuda:0')\n",
            "Epoch Step: 1 Loss: 4.470496 Tokens per Sec: 7512.604980\n",
            "Epoch Step: 1 Loss: 4.221926 Tokens per Sec: 7982.627930\n",
            "tensor(4.2037, device='cuda:0')\n",
            "Epoch Step: 1 Loss: 4.230353 Tokens per Sec: 7812.435059\n",
            "Epoch Step: 1 Loss: 4.028411 Tokens per Sec: 8240.263672\n",
            "tensor(4.1008, device='cuda:0')\n",
            "Epoch Step: 1 Loss: 4.244525 Tokens per Sec: 7802.758789\n",
            "Epoch Step: 1 Loss: 4.046075 Tokens per Sec: 8014.208008\n",
            "tensor(4.0161, device='cuda:0')\n",
            "Epoch Step: 1 Loss: 4.183035 Tokens per Sec: 7716.485352\n",
            "Epoch Step: 1 Loss: 3.953148 Tokens per Sec: 7736.681152\n",
            "tensor(3.9269, device='cuda:0')\n",
            "Epoch Step: 1 Loss: 4.261322 Tokens per Sec: 7413.529297\n",
            "Epoch Step: 1 Loss: 3.834762 Tokens per Sec: 8316.480469\n",
            "tensor(3.8369, device='cuda:0')\n",
            "Epoch Step: 1 Loss: 4.000679 Tokens per Sec: 7879.188965\n",
            "Epoch Step: 1 Loss: 3.688166 Tokens per Sec: 8133.284180\n",
            "tensor(3.7255, device='cuda:0')\n",
            "Epoch Step: 1 Loss: 4.064724 Tokens per Sec: 7417.635742\n",
            "Epoch Step: 1 Loss: 3.652554 Tokens per Sec: 7952.392090\n",
            "tensor(3.6516, device='cuda:0')\n",
            "Epoch Step: 1 Loss: 3.847996 Tokens per Sec: 7509.645020\n",
            "Epoch Step: 1 Loss: 3.581267 Tokens per Sec: 8257.472656\n",
            "tensor(3.5581, device='cuda:0')\n",
            "Epoch Step: 1 Loss: 3.702370 Tokens per Sec: 7532.408691\n",
            "Epoch Step: 1 Loss: 3.491380 Tokens per Sec: 7903.182129\n",
            "tensor(3.4899, device='cuda:0')\n",
            "Epoch Step: 1 Loss: 3.804496 Tokens per Sec: 7594.031738\n",
            "Epoch Step: 1 Loss: 3.381295 Tokens per Sec: 8115.287109\n",
            "tensor(3.3782, device='cuda:0')\n",
            "Epoch Step: 1 Loss: 3.689412 Tokens per Sec: 7636.868164\n",
            "Epoch Step: 1 Loss: 3.349041 Tokens per Sec: 8275.643555\n",
            "tensor(3.2971, device='cuda:0')\n",
            "Epoch Step: 1 Loss: 3.634662 Tokens per Sec: 7422.439453\n",
            "Epoch Step: 1 Loss: 3.188833 Tokens per Sec: 8121.475586\n",
            "tensor(3.2017, device='cuda:0')\n",
            "Epoch Step: 1 Loss: 3.651788 Tokens per Sec: 7827.698730\n",
            "Epoch Step: 1 Loss: 3.085615 Tokens per Sec: 7694.179688\n",
            "tensor(3.1134, device='cuda:0')\n",
            "Epoch Step: 1 Loss: 3.571571 Tokens per Sec: 7451.523926\n",
            "Epoch Step: 1 Loss: 3.016780 Tokens per Sec: 8063.624512\n",
            "tensor(3.0294, device='cuda:0')\n",
            "Epoch Step: 1 Loss: 3.443977 Tokens per Sec: 7361.618164\n",
            "Epoch Step: 1 Loss: 2.968239 Tokens per Sec: 7943.173340\n",
            "tensor(2.9562, device='cuda:0')\n",
            "Epoch Step: 1 Loss: 3.422617 Tokens per Sec: 7454.799805\n",
            "Epoch Step: 1 Loss: 2.882169 Tokens per Sec: 8042.499023\n",
            "tensor(2.8766, device='cuda:0')\n",
            "Epoch Step: 1 Loss: 3.419149 Tokens per Sec: 7447.582520\n",
            "Epoch Step: 1 Loss: 2.791988 Tokens per Sec: 7895.898438\n",
            "tensor(2.8051, device='cuda:0')\n",
            "Epoch Step: 1 Loss: 3.301877 Tokens per Sec: 7495.249023\n",
            "Epoch Step: 1 Loss: 2.677262 Tokens per Sec: 7785.521484\n",
            "tensor(2.7451, device='cuda:0')\n",
            "Epoch Step: 1 Loss: 3.314893 Tokens per Sec: 7571.510742\n",
            "Epoch Step: 1 Loss: 2.594536 Tokens per Sec: 7465.957031\n",
            "tensor(2.6156, device='cuda:0')\n",
            "Epoch Step: 1 Loss: 3.235132 Tokens per Sec: 7668.386230\n",
            "Epoch Step: 1 Loss: 2.519698 Tokens per Sec: 8202.674805\n",
            "tensor(2.5059, device='cuda:0')\n",
            "Epoch Step: 1 Loss: 3.142023 Tokens per Sec: 7751.943848\n",
            "Epoch Step: 1 Loss: 2.435159 Tokens per Sec: 8117.610352\n",
            "tensor(2.4073, device='cuda:0')\n",
            "Epoch Step: 1 Loss: 2.952389 Tokens per Sec: 7719.151855\n",
            "Epoch Step: 1 Loss: 2.354995 Tokens per Sec: 7664.251465\n",
            "tensor(2.3039, device='cuda:0')\n",
            "Epoch Step: 1 Loss: 2.948010 Tokens per Sec: 7668.357910\n",
            "Epoch Step: 1 Loss: 2.208141 Tokens per Sec: 7679.697266\n",
            "tensor(2.2225, device='cuda:0')\n",
            "Epoch Step: 1 Loss: 2.942595 Tokens per Sec: 7944.908691\n",
            "Epoch Step: 1 Loss: 2.123637 Tokens per Sec: 8157.260742\n",
            "tensor(2.1391, device='cuda:0')\n",
            "Epoch Step: 1 Loss: 2.879135 Tokens per Sec: 7752.640137\n",
            "Epoch Step: 1 Loss: 2.070444 Tokens per Sec: 8000.868164\n",
            "tensor(2.0561, device='cuda:0')\n",
            "Epoch Step: 1 Loss: 2.827965 Tokens per Sec: 7706.930664\n",
            "Epoch Step: 1 Loss: 1.971910 Tokens per Sec: 7730.668945\n",
            "tensor(1.9485, device='cuda:0')\n",
            "Epoch Step: 1 Loss: 2.750314 Tokens per Sec: 7911.838867\n",
            "Epoch Step: 1 Loss: 1.880609 Tokens per Sec: 8128.049316\n",
            "tensor(1.8570, device='cuda:0')\n",
            "Epoch Step: 1 Loss: 2.680837 Tokens per Sec: 7667.899414\n",
            "Epoch Step: 1 Loss: 1.806365 Tokens per Sec: 8124.958496\n",
            "tensor(1.7836, device='cuda:0')\n",
            "Epoch Step: 1 Loss: 2.564684 Tokens per Sec: 7576.604492\n",
            "Epoch Step: 1 Loss: 1.699156 Tokens per Sec: 7659.970703\n",
            "tensor(1.6978, device='cuda:0')\n"
          ],
          "name": "stdout"
        }
      ]
    },
    {
      "cell_type": "code",
      "metadata": {
        "id": "3Mz4lIGiFi6b",
        "colab_type": "code",
        "colab": {}
      },
      "source": [
        "t = \"SOS god of abraham\".split()"
      ],
      "execution_count": 0,
      "outputs": []
    },
    {
      "cell_type": "code",
      "metadata": {
        "id": "HafzwdFFF1AB",
        "colab_type": "code",
        "colab": {}
      },
      "source": [
        "t_tok = torch.Tensor([eng_lang.word2index[word] for word in t]).long()"
      ],
      "execution_count": 0,
      "outputs": []
    },
    {
      "cell_type": "code",
      "metadata": {
        "id": "EDwL6DxMGTYQ",
        "colab_type": "code",
        "colab": {}
      },
      "source": [
        "t_tok = t_tok[None, ...]"
      ],
      "execution_count": 0,
      "outputs": []
    },
    {
      "cell_type": "code",
      "metadata": {
        "id": "mmzW0aj9G0GG",
        "colab_type": "code",
        "colab": {}
      },
      "source": [
        "dataiter = iter(valid_loader)\n",
        "sample_x= dataiter.next()[0]"
      ],
      "execution_count": 0,
      "outputs": []
    },
    {
      "cell_type": "code",
      "metadata": {
        "id": "A0SVqIu5IM9B",
        "colab_type": "code",
        "colab": {}
      },
      "source": [
        "tp = sample_x[0]"
      ],
      "execution_count": 0,
      "outputs": []
    },
    {
      "cell_type": "code",
      "metadata": {
        "id": "WR_TrzVLIgey",
        "colab_type": "code",
        "colab": {
          "base_uri": "https://localhost:8080/",
          "height": 34
        },
        "outputId": "e18e25fd-5dc3-4d51-f387-8e377a068b82"
      },
      "source": [
        "tp.data[0]"
      ],
      "execution_count": 84,
      "outputs": [
        {
          "output_type": "execute_result",
          "data": {
            "text/plain": [
              "tensor(1)"
            ]
          },
          "metadata": {
            "tags": []
          },
          "execution_count": 84
        }
      ]
    },
    {
      "cell_type": "code",
      "metadata": {
        "id": "Hp7cKHzkIWBE",
        "colab_type": "code",
        "colab": {
          "base_uri": "https://localhost:8080/",
          "height": 54
        },
        "outputId": "ebbb5847-0be5-4a70-e744-a245f993c98c"
      },
      "source": [
        "tp_text = [eng_lang.index2word[item.item()] for item in tp.data]\n",
        "\n",
        "\" \".join(tp_text)"
      ],
      "execution_count": 85,
      "outputs": [
        {
          "output_type": "execute_result",
          "data": {
            "text/plain": [
              "'SOS for their vine is from the vine of sod om and from the terraces of go mor rah . their grapes are grapes of poison their clusters are bitter . EOS <blank> <blank> <blank> <blank> <blank> <blank> <blank> <blank> <blank> <blank> <blank> <blank> <blank> <blank> <blank> <blank> <blank> <blank> <blank> <blank> <blank> <blank> <blank> <blank> <blank> <blank> <blank> <blank> <blank> <blank> <blank> <blank> <blank> <blank> <blank> <blank> <blank> <blank> <blank> <blank> <blank> <blank> <blank> <blank> <blank> <blank> <blank> <blank>'"
            ]
          },
          "metadata": {
            "tags": []
          },
          "execution_count": 85
        }
      ]
    },
    {
      "cell_type": "code",
      "metadata": {
        "id": "HARzL1IdIwG6",
        "colab_type": "code",
        "colab": {
          "base_uri": "https://localhost:8080/",
          "height": 163
        },
        "outputId": "b98ef6e2-39e3-41f6-da73-85bf0329b59d"
      },
      "source": [
        "t_tok = tp[:6][None, ...]"
      ],
      "execution_count": 1,
      "outputs": [
        {
          "output_type": "error",
          "ename": "NameError",
          "evalue": "ignored",
          "traceback": [
            "\u001b[0;31m---------------------------------------------------------------------------\u001b[0m",
            "\u001b[0;31mNameError\u001b[0m                                 Traceback (most recent call last)",
            "\u001b[0;32m<ipython-input-1-13114631b8db>\u001b[0m in \u001b[0;36m<module>\u001b[0;34m()\u001b[0m\n\u001b[0;32m----> 1\u001b[0;31m \u001b[0mt_tok\u001b[0m \u001b[0;34m=\u001b[0m \u001b[0mtp\u001b[0m\u001b[0;34m[\u001b[0m\u001b[0;34m:\u001b[0m\u001b[0;36m6\u001b[0m\u001b[0;34m]\u001b[0m\u001b[0;34m[\u001b[0m\u001b[0;32mNone\u001b[0m\u001b[0;34m,\u001b[0m \u001b[0;34m...\u001b[0m\u001b[0;34m]\u001b[0m\u001b[0;34m\u001b[0m\u001b[0;34m\u001b[0m\u001b[0m\n\u001b[0m",
            "\u001b[0;31mNameError\u001b[0m: name 'tp' is not defined"
          ]
        }
      ]
    },
    {
      "cell_type": "code",
      "metadata": {
        "id": "ANUPrEJUGW6g",
        "colab_type": "code",
        "colab": {}
      },
      "source": [
        "model.eval()\n",
        "\n",
        "out = greedy_decode(model, t_tok.cuda(), max_len=30)"
      ],
      "execution_count": 0,
      "outputs": []
    },
    {
      "cell_type": "code",
      "metadata": {
        "id": "RAm0JWKiG89s",
        "colab_type": "code",
        "colab": {}
      },
      "source": [
        "v = [eng_lang.index2word[item.item()] for item in out.data[0]]"
      ],
      "execution_count": 0,
      "outputs": []
    },
    {
      "cell_type": "code",
      "metadata": {
        "id": "nd9B0R93HS9R",
        "colab_type": "code",
        "colab": {
          "base_uri": "https://localhost:8080/",
          "height": 34
        },
        "outputId": "a1859721-680c-404a-8e02-b0f39ccb1119"
      },
      "source": [
        "\" \".join(v)"
      ],
      "execution_count": 118,
      "outputs": [
        {
          "output_type": "execute_result",
          "data": {
            "text/plain": [
              "'SOS god of abraham and from the men of the king of e li jah to his son and he was standing by the king of the king a prostitute was standing by'"
            ]
          },
          "metadata": {
            "tags": []
          },
          "execution_count": 118
        }
      ]
    },
    {
      "cell_type": "code",
      "metadata": {
        "id": "Ionga3oOH1-j",
        "colab_type": "code",
        "colab": {}
      },
      "source": [
        "f= [1,2,3,4,5]"
      ],
      "execution_count": 0,
      "outputs": []
    },
    {
      "cell_type": "code",
      "metadata": {
        "id": "8tyc2-zZH3wg",
        "colab_type": "code",
        "outputId": "0fdbf9c8-71da-4bd8-c99c-6c94814f8ae8",
        "colab": {
          "base_uri": "https://localhost:8080/",
          "height": 34
        }
      },
      "source": [
        "f[:-1]"
      ],
      "execution_count": 0,
      "outputs": [
        {
          "output_type": "execute_result",
          "data": {
            "text/plain": [
              "[1, 2, 3, 4]"
            ]
          },
          "metadata": {
            "tags": []
          },
          "execution_count": 81
        }
      ]
    },
    {
      "cell_type": "code",
      "metadata": {
        "id": "kWkzpgG0H4zb",
        "colab_type": "code",
        "colab": {}
      },
      "source": [
        ""
      ],
      "execution_count": 0,
      "outputs": []
    }
  ]
}