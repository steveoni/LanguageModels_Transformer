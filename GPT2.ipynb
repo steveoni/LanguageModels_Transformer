{
  "nbformat": 4,
  "nbformat_minor": 0,
  "metadata": {
    "colab": {
      "name": "GPT2.ipynb",
      "provenance": [],
      "collapsed_sections": []
    },
    "kernelspec": {
      "name": "python3",
      "display_name": "Python 3"
    },
    "accelerator": "GPU"
  },
  "cells": [
    {
      "cell_type": "code",
      "metadata": {
        "id": "KD8-Rgxs8VBM",
        "colab_type": "code",
        "outputId": "abadb5c5-aac9-4167-f8f5-72fb4ca132d8",
        "colab": {
          "base_uri": "https://localhost:8080/",
          "height": 72
        }
      },
      "source": [
        "!pip install transformer"
      ],
      "execution_count": 0,
      "outputs": [
        {
          "output_type": "stream",
          "text": [
            "\u001b[31mERROR: Could not find a version that satisfies the requirement transformer (from versions: none)\u001b[0m\n",
            "\u001b[31mERROR: No matching distribution found for transformer\u001b[0m\n"
          ],
          "name": "stdout"
        }
      ]
    },
    {
      "cell_type": "code",
      "metadata": {
        "id": "UowGBjGX81R-",
        "colab_type": "code",
        "outputId": "dffc6caf-ed91-48a2-bb9c-39293bf1466d",
        "colab": {
          "base_uri": "https://localhost:8080/",
          "height": 124
        }
      },
      "source": [
        "!pip install tokenizers"
      ],
      "execution_count": 3,
      "outputs": [
        {
          "output_type": "stream",
          "text": [
            "Collecting tokenizers\n",
            "\u001b[?25l  Downloading https://files.pythonhosted.org/packages/14/e5/a26eb4716523808bb0a799fcfdceb6ebf77a18169d9591b2f46a9adb87d9/tokenizers-0.7.0-cp36-cp36m-manylinux1_x86_64.whl (3.8MB)\n",
            "\u001b[K     |████████████████████████████████| 3.8MB 2.8MB/s \n",
            "\u001b[?25hInstalling collected packages: tokenizers\n",
            "Successfully installed tokenizers-0.7.0\n"
          ],
          "name": "stdout"
        }
      ]
    },
    {
      "cell_type": "code",
      "metadata": {
        "id": "YcvGp9FDDZQO",
        "colab_type": "code",
        "colab": {}
      },
      "source": [
        "import numpy as np\n",
        "import pandas as pd\n",
        "import unicodedata\n",
        "import string\n",
        "import re\n",
        "import random\n",
        "import torch"
      ],
      "execution_count": 0,
      "outputs": []
    },
    {
      "cell_type": "code",
      "metadata": {
        "id": "r216opvl3c3I",
        "colab_type": "code",
        "colab": {}
      },
      "source": [
        "import tokenizers"
      ],
      "execution_count": 0,
      "outputs": []
    },
    {
      "cell_type": "code",
      "metadata": {
        "id": "Ms2oLEKGEJcu",
        "colab_type": "code",
        "colab": {}
      },
      "source": [
        "data = pd.read_csv(\"drive/My Drive/machine_tran/data1.csv\")"
      ],
      "execution_count": 0,
      "outputs": []
    },
    {
      "cell_type": "code",
      "metadata": {
        "id": "InotWXZB9s5Y",
        "colab_type": "code",
        "colab": {}
      },
      "source": [
        "from tokenizers import CharBPETokenizer"
      ],
      "execution_count": 0,
      "outputs": []
    },
    {
      "cell_type": "code",
      "metadata": {
        "id": "tufswEIYGvqR",
        "colab_type": "code",
        "colab": {}
      },
      "source": [
        "tokenizer = CharBPETokenizer(bert_normalizer=False)"
      ],
      "execution_count": 0,
      "outputs": []
    },
    {
      "cell_type": "code",
      "metadata": {
        "id": "yJXfCEZD0Uhe",
        "colab_type": "code",
        "colab": {
          "base_uri": "https://localhost:8080/",
          "height": 54
        },
        "outputId": "a246e59e-304a-4a2a-c755-28a5c705b797"
      },
      "source": [
        "tokenizer"
      ],
      "execution_count": 35,
      "outputs": [
        {
          "output_type": "execute_result",
          "data": {
            "text/plain": [
              "Tokenizer(vocabulary_size=0, model=BPE, unk_token=<unk>, suffix=</w>, dropout=None, lowercase=False, unicode_normalizer=None, bert_normalizer=False, split_on_whitespace_only=False)"
            ]
          },
          "metadata": {
            "tags": []
          },
          "execution_count": 35
        }
      ]
    },
    {
      "cell_type": "code",
      "metadata": {
        "id": "abnR7jdiwb6D",
        "colab_type": "code",
        "colab": {}
      },
      "source": [
        "tokenizer.train([\"data/eng.txt\"], special_tokens=[\n",
        "          \"<s>\",\n",
        "          \"<pad>\",\n",
        "          \"</s>\" ,\n",
        "          \"<mask>\"                           \n",
        "])"
      ],
      "execution_count": 0,
      "outputs": []
    },
    {
      "cell_type": "code",
      "metadata": {
        "id": "1F8CqtyEwby0",
        "colab_type": "code",
        "colab": {
          "base_uri": "https://localhost:8080/",
          "height": 54
        },
        "outputId": "a530557c-5c01-46b9-eaca-1e8e0e970ddc"
      },
      "source": [
        "tokenizer"
      ],
      "execution_count": 37,
      "outputs": [
        {
          "output_type": "execute_result",
          "data": {
            "text/plain": [
              "Tokenizer(vocabulary_size=5286, model=BPE, unk_token=<unk>, suffix=</w>, dropout=None, lowercase=False, unicode_normalizer=None, bert_normalizer=False, split_on_whitespace_only=False)"
            ]
          },
          "metadata": {
            "tags": []
          },
          "execution_count": 37
        }
      ]
    },
    {
      "cell_type": "code",
      "metadata": {
        "id": "2qzgeAW4qKPk",
        "colab_type": "code",
        "colab": {
          "base_uri": "https://localhost:8080/",
          "height": 34
        },
        "outputId": "b7190a74-eedc-4186-bced-6144da8ce6a6"
      },
      "source": [
        "tokenizer.save(\"data/\")"
      ],
      "execution_count": 39,
      "outputs": [
        {
          "output_type": "execute_result",
          "data": {
            "text/plain": [
              "['data/vocab.json', 'data/merges.txt']"
            ]
          },
          "metadata": {
            "tags": []
          },
          "execution_count": 39
        }
      ]
    },
    {
      "cell_type": "code",
      "metadata": {
        "id": "AkFNJwyl1Bha",
        "colab_type": "code",
        "colab": {}
      },
      "source": [
        "eng_data = data['en'][:2000].to_list()"
      ],
      "execution_count": 0,
      "outputs": []
    },
    {
      "cell_type": "code",
      "metadata": {
        "id": "zgccG1Yp4B30",
        "colab_type": "code",
        "colab": {}
      },
      "source": [
        "tokenizer._tokenizer.post_processor = tokenizers.processors.BertProcessing(\n",
        "    (\"</s>\", tokenizer.token_to_id(\"</s>\")),\n",
        "    (\"<s>\", tokenizer.token_to_id(\"<s>\")),\n",
        ")"
      ],
      "execution_count": 0,
      "outputs": []
    },
    {
      "cell_type": "code",
      "metadata": {
        "id": "yGnYntrn5gUM",
        "colab_type": "code",
        "colab": {}
      },
      "source": [
        "tokenizer.enable_padding(pad_id=1, pad_token = \"<pad>\")"
      ],
      "execution_count": 0,
      "outputs": []
    },
    {
      "cell_type": "code",
      "metadata": {
        "id": "TPl2Ry3S7n68",
        "colab_type": "code",
        "colab": {}
      },
      "source": [
        "tokenizer.enable_truncation(max_length=1024)"
      ],
      "execution_count": 0,
      "outputs": []
    },
    {
      "cell_type": "code",
      "metadata": {
        "id": "NJeodh1i6bo8",
        "colab_type": "code",
        "colab": {}
      },
      "source": [
        "token_data = [x.ids for x in tokenizer.encode_batch(eng_data)]"
      ],
      "execution_count": 0,
      "outputs": []
    },
    {
      "cell_type": "code",
      "metadata": {
        "id": "NKxw7OaZ7WO_",
        "colab_type": "code",
        "colab": {
          "base_uri": "https://localhost:8080/",
          "height": 54
        },
        "outputId": "2f3cd202-2dc4-4b24-91e4-54b80df928fc"
      },
      "source": [
        "open(\"data/vocab.json\").read()"
      ],
      "execution_count": 82,
      "outputs": [
        {
          "output_type": "execute_result",
          "data": {
            "text/plain": [
              "'{\"<s>\":0,\"<pad>\":1,\"</s>\":2,\"<mask>\":3,\"!\":4,\"(\":5,\")\":6,\",\":7,\"-\":8,\".\":9,\"0\":10,\"1\":11,\"2\":12,\"3\":13,\"4\":14,\"5\":15,\"6\":16,\"7\":17,\"8\":18,\":\":19,\";\":20,\"?\":21,\"A\":22,\"B\":23,\"C\":24,\"D\":25,\"E\":26,\"F\":27,\"G\":28,\"H\":29,\"I\":30,\"J\":31,\"K\":32,\"L\":33,\"M\":34,\"N\":35,\"O\":36,\"P\":37,\"Q\":38,\"R\":39,\"S\":40,\"T\":41,\"U\":42,\"V\":43,\"W\":44,\"Y\":45,\"Z\":46,\"a\":47,\"b\":48,\"c\":49,\"d\":50,\"e\":51,\"f\":52,\"g\":53,\"h\":54,\"i\":55,\"j\":56,\"k\":57,\"l\":58,\"m\":59,\"n\":60,\"o\":61,\"p\":62,\"q\":63,\"r\":64,\"s\":65,\"t\":66,\"u\":67,\"v\":68,\"w\":69,\"x\":70,\"y\":71,\"z\":72,\"·\":73,\"ʹ\":74,\"—\":75,\"‘\":76,\"’\":77,\"“\":78,\"”\":79,\"s</w>\":80,\"h</w>\":81,\"r</w>\":82,\"e</w>\":83,\"y</w>\":84,\"o</w>\":85,\"g</w>\":86,\"n</w>\":87,\"t</w>\":88,\"c</w>\":89,\"a</w>\":90,\"d</w>\":91,\"l</w>\":92,\"w</w>\":93,\";</w>\":94,\"k</w>\":95,\"i</w>\":96,\"ʹ</w>\":97,\"m</w>\":98,\"b</w>\":99,\"p</w>\":100,\"u</w>\":101,\":</w>\":102,\"”</w>\":103,\"f</w>\":104,\"5</w>\":105,\"3</w>\":106,\"4</w>\":107,\"6</w>\":108,\"z</w>\":109,\"x</w>\":110,\".</w>\":111,\"(</w>\":112,\"1</w>\":113,\"8</w>\":114,\")</w>\":115,\"’</w>\":116,\"—</w>\":117,\"·</w>\":118,\"2</w>\":119,\"‘</w>\":120,\"7</w>\":121,\"0</w>\":122,\",</w>\":123,\"-</w>\":124,\"E</w>\":125,\"O</w>\":126,\"?</w>\":127,\"“</w>\":128,\"A</w>\":129,\"U</w>\":130,\"!</w>\":131,\"I</w>\":132,\"th\":133,\"the</w>\":134,\"an\":135,\"in\":136,\"ou\":137,\"and</w>\":138,\"of</w>\":139,\"to</w>\":140,\"wi\":141,\"the\":142,\"ll</w>\":143,\"re\":144,\"is</w>\":145,\"he\":146,\"on\":147,\"ing</w>\":148,\"ha\":149,\"ou</w>\":150,\"ed</w>\":151,\"ar\":152,\"er\":153,\"or</w>\":154,\"you</w>\":155,\"will</w>\":156,\"es</w>\":157,\"or\":158,\"in</w>\":159,\"on</w>\":160,\"ov\":161,\"en\":162,\"st\":163,\"er</w>\":164,\"me</w>\":165,\"he</w>\":166,\"th</w>\":167,\"ro\":168,\"at</w>\":169,\"ah</w>\":170,\"se</w>\":171,\"hi\":172,\"no\":173,\"sa\":174,\"our</w>\":175,\"be\":176,\"Je\":177,\"ri\":178,\"ti\":179,\"ma\":180,\"ea\":181,\"li\":182,\"wa\":183,\"ve</w>\":184,\"ca\":185,\"his</w>\":186,\"en</w>\":187,\"hov\":188,\"Jehov\":189,\"Jehovah</w>\":190,\"your</w>\":191,\"st</w>\":192,\"ra\":193,\"that</w>\":194,\"se\":195,\"nd</w>\":196,\"not</w>\":197,\"for</w>\":198,\"la\":199,\"od</w>\":200,\"id</w>\":201,\"wh\":202,\"one</w>\":203,\"And</w>\":204,\"co\":205,\"it</w>\":206,\"with</w>\":207,\"gh\":208,\"le</w>\":209,\"ut</w>\":210,\"be</w>\":211,\"ke</w>\":212,\"rom</w>\":213,\"de\":214,\"ld</w>\":215,\"le\":216,\"him</w>\":217,\"from</w>\":218,\"ow\":219,\"ce</w>\":220,\"are</w>\":221,\"it\":222,\"them</w>\":223,\"my</w>\":224,\"re</w>\":225,\"they</w>\":226,\"The\":227,\"God</w>\":228,\"have</w>\":229,\"ly</w>\":230,\"all</w>\":231,\"who</w>\":232,\"ga\":233,\"ir</w>\":234,\"lo\":235,\"al\":236,\"ther</w>\":237,\"sp\":238,\"as</w>\":239,\"hou\":240,\"si\":241,\"out</w>\":242,\"fi\":243,\"un\":244,\"ta\":245,\"da\":246,\"op\":247,\"di\":248,\"ev\":249,\"ts</w>\":250,\"ent</w>\":251,\"their</w>\":252,\"ur\":253,\"wor\":254,\"was</w>\":255,\"fa\":256,\"The</w>\":257,\"ss</w>\":258,\"hat</w>\":259,\"ru\":260,\"tion</w>\":261,\"has</w>\":262,\"te\":263,\"said</w>\":264,\"ne\":265,\"ing\":266,\"For</w>\":267,\"ter</w>\":268,\"na\":269,\"pe\":270,\"su\":271,\"con\":272,\"ds</w>\":273,\"ho\":274,\"ons</w>\":275,\"ght</w>\":276,\"el</w>\":277,\"man</w>\":278,\"an</w>\":279,\"ac\":280,\"come</w>\":281,\"so</w>\":282,\"own</w>\":283,\"this</w>\":284,\"ab\":285,\"by</w>\":286,\"peop\":287,\"ers</w>\":288,\"cau\":289,\"But</w>\":290,\"com\":291,\"ll\":292,\"He</w>\":293,\"go\":294,\"mi\":295,\"red</w>\":296,\"ch</w>\":297,\"hen</w>\":298,\"for\":299,\"do\":300,\"king</w>\":301,\"me\":302,\"ted</w>\":303,\"what</w>\":304,\"ys</w>\":305,\"rea\":306,\"ings</w>\":307,\"people</w>\":308,\"ong</w>\":309,\"Is\":310,\"ust</w>\":311,\"ere</w>\":312,\"You</w>\":313,\"cause</w>\":314,\"Isra\":315,\"rou\":316,\"ose</w>\":317,\"fo\":318,\"pro\":319,\"like</w>\":320,\"de</w>\":321,\"They</w>\":322,\"up</w>\":323,\"oun\":324,\"sel\":325,\"av\":326,\"ci\":327,\"gi\":328,\"shou\":329,\"aga\":330,\"ge</w>\":331,\"lea\":332,\"ser\":333,\"had</w>\":334,\"of\":335,\"her</w>\":336,\"were</w>\":337,\"et</w>\":338,\"now</w>\":339,\"son</w>\":340,\"to\":341,\"we\":342,\"house</w>\":343,\"should</w>\":344,\"am</w>\":345,\"land</w>\":346,\"but</w>\":347,\"fu\":348,\"into</w>\":349,\"day</w>\":350,\"do</w>\":351,\"ding</w>\":352,\"sed</w>\":353,\"te</w>\":354,\"those</w>\":355,\"So</w>\":356,\"men</w>\":357,\"us</w>\":358,\"Israel</w>\":359,\"pa\":360,\"so\":361,\"down</w>\":362,\"fe\":363,\"there</w>\":364,\"ness</w>\":365,\"sc\":366,\"because</w>\":367,\"ard</w>\":368,\"way</w>\":369,\"aʹ\":370,\"gh</w>\":371,\"no</w>\":372,\"ses</w>\":373,\"tt\":374,\"ves</w>\":375,\"came</w>\":376,\"pp\":377,\"inst</w>\":378,\"ow</w>\":379,\"other</w>\":380,\"pre\":381,\"pla\":382,\"sh\":383,\"ous</w>\":384,\"against</w>\":385,\"did</w>\":386,\"ex\":387,\"we</w>\":388,\"things</w>\":389,\"Then</w>\":390,\"ke\":391,\"sh</w>\":392,\"ear</w>\":393,\"ok</w>\":394,\"word</w>\":395,\"thing</w>\":396,\"ove</w>\":397,\"fore</w>\":398,\"ear\":399,\"gre\":400,\"she\":401,\"am\":402,\"pri\":403,\"ud\":404,\"our\":405,\"chi\":406,\"when</w>\":407,\"ty</w>\":408,\"may</w>\":409,\"ity</w>\":410,\"al</w>\":411,\"self</w>\":412,\"ce\":413,\"over</w>\":414,\"ant</w>\":415,\"ther\":416,\"ep</w>\":417,\"say</w>\":418,\"ever\":419,\"ord</w>\":420,\"cu\":421,\"ever</w>\":422,\"ir\":423,\"man\":424,\"pt</w>\":425,\"res</w>\":426,\"serv\":427,\"hand</w>\":428,\"sons</w>\":429,\"tur\":430,\"whi\":431,\"its</w>\":432,\"ad</w>\":433,\"bro\":434,\"know</w>\":435,\"po\":436,\"bu\":437,\"gu\":438,\"become</w>\":439,\"che\":440,\"mb\":441,\"wo\":442,\"ey\":443,\"ying</w>\":444,\"hear\":445,\"tions</w>\":446,\"who\":447,\"mor\":448,\"per\":449,\"ving</w>\":450,\"ghte\":451,\"Mo\":452,\"br\":453,\"fe</w>\":454,\"ked</w>\":455,\"ine</w>\":456,\"before</w>\":457,\"make</w>\":458,\"fore\":459,\"When</w>\":460,\"bo\":461,\"ver</w>\":462,\"ven</w>\":463,\"ould</w>\":464,\"off\":465,\"Lord</w>\":466,\"go</w>\":467,\"must</w>\":468,\"ound</w>\":469,\"then</w>\":470,\"ces</w>\":471,\"ment</w>\":472,\"af\":473,\"il\":474,\"put</w>\":475,\"sha\":476,\"thers</w>\":477,\"der</w>\":478,\"if</w>\":479,\"righte\":480,\"lled</w>\":481,\"place</w>\":482,\"Dav\":483,\"mo\":484,\"ning</w>\":485,\"qu\":486,\"vi\":487,\"about</w>\":488,\"David</w>\":489,\"ded</w>\":490,\"she</w>\":491,\"tru\":492,\"been</w>\":493,\"ting</w>\":494,\"made</w>\":495,\"Wh\":496,\"au\":497,\"dea\":498,\"har\":499,\"earth</w>\":500,\"prie\":501,\"If</w>\":502,\"This</w>\":503,\"ks</w>\":504,\"ter\":505,\"see</w>\":506,\"also</w>\":507,\"spea\":508,\"among</w>\":509,\"iʹ\":510,\"il</w>\":511,\"ind</w>\":512,\"take</w>\":513,\"ken</w>\":514,\"ld\":515,\"here</w>\":516,\"ering</w>\":517,\"ig\":518,\"pra\":519,\"sing</w>\":520,\"ins</w>\":521,\"end</w>\":522,\"ful</w>\":523,\"ck</w>\":524,\"tes</w>\":525,\"heav\":526,\"fir\":527,\"name</w>\":528,\"cla\":529,\"ry</w>\":530,\"sent</w>\":531,\"ugh\":532,\"any\":533,\"these</w>\":534,\"ones</w>\":535,\"says</w>\":536,\"away</w>\":537,\"phe\":538,\"tu\":539,\"saying</w>\":540,\"let</w>\":541,\"blo\":542,\"eʹ\":543,\"went</w>\":544,\"sti\":545,\"sus</w>\":546,\"du\":547,\"just</w>\":548,\"led</w>\":549,\"love</w>\":550,\"would</w>\":551,\"time</w>\":552,\"In</w>\":553,\"gra\":554,\"les</w>\":555,\"ʹa\":556,\"throu\":557,\"ants</w>\":558,\"orn</w>\":559,\"Jesus</w>\":560,\"Do</w>\":561,\"Now</w>\":562,\"as\":563,\"city</w>\":564,\"up\":565,\"than</w>\":566,\"ang\":567,\"him\":568,\"father</w>\":569,\"does</w>\":570,\"It</w>\":571,\"ls</w>\":572,\"stre\":573,\"spi\":574,\"which</w>\":575,\"ation</w>\":576,\"par\":577,\"ver\":578,\"less</w>\":579,\"days</w>\":580,\"holy</w>\":581,\"turn</w>\":582,\"Jer\":583,\"app\":584,\"ʹa</w>\":585,\"any</w>\":586,\"ance</w>\":587,\"sts</w>\":588,\"well</w>\":589,\"great</w>\":590,\"heart</w>\":591,\"lor\":592,\"rin\":593,\"stru\":594,\"cont\":595,\"how</w>\":596,\"good</w>\":597,\"selves</w>\":598,\"lean</w>\":599,\"shed</w>\":600,\"Lo\":601,\"ct</w>\":602,\"cor\":603,\"ction</w>\":604,\"men\":605,\"your\":606,\"ʹi</w>\":607,\"ands</w>\":608,\"ence</w>\":609,\"fire</w>\":610,\"every</w>\":611,\"bring</w>\":612,\"through</w>\":613,\"Jo\":614,\"Jud\":615,\"Ma\":616,\"ad\":617,\"ch\":618,\"usa\":619,\"vo\":620,\"ws</w>\":621,\"ans\":622,\"ree</w>\":623,\"lem</w>\":624,\"side</w>\":625,\"mies</w>\":626,\"rought</w>\":627,\"righteous</w>\":628,\"himself</w>\":629,\"Jerusa\":630,\"Jerusalem</w>\":631,\"ba\":632,\"brought</w>\":633,\"cri\":634,\"clean</w>\":635,\"glor\":636,\"ster</w>\":637,\"spo\":638,\"eyes</w>\":639,\"whom</w>\":640,\"more</w>\":641,\"Moses</w>\":642,\"ign</w>\":643,\"Be\":644,\"Let</w>\":645,\"My</w>\":646,\"bac\":647,\"med</w>\":648,\"ni\":649,\"ned</w>\":650,\"tw\":651,\"head</w>\":652,\"can</w>\":653,\"decla\":654,\"daugh\":655,\"nations</w>\":656,\"give</w>\":657,\"ge\":658,\"long</w>\":659,\"ove\":660,\"prophe\":661,\"Judah</w>\":662,\"back</w>\":663,\"As</w>\":664,\"bur\":665,\"hu\":666,\"kno\":667,\"ps</w>\":668,\"plea\":669,\"sword</w>\":670,\"ites</w>\":671,\"und\":672,\"dis\":673,\"Eg\":674,\"On\":675,\"dy</w>\":676,\"ith</w>\":677,\"min\":678,\"ssi\":679,\"ved</w>\":680,\"ans</w>\":681,\"sta\":682,\"keep</w>\":683,\"speak</w>\":684,\"jo\":685,\"jud\":686,\"ki\":687,\"moun\":688,\"ong\":689,\"saw</w>\":690,\"read</w>\":691,\"blood</w>\":692,\"spiri\":693,\"Look</w>\":694,\"two</w>\":695,\"Egy\":696,\"im\":697,\"youn\":698,\"with\":699,\"ties</w>\":700,\"called</w>\":701,\"dom</w>\":702,\"aul</w>\":703,\"Eʹ\":704,\"How</w>\":705,\"ar</w>\":706,\"cl\":707,\"cked</w>\":708,\"ft</w>\":709,\"another</w>\":710,\"ous\":711,\"ars</w>\":712,\"over\":713,\"ens</w>\":714,\"right</w>\":715,\"life</w>\":716,\"ways</w>\":717,\"rai\":718,\"words</w>\":719,\"off</w>\":720,\"offering</w>\":721,\"priest</w>\":722,\"declares</w>\":723,\"mounta\":724,\"Egypt</w>\":725,\"What</w>\":726,\"ʹe</w>\":727,\"ene\":728,\"serve</w>\":729,\"death</w>\":730,\"ble</w>\":731,\"gar\":732,\"mon\":733,\"sla\":734,\"ten\":735,\"tri\":736,\"ters</w>\":737,\"ve\":738,\"wife</w>\":739,\"low</w>\":740,\"comp\":741,\"some</w>\":742,\"some\":743,\"Why</w>\":744,\"young</w>\":745,\"At</w>\":746,\"Ch\":747,\"That</w>\":748,\"born</w>\":749,\"eat</w>\":750,\"ice</w>\":751,\"arri\":752,\"stan\":753,\"wal\":754,\"water</w>\":755,\"comman\":756,\"spirit</w>\":757,\"All</w>\":758,\"done</w>\":759,\"eli\":760,\"je\":761,\"ror</w>\":762,\"tter</w>\":763,\"outh</w>\":764,\"rep\":765,\"rema\":766,\"reign</w>\":767,\"became</w>\":768,\"coming</w>\":769,\"chie\":770,\"many</w>\":771,\"brothers</w>\":772,\"upon</w>\":773,\"Chri\":774,\"Sove\":775,\"nor</w>\":776,\"pl\":777,\"yal</w>\":778,\"ren</w>\":779,\"str\":780,\"each</w>\":781,\"lls</w>\":782,\"true</w>\":783,\"cording</w>\":784,\"glory</w>\":785,\"One</w>\":786,\"Christ</w>\":787,\"Sovereign</w>\":788,\"To</w>\":789,\"clo\":790,\"ion</w>\":791,\"lov\":792,\"sin</w>\":793,\"inu\":794,\"sto\":795,\"living</w>\":796,\"ite</w>\":797,\"loyal</w>\":798,\"unclean</w>\":799,\"work</w>\":800,\"according</w>\":801,\"Israeli\":802,\"again</w>\":803,\"kept</w>\":804,\"every\":805,\"very</w>\":806,\"continu\":807,\"ments</w>\":808,\"May</w>\":809,\"know\":810,\"Israelites</w>\":811,\"mp\":812,\"pow\":813,\"sen\":814,\"where</w>\":815,\"ʹah</w>\":816,\"ani\":817,\"ough</w>\":818,\"row\":819,\"even</w>\":820,\"cities</w>\":821,\"ches</w>\":822,\"woman</w>\":823,\"after</w>\":824,\"Who</w>\":825,\"heavens</w>\":826,\"anyone</w>\":827,\"under\":828,\"standing</w>\":829,\"Saul</w>\":830,\"We</w>\":831,\"bit\":832,\"mother</w>\":833,\"sur\":834,\"ssed</w>\":835,\"wise</w>\":836,\"heard</w>\":837,\"til</w>\":838,\"law</w>\":839,\"gan</w>\":840,\"ally</w>\":841,\"able</w>\":842,\"given</w>\":843,\"child\":844,\"first</w>\":845,\"children</w>\":846,\"Your</w>\":847,\"ble\":848,\"cti\":849,\"drin\":850,\"fle\":851,\"fru\":852,\"hands</w>\":853,\"lt</w>\":854,\"long\":855,\"oin\":856,\"vin\":857,\"whe\":858,\"ʹm\":859,\"wicked</w>\":860,\"ors</w>\":861,\"stra\":862,\"began</w>\":863,\"light</w>\":864,\"why</w>\":865,\"owed</w>\":866,\"owever</w>\":867,\"There</w>\":868,\"gave</w>\":869,\"fied</w>\":870,\"took</w>\":871,\"cei\":872,\"forever</w>\":873,\"priests</w>\":874,\"gether</w>\":875,\"He\":876,\"Li\":877,\"She\":878,\"cov\":879,\"ep\":880,\"flo\":881,\"im</w>\":882,\"ms</w>\":883,\"ns</w>\":884,\"pea\":885,\"tre\":886,\"ven\":887,\"ʹn\":888,\"inha\":889,\"cap\":890,\"call</w>\":891,\"under</w>\":892,\"disc\":893,\"lling</w>\":894,\"brother</w>\":895,\"daughter</w>\":896,\"Baʹ\":897,\"However</w>\":898,\"ate</w>\":899,\"cha\":900,\"ced</w>\":901,\"coun\":902,\"dness</w>\":903,\"get</w>\":904,\"hor\":905,\"hop\":906,\"ph\":907,\"tra\":908,\"tow\":909,\"ary</w>\":910,\"armies</w>\":911,\"stand</w>\":912,\"sted</w>\":913,\"set</w>\":914,\"sea</w>\":915,\"along</w>\":916,\"until</w>\":917,\"hold</w>\":918,\"migh\":919,\"together</w>\":920,\"tten</w>\":921,\"ttle</w>\":922,\"iʹah</w>\":923,\"anything</w>\":924,\"night</w>\":925,\"His</w>\":926,\"Ja\":927,\"cer\":928,\"cut</w>\":929,\"cted</w>\":930,\"den</w>\":931,\"eld</w>\":932,\"found</w>\":933,\"ges</w>\":934,\"lon</w>\":935,\"pr\":936,\"pu\":937,\"tr\":938,\"va\":939,\"wri\":940,\"rely</w>\":941,\"stri\":942,\"row</w>\":943,\"sacri\":944,\"cob</w>\":945,\"look</w>\":946,\"far</w>\":947,\"face</w>\":948,\"tell</w>\":949,\"comes</w>\":950,\"going</w>\":951,\"served</w>\":952,\"servants</w>\":953,\"mber</w>\":954,\"both</w>\":955,\"dead</w>\":956,\"Because</w>\":957,\"prophets</w>\":958,\"ousness</w>\":959,\"inhabit\":960,\"Jacob</w>\":961,\"sacrifi\":962,\"fin\":963,\"gth</w>\":964,\"lf</w>\":965,\"low\":966,\"mea\":967,\"ob\":968,\"vor</w>\":969,\"high</w>\":970,\"nothing</w>\":971,\"live</w>\":972,\"seen</w>\":973,\"seven</w>\":974,\"lam\":975,\"loo\":976,\"field</w>\":977,\"tered</w>\":978,\"aby\":979,\"scu\":980,\"ʹab</w>\":981,\"answ\":982,\"spoken</w>\":983,\"without</w>\":984,\"walk</w>\":985,\"Al\":986,\"Baby\":987,\"On</w>\":988,\"can\":989,\"car\":990,\"crea\":991,\"el\":992,\"kin\":993,\"mu\":994,\"mar\":995,\"tly</w>\":996,\"though</w>\":997,\"around</w>\":998,\"ened</w>\":999,\"stro\":1000,\"sten</w>\":1001,\"being</w>\":1002,\"destro\":1003,\"left</w>\":1004,\"sig\":1005,\"works</w>\":1006,\"fathers</w>\":1007,\"favor</w>\":1008,\"gold</w>\":1009,\"gods</w>\":1010,\"round</w>\":1011,\"whole</w>\":1012,\"person</w>\":1013,\"righteousness</w>\":1014,\"prai\":1015,\"heaven</w>\":1016,\"mighty</w>\":1017,\"Babylon</w>\":1018,\"Aʹ\":1019,\"From</w>\":1020,\"Go</w>\":1021,\"No</w>\":1022,\"dge</w>\":1023,\"fal\":1024,\"ish</w>\":1025,\"kes</w>\":1026,\"kings</w>\":1027,\"ngth</w>\":1028,\"sy\":1029,\"zʹ\":1030,\"ths</w>\":1031,\"thir\":1032,\"and\":1033,\"return</w>\":1034,\"same</w>\":1035,\"gation</w>\":1036,\"alta\":1037,\"spe\":1038,\"faith</w>\":1039,\"congre\":1040,\"comm\":1041,\"mid\":1042,\"foll\":1043,\"child</w>\":1044,\"while</w>\":1045,\"anger</w>\":1046,\"part</w>\":1047,\"yourselves</w>\":1048,\"answer</w>\":1049,\"cannot</w>\":1050,\"Af\":1051,\"Re\":1052,\"Wi\":1053,\"ap\":1054,\"fy</w>\":1055,\"fall</w>\":1056,\"mselves</w>\":1057,\"mouth</w>\":1058,\"ol\":1059,\"pi\":1060,\"ra</w>\":1061,\"sk\":1062,\"shi\":1063,\"send</w>\":1064,\"sdom</w>\":1065,\"tent</w>\":1066,\"themselves</w>\":1067,\"repa\":1068,\"recei\":1069,\"rescu\":1070,\"ort</w>\":1071,\"sting</w>\":1072,\"cam\":1073,\"Their</w>\":1074,\"sil\":1075,\"taken</w>\":1076,\"tely</w>\":1077,\"sure</w>\":1078,\"means</w>\":1079,\"giving</w>\":1080,\"feet</w>\":1081,\"servant</w>\":1082,\"ilt</w>\":1083,\"qui\":1084,\"first\":1085,\"grain</w>\":1086,\"strength</w>\":1087,\"enemies</w>\":1088,\"power</w>\":1089,\"drink</w>\":1090,\"hope</w>\":1091,\"altar</w>\":1092,\"Phar\":1093,\"With</w>\":1094,\"ather</w>\":1095,\"brea\":1096,\"cur\":1097,\"ground</w>\":1098,\"ju\":1099,\"mes</w>\":1100,\"oh</w>\":1101,\"ton\":1102,\"war\":1103,\"ward</w>\":1104,\"wine</w>\":1105,\"ine\":1106,\"ined</w>\":1107,\"hear</w>\":1108,\"happ\":1109,\"error</w>\":1110,\"end\":1111,\"stu\":1112,\"sal\":1113,\"whose</w>\":1114,\"These</w>\":1115,\"sid\":1116,\"peoples</w>\":1117,\"foo\":1118,\"promi\":1119,\"ful\":1120,\"hearts</w>\":1121,\"ʹaoh</w>\":1122,\"appoin\":1123,\"yourself</w>\":1124,\"voice</w>\":1125,\"ssion</w>\":1126,\"coven\":1127,\"peace</w>\":1128,\"congregation</w>\":1129,\"Pharʹaoh</w>\":1130,\"Am\":1131,\"Father</w>\":1132,\"Is</w>\":1133,\"King</w>\":1134,\"Whi\":1135,\"att\":1136,\"bs</w>\":1137,\"could</w>\":1138,\"crow\":1139,\"fear</w>\":1140,\"mb</w>\":1141,\"near</w>\":1142,\"sse\":1143,\"ssing</w>\":1144,\"ʹb\":1145,\"refore</w>\":1146,\"order</w>\":1147,\"lies</w>\":1148,\"calam\":1149,\"raid</w>\":1150,\"see\":1151,\"ledge</w>\":1152,\"sight</w>\":1153,\"unde\":1154,\"world</w>\":1155,\"ready</w>\":1156,\"told</w>\":1157,\"full</w>\":1158,\"morning</w>\":1159,\"afraid</w>\":1160,\"practi\":1161,\"struction</w>\":1162,\"ching</w>\":1163,\"mountain</w>\":1164,\"something</w>\":1165,\"chief\":1166,\"loved</w>\":1167,\"whether</w>\":1168,\"toward</w>\":1169,\"midst</w>\":1170,\"covenant</w>\":1171,\"calamity</w>\":1172,\"Ab\":1173,\"Gi\":1174,\"La\":1175,\"Zion</w>\":1176,\"bir\":1177,\"fr\":1178,\"ith\":1179,\"my\":1180,\"prin\":1181,\"ring</w>\":1182,\"rʹi</w>\":1183,\"sʹ\":1184,\"sound</w>\":1185,\"tor\":1186,\"vation</w>\":1187,\"three</w>\":1188,\"out\":1189,\"wisdom</w>\":1190,\"rem\":1191,\"only</w>\":1192,\"half</w>\":1193,\"stor\":1194,\"stone</w>\":1195,\"master</w>\":1196,\"ram</w>\":1197,\"Therefore</w>\":1198,\"faith\":1199,\"food</w>\":1200,\"cious</w>\":1201,\"ched</w>\":1202,\"Moʹab</w>\":1203,\"forefathers</w>\":1204,\"speaking</w>\":1205,\"daughters</w>\":1206,\"please</w>\":1207,\"disci\":1208,\"judg\":1209,\"mountains</w>\":1210,\"someone</w>\":1211,\"commanded</w>\":1212,\"remain</w>\":1213,\"knowledge</w>\":1214,\"anima\":1215,\"Like</w>\":1216,\"written</w>\":1217,\"inhabitants</w>\":1218,\"third</w>\":1219,\"After</w>\":1220,\"silver</w>\":1221,\"salvation</w>\":1222,\"Aar\":1223,\"Here</w>\":1224,\"She</w>\":1225,\"bed</w>\":1226,\"ders</w>\":1227,\"eds</w>\":1228,\"fla\":1229,\"gr\":1230,\"ither</w>\":1231,\"llow</w>\":1232,\"ss\":1233,\"son\":1234,\"tree</w>\":1235,\"yed</w>\":1236,\"yer</w>\":1237,\"hat\":1238,\"ening</w>\":1239,\"enti\":1240,\"enter</w>\":1241,\"stit\":1242,\"bea\":1243,\"eal\":1244,\"lion</w>\":1245,\"rage</w>\":1246,\"semb\":1247,\"als</w>\":1248,\"die</w>\":1249,\"distre\":1250,\"evil</w>\":1251,\"concer\":1252,\"prostit\":1253,\"offi\":1254,\"places</w>\":1255,\"turned</w>\":1256,\"women</w>\":1257,\"que\":1258,\"visi\":1259,\"lders</w>\":1260,\"judge</w>\":1261,\"raise</w>\":1262,\"everyone</w>\":1263,\"understanding</w>\":1264,\"flesh</w>\":1265,\"Aaron</w>\":1266,\"prostitu\":1267,\"Be</w>\":1268,\"Nor</w>\":1269,\"Or</w>\":1270,\"Pe\":1271,\"Th\":1272,\"Yes</w>\":1273,\"cle\":1274,\"cour\":1275,\"dar\":1276,\"dwe\":1277,\"gn\":1278,\"lu\":1279,\"ph</w>\":1280,\"sea\":1281,\"sca\":1282,\"trea\":1283,\"tness</w>\":1284,\"xt</w>\":1285,\"ze</w>\":1286,\"thor\":1287,\"hel\":1288,\"army</w>\":1289,\"beau\":1290,\"Jews</w>\":1291,\"lied</w>\":1292,\"lity</w>\":1293,\"secon\":1294,\"defi\":1295,\"destruction</w>\":1296,\"owing</w>\":1297,\"new</w>\":1298,\"next</w>\":1299,\"surely</w>\":1300,\"acts</w>\":1301,\"above</w>\":1302,\"dow</w>\":1303,\"tters</w>\":1304,\"iron</w>\":1305,\"poor</w>\":1306,\"gue</w>\":1307,\"mini\":1308,\"comple\":1309,\"chief</w>\":1310,\"everything</w>\":1311,\"sacrifice</w>\":1312,\"carry</w>\":1313,\"kindness</w>\":1314,\"Will</w>\":1315,\"camp</w>\":1316,\"firstborn</w>\":1317,\"undeserved</w>\":1318,\"myself</w>\":1319,\"hatever</w>\":1320,\"second</w>\":1321,\"By</w>\":1322,\"Haʹ\":1323,\"Lev\":1324,\"Son</w>\":1325,\"Who\":1326,\"band</w>\":1327,\"bes</w>\":1328,\"bread</w>\":1329,\"ck\":1330,\"cho\":1331,\"dr\":1332,\"dly</w>\":1333,\"dust</w>\":1334,\"four</w>\":1335,\"hun\":1336,\"hind</w>\":1337,\"ik\":1338,\"igh\":1339,\"ild</w>\":1340,\"jah</w>\":1341,\"mer\":1342,\"mine</w>\":1343,\"nu\":1344,\"never</w>\":1345,\"wr\":1346,\"ining</w>\":1347,\"ren\":1348,\"her\":1349,\"having</w>\":1350,\"erful</w>\":1351,\"endu\":1352,\"save</w>\":1353,\"sake</w>\":1354,\"behind</w>\":1355,\"listen</w>\":1356,\"wall</w>\":1357,\"sees</w>\":1358,\"seph</w>\":1359,\"def\":1360,\"ows</w>\":1361,\"spread</w>\":1362,\"houses</w>\":1363,\"inging</w>\":1364,\"named</w>\":1365,\"sub\":1366,\"ache\":1367,\"got</w>\":1368,\"doing</w>\":1369,\"shu\":1370,\"bringing</w>\":1371,\"body</w>\":1372,\"offer</w>\":1373,\"most</w>\":1374,\"terri\":1375,\"asked</w>\":1376,\"struck</w>\":1377,\"Joseph</w>\":1378,\"hus\":1379,\"clou\":1380,\"strong</w>\":1381,\"longs</w>\":1382,\"viney\":1383,\"syrʹi</w>\":1384,\"iness</w>\":1385,\"fron\":1386,\"Peter</w>\":1387,\"dwelling</w>\":1388,\"Ar\":1389,\"Are</w>\":1390,\"Even</w>\":1391,\"Ha\":1392,\"Ho\":1393,\"Mi\":1394,\"No\":1395,\"alive</w>\":1396,\"bla\":1397,\"bad</w>\":1398,\"cre\":1399,\"elders</w>\":1400,\"foun\":1401,\"fine</w>\":1402,\"gen\":1403,\"ido\":1404,\"ished</w>\":1405,\"ling</w>\":1406,\"ming</w>\":1407,\"ner</w>\":1408,\"ome</w>\":1409,\"pur\":1410,\"rcu\":1411,\"sy</w>\":1412,\"san\":1413,\"sin\":1414,\"show</w>\":1415,\"uʹ\":1416,\"wra\":1417,\"wind</w>\":1418,\"whatever</w>\":1419,\"year</w>\":1420,\"wild\":1421,\"rest</w>\":1422,\"rela\":1423,\"erness</w>\":1424,\"entered</w>\":1425,\"stea\":1426,\"stup\":1427,\"rity</w>\":1428,\"tis\":1429,\"tive</w>\":1430,\"east</w>\":1431,\"wat\":1432,\"case</w>\":1433,\"secu\":1434,\"desi\":1435,\"desc\":1436,\"gain</w>\":1437,\"filled</w>\":1438,\"tain</w>\":1439,\"ach</w>\":1440,\"caused</w>\":1441,\"member</w>\":1442,\"circu\":1443,\"too</w>\":1444,\"pped</w>\":1445,\"present</w>\":1446,\"exam\":1447,\"build</w>\":1448,\"guard</w>\":1449,\"mble</w>\":1450,\"prayer</w>\":1451,\"assemb\":1452,\"glori\":1453,\"spoke</w>\":1454,\"ssions</w>\":1455,\"joy</w>\":1456,\"raised</w>\":1457,\"garment</w>\":1458,\"tribe</w>\":1459,\"command\":1460,\"known</w>\":1461,\"flock</w>\":1462,\"destroy</w>\":1463,\"appe\":1464,\"While</w>\":1465,\"judgment</w>\":1466,\"distress</w>\":1467,\"Levites</w>\":1468,\"endures</w>\":1469,\"wilderness</w>\":1470,\"stupid</w>\":1471,\"00</w>\":1472,\"Isa\":1473,\"Moun\":1474,\"Sam\":1475,\"ake</w>\":1476,\"age</w>\":1477,\"bow</w>\":1478,\"cra\":1479,\"den\":1480,\"ement</w>\":1481,\"fat</w>\":1482,\"fli\":1483,\"kiʹah</w>\":1484,\"lord</w>\":1485,\"mci\":1486,\"nor\":1487,\"obe\":1488,\"sses</w>\":1489,\"ten</w>\":1490,\"twe\":1491,\"wear</w>\":1492,\"thʹ\":1493,\"than\":1494,\"thre\":1495,\"inhe\":1496,\"ines</w>\":1497,\"witness</w>\":1498,\"once</w>\":1499,\"ention</w>\":1500,\"belong</w>\":1501,\"better</w>\":1502,\"betwe\":1503,\"times</w>\":1504,\"liʹ\":1505,\"seven\":1506,\"laid</w>\":1507,\"late</w>\":1508,\"devo\":1509,\"deeds</w>\":1510,\"gate</w>\":1511,\"always</w>\":1512,\"fid\":1513,\"union</w>\":1514,\"open</w>\":1515,\"died</w>\":1516,\"disp\":1517,\"evening</w>\":1518,\"uring</w>\":1519,\"nation</w>\":1520,\"accoun\":1521,\"comfor\":1522,\"lead</w>\":1523,\"festi\":1524,\"exi\":1525,\"ears</w>\":1526,\"sheep</w>\":1527,\"broken</w>\":1528,\"guilt</w>\":1529,\"wood</w>\":1530,\"foreign</w>\":1531,\"stice</w>\":1532,\"angel</w>\":1533,\"prophet</w>\":1534,\"kill</w>\":1535,\"Eʹph\":1536,\"enemy</w>\":1537,\"replied</w>\":1538,\"clothe\":1539,\"continue</w>\":1540,\"continued</w>\":1541,\"fruits</w>\":1542,\"ʹmon</w>\":1543,\"ʹnah</w>\":1544,\"prov\":1545,\"trans\":1546,\"Also</w>\":1547,\"much</w>\":1548,\"praise</w>\":1549,\"attention</w>\":1550,\"birth</w>\":1551,\"princes</w>\":1552,\"outside</w>\":1553,\"concerning</w>\":1554,\"clean\":1555,\"dark\":1556,\"husband</w>\":1557,\"front</w>\":1558,\"circumci\":1559,\"inheri\":1560,\"between</w>\":1561,\"seventh</w>\":1562,\"Eʹphra</w>\":1563,\"Caʹ\":1564,\"Na\":1565,\"Naʹ\":1566,\"Pha\":1567,\"Se\":1568,\"Siʹ\":1569,\"Te\":1570,\"ately</w>\":1571,\"cy</w>\":1572,\"cou\":1573,\"cea\":1574,\"cru\":1575,\"cks</w>\":1576,\"dwell</w>\":1577,\"ged</w>\":1578,\"king\":1579,\"mon</w>\":1580,\"od\":1581,\"pha\":1582,\"pun\":1583,\"rs</w>\":1584,\"sor\":1585,\"swor\":1586,\"smo\":1587,\"tance</w>\":1588,\"uel</w>\":1589,\"win\":1590,\"warri\":1591,\"yes</w>\":1592,\"ought</w>\":1593,\"wild</w>\":1594,\"thered</w>\":1595,\"regi\":1596,\"refu\":1597,\"rejo\":1598,\"ond</w>\":1599,\"hair</w>\":1600,\"erings</w>\":1601,\"ents</w>\":1602,\"ste\":1603,\"beli\":1604,\"riʹah</w>\":1605,\"male</w>\":1606,\"little</w>\":1607,\"war</w>\":1608,\"waters</w>\":1609,\"secre\":1610,\"lay</w>\":1611,\"lation</w>\":1612,\"copp\":1613,\"dev\":1614,\"deep</w>\":1615,\"itting</w>\":1616,\"alle\":1617,\"already</w>\":1618,\"spring</w>\":1619,\"sister</w>\":1620,\"table</w>\":1621,\"test\":1622,\"sun</w>\":1623,\"confid\":1624,\"acce\":1625,\"aband\":1626,\"mee\":1627,\"prof\":1628,\"top</w>\":1629,\"wered</w>\":1630,\"fection</w>\":1631,\"shʹ\":1632,\"cheru\":1633,\"eye</w>\":1634,\"shame</w>\":1635,\"harge</w>\":1636,\"ture</w>\":1637,\"Joshu\":1638,\"answered</w>\":1639,\"burn</w>\":1640,\"Sheik\":1641,\"spee\":1642,\"skin</w>\":1643,\"ship</w>\":1644,\"rescue</w>\":1645,\"justice</w>\":1646,\"tongue</w>\":1647,\"Give</w>\":1648,\"Law</w>\":1649,\"faithful\":1650,\"discip\":1651,\"animals</w>\":1652,\"gnant</w>\":1653,\"hung\":1654,\"subje\":1655,\"vineyard</w>\":1656,\"Mount</w>\":1657,\"Samuel</w>\":1658,\"festiv\":1659,\"darkness</w>\":1660,\"circumcised</w>\":1661,\"Phari\":1662,\"copper</w>\":1663,\"Joshua</w>\":1664,\"Sheikh</w>\":1665,\"000</w>\":1666,\"Diʹ\":1667,\"Jah</w>\":1668,\"Ke\":1669,\"Ma</w>\":1670,\"Paul</w>\":1671,\"Sa</w>\":1672,\"Sha\":1673,\"Sim\":1674,\"Where</w>\":1675,\"bl\":1676,\"ct\":1677,\"cred</w>\":1678,\"cce\":1679,\"carri\":1680,\"dri\":1681,\"during</w>\":1682,\"es\":1683,\"ef</w>\":1684,\"ff\":1685,\"find</w>\":1686,\"free</w>\":1687,\"flow\":1688,\"gs</w>\":1689,\"ging</w>\":1690,\"grea\":1691,\"hur\":1692,\"horn</w>\":1693,\"ima\":1694,\"ish\":1695,\"lin\":1696,\"lti\":1697,\"nt</w>\":1698,\"old</w>\":1699,\"ots</w>\":1700,\"oil</w>\":1701,\"per</w>\":1702,\"pit</w>\":1703,\"sit</w>\":1704,\"tea\":1705,\"used</w>\":1706,\"yet</w>\":1707,\"zed</w>\":1708,\"ʹs\":1709,\"thr\":1710,\"thy</w>\":1711,\"inter\":1712,\"instru\":1713,\"rebe\":1714,\"reside</w>\":1715,\"reje\":1716,\"resid\":1717,\"reque\":1718,\"heʹ\":1719,\"one\":1720,\"aring</w>\":1721,\"entr\":1722,\"hiʹ\":1723,\"sacred</w>\":1724,\"belongs</w>\":1725,\"tiful</w>\":1726,\"makes</w>\":1727,\"washed</w>\":1728,\"ran</w>\":1729,\"seh</w>\":1730,\"lar</w>\":1731,\"lasting</w>\":1732,\"deed</w>\":1733,\"dered</w>\":1734,\"deso\":1735,\"gathered</w>\":1736,\"tation</w>\":1737,\"dan</w>\":1738,\"opened</w>\":1739,\"dire\":1740,\"diately</w>\":1741,\"temp\":1742,\"nai</w>\":1743,\"naan</w>\":1744,\"nasʹ\":1745,\"such</w>\":1746,\"succe\":1747,\"consu\":1748,\"caught</w>\":1749,\"mediately</w>\":1750,\"cial</w>\":1751,\"gives</w>\":1752,\"pass</w>\":1753,\"scri\":1754,\"tting</w>\":1755,\"exce\":1756,\"posse\":1757,\"perish</w>\":1758,\"viol\":1759,\"trust</w>\":1760,\"vol\":1761,\"burnt</w>\":1762,\"joy\":1763,\"killed</w>\":1764,\"clare</w>\":1765,\"garments</w>\":1766,\"month</w>\":1767,\"slaves</w>\":1768,\"loves</w>\":1769,\"blessed</w>\":1770,\"Heb\":1771,\"Sheʹ\":1772,\"eping</w>\":1773,\"false</w>\":1774,\"followed</w>\":1775,\"following</w>\":1776,\"repair</w>\":1777,\"appointed</w>\":1778,\"offic\":1779,\"help</w>\":1780,\"beautiful</w>\":1781,\"founda\":1782,\"gener\":1783,\"idols</w>\":1784,\"stead</w>\":1785,\"commandments</w>\":1786,\"appear\":1787,\"north</w>\":1788,\"clothed</w>\":1789,\"transgre\":1790,\"inheritance</w>\":1791,\"Caʹnaan</w>\":1792,\"smoke</w>\":1793,\"devour</w>\":1794,\"meeting</w>\":1795,\"cherubs</w>\":1796,\"Pharisees</w>\":1797,\"escap\":1798,\"nasʹseh</w>\":1799,\"An\":1800,\"Cheʹ\":1801,\"Happ\":1802,\"Je</w>\":1803,\"Just</w>\":1804,\"Jaʹ\":1805,\"Put</w>\":1806,\"Praise</w>\":1807,\"Su\":1808,\"Take</w>\":1809,\"ac</w>\":1810,\"ated</w>\":1811,\"apo\":1812,\"aton\":1813,\"bor</w>\":1814,\"bones</w>\":1815,\"bowed</w>\":1816,\"cing</w>\":1817,\"cle</w>\":1818,\"care</w>\":1819,\"don\":1820,\"dry</w>\":1821,\"dden</w>\":1822,\"fur\":1823,\"gover\":1824,\"hi</w>\":1825,\"lands</w>\":1826,\"ol</w>\":1827,\"om</w>\":1828,\"others</w>\":1829,\"por\":1830,\"pil\":1831,\"rah</w>\":1832,\"sle\":1833,\"sna\":1834,\"south</w>\":1835,\"sort</w>\":1836,\"tou\":1837,\"tal\":1838,\"trou\":1839,\"won\":1840,\"ʹti\":1841,\"throw</w>\":1842,\"anted</w>\":1843,\"inno\":1844,\"inten\":1845,\"oured</w>\":1846,\"wives</w>\":1847,\"widow</w>\":1848,\"ree\":1849,\"remember</w>\":1850,\"hea\":1851,\"onor</w>\":1852,\"arro\":1853,\"oved</w>\":1854,\"sters</w>\":1855,\"stones</w>\":1856,\"satis\":1857,\"ribu\":1858,\"lie</w>\":1859,\"ligh\":1860,\"rain</w>\":1861,\"sear\":1862,\"lated</w>\":1863,\"deser\":1864,\"detest\":1865,\"gather</w>\":1866,\"gates</w>\":1867,\"alone</w>\":1868,\"dies</w>\":1869,\"run</w>\":1870,\"news</w>\":1871,\"supp\":1872,\"conta\":1873,\"forti\":1874,\"mes\":1875,\"follow</w>\":1876,\"produ\":1877,\"lease</w>\":1878,\"today</w>\":1879,\"tomb</w>\":1880,\"soon</w>\":1881,\"fell</w>\":1882,\"feel</w>\":1883,\"pregnant</w>\":1884,\"placed</w>\":1885,\"exal\":1886,\"shephe\":1887,\"turning</w>\":1888,\"buil\":1889,\"built</w>\":1890,\"peri\":1891,\"bran\":1892,\"offerings</w>\":1893,\"offspring</w>\":1894,\"qua\":1895,\"truth</w>\":1896,\"trusted</w>\":1897,\"ughter</w>\":1898,\"tured</w>\":1899,\"tures</w>\":1900,\"contribu\":1901,\"advi\":1902,\"bap\":1903,\"battle</w>\":1904,\"pleasure</w>\":1905,\"immediately</w>\":1906,\"within</w>\":1907,\"stood</w>\":1908,\"rown</w>\":1909,\"longer</w>\":1910,\"Hez</w>\":1911,\"captured</w>\":1912,\"discer\":1913,\"Baʹla\":1914,\"chari\":1915,\"horses</w>\":1916,\"sacrifices</w>\":1917,\"marʹi</w>\":1918,\"sign</w>\":1919,\"zʹz\":1920,\"pie\":1921,\"promise</w>\":1922,\"appoint</w>\":1923,\"Amʹmon</w>\":1924,\"crowd</w>\":1925,\"chieftain</w>\":1926,\"remove</w>\":1927,\"entire</w>\":1928,\"vision</w>\":1929,\"prostitute</w>\":1930,\"mercy</w>\":1931,\"wrong</w>\":1932,\"Have</w>\":1933,\"Holy</w>\":1934,\"assembly</w>\":1935,\"comfort</w>\":1936,\"Tell</w>\":1937,\"swore</w>\":1938,\"region</w>\":1939,\"alley</w>\":1940,\"faithfulness</w>\":1941,\"hungry</w>\":1942,\"ctor</w>\":1943,\"carried</w>\":1944,\"linen</w>\":1945,\"throne</w>\":1946,\"entrance</w>\":1947,\"joyful</w>\":1948,\"appearance</w>\":1949,\"Happy</w>\":1950,\"atonement</w>\":1951,\"innoc\":1952,\"detestable</w>\":1953,\"shepher\":1954,\"Bo\":1955,\"Come</w>\":1956,\"Every</w>\":1957,\"Gu\":1958,\"Get</w>\":1959,\"In\":1960,\"Laʹ\":1961,\"Mor\":1962,\"Ri\":1963,\"Re</w>\":1964,\"Sa\":1965,\"ai\":1966,\"at\":1967,\"ats</w>\":1968,\"asha\":1969,\"apart</w>\":1970,\"bless</w>\":1971,\"cup</w>\":1972,\"cry</w>\":1973,\"cove\":1974,\"dra\":1975,\"dear</w>\":1976,\"els</w>\":1977,\"eps</w>\":1978,\"either</w>\":1979,\"ger</w>\":1980,\"gone</w>\":1981,\"gni\":1982,\"hn</w>\":1983,\"hu</w>\":1984,\"is\":1985,\"iah</w>\":1986,\"ize</w>\":1987,\"kers</w>\":1988,\"kind</w>\":1989,\"lʹ\":1990,\"len\":1991,\"mour\":1992,\"oc\":1993,\"poured</w>\":1994,\"sen</w>\":1995,\"sins</w>\":1996,\"sence</w>\":1997,\"tary</w>\":1998,\"ttered</w>\":1999,\"ul\":2000,\"vine</w>\":2001,\"wro\":2002,\"weal\":2003,\"ʹam</w>\":2004,\"ʹans</w>\":2005,\"anoin\":2006,\"resp\":2007,\"reover</w>\":2008,\"held</w>\":2009,\"oned</w>\":2010,\"onʹa</w>\":2011,\"hab</w>\":2012,\"ards</w>\":2013,\"ended</w>\":2014,\"sty</w>\":2015,\"becomes</w>\":2016,\"beloved</w>\":2017,\"behalf</w>\":2018,\"rich</w>\":2019,\"river</w>\":2020,\"making</w>\":2021,\"matter</w>\":2022,\"lic</w>\":2023,\"list\":2024,\"lished</w>\":2025,\"lips</w>\":2026,\"wash</w>\":2027,\"walls</w>\":2028,\"wages</w>\":2029,\"lam</w>\":2030,\"lace</w>\":2031,\"later</w>\":2032,\"desp\":2033,\"deci\":2034,\"deva\":2035,\"declare</w>\":2036,\"gal</w>\":2037,\"although</w>\":2038,\"sie\":2039,\"sions</w>\":2040,\"unless</w>\":2041,\"tal</w>\":2042,\"dist\":2043,\"divin\":2044,\"fact</w>\":2045,\"ruin</w>\":2046,\"neither</w>\":2047,\"suff\":2048,\"condu\":2049,\"hol\":2050,\"compa\":2051,\"gotten</w>\":2052,\"might</w>\":2053,\"forgotten</w>\":2054,\"melo\":2055,\"meet</w>\":2056,\"weep</w>\":2057,\"pay</w>\":2058,\"pared</w>\":2059,\"sol\":2060,\"fered</w>\":2061,\"fellow</w>\":2062,\"sche\":2063,\"precious</w>\":2064,\"presence</w>\":2065,\"prepared</w>\":2066,\"exp\":2067,\"bulls</w>\":2068,\"Moreover</w>\":2069,\"affli\":2070,\"shan</w>\":2071,\"moth</w>\":2072,\"terward</w>\":2073,\"still</w>\":2074,\"John</w>\":2075,\"Make</w>\":2076,\"chan\":2077,\"human</w>\":2078,\"pleasing</w>\":2079,\"Eʹdom</w>\":2080,\"tensi\":2081,\"tribu\":2082,\"vesse\":2083,\"walking</w>\":2084,\"remains</w>\":2085,\"remaining</w>\":2086,\"powerful</w>\":2087,\"understand</w>\":2088,\"fruit</w>\":2089,\"fruit\":2090,\"ʹmi</w>\":2091,\"Listen</w>\":2092,\"trees</w>\":2093,\"discharge</w>\":2094,\"horror</w>\":2095,\"looking</w>\":2096,\"looked</w>\":2097,\"command</w>\":2098,\"repay</w>\":2099,\"promised</w>\":2100,\"practice</w>\":2101,\"storm</w>\":2102,\"grant</w>\":2103,\"beast</w>\":2104,\"course</w>\":2105,\"defile</w>\":2106,\"completely</w>\":2107,\"drun\":2108,\"number</w>\":2109,\"herself</w>\":2110,\"wrath</w>\":2111,\"security</w>\":2112,\"Isaac</w>\":2113,\"liʹjah</w>\":2114,\"profan\":2115,\"speech</w>\":2116,\"disciples</w>\":2117,\"festival</w>\":2118,\"Keep</w>\":2119,\"Simon</w>\":2120,\"desolate</w>\":2121,\"temple</w>\":2122,\"escape</w>\":2123,\"apost\":2124,\"donke\":2125,\"satisfied</w>\":2126,\"desert</w>\":2127,\"ashamed</w>\":2128,\"covered</w>\":2129,\"wrote</w>\":2130,\"wealth</w>\":2131,\"divination</w>\":2132,\"conduct</w>\":2133,\"vessel</w>\":2134,\"Con\":2135,\"Cha\":2136,\"De\":2137,\"Fin\":2138,\"Gil\":2139,\"Gree\":2140,\"Hear</w>\":2141,\"Ou\":2142,\"Phi</w>\":2143,\"Shou\":2144,\"Sel\":2145,\"Ti\":2146,\"To\":2147,\"Un\":2148,\"Wo\":2149,\"Zaʹ\":2150,\"ast</w>\":2151,\"asc\":2152,\"adu\":2153,\"bb\":2154,\"bi\":2155,\"bar\":2156,\"bra\":2157,\"boun\":2158,\"cts</w>\":2159,\"cover</w>\":2160,\"ctu\":2161,\"eb\":2162,\"est\":2163,\"est</w>\":2164,\"ecu\":2165,\"gin</w>\":2166,\"gard</w>\":2167,\"grow</w>\":2168,\"ks\":2169,\"lan\":2170,\"lar\":2171,\"ma</w>\":2172,\"mer</w>\":2173,\"mind</w>\":2174,\"marri\":2175,\"niʹah</w>\":2176,\"pes</w>\":2177,\"rors</w>\":2178,\"sn\":2179,\"sho\":2180,\"site</w>\":2181,\"swear</w>\":2182,\"tches</w>\":2183,\"tched</w>\":2184,\"ughte\":2185,\"utensi\":2186,\"vel</w>\":2187,\"wings</w>\":2188,\"yone</w>\":2189,\"years</w>\":2190,\"ʹr\":2191,\"ʹo</w>\":2192,\"ʹor</w>\":2193,\"ʹde</w>\":2194,\"thi\":2195,\"inc\":2196,\"inly</w>\":2197,\"inside</w>\":2198,\"increa\":2199,\"instead</w>\":2200,\"ough\":2201,\"rer</w>\":2202,\"remi\":2203,\"regu\":2204,\"regar\":2205,\"really</w>\":2206,\"reach</w>\":2207,\"regard</w>\":2208,\"ongh\":2209,\"hate</w>\":2210,\"arm</w>\":2211,\"arly</w>\":2212,\"oves</w>\":2213,\"enough</w>\":2214,\"strea\":2215,\"stars</w>\":2216,\"rod</w>\":2217,\"road</w>\":2218,\"saved</w>\":2219,\"salt</w>\":2220,\"Jeremi\":2221,\"rise</w>\":2222,\"lish\":2223,\"lift</w>\":2224,\"cal</w>\":2225,\"calls</w>\":2226,\"rather</w>\":2227,\"law\":2228,\"last</w>\":2229,\"ghout</w>\":2230,\"dece\":2231,\"deʹans</w>\":2232,\"legal</w>\":2233,\"itʹti\":2234,\"loa\":2235,\"locu\":2236,\"allow</w>\":2237,\"spear</w>\":2238,\"house\":2239,\"tan</w>\":2240,\"taun\":2241,\"tainly</w>\":2242,\"dish\":2243,\"working</w>\":2244,\"faces</w>\":2245,\"famine</w>\":2246,\"ruins</w>\":2247,\"tears</w>\":2248,\"sul\":2249,\"sures</w>\":2250,\"form</w>\":2251,\"forward</w>\":2252,\"prote\":2253,\"gift</w>\":2254,\"offered</w>\":2255,\"weeping</w>\":2256,\"passed</w>\":2257,\"passing</w>\":2258,\"palace</w>\":2259,\"scor\":2260,\"press</w>\":2261,\"presen\":2262,\"shly</w>\":2263,\"shʹb\":2264,\"execu\":2265,\"earne\":2266,\"pright</w>\":2267,\"prison\":2268,\"ourselves</w>\":2269,\"chish</w>\":2270,\"everlasting</w>\":2271,\"cub\":2272,\"service</w>\":2273,\"bull</w>\":2274,\"chem</w>\":2275,\"hearing</w>\":2276,\"whoever</w>\":2277,\"perver\":2278,\"forest</w>\":2279,\"boʹam</w>\":2280,\"shadow</w>\":2281,\"author\":2282,\"hard</w>\":2283,\"termin\":2284,\"terror</w>\":2285,\"firm</w>\":2286,\"stion</w>\":2287,\"grapes</w>\":2288,\"throughout</w>\":2289,\"ask</w>\":2290,\"yours</w>\":2291,\"Joʹab</w>\":2292,\"adv\":2293,\"added</w>\":2294,\"Bethʹ\":2295,\"declared</w>\":2296,\"burned</w>\":2297,\"disea\":2298,\"Only</w>\":2299,\"stated</w>\":2300,\"judges</w>\":2301,\"Eʹsa\":2302,\"clu\":2303,\"mony</w>\":2304,\"slave</w>\":2305,\"slaughte\":2306,\"company</w>\":2307,\"compani\":2308,\"strongh\":2309,\"clothe</w>\":2310,\"sending</w>\":2311,\"blets</w>\":2312,\"blessing</w>\":2313,\"Baʹal</w>\":2314,\"mean</w>\":2315,\"measure</w>\":2316,\"observe</w>\":2317,\"obje\":2318,\"signs</w>\":2319,\"receive</w>\":2320,\"receives</w>\":2321,\"received</w>\":2322,\"break</w>\":2323,\"warming</w>\":2324,\"happen</w>\":2325,\"stumble</w>\":2326,\"sides</w>\":2327,\"foot</w>\":2328,\"fully</w>\":2329,\"chiefs</w>\":2330,\"tory</w>\":2331,\"faithful</w>\":2332,\"discipl\":2333,\"visions</w>\":2334,\"prostitution</w>\":2335,\"defiled</w>\":2336,\"minist\":2337,\"minister</w>\":2338,\"Whoever</w>\":2339,\"chosen</w>\":2340,\"ached</w>\":2341,\"cloud</w>\":2342,\"clouds</w>\":2343,\"Not</w>\":2344,\"sancti\":2345,\"sanctu\":2346,\"watch</w>\":2347,\"thanks\":2348,\"account</w>\":2349,\"provi\":2350,\"See</w>\":2351,\"crushed</w>\":2352,\"punish\":2353,\"rejoice</w>\":2354,\"confidence</w>\":2355,\"accep\":2356,\"blind</w>\":2357,\"images</w>\":2358,\"teaching</w>\":2359,\"ʹsa</w>\":2360,\"rejected</w>\":2361,\"request</w>\":2362,\"director</w>\":2363,\"scribes</w>\":2364,\"Hebre\":2365,\"Sheʹchem</w>\":2366,\"generation</w>\":2367,\"Surely</w>\":2368,\"portion</w>\":2369,\"sleep</w>\":2370,\"fortified</w>\":2371,\"exalted</w>\":2372,\"building</w>\":2373,\"branches</w>\":2374,\"contribution</w>\":2375,\"chariots</w>\":2376,\"zʹzah</w>\":2377,\"pieces</w>\":2378,\"innocent</w>\":2379,\"shepherd</w>\":2380,\"anointed</w>\":2381,\"respon\":2382,\"siege</w>\":2383,\"melody</w>\":2384,\"drunk</w>\":2385,\"Chal</w>\":2386,\"Finally</w>\":2387,\"Selah</w>\":2388,\"Woe</w>\":2389,\"Jeremiah</w>\":2390,\"locusts</w>\":2391,\"authority</w>\":2392,\"slaughtered</w>\":2393,\"thanksgiving</w>\":2394,\"punishment</w>\":2395,\"Es\":2396,\"Fur\":2397,\"Fir\":2398,\"Go\":2399,\"Hi\":2400,\"Han\":2401,\"Hiʹ\":2402,\"Jer</w>\":2403,\"Jonʹa</w>\":2404,\"Leb\":2405,\"Please</w>\":2406,\"Ro\":2407,\"Sy\":2408,\"Sol\":2409,\"Some</w>\":2410,\"Tru\":2411,\"Zo\":2412,\"ast\":2413,\"ath</w>\":2414,\"ama\":2415,\"aca\":2416,\"ahead</w>\":2417,\"ality</w>\":2418,\"ber\":2419,\"bor\":2420,\"bri\":2421,\"ban</w>\":2422,\"bars</w>\":2423,\"bbed</w>\":2424,\"cking</w>\":2425,\"cke\":2426,\"ctions</w>\":2427,\"don</w>\":2428,\"dne\":2429,\"dʹi</w>\":2430,\"dary</w>\":2431,\"dows</w>\":2432,\"ed\":2433,\"ey</w>\":2434,\"eve</w>\":2435,\"fri\":2436,\"fty</w>\":2437,\"fled</w>\":2438,\"gri\":2439,\"hour</w>\":2440,\"ious</w>\":2441,\"jeal\":2442,\"ker</w>\":2443,\"mor</w>\":2444,\"ne</w>\":2445,\"non</w>\":2446,\"ners</w>\":2447,\"nment</w>\":2448,\"oth</w>\":2449,\"oke</w>\":2450,\"ped</w>\":2451,\"pover\":2452,\"rove</w>\":2453,\"rying</w>\":2454,\"sk</w>\":2455,\"ser</w>\":2456,\"sat</w>\":2457,\"sso\":2458,\"ski\":2459,\"sitting</w>\":2460,\"swarming</w>\":2461,\"ty\":2462,\"twi\":2463,\"torn</w>\":2464,\"tines</w>\":2465,\"upright</w>\":2466,\"vea\":2467,\"vir\":2468,\"wea\":2469,\"want</w>\":2470,\"yoke</w>\":2471,\"zer</w>\":2472,\"zʹa</w>\":2473,\"zʹe</w>\":2474,\"ʹp\":2475,\"ʹt\":2476,\"thin\":2477,\"thless</w>\":2478,\"thous\":2479,\"anni\":2480,\"indi\":2481,\"inte\":2482,\"infection</w>\":2483,\"indeed</w>\":2484,\"willing</w>\":2485,\"reli\":2486,\"remin\":2487,\"restor\":2488,\"returned</w>\":2489,\"rers</w>\":2490,\"revea\":2491,\"ari\":2492,\"arʹ\":2493,\"enters</w>\":2494,\"ently</w>\":2495,\"star\":2496,\"staf\":2497,\"stands</w>\":2498,\"stence</w>\":2499,\"strai\":2500,\"roll</w>\":2501,\"rock</w>\":2502,\"hire</w>\":2503,\"hills</w>\":2504,\"hidden</w>\":2505,\"safe\":2506,\"beg</w>\":2507,\"bear</w>\":2508,\"Jezʹ\":2509,\"riv\":2510,\"ria</w>\":2511,\"magni\":2512,\"eating</w>\":2513,\"lives</w>\":2514,\"liver</w>\":2515,\"lisʹ\":2516,\"cai</w>\":2517,\"cave</w>\":2518,\"cation</w>\":2519,\"seed</w>\":2520,\"sely</w>\":2521,\"lations</w>\":2522,\"dem\":2523,\"dep\":2524,\"depri\":2525,\"devi\":2526,\"depar\":2527,\"delight</w>\":2528,\"lee</w>\":2529,\"lech</w>\":2530,\"letter</w>\":2531,\"less\":2532,\"letters</w>\":2533,\"owl</w>\":2534,\"iting</w>\":2535,\"ited</w>\":2536,\"lot</w>\":2537,\"spl\":2538,\"spr\":2539,\"sion</w>\":2540,\"unning</w>\":2541,\"uncircumcised</w>\":2542,\"taking</w>\":2543,\"tains</w>\":2544,\"takes</w>\":2545,\"tablets</w>\":2546,\"taber\":2547,\"opp\":2548,\"oppo\":2549,\"dif\":2550,\"disa\":2551,\"dient</w>\":2552,\"dition</w>\":2553,\"distri\":2554,\"dicial</w>\":2555,\"urcha\":2556,\"fami\":2557,\"father\":2558,\"fail</w>\":2559,\"testi\":2560,\"neigh\":2561,\"naked</w>\":2562,\"nacle</w>\":2563,\"sum\":2564,\"act</w>\":2565,\"acted</w>\":2566,\"goats</w>\":2567,\"dok</w>\":2568,\"door</w>\":2569,\"doors</w>\":2570,\"met</w>\":2571,\"meless</w>\":2572,\"reading</w>\":2573,\"reason\":2574,\"roun\":2575,\"rough</w>\":2576,\"prosp\":2577,\"cia</w>\":2578,\"leading</w>\":2579,\"path</w>\":2580,\"pastu\":2581,\"felt</w>\":2582,\"aʹn\":2583,\"shing</w>\":2584,\"shown</w>\":2585,\"keeps</w>\":2586,\"green</w>\":2587,\"culti\":2588,\"iring</w>\":2589,\"turns</w>\":2590,\"buy</w>\":2591,\"buri\":2592,\"gui\":2593,\"gusting</w>\":2594,\"chers</w>\":2595,\"mbers</w>\":2596,\"mbling</w>\":2597,\"womb</w>\":2598,\"foreig\":2599,\"affection</w>\":2600,\"iled</w>\":2601,\"share</w>\":2602,\"mothy</w>\":2603,\"quar\":2604,\"harm</w>\":2605,\"speaks</w>\":2606,\"heavy</w>\":2607,\"claim</w>\":2608,\"blood\":2609,\"blosso\":2610,\"ʹaz</w>\":2611,\"geance</w>\":2612,\"knows</w>\":2613,\"disgra\":2614,\"disgusting</w>\":2615,\"kidne\":2616,\"ously</w>\":2617,\"garden</w>\":2618,\"money</w>\":2619,\"slaughter</w>\":2620,\"tribes</w>\":2621,\"repor\":2622,\"stop</w>\":2623,\"stock</w>\":2624,\"sense</w>\":2625,\"survi\":2626,\"surroun\":2627,\"drinking</w>\":2628,\"flee</w>\":2629,\"stray</w>\":2630,\"ceived</w>\":2631,\"covering</w>\":2632,\"flocks</w>\":2633,\"treat</w>\":2634,\"vengeance</w>\":2635,\"Baʹshan</w>\":2636,\"horns</w>\":2637,\"certainly</w>\":2638,\"prove</w>\":2639,\"vast</w>\":2640,\"strike</w>\":2641,\"finish</w>\":2642,\"finished</w>\":2643,\"lowly</w>\":2644,\"meal</w>\":2645,\"looks</w>\":2646,\"Although</w>\":2647,\"Almighty</w>\":2648,\"creature</w>\":2649,\"kindly</w>\":2650,\"praises</w>\":2651,\"Aʹhab</w>\":2652,\"Aʹchish</w>\":2653,\"falls</w>\":2654,\"Reuʹ\":2655,\"rescued</w>\":2656,\"firstfruits</w>\":2657,\"breath</w>\":2658,\"curse</w>\":2659,\"judicial</w>\":2660,\"endants</w>\":2661,\"foolish\":2662,\"Amʹor</w>\":2663,\"Which</w>\":2664,\"crown</w>\":2665,\"seek</w>\":2666,\"seeing</w>\":2667,\"seeking</w>\":2668,\"animal</w>\":2669,\"beasts</w>\":2670,\"Through</w>\":2671,\"treasures</w>\":2672,\"beauty</w>\":2673,\"complete</w>\":2674,\"wrong\":2675,\"herd</w>\":2676,\"defra\":2677,\"territory</w>\":2678,\"Ark</w>\":2679,\"pursu\":2680,\"sinned</w>\":2681,\"relations</w>\":2682,\"desire</w>\":2683,\"glorify</w>\":2684,\"accounting</w>\":2685,\"courage</w>\":2686,\"kingdom</w>\":2687,\"warrior</w>\":2688,\"warriors</w>\":2689,\"believe</w>\":2690,\"abandon</w>\":2691,\"hurled</w>\":2692,\"rebel\":2693,\"except</w>\":2694,\"violence</w>\":2695,\"officer</w>\":2696,\"foundations</w>\":2697,\"pillar</w>\":2698,\"arrows</w>\":2699,\"produce</w>\":2700,\"bapti\":2701,\"Baʹlak</w>\":2702,\"Boʹaz</w>\":2703,\"Guard</w>\":2704,\"Laʹban</w>\":2705,\"Morʹde</w>\":2706,\"River</w>\":2707,\"mourning</w>\":2708,\"occur\":2709,\"devastated</w>\":2710,\"compassion</w>\":2711,\"schemes</w>\":2712,\"afflicted</w>\":2713,\"change</w>\":2714,\"Gilʹe</w>\":2715,\"Our</w>\":2716,\"Timothy</w>\":2717,\"Zaʹdok</w>\":2718,\"adul\":2719,\"boundary</w>\":2720,\"estab\":2721,\"large</w>\":2722,\"marriage</w>\":2723,\"snare</w>\":2724,\"Eʹsau</w>\":2725,\"object</w>\":2726,\"discipline</w>\":2727,\"sanctuary</w>\":2728,\"Esther</w>\":2729,\"First</w>\":2730,\"Hanʹnah</w>\":2731,\"Lebʹa</w>\":2732,\"Solʹo</w>\":2733,\"acacia</w>\":2734,\"poverty</w>\":2735,\"tyard</w>\":2736,\"annihi\":2737,\"staff</w>\":2738,\"Jezʹre</w>\":2739,\"lisʹtines</w>\":2740,\"departed</w>\":2741,\"tabernacle</w>\":2742,\"fatherless</w>\":2743,\"neighbor</w>\":2744,\"bloodshed</w>\":2745,\"kidneys</w>\":2746,\"foolishness</w>\":2747,\"An</w>\":2748,\"Again</w>\":2749,\"Ashʹ\":2750,\"Bey\":2751,\"Beʹ\":2752,\"Bring</w>\":2753,\"Do\":2754,\"Dani\":2755,\"El</w>\":2756,\"Gra\":2757,\"Gal\":2758,\"Gate</w>\":2759,\"Her</w>\":2760,\"Hea\":2761,\"Ju</w>\":2762,\"King\":2763,\"Leʹ\":2764,\"Mes</w>\":2765,\"Maʹ\":2766,\"Na</w>\":2767,\"Of</w>\":2768,\"Phi\":2769,\"Peʹ\":2770,\"Reʹ\":2771,\"Rache\":2772,\"Rai\":2773,\"Seʹ\":2774,\"Scri\":2775,\"Spea\":2776,\"Ty\":2777,\"Tho\":2778,\"Uzʹzah</w>\":2779,\"Valley</w>\":2780,\"Ze</w>\":2781,\"Zeʹ\":2782,\"air</w>\":2783,\"awe</w>\":2784,\"bʹe</w>\":2785,\"blow\":2786,\"blic</w>\":2787,\"cro\":2788,\"cting</w>\":2789,\"dy\":2790,\"dre\":2791,\"dow\":2792,\"derful</w>\":2793,\"em</w>\":2794,\"eth</w>\":2795,\"emp\":2796,\"espe\":2797,\"ft\":2798,\"fre\":2799,\"fra\":2800,\"fts</w>\":2801,\"four\":2802,\"flow</w>\":2803,\"fought</w>\":2804,\"god</w>\":2805,\"grown</w>\":2806,\"ill\":2807,\"imed</w>\":2808,\"icing</w>\":2809,\"lle\":2810,\"lying</w>\":2811,\"mit</w>\":2812,\"mur\":2813,\"moved</w>\":2814,\"omen\":2815,\"pe</w>\":2816,\"pour</w>\":2817,\"ple</w>\":2818,\"pare</w>\":2819,\"ptures</w>\":2820,\"rl</w>\":2821,\"sour\":2822,\"tment</w>\":2823,\"tning</w>\":2824,\"teach</w>\":2825,\"tors</w>\":2826,\"use</w>\":2827,\"uch</w>\":2828,\"ute</w>\":2829,\"ustra\":2830,\"valley</w>\":2831,\"wine\":2832,\"wanted</w>\":2833,\"xed</w>\":2834,\"yings</w>\":2835,\"ypo\":2836,\"youth</w>\":2837,\"zi\":2838,\"zing</w>\":2839,\"ʹl\":2840,\"ʹdan</w>\":2841,\"ʹhu</w>\":2842,\"thah</w>\":2843,\"thrown</w>\":2844,\"ant\":2845,\"anse</w>\":2846,\"anti\":2847,\"anta\":2848,\"int</w>\":2849,\"ince</w>\":2850,\"insp\":2851,\"insight</w>\":2852,\"invol\":2853,\"oud</w>\":2854,\"oul</w>\":2855,\"ouths</w>\":2856,\"wish</w>\":2857,\"recon\":2858,\"rection</w>\":2859,\"reserved</w>\":2860,\"respe\":2861,\"requi\":2862,\"revol\":2863,\"returning</w>\":2864,\"hem</w>\":2865,\"ham</w>\":2866,\"hates</w>\":2867,\"arti\":2868,\"ern</w>\":2869,\"errors</w>\":2870,\"orna\":2871,\"orig\":2872,\"orders</w>\":2873,\"ense</w>\":2874,\"enda\":2875,\"ends</w>\":2876,\"ending</w>\":2877,\"entrusted</w>\":2878,\"ste</w>\":2879,\"stil\":2880,\"station</w>\":2881,\"rose</w>\":2882,\"room</w>\":2883,\"robb\":2884,\"hired</w>\":2885,\"hide</w>\":2886,\"sage</w>\":2887,\"sayings</w>\":2888,\"beg\":2889,\"best</w>\":2890,\"bears</w>\":2891,\"bearing</w>\":2892,\"Jeʹhu</w>\":2893,\"riches</w>\":2894,\"tives</w>\":2895,\"mali\":2896,\"magi\":2897,\"maje\":2898,\"masters</w>\":2899,\"eag\":2900,\"eated</w>\":2901,\"lip</w>\":2902,\"life\":2903,\"lived</w>\":2904,\"wait</w>\":2905,\"wall\":2906,\"waiting</w>\":2907,\"cast</w>\":2908,\"calling</w>\":2909,\"ram\":2910,\"rams</w>\":2911,\"raham</w>\":2912,\"sequ\":2913,\"seize</w>\":2914,\"lacking</w>\":2915,\"coar\":2916,\"colle\":2917,\"ghing</w>\":2918,\"deʹa</w>\":2919,\"deep\":2920,\"lear\":2921,\"itted</w>\":2922,\"gag</w>\":2923,\"gate\":2924,\"lofty</w>\":2925,\"almon\":2926,\"spreading</w>\":2927,\"sive</w>\":2928,\"sick\":2929,\"sighing</w>\":2930,\"fig</w>\":2931,\"fill</w>\":2932,\"unloved</w>\":2933,\"unclean\":2934,\"oppre\":2935,\"dir\":2936,\"rul\":2937,\"rule</w>\":2938,\"tem\":2939,\"test</w>\":2940,\"inged</w>\":2941,\"nan</w>\":2942,\"pestil\":2943,\"concea\":2944,\"condem\":2945,\"home</w>\":2946,\"accu\":2947,\"abound</w>\":2948,\"abund\":2949,\"goo\":2950,\"goes</w>\":2951,\"mil\":2952,\"mis\":2953,\"mili\":2954,\"formed</w>\":2955,\"forget</w>\":2956,\"metal</w>\":2957,\"aves</w>\":2958,\"cially</w>\":2959,\"shouting</w>\":2960,\"wel\":2961,\"pain</w>\":2962,\"pati\":2963,\"fect</w>\":2964,\"scroll</w>\":2965,\"ttering</w>\":2966,\"prey</w>\":2967,\"prepare</w>\":2968,\"shon</w>\":2969,\"expo\":2970,\"shes</w>\":2971,\"uded</w>\":2972,\"thering</w>\":2973,\"cul\":2974,\"cups</w>\":2975,\"serving</w>\":2976,\"white</w>\":2977,\"poles</w>\":2978,\"possi\":2979,\"gues</w>\":2980,\"guil\":2981,\"mbs</w>\":2982,\"wool</w>\":2983,\"persecu\":2984,\"Most</w>\":2985,\"boy</w>\":2986,\"bodies</w>\":2987,\"boast</w>\":2988,\"afterward</w>\":2989,\"moon</w>\":2990,\"quanti\":2991,\"vie\":2992,\"hard\":2993,\"harsh</w>\":2994,\"terna\":2995,\"iʹjah</w>\":2996,\"pray</w>\":2997,\"stic</w>\":2998,\"grass</w>\":2999,\"upset</w>\":3000,\"anged</w>\":3001,\"angry</w>\":3002,\"angels</w>\":3003,\"himʹe</w>\":3004,\"stretched</w>\":3005,\"parti\":3006,\"parts</w>\":3007,\"appr\":3008,\"appear</w>\":3009,\"appenda\":3010,\"corru\":3011,\"mention</w>\":3012,\"bar</w>\":3013,\"baths</w>\":3014,\"cries</w>\":3015,\"spoil</w>\":3016,\"Before</w>\":3017,\"getation</w>\":3018,\"prophesy</w>\":3019,\"burning</w>\":3020,\"burden</w>\":3021,\"stay</w>\":3022,\"statu\":3023,\"Eʹlam</w>\":3024,\"eness</w>\":3025,\"slain</w>\":3026,\"tenth</w>\":3027,\"vely</w>\":3028,\"vegetation</w>\":3029,\"plant</w>\":3030,\"plans</w>\":3031,\"store\":3032,\"surface</w>\":3033,\"fleshly</w>\":3034,\"straw</w>\":3035,\"Heshʹb\":3036,\"ʹni</w>\":3037,\"tramp\":3038,\"travel</w>\":3039,\"towers</w>\":3040,\"puri\":3041,\"public</w>\":3042,\"vators</w>\":3043,\"write</w>\":3044,\"creatures</w>\":3045,\"else</w>\":3046,\"multi\":3047,\"destroyed</w>\":3048,\"Aʹgag</w>\":3049,\"zʹra</w>\":3050,\"committed</w>\":3051,\"Remember</w>\":3052,\"appro\":3053,\"pier\":3054,\"quiver</w>\":3055,\"endor</w>\":3056,\"ʹba</w>\":3057,\"practices</w>\":3058,\"Abraham</w>\":3059,\"Gibʹe</w>\":3060,\"removed</w>\":3061,\"flame</w>\":3062,\"grand</w>\":3063,\"soned</w>\":3064,\"question</w>\":3065,\"courtyard</w>\":3066,\"scattered</w>\":3067,\"thorough\":3068,\"Whom</w>\":3069,\"render</w>\":3070,\"defend</w>\":3071,\"defeated</w>\":3072,\"Midʹi</w>\":3073,\"Nothing</w>\":3074,\"blameless</w>\":3075,\"since</w>\":3076,\"tism</w>\":3077,\"desires</w>\":3078,\"descendants</w>\":3079,\"examine</w>\":3080,\"glorified</w>\":3081,\"Isaiah</w>\":3082,\"obedient</w>\":3083,\"thanks</w>\":3084,\"threw</w>\":3085,\"threshing</w>\":3086,\"devotion</w>\":3087,\"disper\":3088,\"dispute</w>\":3089,\"exist</w>\":3090,\"exile</w>\":3091,\"Naʹboth</w>\":3092,\"coura\":3093,\"sorts</w>\":3094,\"refuge</w>\":3095,\"believ\":3096,\"secret</w>\":3097,\"accept</w>\":3098,\"Diʹshon</w>\":3099,\"greater</w>\":3100,\"interpre\":3101,\"instructions</w>\":3102,\"resident</w>\":3103,\"success\":3104,\"consume</w>\":3105,\"consumed</w>\":3106,\"possession</w>\":3107,\"officers</w>\":3108,\"foundation</w>\":3109,\"Cheʹbar</w>\":3110,\"fury</w>\":3111,\"govern\":3112,\"talents</w>\":3113,\"wonderful</w>\":3114,\"heads</w>\":3115,\"lightning</w>\":3116,\"support</w>\":3117,\"contamin\":3118,\"messen\":3119,\"message</w>\":3120,\"advice</w>\":3121,\"discernment</w>\":3122,\"Say</w>\":3123,\"listening</w>\":3124,\"decisions</w>\":3125,\"soldi\":3126,\"expanse</w>\":3127,\"tribulation</w>\":3128,\"fruitage</w>\":3129,\"profaned</w>\":3130,\"apostles</w>\":3131,\"donkey</w>\":3132,\"utensils</w>\":3133,\"ʹron</w>\":3134,\"streams</w>\":3135,\"household</w>\":3136,\"earnest\":3137,\"advanta\":3138,\"companions</w>\":3139,\"stronghold</w>\":3140,\"ministering</w>\":3141,\"High</w>\":3142,\"Syria</w>\":3143,\"Truly</w>\":3144,\"borne</w>\":3145,\"reminders</w>\":3146,\"restore</w>\":3147,\"straight</w>\":3148,\"splendor</w>\":3149,\"disaster</w>\":3150,\"district</w>\":3151,\"urchaser</w>\":3152,\"testify</w>\":3153,\"cultivators</w>\":3154,\"foreigner</w>\":3155,\"quarant\":3156,\"reported</w>\":3157,\"rebelli\":3158,\"occurs</w>\":3159,\"established</w>\":3160,\"Beyond</w>\":3161,\"Daniel</w>\":3162,\"Kingdom</w>\":3163,\"Philip</w>\":3164,\"Rachel</w>\":3165,\"Scriptures</w>\":3166,\"Speak</w>\":3167,\"Those</w>\":3168,\"down\":3169,\"especially</w>\":3170,\"fourth</w>\":3171,\"illustra\":3172,\"omens</w>\":3173,\"ypocri\":3174,\"inspiring</w>\":3175,\"revolts</w>\":3176,\"ornaments</w>\":3177,\"origin\":3178,\"robbers</w>\":3179,\"magic</w>\":3180,\"lifetime</w>\":3181,\"uncleanness</w>\":3182,\"pestilence</w>\":3183,\"guilty</w>\":3184,\"appendage</w>\":3185,\"Heshʹbon</w>\":3186,\"thoroughly</w>\":3187,\"advantage</w>\":3188,\"Am</w>\":3189,\"Az</w>\":3190,\"Ben\":3191,\"Can</w>\":3192,\"Devil</w>\":3193,\"Ever\":3194,\"Eph\":3195,\"Fo\":3196,\"Ga\":3197,\"Hitʹti\":3198,\"Im\":3199,\"Its</w>\":3200,\"Jo</w>\":3201,\"Jor\":3202,\"Jam\":3203,\"Kor\":3204,\"Lea\":3205,\"Me</w>\":3206,\"Men</w>\":3207,\"Meʹ\":3208,\"Many</w>\":3209,\"Ni\":3210,\"Nu\":3211,\"None</w>\":3212,\"Nex\":3213,\"Neʹ\":3214,\"Neither</w>\":3215,\"Over</w>\":3216,\"Red</w>\":3217,\"Rab\":3218,\"Raʹ\":3219,\"Rep\":3220,\"Real\":3221,\"Sal\":3222,\"Sil</w>\":3223,\"Sod\":3224,\"Stop</w>\":3225,\"Shiʹ\":3226,\"Tea\":3227,\"Tur\":3228,\"Teʹ\":3229,\"Teach</w>\":3230,\"Up\":3231,\"Wa\":3232,\"We\":3233,\"Whe\":3234,\"Was</w>\":3235,\"Ze\":3236,\"ared</w>\":3237,\"ations</w>\":3238,\"ago</w>\":3239,\"ashʹ\":3240,\"bʹ\":3241,\"ben\":3242,\"bled</w>\":3243,\"bright</w>\":3244,\"blu\":3245,\"bowl</w>\":3246,\"bbaths</w>\":3247,\"cah</w>\":3248,\"cli\":3249,\"cher</w>\":3250,\"cles</w>\":3251,\"charge</w>\":3252,\"dd\":3253,\"dʹ\":3254,\"der\":3255,\"des</w>\":3256,\"dle</w>\":3257,\"drea\":3258,\"dread</w>\":3259,\"eun\":3260,\"ets</w>\":3261,\"eigh\":3262,\"fl\":3263,\"fing\":3264,\"fond</w>\":3265,\"gan\":3266,\"gro\":3267,\"gers</w>\":3268,\"glow</w>\":3269,\"grity</w>\":3270,\"hs</w>\":3271,\"ho</w>\":3272,\"ha</w>\":3273,\"han\":3274,\"hor</w>\":3275,\"hon</w>\":3276,\"hund\":3277,\"hand\":3278,\"hone\":3279,\"honor</w>\":3280,\"hypocri\":3281,\"ic</w>\":3282,\"ied</w>\":3283,\"ial</w>\":3284,\"ices</w>\":3285,\"ized</w>\":3286,\"jam\":3287,\"kʹ\":3288,\"kne\":3289,\"kʹah</w>\":3290,\"kable</w>\":3291,\"knew</w>\":3292,\"len</w>\":3293,\"lly</w>\":3294,\"lter</w>\":3295,\"lves</w>\":3296,\"lowed</w>\":3297,\"mbe\":3298,\"mly</w>\":3299,\"mere</w>\":3300,\"move</w>\":3301,\"mouths</w>\":3302,\"none</w>\":3303,\"om\":3304,\"ot</w>\":3305,\"och</w>\":3306,\"oses</w>\":3307,\"olated</w>\":3308,\"oma</w>\":3309,\"po</w>\":3310,\"ption</w>\":3311,\"pity</w>\":3312,\"ri</w>\":3313,\"running</w>\":3314,\"sing\":3315,\"sme\":3316,\"sci\":3317,\"swe\":3318,\"sand\":3319,\"skilled</w>\":3320,\"squa\":3321,\"soul</w>\":3322,\"swall\":3323,\"tro\":3324,\"ting\":3325,\"tear</w>\":3326,\"try</w>\":3327,\"tiness</w>\":3328,\"ual</w>\":3329,\"uished</w>\":3330,\"vor\":3331,\"vow</w>\":3332,\"vity</w>\":3333,\"vaʹn\":3334,\"wn</w>\":3335,\"ware</w>\":3336,\"woun\":3337,\"xual</w>\":3338,\"yond</w>\":3339,\"zy</w>\":3340,\"zar</w>\":3341,\"zement</w>\":3342,\"ʹites</w>\":3343,\"ʹpha\":3344,\"ʹom</w>\":3345,\"thru\":3346,\"thread</w>\":3347,\"thar</w>\":3348,\"thought</w>\":3349,\"anx\":3350,\"ank</w>\":3351,\"aning</w>\":3352,\"ances</w>\":3353,\"ink</w>\":3354,\"inning</w>\":3355,\"instan\":3356,\"infli\":3357,\"wicke\":3358,\"widows</w>\":3359,\"resi\":3360,\"rene\":3361,\"reme\":3362,\"reet</w>\":3363,\"rebu\":3364,\"remo\":3365,\"reful</w>\":3366,\"rever\":3367,\"resur\":3368,\"refin\":3369,\"reward</w>\":3370,\"resemb\":3371,\"relen\":3372,\"resul\":3373,\"reached</w>\":3374,\"heat</w>\":3375,\"heal\":3376,\"hated</w>\":3377,\"hail\":3378,\"haugh\":3379,\"haps</w>\":3380,\"arms</w>\":3381,\"arrow</w>\":3382,\"aroma</w>\":3383,\"oven</w>\":3384,\"oval</w>\":3385,\"ench</w>\":3386,\"stare</w>\":3387,\"stun\":3388,\"stir\":3389,\"stench</w>\":3390,\"hid</w>\":3391,\"hips</w>\":3392,\"sad</w>\":3393,\"sation</w>\":3394,\"sack\":3395,\"sabbaths</w>\":3396,\"ben</w>\":3397,\"bel</w>\":3398,\"beside</w>\":3399,\"belong\":3400,\"betra\":3401,\"bekʹah</w>\":3402,\"beyond</w>\":3403,\"ridi\":3404,\"rious</w>\":3405,\"ripe</w>\":3406,\"tired</w>\":3407,\"tioned</w>\":3408,\"tivity</w>\":3409,\"males</w>\":3410,\"matters</w>\":3411,\"maʹsa</w>\":3412,\"eath</w>\":3413,\"eaten</w>\":3414,\"eagues</w>\":3415,\"lit</w>\":3416,\"like\":3417,\"live\":3418,\"wave</w>\":3419,\"wake</w>\":3420,\"watered</w>\":3421,\"came\":3422,\"cattle</w>\":3423,\"calf</w>\":3424,\"careful</w>\":3425,\"ral</w>\":3426,\"race</w>\":3427,\"seers</w>\":3428,\"sett\":3429,\"separ\":3430,\"seized</w>\":3431,\"sexual</w>\":3432,\"lake</w>\":3433,\"lable</w>\":3434,\"lamp\":3435,\"labor</w>\":3436,\"laughter</w>\":3437,\"lambs</w>\":3438,\"coll\":3439,\"demon\":3440,\"determin\":3441,\"lem\":3442,\"lepro\":3443,\"gar</w>\":3444,\"gained</w>\":3445,\"gathering</w>\":3446,\"los</w>\":3447,\"loh</w>\":3448,\"loaves</w>\":3449,\"along\":3450,\"alterna\":3451,\"allowed</w>\":3452,\"six</w>\":3453,\"sition</w>\":3454,\"siʹah</w>\":3455,\"five</w>\":3456,\"figh\":3457,\"fication</w>\":3458,\"unreason\":3459,\"tax</w>\":3460,\"task\":3461,\"taʹmi</w>\":3462,\"day\":3463,\"dar</w>\":3464,\"ops</w>\":3465,\"divi\":3466,\"dign\":3467,\"divisions</w>\":3468,\"worship</w>\":3469,\"worthless</w>\":3470,\"fast</w>\":3471,\"rush</w>\":3472,\"tested</w>\":3473,\"teeth</w>\":3474,\"nearly</w>\":3475,\"nace</w>\":3476,\"superi\":3477,\"consi\":3478,\"conceived</w>\":3479,\"contem\":3480,\"consci\":3481,\"hoʹ\":3482,\"action</w>\":3483,\"acqui\":3484,\"abu\":3485,\"ably</w>\":3486,\"goat</w>\":3487,\"godly</w>\":3488,\"mission</w>\":3489,\"force</w>\":3490,\"doers</w>\":3491,\"mely</w>\":3492,\"members</w>\":3493,\"reap</w>\":3494,\"proper\":3495,\"promin\":3496,\"prostra\":3497,\"proclaim</w>\":3498,\"avai\":3499,\"ciation</w>\":3500,\"gifts</w>\":3501,\"girl</w>\":3502,\"shoulders</w>\":3503,\"leader</w>\":3504,\"serp\":3505,\"toil</w>\":3506,\"tooth</w>\":3507,\"wee\":3508,\"west</w>\":3509,\"futi\":3510,\"paste</w>\":3511,\"solem\":3512,\"few</w>\":3513,\"female</w>\":3514,\"scep\":3515,\"preserve</w>\":3516,\"plain</w>\":3517,\"shut</w>\":3518,\"short</w>\":3519,\"showing</w>\":3520,\"expre\":3521,\"exil\":3522,\"experi\":3523,\"extermin\":3524,\"keep\":3525,\"earth\":3526,\"early</w>\":3527,\"grew</w>\":3528,\"sheik\":3529,\"sheʹba</w>\":3530,\"shelter</w>\":3531,\"prison</w>\":3532,\"cedar</w>\":3533,\"irs</w>\":3534,\"mans</w>\":3535,\"mankind</w>\":3536,\"polʹ\":3537,\"position</w>\":3538,\"guar\":3539,\"guards</w>\":3540,\"wolf</w>\":3541,\"mortal</w>\":3542,\"perfect</w>\":3543,\"brings</w>\":3544,\"book</w>\":3545,\"body\":3546,\"ils</w>\":3547,\"shake</w>\":3548,\"shaken</w>\":3549,\"shaped</w>\":3550,\"moment</w>\":3551,\"violated</w>\":3552,\"harve\":3553,\"harmony</w>\":3554,\"tery</w>\":3555,\"firmly</w>\":3556,\"claimed</w>\":3557,\"tude</w>\":3558,\"tuous</w>\":3559,\"tually</w>\":3560,\"tural</w>\":3561,\"eʹus</w>\":3562,\"eʹpha\":3563,\"eʹzer</w>\":3564,\"due</w>\":3565,\"duced</w>\":3566,\"grave</w>\":3567,\"graven</w>\":3568,\"grabbed</w>\":3569,\"ʹar</w>\":3570,\"asʹ\":3571,\"assig\":3572,\"street</w>\":3573,\"streets</w>\":3574,\"vers\":3575,\"lords</w>\":3576,\"Lot</w>\":3577,\"menstru\":3578,\"Job</w>\":3579,\"add</w>\":3580,\"advers\":3581,\"changed</w>\":3582,\"bags</w>\":3583,\"battering</w>\":3584,\"cried</w>\":3585,\"Beth</w>\":3586,\"burst</w>\":3587,\"huge</w>\":3588,\"knobs</w>\":3589,\"plead</w>\":3590,\"stain</w>\":3591,\"stake</w>\":3592,\"stayed</w>\":3593,\"onger</w>\":3594,\"immor\":3595,\"younger</w>\":3596,\"cling</w>\":3597,\"overseers</w>\":3598,\"raising</w>\":3599,\"months</w>\":3600,\"tents</w>\":3601,\"tenths</w>\":3602,\"tries</w>\":3603,\"arrived</w>\":3604,\"report</w>\":3605,\"reprove</w>\":3606,\"plunder</w>\":3607,\"plunde\":3608,\"stronger</w>\":3609,\"cloth</w>\":3610,\"stored</w>\":3611,\"continues</w>\":3612,\"continually</w>\":3613,\"bitter</w>\":3614,\"surround</w>\":3615,\"wheels</w>\":3616,\"ʹmer</w>\":3617,\"ʹmah</w>\":3618,\"strayed</w>\":3619,\"floor</w>\":3620,\"treache\":3621,\"tremble</w>\":3622,\"ʹna</w>\":3623,\"ʹnon</w>\":3624,\"captive</w>\":3625,\"count</w>\":3626,\"hoping</w>\":3627,\"trave\":3628,\"mightiness</w>\":3629,\"prover\":3630,\"pulled</w>\":3631,\"putting</w>\":3632,\"writing</w>\":3633,\"stripped</w>\":3634,\"inhabited</w>\":3635,\"inhabitant</w>\":3636,\"finds</w>\":3637,\"carved</w>\":3638,\"carrying</w>\":3639,\"created</w>\":3640,\"marry</w>\":3641,\"praised</w>\":3642,\"fallen</w>\":3643,\"thirsty</w>\":3644,\"Afterward</w>\":3645,\"Wisdom</w>\":3646,\"skir\":3647,\"quick\":3648,\"happy</w>\":3649,\"happens</w>\":3650,\"happened</w>\":3651,\"happiness</w>\":3652,\"endant</w>\":3653,\"stub\":3654,\"fool</w>\":3655,\"attendant</w>\":3656,\"crowds</w>\":3657,\"ʹbah</w>\":3658,\"practicing</w>\":3659,\"chieftains</w>\":3660,\"torment</w>\":3661,\"remn\":3662,\"flash</w>\":3663,\"flatter</w>\":3664,\"concern</w>\":3665,\"Thus</w>\":3666,\"clearly</w>\":3667,\"court</w>\":3668,\"dark</w>\":3669,\"seasoned</w>\":3670,\"thorns</w>\":3671,\"Haʹmor</w>\":3672,\"Whose</w>\":3673,\"chooses</w>\":3674,\"drove</w>\":3675,\"drank</w>\":3676,\"hung</w>\":3677,\"rent</w>\":3678,\"rendered</w>\":3679,\"terrible</w>\":3680,\"terrified</w>\":3681,\"vineyards</w>\":3682,\"Hoʹ\":3683,\"watching</w>\":3684,\"descend</w>\":3685,\"assembled</w>\":3686,\"glorious</w>\":3687,\"commandment</w>\":3688,\"craft\":3689,\"denied</w>\":3690,\"obeis\":3691,\"liʹhu</w>\":3692,\"devote</w>\":3693,\"existence</w>\":3694,\"cleanse</w>\":3695,\"Sea</w>\":3696,\"Siʹnai</w>\":3697,\"Siʹdon</w>\":3698,\"Siʹhon</w>\":3699,\"kingship</w>\":3700,\"punish</w>\":3701,\"wind\":3702,\"refused</w>\":3703,\"rejoicing</w>\":3704,\"stem</w>\":3705,\"secretary</w>\":3706,\"confident</w>\":3707,\"abandoned</w>\":3708,\"profit</w>\":3709,\"disciple</w>\":3710,\"subject</w>\":3711,\"subjection</w>\":3712,\"festivals</w>\":3713,\"drive</w>\":3714,\"flowing</w>\":3715,\"flowers</w>\":3716,\"greatness</w>\":3717,\"image</w>\":3718,\"teachers</w>\":3719,\"interce\":3720,\"rebelled</w>\":3721,\"residents</w>\":3722,\"requested</w>\":3723,\"excessi\":3724,\"possess</w>\":3725,\"Hebʹron</w>\":3726,\"generations</w>\":3727,\"transgress\":3728,\"transgressions</w>\":3729,\"Any</w>\":3730,\"Anyone</w>\":3731,\"furnace</w>\":3732,\"governor</w>\":3733,\"touches</w>\":3734,\"trouble</w>\":3735,\"troubled</w>\":3736,\"wonders</w>\":3737,\"intensely</w>\":3738,\"search</w>\":3739,\"searching</w>\":3740,\"quaked</w>\":3741,\"baptism</w>\":3742,\"Baʹlaam</w>\":3743,\"Instead</w>\":3744,\"Satan</w>\":3745,\"atʹ\":3746,\"atta\":3747,\"lʹlam</w>\":3748,\"despite</w>\":3749,\"despair</w>\":3750,\"suffer</w>\":3751,\"fruitful</w>\":3752,\"profane</w>\":3753,\"donkeys</w>\":3754,\"Shout</w>\":3755,\"Should</w>\":3756,\"Today</w>\":3757,\"Until</w>\":3758,\"ascend</w>\":3759,\"big</w>\":3760,\"barren</w>\":3761,\"shoots</w>\":3762,\"incited</w>\":3763,\"increase</w>\":3764,\"regulations</w>\":3765,\"regarding</w>\":3766,\"deceit\":3767,\"taunt</w>\":3768,\"taunted</w>\":3769,\"dishonor</w>\":3770,\"presented</w>\":3771,\"executed</w>\":3772,\"prisoner</w>\":3773,\"pervert</w>\":3774,\"Bethʹle</w>\":3775,\"disease</w>\":3776,\"sanctified</w>\":3777,\"sanctify</w>\":3778,\"provided</w>\":3779,\"Hebrew</w>\":3780,\"Hebrews</w>\":3781,\"response</w>\":3782,\"Further</w>\":3783,\"aston\":3784,\"amazement</w>\":3785,\"friend</w>\":3786,\"grief</w>\":3787,\"jealous</w>\":3788,\"virgin</w>\":3789,\"thousands</w>\":3790,\"integrity</w>\":3791,\"relief</w>\":3792,\"revealed</w>\":3793,\"start</w>\":3794,\"safeguard</w>\":3795,\"rivers</w>\":3796,\"magnify</w>\":3797,\"lessly</w>\":3798,\"sprout</w>\":3799,\"opposite</w>\":3800,\"diffi\":3801,\"family</w>\":3802,\"prosper</w>\":3803,\"blossoms</w>\":3804,\"disgrace</w>\":3805,\"Reuʹben</w>\":3806,\"wrongdoers</w>\":3807,\"baptized</w>\":3808,\"adultery</w>\":3809,\"Beʹer</w>\":3810,\"Does</w>\":3811,\"Grave</w>\":3812,\"Galʹi</w>\":3813,\"Heaven</w>\":3814,\"Raise</w>\":3815,\"Seʹir</w>\":3816,\"Tyre</w>\":3817,\"empty</w>\":3818,\"winepress</w>\":3819,\"beginning</w>\":3820,\"malicious</w>\":3821,\"majesty</w>\":3822,\"eagle</w>\":3823,\"rampart</w>\":3824,\"coarse</w>\":3825,\"deeper</w>\":3826,\"almond</w>\":3827,\"rulers</w>\":3828,\"goodness</w>\":3829,\"milk</w>\":3830,\"exposed</w>\":3831,\"possible</w>\":3832,\"quantity</w>\":3833,\"view</w>\":3834,\"approval</w>\":3835,\"purification</w>\":3836,\"successful</w>\":3837,\"governors</w>\":3838,\"contaminated</w>\":3839,\"messengers</w>\":3840,\"earnestly</w>\":3841,\"rebellious</w>\":3842,\"illustration</w>\":3843,\"Benjam\":3844,\"Everyone</w>\":3845,\"Jordan</w>\":3846,\"James</w>\":3847,\"Korʹah</w>\":3848,\"Nun</w>\":3849,\"Next</w>\":3850,\"Repurchaser</w>\":3851,\"Really</w>\":3852,\"Sodʹom</w>\":3853,\"Shiʹloh</w>\":3854,\"Teacher</w>\":3855,\"Turn</w>\":3856,\"beneath</w>\":3857,\"blue</w>\":3858,\"eunuch</w>\":3859,\"eighth</w>\":3860,\"handed</w>\":3861,\"honey</w>\":3862,\"mbered</w>\":3863,\"sandals</w>\":3864,\"squares</w>\":3865,\"vaʹnus</w>\":3866,\"thrust</w>\":3867,\"instantly</w>\":3868,\"wickedness</w>\":3869,\"remembered</w>\":3870,\"remotest</w>\":3871,\"reverse</w>\":3872,\"resurrection</w>\":3873,\"hailstones</w>\":3874,\"haughty</w>\":3875,\"stunned</w>\":3876,\"stirred</w>\":3877,\"sackcloth</w>\":3878,\"likewise</w>\":3879,\"livestock</w>\":3880,\"camels</w>\":3881,\"lampstand</w>\":3882,\"colleagues</w>\":3883,\"determined</w>\":3884,\"leprosy</w>\":3885,\"alongside</w>\":3886,\"alternating</w>\":3887,\"divided</w>\":3888,\"dignity</w>\":3889,\"superior</w>\":3890,\"conscience</w>\":3891,\"prominent</w>\":3892,\"available</w>\":3893,\"scepter</w>\":3894,\"exiles</w>\":3895,\"sheikhs</w>\":3896,\"polʹlos</w>\":3897,\"bodyguard</w>\":3898,\"harvest</w>\":3899,\"eʹphah</w>\":3900,\"plundered</w>\":3901,\"treacherou\":3902,\"quickly</w>\":3903,\"crafts\":3904,\"obeisance</w>\":3905,\"Benjamin</w>\":3906,\"10\":3907,\"11\":3908,\"12\":3909,\"15\":3910,\"42</w>\":3911,\"80</w>\":3912,\"Ac\":3913,\"Ad\":3914,\"Aga\":3915,\"Amen</w>\":3916,\"Aʹi</w>\":3917,\"Arʹi</w>\":3918,\"Ask</w>\":3919,\"Bu\":3920,\"Bro\":3921,\"Ble\":3922,\"Ca\":3923,\"Cu\":3924,\"Cor\":3925,\"Call</w>\":3926,\"Cau\":3927,\"Com\":3928,\"Da\":3929,\"Did</w>\":3930,\"Dan</w>\":3931,\"En\":3932,\"Ey\":3933,\"En</w>\":3934,\"Eu</w>\":3935,\"Eli\":3936,\"East</w>\":3937,\"Eshʹb\":3938,\"Ezʹra</w>\":3939,\"Flee</w>\":3940,\"Gad</w>\":3941,\"Gad\":3942,\"Gitʹti\":3943,\"Ho</w>\":3944,\"Hou\":3945,\"Her\":3946,\"Han</w>\":3947,\"Honor</w>\":3948,\"Ithʹ\":3949,\"Ju\":3950,\"Kir</w>\":3951,\"Keʹ\":3952,\"Long</w>\":3953,\"Mi</w>\":3954,\"Mer\":3955,\"Must</w>\":3956,\"Mir\":3957,\"Miʹ\":3958,\"Med\":3959,\"Masʹ\":3960,\"Never\":3961,\"Ob\":3962,\"Out</w>\":3963,\"Other\":3964,\"Pi\":3965,\"Pe</w>\":3966,\"Pre\":3967,\"Per\":3968,\"Pro\":3969,\"Pad\":3970,\"Si\":3971,\"St\":3972,\"Se</w>\":3973,\"Si</w>\":3974,\"Send</w>\":3975,\"Sad\":3976,\"Shu\":3977,\"Stre\":3978,\"Spr\":3979,\"Strea\":3980,\"Since</w>\":3981,\"Tu\":3982,\"Tw\":3983,\"Tha\":3984,\"Tear</w>\":3985,\"Tim\":3986,\"Tarʹ\":3987,\"Tatʹ\":3988,\"Vashʹ\":3989,\"Whatever</w>\":3990,\"Zed</w>\":3991,\"ax\":3992,\"ak</w>\":3993,\"abe\":3994,\"ash</w>\":3995,\"ates</w>\":3996,\"astray</w>\":3997,\"ba</w>\":3998,\"bin\":3999,\"bon\":4000,\"bah</w>\":4001,\"bit</w>\":4002,\"bal\":4003,\"baʹ\":4004,\"bound</w>\":4005,\"bind</w>\":4006,\"bend</w>\":4007,\"bles</w>\":4008,\"bas\":4009,\"bands</w>\":4010,\"biʹah</w>\":4011,\"bish\":4012,\"biʹjah</w>\":4013,\"clea\":4014,\"chard</w>\":4015,\"cunning</w>\":4016,\"da</w>\":4017,\"di</w>\":4018,\"dan\":4019,\"din\":4020,\"dou\":4021,\"dro\":4022,\"dent</w>\":4023,\"dars</w>\":4024,\"dens</w>\":4025,\"dʹe</w>\":4026,\"diness</w>\":4027,\"dden\":4028,\"ere\":4029,\"ese</w>\":4030,\"emb\":4031,\"egar</w>\":4032,\"fer</w>\":4033,\"fare</w>\":4034,\"fever</w>\":4035,\"flam\":4036,\"flu\":4037,\"feast</w>\":4038,\"gʹ\":4039,\"gon</w>\":4040,\"ggo\":4041,\"grou\":4042,\"glean</w>\":4043,\"grow\":4044,\"gnation</w>\":4045,\"hin\":4046,\"hing</w>\":4047,\"hin</w>\":4048,\"however</w>\":4049,\"honʹa</w>\":4050,\"ie\":4051,\"iti\":4052,\"ight</w>\":4053,\"ired</w>\":4054,\"ility</w>\":4055,\"iper</w>\":4056,\"jun\":4057,\"jar</w>\":4058,\"kle</w>\":4059,\"kdown</w>\":4060,\"kil</w>\":4061,\"kni\":4062,\"kaʹn\":4063,\"li</w>\":4064,\"lp</w>\":4065,\"lah</w>\":4066,\"lted</w>\":4067,\"line</w>\":4068,\"lder</w>\":4069,\"lend</w>\":4070,\"lʹi</w>\":4071,\"lmed</w>\":4072,\"loud</w>\":4073,\"mpe\":4074,\"mpa\":4075,\"mity</w>\":4076,\"mʹdan</w>\":4077,\"ny</w>\":4078,\"na</w>\":4079,\"nin\":4080,\"ner\":4081,\"nah</w>\":4082,\"nly</w>\":4083,\"nur\":4084,\"niʹjah</w>\":4085,\"nware</w>\":4086,\"oked</w>\":4087,\"oden</w>\":4088,\"ostri\":4089,\"oths</w>\":4090,\"oath</w>\":4091,\"pti\":4092,\"pit\":4093,\"pal\":4094,\"pop\":4095,\"pons</w>\":4096,\"pted</w>\":4097,\"pose</w>\":4098,\"pour\":4099,\"pins</w>\":4100,\"pup\":4101,\"pless</w>\":4102,\"pani\":4103,\"pbea\":4104,\"plied</w>\":4105,\"ro</w>\":4106,\"rp</w>\":4107,\"ran\":4108,\"rings</w>\":4109,\"sa</w>\":4110,\"sma\":4111,\"shave</w>\":4112,\"sers</w>\":4113,\"sits</w>\":4114,\"sʹa</w>\":4115,\"smea\":4116,\"sought</w>\":4117,\"sweep</w>\":4118,\"ti</w>\":4119,\"tin\":4120,\"tle</w>\":4121,\"tall</w>\":4122,\"tun\":4123,\"tne\":4124,\"town</w>\":4125,\"tted</w>\":4126,\"tless</w>\":4127,\"tars</w>\":4128,\"tfin\":4129,\"tching</w>\":4130,\"tʹt\":4131,\"tlessly</w>\":4132,\"ub</w>\":4133,\"uds</w>\":4134,\"upro\":4135,\"ump\":4136,\"ult</w>\":4137,\"va</w>\":4138,\"vi</w>\":4139,\"van</w>\":4140,\"vings</w>\":4141,\"vites</w>\":4142,\"valle\":4143,\"veness</w>\":4144,\"wre\":4145,\"wing</w>\":4146,\"wed</w>\":4147,\"wly</w>\":4148,\"woven</w>\":4149,\"ysi\":4150,\"yers</w>\":4151,\"zel\":4152,\"zabe\":4153,\"ʹan</w>\":4154,\"ʹtes</w>\":4155,\"ʹra</w>\":4156,\"ʹrah</w>\":4157,\"ʹiah</w>\":4158,\"ʹtan</w>\":4159,\"ʹthah</w>\":4160,\"ʹnan</w>\":4161,\"thi</w>\":4162,\"thin</w>\":4163,\"thro\":4164,\"thful</w>\":4165,\"thʹa</w>\":4166,\"thund\":4167,\"thsome</w>\":4168,\"thwar\":4169,\"though\":4170,\"angu\":4171,\"inted</w>\":4172,\"inous</w>\":4173,\"ination</w>\":4174,\"inve\":4175,\"inate</w>\":4176,\"inspe\":4177,\"inqui\":4178,\"instruction</w>\":4179,\"intest\":4180,\"inscri\":4181,\"informed</w>\":4182,\"oura\":4183,\"outer</w>\":4184,\"outw\":4185,\"wide</w>\":4186,\"witne\":4187,\"theless</w>\":4188,\"thenware</w>\":4189,\"rew\":4190,\"reb</w>\":4191,\"reed</w>\":4192,\"reco\":4193,\"ress</w>\":4194,\"reds</w>\":4195,\"repro\":4196,\"resh</w>\":4197,\"rever</w>\":4198,\"reig\":4199,\"revo\":4200,\"restra\":4201,\"rested</w>\":4202,\"regain</w>\":4203,\"rebuild</w>\":4204,\"release</w>\":4205,\"rebuilt</w>\":4206,\"refoot</w>\":4207,\"retreat</w>\":4208,\"reclaimed</w>\":4209,\"reduced</w>\":4210,\"hen\":4211,\"hemed</w>\":4212,\"heigh\":4213,\"height</w>\":4214,\"onally</w>\":4215,\"onward</w>\":4216,\"hail</w>\":4217,\"halʹi</w>\":4218,\"ark</w>\":4219,\"arra\":4220,\"arlet</w>\":4221,\"armed</w>\":4222,\"armor</w>\":4223,\"archers</w>\":4224,\"erci\":4225,\"erous</w>\":4226,\"ordered</w>\":4227,\"order\":4228,\"orchard</w>\":4229,\"ene</w>\":4230,\"enro\":4231,\"ences</w>\":4232,\"engra\":4233,\"encamp</w>\":4234,\"ensna\":4235,\"encoura\":4236,\"ensation</w>\":4237,\"stes</w>\":4238,\"stle</w>\":4239,\"stal\":4240,\"stant</w>\":4241,\"stone\":4242,\"stopp\":4243,\"stern</w>\":4244,\"stinate</w>\":4245,\"roo\":4246,\"robe</w>\":4247,\"ross</w>\":4248,\"road\":4249,\"rows</w>\":4250,\"robes</w>\":4251,\"robbed</w>\":4252,\"hill</w>\":4253,\"noti\":4254,\"nostri\":4255,\"nobles</w>\":4256,\"sapp\":4257,\"saving</w>\":4258,\"savi\":4259,\"sadness</w>\":4260,\"sadd\":4261,\"beha\":4262,\"beat</w>\":4263,\"berea\":4264,\"beard</w>\":4265,\"besh</w>\":4266,\"below</w>\":4267,\"begin</w>\":4268,\"besides</w>\":4269,\"Jew</w>\":4270,\"Jeph\":4271,\"Jethʹ\":4272,\"Jeshʹ\":4273,\"Jezʹe</w>\":4274,\"Jebʹ\":4275,\"riʹ\":4276,\"rite\":4277,\"riding</w>\":4278,\"ripped</w>\":4279,\"timbers</w>\":4280,\"tionally</w>\":4281,\"math</w>\":4282,\"madness</w>\":4283,\"maiʹah</w>\":4284,\"eared</w>\":4285,\"lius</w>\":4286,\"lish</w>\":4287,\"liqu\":4288,\"liʹah</w>\":4289,\"listed</w>\":4290,\"ligation</w>\":4291,\"lize</w>\":4292,\"lication</w>\":4293,\"limit</w>\":4294,\"wail</w>\":4295,\"wagon</w>\":4296,\"cala\":4297,\"cases</w>\":4298,\"camp\":4299,\"catches</w>\":4300,\"races</w>\":4301,\"racy</w>\":4302,\"raʹtes</w>\":4303,\"seho\":4304,\"semen</w>\":4305,\"seless</w>\":4306,\"seve\":4307,\"settle</w>\":4308,\"las</w>\":4309,\"lame</w>\":4310,\"laying</w>\":4311,\"laugh\":4312,\"lazy</w>\":4313,\"coho\":4314,\"dee\":4315,\"dew</w>\":4316,\"depre\":4317,\"depo\":4318,\"despi\":4319,\"decei\":4320,\"depart</w>\":4321,\"delay</w>\":4322,\"deceived</w>\":4323,\"leg</w>\":4324,\"lesome</w>\":4325,\"lements</w>\":4326,\"leper</w>\":4327,\"letting</w>\":4328,\"level</w>\":4329,\"owner</w>\":4330,\"itate</w>\":4331,\"item</w>\":4332,\"game</w>\":4333,\"gated</w>\":4334,\"gazel\":4335,\"log</w>\":4336,\"lom</w>\":4337,\"lose</w>\":4338,\"load</w>\":4339,\"loʹp\":4340,\"aloud</w>\":4341,\"altars</w>\":4342,\"alcoho\":4343,\"sprou\":4344,\"sprin\":4345,\"spite</w>\":4346,\"splen\":4347,\"spared</w>\":4348,\"split</w>\":4349,\"sphemed</w>\":4350,\"sistence</w>\":4351,\"sively</w>\":4352,\"fic\":4353,\"fil\":4354,\"fier\":4355,\"fight</w>\":4356,\"unfaithful\":4357,\"uncle</w>\":4358,\"uninten\":4359,\"unfaithfulness</w>\":4360,\"unfaithful</w>\":4361,\"unthin\":4362,\"unciation</w>\":4363,\"tamb\":4364,\"tasted</w>\":4365,\"task</w>\":4366,\"dai</w>\":4367,\"dawn</w>\":4368,\"dian</w>\":4369,\"diso\":4370,\"dish</w>\":4371,\"dience</w>\":4372,\"dispo\":4373,\"diʹah</w>\":4374,\"divine</w>\":4375,\"evi\":4376,\"eved</w>\":4377,\"urge</w>\":4378,\"urance</w>\":4379,\"urged</w>\":4380,\"urging</w>\":4381,\"worn</w>\":4382,\"worse</w>\":4383,\"worshi\":4384,\"worthy</w>\":4385,\"workers</w>\":4386,\"worker</w>\":4387,\"fatt\":4388,\"face\":4389,\"faded</w>\":4390,\"faul\":4391,\"rus</w>\":4392,\"ruled</w>\":4393,\"ruthless</w>\":4394,\"rutin\":4395,\"teress</w>\":4396,\"net</w>\":4397,\"neck</w>\":4398,\"nels</w>\":4399,\"nection</w>\":4400,\"needs</w>\":4401,\"newly</w>\":4402,\"nelius</w>\":4403,\"ingly</w>\":4404,\"ingstock</w>\":4405,\"nal</w>\":4406,\"nago\":4407,\"namely</w>\":4408,\"natural</w>\":4409,\"suf\":4410,\"suspi\":4411,\"sult</w>\":4412,\"sudden</w>\":4413,\"sudden\":4414,\"conv\":4415,\"consent</w>\":4416,\"conspi\":4417,\"convin\":4418,\"conven\":4419,\"consid\":4420,\"contain</w>\":4421,\"concub\":4422,\"condition</w>\":4423,\"consequ\":4424,\"constant</w>\":4425,\"connection</w>\":4426,\"hot</w>\":4427,\"hole</w>\":4428,\"hosti\":4429,\"hooves</w>\":4430,\"acting</w>\":4431,\"acqua\":4432,\"acious</w>\":4433,\"aching</w>\":4434,\"across</w>\":4435,\"abstain</w>\":4436,\"ability</w>\":4437,\"ller</w>\":4438,\"llment</w>\":4439,\"llfully</w>\":4440,\"god\":4441,\"gog</w>\":4442,\"mistre\":4443,\"mities</w>\":4444,\"missing</w>\":4445,\"mility</w>\":4446,\"mixed</w>\":4447,\"forgi\":4448,\"forming</w>\":4449,\"former</w>\":4450,\"dog</w>\":4451,\"dome\":4452,\"domin\":4453,\"doms</w>\":4454,\"dogs</w>\":4455,\"doʹni</w>\":4456,\"meʹ\":4457,\"memor\":4458,\"meaning</w>\":4459,\"melted</w>\":4460,\"rear</w>\":4461,\"reason</w>\":4462,\"readiness</w>\":4463,\"realize</w>\":4464,\"proce\":4465,\"proper</w>\":4466,\"selfi\":4467,\"aven\":4468,\"cient</w>\":4469,\"cipa\":4470,\"cials</w>\":4471,\"leave</w>\":4472,\"leads</w>\":4473,\"leaves</w>\":4474,\"leaving</w>\":4475,\"leaven\":4476,\"serious</w>\":4477,\"tomor\":4478,\"wearing</w>\":4479,\"fur</w>\":4480,\"furious</w>\":4481,\"past</w>\":4482,\"pays</w>\":4483,\"patt\":4484,\"pains</w>\":4485,\"paren\":4486,\"passes</w>\":4487,\"fears</w>\":4488,\"fected</w>\":4489,\"fearing</w>\":4490,\"ferent</w>\":4491,\"scarlet</w>\":4492,\"scene</w>\":4493,\"scrutin\":4494,\"aʹim</w>\":4495,\"aʹram</w>\":4496,\"presu\":4497,\"previ\":4498,\"preva\":4499,\"preach</w>\":4500,\"preached</w>\":4501,\"plague</w>\":4502,\"sha</w>\":4503,\"shor\":4504,\"shine</w>\":4505,\"shʹa</w>\":4506,\"shining</w>\":4507,\"shows</w>\":4508,\"shrew\":4509,\"exten\":4510,\"extre\":4511,\"exclu\":4512,\"exting\":4513,\"exerci\":4514,\"keeping</w>\":4515,\"earthenware</w>\":4516,\"greet</w>\":4517,\"shea\":4518,\"shech</w>\":4519,\"pride</w>\":4520,\"uder</w>\":4521,\"ourine</w>\":4522,\"cees</w>\":4523,\"ceful</w>\":4524,\"cedars</w>\":4525,\"therly</w>\":4526,\"thermore</w>\":4527,\"cucu\":4528,\"cult</w>\":4529,\"cubs</w>\":4530,\"cutters</w>\":4531,\"cupbea\":4532,\"manent</w>\":4533,\"whistle</w>\":4534,\"broke</w>\":4535,\"broad</w>\":4536,\"brotherly</w>\":4537,\"poi\":4538,\"potter</w>\":4539,\"pool</w>\":4540,\"polished</w>\":4541,\"point</w>\":4542,\"cheese</w>\":4543,\"mbled</w>\":4544,\"woof</w>\":4545,\"wooden</w>\":4546,\"hears</w>\":4547,\"wholesome</w>\":4548,\"morʹrah</w>\":4549,\"perfu\":4550,\"performing</w>\":4551,\"permanent</w>\":4552,\"forehead</w>\":4553,\"bozʹe</w>\":4554,\"booths</w>\":4555,\"offended</w>\":4556,\"offending</w>\":4557,\"shai</w>\":4558,\"shame\":4559,\"shattered</w>\":4560,\"shadʹ\":4561,\"sharp</w>\":4562,\"moz</w>\":4563,\"moons</w>\":4564,\"moan</w>\":4565,\"mosh</w>\":4566,\"mock</w>\":4567,\"quake</w>\":4568,\"trusting</w>\":4569,\"trumpe\":4570,\"deal</w>\":4571,\"dealt</w>\":4572,\"harp</w>\":4573,\"terrors</w>\":4574,\"terraces</w>\":4575,\"clay</w>\":4576,\"clap</w>\":4577,\"anymore</w>\":4578,\"tual</w>\":4579,\"blow</w>\":4580,\"stimony</w>\":4581,\"dug</w>\":4582,\"duties</w>\":4583,\"dulʹlam</w>\":4584,\"ducees</w>\":4585,\"gracious</w>\":4586,\"ʹai</w>\":4587,\"asy</w>\":4588,\"asso\":4589,\"part\":4590,\"Jerʹi</w>\":4591,\"applies</w>\":4592,\"appeared</w>\":4593,\"conten\":4594,\"contend</w>\":4595,\"Loo\":4596,\"Loʹtan</w>\":4597,\"cords</w>\":4598,\"corner</w>\":4599,\"mended</w>\":4600,\"Joel</w>\":4601,\"Judge</w>\":4602,\"Maker</w>\":4603,\"Matʹt\":4604,\"adorn</w>\":4605,\"chr\":4606,\"cho</w>\":4607,\"chin</w>\":4608,\"chless</w>\":4609,\"bathe</w>\":4610,\"base</w>\":4611,\"barefoot</w>\":4612,\"Bethʹa</w>\":4613,\"twins</w>\":4614,\"geous</w>\":4615,\"hum</w>\":4616,\"humble</w>\":4617,\"humili\":4618,\"humans</w>\":4619,\"humility</w>\":4620,\"humbled</w>\":4621,\"pleased</w>\":4622,\"pleaded</w>\":4623,\"dissol\":4624,\"disorder\":4625,\"stakes</w>\":4626,\"stationed</w>\":4627,\"join</w>\":4628,\"killing</w>\":4629,\"mounted</w>\":4630,\"spirits</w>\":4631,\"spiritual</w>\":4632,\"Egypti\":4633,\"impe\":4634,\"impu\":4635,\"imitate</w>\":4636,\"Eʹden</w>\":4637,\"cline</w>\":4638,\"ousy</w>\":4639,\"overwhe\":4640,\"overlaid</w>\":4641,\"overthrow</w>\":4642,\"overflow</w>\":4643,\"mountainous</w>\":4644,\"slavery</w>\":4645,\"triump\":4646,\"compul\":4647,\"compensation</w>\":4648,\"arriving</w>\":4649,\"walked</w>\":4650,\"commander</w>\":4651,\"repea\":4652,\"reply</w>\":4653,\"plants</w>\":4654,\"planted</w>\":4655,\"strang\":4656,\"stranger</w>\":4657,\"stringed</w>\":4658,\"close</w>\":4659,\"clods</w>\":4660,\"clothing</w>\":4661,\"cloak</w>\":4662,\"powers</w>\":4663,\"sensi\":4664,\"understood</w>\":4665,\"sury</w>\":4666,\"blew</w>\":4667,\"blesome</w>\":4668,\"ctive</w>\":4669,\"flees</w>\":4670,\"vines</w>\":4671,\"vinegar</w>\":4672,\"wheel</w>\":4673,\"strate</w>\":4674,\"Hemʹdan</w>\":4675,\"Shec</w>\":4676,\"Shem</w>\":4677,\"covers</w>\":4678,\"flood</w>\":4679,\"inhabit</w>\":4680,\"captives</w>\":4681,\"captivity</w>\":4682,\"discover</w>\":4683,\"discreet</w>\":4684,\"discoura\":4685,\"Baʹa</w>\":4686,\"chains</w>\":4687,\"counts</w>\":4688,\"counted</w>\":4689,\"countless</w>\":4690,\"horse</w>\":4691,\"physi\":4692,\"phraʹtes</w>\":4693,\"trade</w>\":4694,\"traders</w>\":4695,\"tradition</w>\":4696,\"pure</w>\":4697,\"vain</w>\":4698,\"striking</w>\":4699,\"strikes</w>\":4700,\"final</w>\":4701,\"lowest</w>\":4702,\"obstinate</w>\":4703,\"obligation</w>\":4704,\"obscene</w>\":4705,\"lamps</w>\":4706,\"scue</w>\":4707,\"elds</w>\":4708,\"muster</w>\":4709,\"marched</w>\":4710,\"marrying</w>\":4711,\"destroying</w>\":4712,\"signal</w>\":4713,\"Aʹmoz</w>\":4714,\"falseho\":4715,\"sympa\":4716,\"synago\":4717,\"common</w>\":4718,\"communion</w>\":4719,\"committing</w>\":4720,\"middle</w>\":4721,\"Return</w>\":4722,\"Rejo\":4723,\"Rescue</w>\":4724,\"olds</w>\":4725,\"older</w>\":4726,\"pick</w>\":4727,\"sky</w>\":4728,\"shish</w>\":4729,\"shields</w>\":4730,\"repaired</w>\":4731,\"rescuing</w>\":4732,\"rescues</w>\":4733,\"camel</w>\":4734,\"camps</w>\":4735,\"silence</w>\":4736,\"breasts</w>\":4737,\"breakdown</w>\":4738,\"cursed</w>\":4739,\"cursing</w>\":4740,\"jug</w>\":4741,\"warn</w>\":4742,\"warp</w>\":4743,\"wards</w>\":4744,\"warned</w>\":4745,\"endurance</w>\":4746,\"stumbling</w>\":4747,\"salms</w>\":4748,\"foods</w>\":4749,\"Among</w>\":4750,\"attenti\":4751,\"ʹbal</w>\":4752,\"practical</w>\":4753,\"About</w>\":4754,\"Above</w>\":4755,\"Abʹsa</w>\":4756,\"Gidʹe</w>\":4757,\"Last</w>\":4758,\"Later</w>\":4759,\"bird</w>\":4760,\"birds</w>\":4761,\"fringed</w>\":4762,\"myr\":4763,\"prince</w>\":4764,\"principa\":4765,\"torches</w>\":4766,\"torture</w>\":4767,\"outcry</w>\":4768,\"judged</w>\":4769,\"flashes</w>\":4770,\"enticed</w>\":4771,\"distressed</w>\":4772,\"office</w>\":4773,\"official</w>\":4774,\"officials</w>\":4775,\"Three</w>\":4776,\"seas</w>\":4777,\"seal</w>\":4778,\"season</w>\":4779,\"seasons</w>\":4780,\"sealed</w>\":4781,\"scatter</w>\":4782,\"scatters</w>\":4783,\"treats</w>\":4784,\"helpless</w>\":4785,\"ministers</w>\":4786,\"completed</w>\":4787,\"Haʹnu\":4788,\"merous</w>\":4789,\"numerous</w>\":4790,\"terrify</w>\":4791,\"husbands</w>\":4792,\"Arʹa</w>\":4793,\"Arʹnon</w>\":4794,\"Hash</w>\":4795,\"Mizʹra</w>\":4796,\"Mishʹa</w>\":4797,\"blast</w>\":4798,\"black</w>\":4799,\"blasphemed</w>\":4800,\"genit\":4801,\"idol</w>\":4802,\"purpo\":4803,\"purple</w>\":4804,\"purpose</w>\":4805,\"wrap</w>\":4806,\"wraps</w>\":4807,\"related</w>\":4808,\"relative</w>\":4809,\"relatives</w>\":4810,\"steal</w>\":4811,\"descent</w>\":4812,\"examined</w>\":4813,\"example</w>\":4814,\"examination</w>\":4815,\"appears</w>\":4816,\"crag</w>\":4817,\"denunciation</w>\":4818,\"obey</w>\":4819,\"devoted</w>\":4820,\"devoting</w>\":4821,\"display</w>\":4822,\"clothes</w>\":4823,\"province</w>\":4824,\"cleansed</w>\":4825,\"cleansing</w>\":4826,\"inherit</w>\":4827,\"Naz</w>\":4828,\"Nathan</w>\":4829,\"Nazi\":4830,\"Naʹa</w>\":4831,\"Naʹhor</w>\":4832,\"Testimony</w>\":4833,\"ceasing</w>\":4834,\"crush</w>\":4835,\"kingdoms</w>\":4836,\"sorry</w>\":4837,\"sorcer\":4838,\"sworn</w>\":4839,\"winnow</w>\":4840,\"windows</w>\":4841,\"refuse</w>\":4842,\"stered</w>\":4843,\"secrets</w>\":4844,\"abandons</w>\":4845,\"speechless</w>\":4846,\"hunger</w>\":4847,\"subjecting</w>\":4848,\"Diʹmon</w>\":4849,\"Shaʹpha\":4850,\"Simʹe</w>\":4851,\"blown</w>\":4852,\"dried</w>\":4853,\"dries</w>\":4854,\"driven</w>\":4855,\"flows</w>\":4856,\"greatly</w>\":4857,\"hurt</w>\":4858,\"instructed</w>\":4859,\"rejects</w>\":4860,\"onest</w>\":4861,\"desolated</w>\":4862,\"succeed</w>\":4863,\"success</w>\":4864,\"possessions</w>\":4865,\"violent</w>\":4866,\"violently</w>\":4867,\"Sheʹthar</w>\":4868,\"transgressed</w>\":4869,\"escaped</w>\":4870,\"Cheʹran</w>\":4871,\"Cheʹmosh</w>\":4872,\"Jaʹvan</w>\":4873,\"Jaʹbesh</w>\":4874,\"snatches</w>\":4875,\"snatched</w>\":4876,\"touch</w>\":4877,\"touched</w>\":4878,\"talk</w>\":4879,\"troublesome</w>\":4880,\"heap</w>\":4881,\"heaps</w>\":4882,\"arrogan\":4883,\"supplication</w>\":4884,\"containing</w>\":4885,\"exalt</w>\":4886,\"branch</w>\":4887,\"contributions</w>\":4888,\"advised</w>\":4889,\"advisers</w>\":4890,\"discerning</w>\":4891,\"piece</w>\":4892,\"innocence</w>\":4893,\"shepherds</w>\":4894,\"More</w>\":4895,\"islands</w>\":4896,\"length</w>\":4897,\"listened</w>\":4898,\"distant</w>\":4899,\"distance</w>\":4900,\"suffering</w>\":4901,\"sufferings</w>\":4902,\"holds</w>\":4903,\"holding</w>\":4904,\"holiness</w>\":4905,\"compassions</w>\":4906,\"affliction</w>\":4907,\"tribulations</w>\":4908,\"apostasy</w>\":4909,\"Consequ\":4910,\"Declare</w>\":4911,\"Despite</w>\":4912,\"Greece</w>\":4913,\"Greeks</w>\":4914,\"Together</w>\":4915,\"ascended</w>\":4916,\"bial</w>\":4917,\"brazi\":4918,\"lances</w>\":4919,\"shook</w>\":4920,\"utensil</w>\":4921,\"ʹri</w>\":4922,\"thief</w>\":4923,\"thicke\":4924,\"incense</w>\":4925,\"increases</w>\":4926,\"regular</w>\":4927,\"regards</w>\":4928,\"stream</w>\":4929,\"lawful</w>\":4930,\"lawless</w>\":4931,\"deception</w>\":4932,\"loaf</w>\":4933,\"loathsome</w>\":4934,\"dishonest</w>\":4935,\"sulfur</w>\":4936,\"protection</w>\":4937,\"scorching</w>\":4938,\"scorched</w>\":4939,\"presentation</w>\":4940,\"execute</w>\":4941,\"earnest</w>\":4942,\"prisoners</w>\":4943,\"cubit</w>\":4944,\"cubits</w>\":4945,\"perverse</w>\":4946,\"advance</w>\":4947,\"Bethʹel</w>\":4948,\"diseases</w>\":4949,\"clusters</w>\":4950,\"strongholds</w>\":4951,\"ministry</w>\":4952,\"provisions</w>\":4953,\"acceptable</w>\":4954,\"Furthermore</w>\":4955,\"Gog</w>\":4956,\"Hiʹrah</w>\":4957,\"Rock</w>\":4958,\"Zoʹar</w>\":4959,\"bride</w>\":4960,\"friends</w>\":4961,\"jealousy</w>\":4962,\"skillfully</w>\":4963,\"twice</w>\":4964,\"weak</w>\":4965,\"weapons</w>\":4966,\"ʹtus</w>\":4967,\"think</w>\":4968,\"thousand</w>\":4969,\"indignant</w>\":4970,\"indignation</w>\":4971,\"reveal</w>\":4972,\"aries</w>\":4973,\"arises</w>\":4974,\"started</w>\":4975,\"safety</w>\":4976,\"depth</w>\":4977,\"depths</w>\":4978,\"deprive</w>\":4979,\"deprived</w>\":4980,\"springs</w>\":4981,\"oppose</w>\":4982,\"different</w>\":4983,\"families</w>\":4984,\"summon\":4985,\"summer</w>\":4986,\"prosperous</w>\":4987,\"pasture</w>\":4988,\"pastures</w>\":4989,\"buried</w>\":4990,\"burial</w>\":4991,\"guide</w>\":4992,\"guides</w>\":4993,\"blossom</w>\":4994,\"survive</w>\":4995,\"survived</w>\":4996,\"surrounding</w>\":4997,\"surrounded</w>\":4998,\"Reuʹel</w>\":4999,\"wronged</w>\":5000,\"defrauded</w>\":5001,\"defrauds</w>\":5002,\"pursued</w>\":5003,\"pursues</w>\":5004,\"adulteress</w>\":5005,\"annihilation</w>\":5006,\"annihilated</w>\":5007,\"Ashʹer</w>\":5008,\"Leʹah</w>\":5009,\"Leʹvi</w>\":5010,\"Maʹgog</w>\":5011,\"Reʹhum</w>\":5012,\"Zeʹrah</w>\":5013,\"Zeʹresh</w>\":5014,\"blows</w>\":5015,\"blowing</w>\":5016,\"crooked</w>\":5017,\"dressed</w>\":5018,\"fresh</w>\":5019,\"source</w>\":5020,\"sources</w>\":5021,\"involved</w>\":5022,\"reconci\":5023,\"respect</w>\":5024,\"require</w>\":5025,\"articles</w>\":5026,\"collect</w>\":5027,\"learn</w>\":5028,\"learned</w>\":5029,\"gateway</w>\":5030,\"gatekeep\":5031,\"sickle</w>\":5032,\"oppression</w>\":5033,\"dirt</w>\":5034,\"dirge</w>\":5035,\"concealed</w>\":5036,\"condemn</w>\":5037,\"condemned</w>\":5038,\"accura\":5039,\"abundant</w>\":5040,\"abundance</w>\":5041,\"military</w>\":5042,\"welcome</w>\":5043,\"patient</w>\":5044,\"culer</w>\":5045,\"persecuted</w>\":5046,\"partiality</w>\":5047,\"corrupted</w>\":5048,\"statues</w>\":5049,\"statutes</w>\":5050,\"storehouses</w>\":5051,\"trample</w>\":5052,\"trampled</w>\":5053,\"multitude</w>\":5054,\"multiplied</w>\":5055,\"approach</w>\":5056,\"pierce</w>\":5057,\"pierced</w>\":5058,\"disperse</w>\":5059,\"dispersed</w>\":5060,\"courageous</w>\":5061,\"believers</w>\":5062,\"interpret</w>\":5063,\"soldier</w>\":5064,\"soldiers</w>\":5065,\"quarantine</w>\":5066,\"quarantined</w>\":5067,\"downfall</w>\":5068,\"originality</w>\":5069,\"Ephʹe</w>\":5070,\"Gazʹa</w>\":5071,\"Hitʹtites</w>\":5072,\"Meʹshech</w>\":5073,\"Neʹb\":5074,\"Rabʹbah</w>\":5075,\"Raʹhab</w>\":5076,\"Teʹman</w>\":5077,\"Upon</w>\":5078,\"Well</w>\":5079,\"Whenever</w>\":5080,\"Zeb</w>\":5081,\"climb</w>\":5082,\"dream</w>\":5083,\"flour</w>\":5084,\"finger</w>\":5085,\"groan</w>\":5086,\"hundreds</w>\":5087,\"hypocrites</w>\":5088,\"singers</w>\":5089,\"smell</w>\":5090,\"sweet</w>\":5091,\"swallowed</w>\":5092,\"troops</w>\":5093,\"voracious</w>\":5094,\"wounds</w>\":5095,\"anxie\":5096,\"inflicted</w>\":5097,\"reneʹ</w>\":5098,\"rebuke</w>\":5099,\"refined</w>\":5100,\"resembled</w>\":5101,\"relentlessly</w>\":5102,\"results</w>\":5103,\"healing</w>\":5104,\"belongings</w>\":5105,\"betrayed</w>\":5106,\"ridiculer</w>\":5107,\"settled</w>\":5108,\"separate</w>\":5109,\"fighting</w>\":5110,\"taskmaster</w>\":5111,\"daylight</w>\":5112,\"contempt</w>\":5113,\"hoʹram</w>\":5114,\"acquires</w>\":5115,\"abusively</w>\":5116,\"property</w>\":5117,\"prostrated</w>\":5118,\"serpent</w>\":5119,\"weeks</w>\":5120,\"futility</w>\":5121,\"solemn</w>\":5122,\"expressions</w>\":5123,\"experience</w>\":5124,\"earthquake</w>\":5125,\"guardian</w>\":5126,\"assigned</w>\":5127,\"menstruation</w>\":5128,\"adversary</w>\":5129,\"traveled</w>\":5130,\"proverbial</w>\":5131,\"skirts</w>\":5132,\"stubborn</w>\":5133,\"remnant</w>\":5134,\"Hoʹreb</w>\":5135,\"windstorm</w>\":5136,\"interceded</w>\":5137,\"excessively</w>\":5138,\"transgressor</w>\":5139,\"attacks</w>\":5140,\"deceitful</w>\":5141,\"astonished</w>\":5142,\"difficult</w>\":5143,\"treacherous</w>\":5144,\"craftsman</w>\":5145,\"11th</w>\":5146,\"15th</w>\":5147,\"Against</w>\":5148,\"Brothers</w>\":5149,\"Blessed</w>\":5150,\"Cornelius</w>\":5151,\"Eye</w>\":5152,\"Elizabe\":5153,\"Eshʹban</w>\":5154,\"Gadʹites</w>\":5155,\"House</w>\":5156,\"Herʹmon</w>\":5157,\"Ithʹran</w>\":5158,\"Mirʹi</w>\":5159,\"Masʹkil</w>\":5160,\"Nevertheless</w>\":5161,\"Otherwise</w>\":5162,\"Pilate</w>\":5163,\"Preserve</w>\":5164,\"Perhaps</w>\":5165,\"Prophe\":5166,\"Padʹdan</w>\":5167,\"Stand</w>\":5168,\"Sadducees</w>\":5169,\"Sprout</w>\":5170,\"Tuʹbal</w>\":5171,\"Two</w>\":5172,\"Than</w>\":5173,\"Tarʹshish</w>\":5174,\"Tatʹte</w>\":5175,\"Vashʹti</w>\":5176,\"axes</w>\":5177,\"bonds</w>\":5178,\"baʹal</w>\":5179,\"bishʹai</w>\":5180,\"flaming</w>\":5181,\"flute</w>\":5182,\"ggots</w>\":5183,\"group</w>\":5184,\"juniper</w>\":5185,\"knife</w>\":5186,\"kaʹnah</w>\":5187,\"ninʹnah</w>\":5188,\"ostriches</w>\":5189,\"palm</w>\":5190,\"pours</w>\":5191,\"pupil</w>\":5192,\"panic</w>\":5193,\"smeared</w>\":5194,\"tfinding</w>\":5195,\"valleys</w>\":5196,\"wrecked</w>\":5197,\"throat</w>\":5198,\"thunders</w>\":5199,\"thoughts</w>\":5200,\"anguish</w>\":5201,\"investi\":5202,\"inquired</w>\":5203,\"intestines</w>\":5204,\"inscribed</w>\":5205,\"outward</w>\":5206,\"witnesses</w>\":5207,\"recogni\":5208,\"revolt</w>\":5209,\"heights</w>\":5210,\"engravings</w>\":5211,\"ensnared</w>\":5212,\"stonecutters</w>\":5213,\"stopping</w>\":5214,\"nostrils</w>\":5215,\"sapphire</w>\":5216,\"savior</w>\":5217,\"saddened</w>\":5218,\"Jephʹthah</w>\":5219,\"Jethʹro</w>\":5220,\"Jeshʹu</w>\":5221,\"Jebʹu</w>\":5222,\"riteship</w>\":5223,\"liquid</w>\":5224,\"calamities</w>\":5225,\"severely</w>\":5226,\"laughingstock</w>\":5227,\"depressed</w>\":5228,\"gazelle</w>\":5229,\"loʹphe</w>\":5230,\"alcoholic</w>\":5231,\"sprinkle</w>\":5232,\"splendid</w>\":5233,\"unfaithfully</w>\":5234,\"unintentionally</w>\":5235,\"unthinkable</w>\":5236,\"tambourine</w>\":5237,\"disobe\":5238,\"worshipped</w>\":5239,\"fattened</w>\":5240,\"facedown</w>\":5241,\"faultfinding</w>\":5242,\"suspicious</w>\":5243,\"suddenly</w>\":5244,\"conspiracy</w>\":5245,\"convinced</w>\":5246,\"concubines</w>\":5247,\"consequences</w>\":5248,\"hostility</w>\":5249,\"mistreat</w>\":5250,\"forgiveness</w>\":5251,\"domestic</w>\":5252,\"dominate</w>\":5253,\"memorial</w>\":5254,\"processions</w>\":5255,\"leavened</w>\":5256,\"tomorrow</w>\":5257,\"pattern</w>\":5258,\"parents</w>\":5259,\"previously</w>\":5260,\"prevail</w>\":5261,\"exclusive</w>\":5262,\"extinguished</w>\":5263,\"exercising</w>\":5264,\"cucumber</w>\":5265,\"cupbearer</w>\":5266,\"shadʹdai</w>\":5267,\"trumpet</w>\":5268,\"dissolved</w>\":5269,\"disorderly</w>\":5270,\"impurity</w>\":5271,\"overwhelmed</w>\":5272,\"triumph</w>\":5273,\"falsehood</w>\":5274,\"synagogue</w>\":5275,\"attentive</w>\":5276,\"principal</w>\":5277,\"Haʹnun</w>\":5278,\"Naziriteship</w>\":5279,\"arrogantly</w>\":5280,\"Consequently</w>\":5281,\"brazier</w>\":5282,\"thickets</w>\":5283,\"gatekeepers</w>\":5284,\"Elizabeth</w>\":5285}'"
            ]
          },
          "metadata": {
            "tags": []
          },
          "execution_count": 82
        }
      ]
    },
    {
      "cell_type": "code",
      "metadata": {
        "id": "KCxBjapv8ANv",
        "colab_type": "code",
        "colab": {
          "base_uri": "https://localhost:8080/",
          "height": 34
        },
        "outputId": "f7176a80-990b-47e4-b883-d9e896466f26"
      },
      "source": [
        "len(token_data[200])"
      ],
      "execution_count": 115,
      "outputs": [
        {
          "output_type": "execute_result",
          "data": {
            "text/plain": [
              "98"
            ]
          },
          "metadata": {
            "tags": []
          },
          "execution_count": 115
        }
      ]
    },
    {
      "cell_type": "code",
      "metadata": {
        "id": "ZpvV3kr28pNF",
        "colab_type": "code",
        "colab": {}
      },
      "source": [
        "token_data = torch.Tensor(token_data).long()"
      ],
      "execution_count": 0,
      "outputs": []
    },
    {
      "cell_type": "code",
      "metadata": {
        "id": "VwmzMVBJA1Sc",
        "colab_type": "code",
        "colab": {
          "base_uri": "https://localhost:8080/",
          "height": 34
        },
        "outputId": "2f913464-76c6-4de8-f91b-f1ebd586a321"
      },
      "source": [
        "token_data.shape"
      ],
      "execution_count": 118,
      "outputs": [
        {
          "output_type": "execute_result",
          "data": {
            "text/plain": [
              "torch.Size([2000, 98])"
            ]
          },
          "metadata": {
            "tags": []
          },
          "execution_count": 118
        }
      ]
    },
    {
      "cell_type": "code",
      "metadata": {
        "id": "7UXTXtNMA5-x",
        "colab_type": "code",
        "colab": {}
      },
      "source": [
        "valid = token_data[:800]\n",
        "train = token_data[800:]"
      ],
      "execution_count": 0,
      "outputs": []
    },
    {
      "cell_type": "code",
      "metadata": {
        "id": "Fe_Lkg4xBCAS",
        "colab_type": "code",
        "colab": {}
      },
      "source": [
        "from torch.utils.data import TensorDataset, DataLoader"
      ],
      "execution_count": 0,
      "outputs": []
    },
    {
      "cell_type": "code",
      "metadata": {
        "id": "WblQJRKGBMP6",
        "colab_type": "code",
        "colab": {}
      },
      "source": [
        "train_data = TensorDataset(train)\n",
        "valid_data = TensorDataset(valid)"
      ],
      "execution_count": 0,
      "outputs": []
    },
    {
      "cell_type": "code",
      "metadata": {
        "id": "hS_00_a2BXim",
        "colab_type": "code",
        "colab": {}
      },
      "source": [
        "batch_size = 100\n",
        "\n",
        "train_loader= DataLoader(train_data,shuffle=True,batch_size=batch_size,)\n",
        "valid_loader =DataLoader(valid_data,shuffle=True,batch_size=batch_size,)"
      ],
      "execution_count": 0,
      "outputs": []
    },
    {
      "cell_type": "code",
      "metadata": {
        "id": "htBCqzphBelp",
        "colab_type": "code",
        "colab": {
          "base_uri": "https://localhost:8080/",
          "height": 34
        },
        "outputId": "560f1ee1-c588-4d70-ca23-c3523c90b084"
      },
      "source": [
        "dataiter = iter(train_loader)\n",
        "sample_x= dataiter.next()[0]\n",
        "\n",
        "sample_x.shape"
      ],
      "execution_count": 124,
      "outputs": [
        {
          "output_type": "execute_result",
          "data": {
            "text/plain": [
              "torch.Size([100, 98])"
            ]
          },
          "metadata": {
            "tags": []
          },
          "execution_count": 124
        }
      ]
    },
    {
      "cell_type": "code",
      "metadata": {
        "id": "tOwmOXK9Bh3W",
        "colab_type": "code",
        "colab": {
          "base_uri": "https://localhost:8080/",
          "height": 72
        },
        "outputId": "5b274a08-bec8-4f4d-b8f4-34f8babf72cf"
      },
      "source": [
        "import torch.nn as nn\n",
        "import torch.nn.functional as F\n",
        "import math, copy, time\n",
        "from torch.autograd import Variable\n",
        "import matplotlib.pyplot as plt\n",
        "import seaborn\n",
        "seaborn.set_context(context=\"talk\")\n",
        "%matplotlib inline"
      ],
      "execution_count": 125,
      "outputs": [
        {
          "output_type": "stream",
          "text": [
            "/usr/local/lib/python3.6/dist-packages/statsmodels/tools/_testing.py:19: FutureWarning: pandas.util.testing is deprecated. Use the functions in the public API at pandas.testing instead.\n",
            "  import pandas.util.testing as tm\n"
          ],
          "name": "stderr"
        }
      ]
    },
    {
      "cell_type": "code",
      "metadata": {
        "id": "xB6KFRWWBoFX",
        "colab_type": "code",
        "colab": {}
      },
      "source": [
        ""
      ],
      "execution_count": 0,
      "outputs": []
    },
    {
      "cell_type": "code",
      "metadata": {
        "id": "krdfex6e0y_b",
        "colab_type": "code",
        "colab": {}
      },
      "source": [
        "class Generator(nn.Module):\n",
        "    \"Define standard linear + softmax generation step.\"\n",
        "    def __init__(self, d_model, vocab):\n",
        "        super(Generator, self).__init__()\n",
        "        self.proj = nn.Linear(d_model, vocab)\n",
        "\n",
        "    def forward(self, x):\n",
        "        return F.log_softmax(self.proj(x), dim=-1)"
      ],
      "execution_count": 0,
      "outputs": []
    },
    {
      "cell_type": "code",
      "metadata": {
        "id": "2i6AC4gp06dh",
        "colab_type": "code",
        "colab": {}
      },
      "source": [
        "def clones(module, N):\n",
        "    \"Produce N identical layers.\"\n",
        "    return nn.ModuleList([copy.deepcopy(module) for _ in range(N)])"
      ],
      "execution_count": 0,
      "outputs": []
    },
    {
      "cell_type": "code",
      "metadata": {
        "id": "vLpzA4wi09wS",
        "colab_type": "code",
        "colab": {}
      },
      "source": [
        "class LayerNorm(nn.Module):\n",
        "    \"Construct a layernorm module (See citation for details).\"\n",
        "    def __init__(self, features, eps=1e-6):\n",
        "        super(LayerNorm, self).__init__()\n",
        "        self.a_2 = nn.Parameter(torch.ones(features))\n",
        "        self.b_2 = nn.Parameter(torch.zeros(features))\n",
        "        self.eps = eps\n",
        "\n",
        "    def forward(self, x):\n",
        "        mean = x.mean(-1, keepdim=True)\n",
        "        std = x.std(-1, keepdim=True)\n",
        "        return self.a_2 * (x - mean) / (std + self.eps) + self.b_2"
      ],
      "execution_count": 0,
      "outputs": []
    },
    {
      "cell_type": "code",
      "metadata": {
        "id": "lWAu5yTc1KxG",
        "colab_type": "code",
        "colab": {}
      },
      "source": [
        "class SublayerConnection(nn.Module):\n",
        "    \"\"\"\n",
        "    A residual connection followed by a layer norm.\n",
        "    Note for code simplicity the norm is first as opposed to last.\n",
        "    \"\"\"\n",
        "    def __init__(self, size, dropout):\n",
        "        super(SublayerConnection, self).__init__()\n",
        "        self.norm = LayerNorm(size)\n",
        "        self.dropout = nn.Dropout(dropout)\n",
        "\n",
        "    def forward(self, x, sublayer):\n",
        "        \"Apply residual connection to any sublayer with the same size.\"\n",
        "        return x + self.dropout(sublayer(self.norm(x)))"
      ],
      "execution_count": 0,
      "outputs": []
    },
    {
      "cell_type": "code",
      "metadata": {
        "id": "xvdzzdVi1PZV",
        "colab_type": "code",
        "colab": {}
      },
      "source": [
        "class Decoder(nn.Module):\n",
        "\n",
        "  def __init__(self, layer, N):\n",
        "\n",
        "    super(Decoder, self).__init__()\n",
        "    self.layers = clones(layer, N)\n",
        "    self.norm = LayerNorm(layer.size)\n",
        "\n",
        "  def forward(self,x, tgt_mask):\n",
        "\n",
        "    for layer in self.layers:\n",
        "      x = layer(x, tgt_mask)\n",
        "    return self.norm(x)"
      ],
      "execution_count": 0,
      "outputs": []
    },
    {
      "cell_type": "code",
      "metadata": {
        "id": "bRj5bOeb2Iw7",
        "colab_type": "code",
        "colab": {}
      },
      "source": [
        "class DecoderLayer(nn.Module):\n",
        "\n",
        "  def __init__(self, size, self_attn, feed_forward, dropout):\n",
        "    super(DecoderLayer, self).__init__()\n",
        "    self.size = size\n",
        "    self.self_attn = self_attn\n",
        "    self.feed_forward = feed_forward\n",
        "    self.sublayer = clones(SublayerConnection(size, dropout), 2)\n",
        "\n",
        "  def forward(self, x, tgt_mask):\n",
        "\n",
        "    x = self.sublayer[0](x, lambda x: self.self_attn(x, x, x, tgt_mask))\n",
        "    return self.sublayer[1](x, self.feed_forward)"
      ],
      "execution_count": 0,
      "outputs": []
    },
    {
      "cell_type": "code",
      "metadata": {
        "id": "w1Txc6Tu3rSX",
        "colab_type": "code",
        "colab": {}
      },
      "source": [
        "def subsequent_mask(size):\n",
        "    \"Mask out subsequent positions.\"\n",
        "    attn_shape = (1, size, size)\n",
        "    subsequent_mask = np.triu(np.ones(attn_shape), k=1).astype('uint8')\n",
        "    return torch.from_numpy(subsequent_mask) == 0"
      ],
      "execution_count": 0,
      "outputs": []
    },
    {
      "cell_type": "code",
      "metadata": {
        "id": "e5f2STj13wR1",
        "colab_type": "code",
        "colab": {}
      },
      "source": [
        "def attention(query, key, value, mask=None, dropout=None):\n",
        "    \"Compute 'Scaled Dot Product Attention'\"\n",
        "    d_k = query.size(-1)\n",
        "    scores = torch.matmul(query, key.transpose(-2, -1)) \\\n",
        "             / math.sqrt(d_k)\n",
        "    if mask is not None:\n",
        "        scores = scores.masked_fill(mask == 0, -1e9)\n",
        "    p_attn = F.softmax(scores, dim = -1)\n",
        "    if dropout is not None:\n",
        "        p_attn = dropout(p_attn)\n",
        "    return torch.matmul(p_attn, value), p_attn"
      ],
      "execution_count": 0,
      "outputs": []
    },
    {
      "cell_type": "code",
      "metadata": {
        "id": "fFXwTFum4Dpf",
        "colab_type": "code",
        "colab": {}
      },
      "source": [
        "class MultiHeadedAttention(nn.Module):\n",
        "    def __init__(self, h, d_model, dropout=0.1):\n",
        "        \"Take in model size and number of heads.\"\n",
        "        super(MultiHeadedAttention, self).__init__()\n",
        "        assert d_model % h == 0\n",
        "        # We assume d_v always equals d_k\n",
        "        self.d_k = d_model // h\n",
        "        self.h = h\n",
        "        self.linears = clones(nn.Linear(d_model, d_model), 4)\n",
        "        self.attn = None\n",
        "        self.dropout = nn.Dropout(p=dropout)\n",
        "        \n",
        "    def forward(self, query, key, value, mask=None):\n",
        "        \"Implements Figure 2\"\n",
        "        if mask is not None:\n",
        "            # Same mask applied to all h heads.\n",
        "            mask = mask.unsqueeze(1)\n",
        "        nbatches = query.size(0)\n",
        "        \n",
        "        # 1) Do all the linear projections in batch from d_model => h x d_k \n",
        "        query, key, value = \\\n",
        "            [l(x).view(nbatches, -1, self.h, self.d_k).transpose(1, 2)\n",
        "             for l, x in zip(self.linears, (query, key, value))]\n",
        "        \n",
        "        # 2) Apply attention on all the projected vectors in batch. \n",
        "        x, self.attn = attention(query, key, value, mask=mask, \n",
        "                                 dropout=self.dropout)\n",
        "        \n",
        "        # 3) \"Concat\" using a view and apply a final linear. \n",
        "        x = x.transpose(1, 2).contiguous() \\\n",
        "             .view(nbatches, -1, self.h * self.d_k)\n",
        "        return self.linears[-1](x)"
      ],
      "execution_count": 0,
      "outputs": []
    },
    {
      "cell_type": "code",
      "metadata": {
        "id": "4l1YDXVF4J14",
        "colab_type": "code",
        "colab": {}
      },
      "source": [
        "class PositionwiseFeedForward(nn.Module):\n",
        "    \"Implements FFN equation.\"\n",
        "    def __init__(self, d_model, d_ff, dropout=0.1):\n",
        "        super(PositionwiseFeedForward, self).__init__()\n",
        "        self.w_1 = nn.Linear(d_model, d_ff)\n",
        "        self.w_2 = nn.Linear(d_ff, d_model)\n",
        "        self.dropout = nn.Dropout(dropout)\n",
        "\n",
        "    def forward(self, x):\n",
        "        return self.w_2(self.dropout(F.gelu(self.w_1(x))))"
      ],
      "execution_count": 0,
      "outputs": []
    },
    {
      "cell_type": "code",
      "metadata": {
        "id": "AMHS4a4a4On1",
        "colab_type": "code",
        "colab": {}
      },
      "source": [
        "class Embeddings(nn.Module):\n",
        "    def __init__(self, d_model, vocab):\n",
        "        super(Embeddings, self).__init__()\n",
        "        self.lut = nn.Embedding(vocab, d_model)\n",
        "        self.d_model = d_model\n",
        "\n",
        "    def forward(self, x):\n",
        "        return self.lut(x) * math.sqrt(self.d_model)"
      ],
      "execution_count": 0,
      "outputs": []
    },
    {
      "cell_type": "code",
      "metadata": {
        "id": "x6Rje_Ox4S7X",
        "colab_type": "code",
        "colab": {}
      },
      "source": [
        "class PositionalEncoding(nn.Module):\n",
        "    \"Implement the PE function.\"\n",
        "    def __init__(self, d_model, dropout, max_len=1024):\n",
        "        super(PositionalEncoding, self).__init__()\n",
        "        self.dropout = nn.Dropout(p=dropout)\n",
        "        \n",
        "        # Compute the positional encodings once in log space.\n",
        "        pe = torch.zeros(max_len, d_model)\n",
        "        position = torch.arange(0., max_len).unsqueeze(1)\n",
        "        div_term = torch.exp(torch.arange(0., d_model, 2) *\n",
        "                             -(math.log(10000.0) / d_model))\n",
        "        pe[:, 0::2] = torch.sin(position * div_term)\n",
        "        pe[:, 1::2] = torch.cos(position * div_term)\n",
        "        pe = pe.unsqueeze(0)\n",
        "        self.register_buffer('pe', pe)\n",
        "        \n",
        "    def forward(self, x):\n",
        "        x = x + Variable(self.pe[:, :x.size(1)], \n",
        "                         requires_grad=False)\n",
        "        return self.dropout(x)"
      ],
      "execution_count": 0,
      "outputs": []
    },
    {
      "cell_type": "code",
      "metadata": {
        "id": "S4vM-ES8A2fO",
        "colab_type": "code",
        "colab": {}
      },
      "source": [
        "class GP(nn.Module):\n",
        "\n",
        "  def __init__(self, decoder, tgt_embed, generator):\n",
        "    super(GP, self).__init__()\n",
        "    self.decoder = decoder\n",
        "    self.embed = tgt_embed\n",
        "    self.generator = generator\n",
        "\n",
        "  def forward(self, x, x_mask):\n",
        "\n",
        "    x = self.embed(x)\n",
        "    x =  self.decoder(x,x_mask)\n",
        "\n",
        "    return x"
      ],
      "execution_count": 0,
      "outputs": []
    },
    {
      "cell_type": "code",
      "metadata": {
        "id": "gVAMspq84YXZ",
        "colab_type": "code",
        "colab": {}
      },
      "source": [
        "def make_model(eng_vocab, N=12, d_model=768, d_ff=3072, h=12, dropout=0.1):\n",
        "\n",
        "  c = copy.deepcopy\n",
        "  attn = MultiHeadedAttention(h,d_model)\n",
        "  ff   = PositionwiseFeedForward(d_model, d_ff, dropout)\n",
        "  position = PositionalEncoding(d_model, dropout)\n",
        "\n",
        "\n",
        "  model = GP(\n",
        "      Decoder(DecoderLayer(d_model, c(attn), c(ff), dropout), N),\n",
        "      nn.Sequential(Embeddings(d_model, eng_vocab), c(position)),\n",
        "      Generator(d_model, eng_vocab)\n",
        "  )\n",
        "\n",
        "  for p in model.parameters():\n",
        "    if p.dim() > 1:\n",
        "      nn.init.xavier_uniform(p)\n",
        "  return model"
      ],
      "execution_count": 0,
      "outputs": []
    },
    {
      "cell_type": "code",
      "metadata": {
        "id": "6DfPOtIP7ZwO",
        "colab_type": "code",
        "colab": {}
      },
      "source": [
        "class Batch:\n",
        "\n",
        "  def __init__(self, trg, pad=1):\n",
        "\n",
        "    self.trg = trg[:, :-1]\n",
        "    self.trg_y = trg[:, 1:]\n",
        "\n",
        "    self.trg_mask = self.make_std_mask(self.trg,pad)\n",
        "\n",
        "    self.ntokens = (self.trg_y !=pad).data.sum()\n",
        "\n",
        "  @staticmethod\n",
        "  def make_std_mask(tgt, pad):\n",
        "    tgt_mask = (tgt != pad).unsqueeze(-2)\n",
        "    tgt_mask = tgt_mask & Variable(\n",
        "            subsequent_mask(tgt.size(-1)).type_as(tgt_mask.data))\n",
        "    return tgt_mask\n"
      ],
      "execution_count": 0,
      "outputs": []
    },
    {
      "cell_type": "code",
      "metadata": {
        "id": "7vAswT8B8p3x",
        "colab_type": "code",
        "colab": {}
      },
      "source": [
        "def run_epoch(data_iter, model, loss_compute):\n",
        "\n",
        "  start = time.time()\n",
        "  total_tokens = 0\n",
        "  total_loss = 0\n",
        "  tokens = 0\n",
        "\n",
        "  for i , data in enumerate(data_iter):\n",
        "\n",
        "    trg = data[0]\n",
        "\n",
        "    batch = Batch(trg.cuda())\n",
        "\n",
        "    out = model.forward(batch.trg, batch.trg_mask)\n",
        "\n",
        "    loss = loss_compute(out, batch.trg_y, batch.ntokens)\n",
        "\n",
        "    total_loss += loss\n",
        "    total_tokens += batch.ntokens\n",
        "    tokens += batch.ntokens\n",
        "\n",
        "    if i % 50 == 1:\n",
        "\n",
        "      elapsed = time.time() - start\n",
        "      print(\"Epoch Step: %d Loss: %f Tokens per Sec: %f\" %\n",
        "              (i, loss / batch.ntokens, tokens / elapsed))\n",
        "      start = time.time()\n",
        "      tokens = 0\n",
        "  return total_loss / total_tokens"
      ],
      "execution_count": 0,
      "outputs": []
    },
    {
      "cell_type": "code",
      "metadata": {
        "id": "QDk-A1lk-8K8",
        "colab_type": "code",
        "colab": {}
      },
      "source": [
        "class NoamOpt:\n",
        "    \"Optim wrapper that implements rate.\"\n",
        "    def __init__(self, model_size, factor, warmup, optimizer):\n",
        "        self.optimizer = optimizer\n",
        "        self._step = 0\n",
        "        self.warmup = warmup\n",
        "        self.factor = factor\n",
        "        self.model_size = model_size\n",
        "        self._rate = 0\n",
        "        \n",
        "    def step(self):\n",
        "        \"Update parameters and rate\"\n",
        "        self._step += 1\n",
        "        rate = self.rate()\n",
        "        for p in self.optimizer.param_groups:\n",
        "            p['lr'] = rate\n",
        "        self._rate = rate\n",
        "        self.optimizer.step()\n",
        "        \n",
        "    def rate(self, step = None):\n",
        "        \"Implement `lrate` above\"\n",
        "        if step is None:\n",
        "            step = self._step\n",
        "        return self.factor * \\\n",
        "            (self.model_size ** (-0.5) *\n",
        "            min(step ** (-0.5), step * self.warmup ** (-1.5)))\n",
        "        \n",
        "def get_std_opt(model):\n",
        "    return NoamOpt(model.src_embed[0].d_model, 2, 4000,\n",
        "            torch.optim.Adam(model.parameters(), lr=0, betas=(0.9, 0.98), eps=1e-9))"
      ],
      "execution_count": 0,
      "outputs": []
    },
    {
      "cell_type": "code",
      "metadata": {
        "id": "5mkDsfTy_EK5",
        "colab_type": "code",
        "colab": {}
      },
      "source": [
        "class LabelSmoothing(nn.Module):\n",
        "    \"Implement label smoothing.\"\n",
        "    def __init__(self, size, padding_idx, smoothing=0.0):\n",
        "        super(LabelSmoothing, self).__init__()\n",
        "        self.criterion = nn.KLDivLoss(size_average=False)\n",
        "        self.padding_idx = padding_idx\n",
        "        self.confidence = 1.0 - smoothing\n",
        "        self.smoothing = smoothing\n",
        "        self.size = size\n",
        "        self.true_dist = None\n",
        "        \n",
        "    def forward(self, x, target):\n",
        "        assert x.size(1) == self.size\n",
        "        true_dist = x.data.clone()\n",
        "        true_dist.fill_(self.smoothing / (self.size - 2))\n",
        "        true_dist.scatter_(1, target.data.unsqueeze(1), self.confidence)\n",
        "        true_dist[:, self.padding_idx] = 0\n",
        "        mask = torch.nonzero(target.data == self.padding_idx)\n",
        "        if mask.dim() > 0:\n",
        "            true_dist.index_fill_(0, mask.squeeze(), 0.0)\n",
        "        self.true_dist = true_dist\n",
        "        return self.criterion(x, Variable(true_dist, requires_grad=False))"
      ],
      "execution_count": 0,
      "outputs": []
    },
    {
      "cell_type": "code",
      "metadata": {
        "id": "Ah1svWBg_XHb",
        "colab_type": "code",
        "colab": {}
      },
      "source": [
        "class SimpleLossCompute:\n",
        "    \"A simple loss compute and train function.\"\n",
        "    def __init__(self, generator, criterion, opt=None):\n",
        "        self.generator = generator\n",
        "        self.criterion = criterion\n",
        "        self.opt = opt\n",
        "        \n",
        "    def __call__(self, x, y, norm):\n",
        "        x = self.generator(x)\n",
        "        loss = self.criterion(x.contiguous().view(-1, x.size(-1)), \n",
        "                              y.contiguous().view(-1)) / norm\n",
        "        loss.backward()\n",
        "        if self.opt is not None:\n",
        "            self.opt.step()\n",
        "            self.opt.optimizer.zero_grad()\n",
        "        return loss.item() * norm"
      ],
      "execution_count": 0,
      "outputs": []
    },
    {
      "cell_type": "code",
      "metadata": {
        "id": "Z0WsyiJr_cLD",
        "colab_type": "code",
        "colab": {}
      },
      "source": [
        "def greedy_decode(model, src, max_len):\n",
        "    for i in range(max_len-1):\n",
        "        out = model(Variable(src), \n",
        "                    Variable(subsequent_mask(src.size(1)).type_as(src.data)))\n",
        "        prob = model.generator(out[:, -1])\n",
        "        _, next_word = torch.max(prob, dim = 1)\n",
        "        next_word = next_word.data[0]\n",
        "        src = torch.cat([src, \n",
        "                        torch.ones(1, 1).type_as(src.data).fill_(next_word)], dim=1)\n",
        "    return src"
      ],
      "execution_count": 0,
      "outputs": []
    },
    {
      "cell_type": "code",
      "metadata": {
        "id": "E6UPfJnKDPbC",
        "colab_type": "code",
        "colab": {
          "base_uri": "https://localhost:8080/",
          "height": 34
        },
        "outputId": "afbf100d-b5f0-44ef-c168-771c36bb7803"
      },
      "source": [
        "tokenizer.get_vocab_size()"
      ],
      "execution_count": 151,
      "outputs": [
        {
          "output_type": "execute_result",
          "data": {
            "text/plain": [
              "5286"
            ]
          },
          "metadata": {
            "tags": []
          },
          "execution_count": 151
        }
      ]
    },
    {
      "cell_type": "code",
      "metadata": {
        "id": "4gHIcNP2_gcP",
        "colab_type": "code",
        "outputId": "b60b7489-85dc-4060-cb79-55de3f285083",
        "colab": {
          "base_uri": "https://localhost:8080/",
          "height": 141
        }
      },
      "source": [
        "pad_idx = tokenizer.token_to_id(\"<pad>\")\n",
        "model = make_model(tokenizer.get_vocab_size())\n",
        "model.cuda()\n",
        "criterion = LabelSmoothing(size=tokenizer.get_vocab_size(),padding_idx=pad_idx,smoothing=0.1)\n",
        "criterion.cuda()"
      ],
      "execution_count": 152,
      "outputs": [
        {
          "output_type": "stream",
          "text": [
            "/usr/local/lib/python3.6/dist-packages/ipykernel_launcher.py:17: UserWarning: nn.init.xavier_uniform is now deprecated in favor of nn.init.xavier_uniform_.\n",
            "/usr/local/lib/python3.6/dist-packages/torch/nn/_reduction.py:43: UserWarning: size_average and reduce args will be deprecated, please use reduction='sum' instead.\n",
            "  warnings.warn(warning.format(ret))\n"
          ],
          "name": "stderr"
        },
        {
          "output_type": "execute_result",
          "data": {
            "text/plain": [
              "LabelSmoothing(\n",
              "  (criterion): KLDivLoss()\n",
              ")"
            ]
          },
          "metadata": {
            "tags": []
          },
          "execution_count": 152
        }
      ]
    },
    {
      "cell_type": "code",
      "metadata": {
        "id": "H_JDarYPDwPD",
        "colab_type": "code",
        "colab": {
          "base_uri": "https://localhost:8080/",
          "height": 1000
        },
        "outputId": "0805df78-f964-4dc7-ee9f-832ebdf2d331"
      },
      "source": [
        "model_opt = NoamOpt(model.embed[0].d_model, 1, 2000,\n",
        "            torch.optim.Adam(model.parameters(), lr=0, betas=(0.9, 0.98), eps=1e-9))\n",
        "\n",
        "for epoch in range(70):\n",
        "  model.train()\n",
        "  \n",
        "    \n",
        "  run_epoch(train_loader,model,\n",
        "           SimpleLossCompute(model.generator,criterion,model_opt))\n",
        "  model.eval()\n",
        "  print(run_epoch(valid_loader,model,\n",
        "           SimpleLossCompute(model.generator,criterion,None)))"
      ],
      "execution_count": 153,
      "outputs": [
        {
          "output_type": "stream",
          "text": [
            "/pytorch/torch/csrc/utils/python_arg_parser.cpp:756: UserWarning: This overload of nonzero is deprecated:\n",
            "\tnonzero(Tensor input, *, Tensor out)\n",
            "Consider using one of the following signatures instead:\n",
            "\tnonzero(Tensor input, *, bool as_tuple)\n"
          ],
          "name": "stderr"
        },
        {
          "output_type": "stream",
          "text": [
            "Epoch Step: 1 Loss: 7.487025 Tokens per Sec: 3006.268066\n",
            "Epoch Step: 1 Loss: 7.034494 Tokens per Sec: 3440.545654\n",
            "tensor(7.0370, device='cuda:0')\n",
            "Epoch Step: 1 Loss: 7.068389 Tokens per Sec: 3348.135986\n",
            "Epoch Step: 1 Loss: 6.644729 Tokens per Sec: 3724.951660\n",
            "tensor(6.6327, device='cuda:0')\n",
            "Epoch Step: 1 Loss: 6.652262 Tokens per Sec: 3601.246094\n",
            "Epoch Step: 1 Loss: 6.362244 Tokens per Sec: 3711.864014\n",
            "tensor(6.3656, device='cuda:0')\n",
            "Epoch Step: 1 Loss: 6.402306 Tokens per Sec: 3493.750732\n",
            "Epoch Step: 1 Loss: 6.136723 Tokens per Sec: 3637.192627\n",
            "tensor(6.1836, device='cuda:0')\n",
            "Epoch Step: 1 Loss: 6.220553 Tokens per Sec: 3349.936768\n",
            "Epoch Step: 1 Loss: 6.073840 Tokens per Sec: 3556.642090\n",
            "tensor(6.0452, device='cuda:0')\n",
            "Epoch Step: 1 Loss: 6.051891 Tokens per Sec: 3605.169189\n",
            "Epoch Step: 1 Loss: 5.910289 Tokens per Sec: 3696.127197\n",
            "tensor(5.9083, device='cuda:0')\n",
            "Epoch Step: 1 Loss: 5.927147 Tokens per Sec: 3456.751465\n",
            "Epoch Step: 1 Loss: 5.734027 Tokens per Sec: 3683.106689\n",
            "tensor(5.7636, device='cuda:0')\n",
            "Epoch Step: 1 Loss: 5.750041 Tokens per Sec: 3494.571289\n",
            "Epoch Step: 1 Loss: 5.625781 Tokens per Sec: 3576.823486\n",
            "tensor(5.6201, device='cuda:0')\n",
            "Epoch Step: 1 Loss: 5.618499 Tokens per Sec: 3609.567383\n",
            "Epoch Step: 1 Loss: 5.502793 Tokens per Sec: 3437.239014\n",
            "tensor(5.4847, device='cuda:0')\n",
            "Epoch Step: 1 Loss: 5.483627 Tokens per Sec: 3608.079834\n",
            "Epoch Step: 1 Loss: 5.348660 Tokens per Sec: 3594.862793\n",
            "tensor(5.3291, device='cuda:0')\n",
            "Epoch Step: 1 Loss: 5.331561 Tokens per Sec: 3400.499756\n",
            "Epoch Step: 1 Loss: 5.216343 Tokens per Sec: 3497.222656\n",
            "tensor(5.1737, device='cuda:0')\n",
            "Epoch Step: 1 Loss: 5.263435 Tokens per Sec: 3603.789062\n",
            "Epoch Step: 1 Loss: 5.006054 Tokens per Sec: 3438.728271\n",
            "tensor(5.0155, device='cuda:0')\n",
            "Epoch Step: 1 Loss: 5.020448 Tokens per Sec: 3488.860840\n",
            "Epoch Step: 1 Loss: 4.866359 Tokens per Sec: 3385.034424\n",
            "tensor(4.8822, device='cuda:0')\n",
            "Epoch Step: 1 Loss: 5.029485 Tokens per Sec: 3527.211426\n",
            "Epoch Step: 1 Loss: 4.746285 Tokens per Sec: 3587.374268\n",
            "tensor(4.7500, device='cuda:0')\n",
            "Epoch Step: 1 Loss: 4.895587 Tokens per Sec: 3447.994629\n",
            "Epoch Step: 1 Loss: 4.638415 Tokens per Sec: 3651.786377\n",
            "tensor(4.6419, device='cuda:0')\n",
            "Epoch Step: 1 Loss: 4.768207 Tokens per Sec: 3555.123047\n",
            "Epoch Step: 1 Loss: 4.556730 Tokens per Sec: 3586.521973\n",
            "tensor(4.5081, device='cuda:0')\n",
            "Epoch Step: 1 Loss: 4.579134 Tokens per Sec: 3561.738525\n",
            "Epoch Step: 1 Loss: 4.374402 Tokens per Sec: 3614.105713\n",
            "tensor(4.3896, device='cuda:0')\n",
            "Epoch Step: 1 Loss: 4.440344 Tokens per Sec: 3374.813721\n",
            "Epoch Step: 1 Loss: 4.247977 Tokens per Sec: 3551.771240\n",
            "tensor(4.2614, device='cuda:0')\n",
            "Epoch Step: 1 Loss: 4.319152 Tokens per Sec: 3345.871582\n",
            "Epoch Step: 1 Loss: 4.112939 Tokens per Sec: 3429.391846\n",
            "tensor(4.1237, device='cuda:0')\n",
            "Epoch Step: 1 Loss: 4.334185 Tokens per Sec: 3411.088623\n",
            "Epoch Step: 1 Loss: 4.030135 Tokens per Sec: 3632.216797\n",
            "tensor(4.0339, device='cuda:0')\n",
            "Epoch Step: 1 Loss: 4.213360 Tokens per Sec: 3447.908203\n",
            "Epoch Step: 1 Loss: 3.891482 Tokens per Sec: 3759.820068\n",
            "tensor(3.9585, device='cuda:0')\n",
            "Epoch Step: 1 Loss: 4.160087 Tokens per Sec: 3534.718994\n",
            "Epoch Step: 1 Loss: 3.840362 Tokens per Sec: 3697.271973\n",
            "tensor(3.8777, device='cuda:0')\n",
            "Epoch Step: 1 Loss: 4.095200 Tokens per Sec: 3485.337646\n",
            "Epoch Step: 1 Loss: 3.742841 Tokens per Sec: 3637.027100\n",
            "tensor(3.7587, device='cuda:0')\n",
            "Epoch Step: 1 Loss: 3.991787 Tokens per Sec: 3225.788330\n",
            "Epoch Step: 1 Loss: 3.649971 Tokens per Sec: 3654.608154\n",
            "tensor(3.6629, device='cuda:0')\n",
            "Epoch Step: 1 Loss: 3.846903 Tokens per Sec: 3655.967041\n",
            "Epoch Step: 1 Loss: 3.561270 Tokens per Sec: 3554.503906\n",
            "tensor(3.5538, device='cuda:0')\n",
            "Epoch Step: 1 Loss: 3.815345 Tokens per Sec: 3573.666016\n",
            "Epoch Step: 1 Loss: 3.484308 Tokens per Sec: 3654.151367\n",
            "tensor(3.4450, device='cuda:0')\n",
            "Epoch Step: 1 Loss: 3.825156 Tokens per Sec: 3469.116455\n",
            "Epoch Step: 1 Loss: 3.402003 Tokens per Sec: 3553.078125\n",
            "tensor(3.3942, device='cuda:0')\n",
            "Epoch Step: 1 Loss: 3.826519 Tokens per Sec: 3636.200439\n",
            "Epoch Step: 1 Loss: 3.367785 Tokens per Sec: 3555.041504\n",
            "tensor(3.3136, device='cuda:0')\n",
            "Epoch Step: 1 Loss: 3.670483 Tokens per Sec: 3515.904297\n",
            "Epoch Step: 1 Loss: 3.129200 Tokens per Sec: 3598.913818\n",
            "tensor(3.1869, device='cuda:0')\n",
            "Epoch Step: 1 Loss: 3.632160 Tokens per Sec: 3487.054443\n",
            "Epoch Step: 1 Loss: 3.161142 Tokens per Sec: 3584.800781\n",
            "tensor(3.0951, device='cuda:0')\n",
            "Epoch Step: 1 Loss: 3.536459 Tokens per Sec: 3480.746338\n",
            "Epoch Step: 1 Loss: 3.068449 Tokens per Sec: 3672.571045\n",
            "tensor(3.0109, device='cuda:0')\n",
            "Epoch Step: 1 Loss: 3.507728 Tokens per Sec: 3377.818359\n",
            "Epoch Step: 1 Loss: 2.845218 Tokens per Sec: 3533.218018\n",
            "tensor(2.8900, device='cuda:0')\n",
            "Epoch Step: 1 Loss: 3.433730 Tokens per Sec: 3347.228760\n",
            "Epoch Step: 1 Loss: 2.783741 Tokens per Sec: 3592.373291\n",
            "tensor(2.7756, device='cuda:0')\n",
            "Epoch Step: 1 Loss: 3.306188 Tokens per Sec: 3542.464844\n",
            "Epoch Step: 1 Loss: 2.642254 Tokens per Sec: 3521.909668\n",
            "tensor(2.6859, device='cuda:0')\n",
            "Epoch Step: 1 Loss: 3.292710 Tokens per Sec: 3334.436768\n",
            "Epoch Step: 1 Loss: 2.592809 Tokens per Sec: 3672.495117\n",
            "tensor(2.6001, device='cuda:0')\n",
            "Epoch Step: 1 Loss: 3.191473 Tokens per Sec: 3388.196533\n",
            "Epoch Step: 1 Loss: 2.488980 Tokens per Sec: 3506.409180\n",
            "tensor(2.4553, device='cuda:0')\n",
            "Epoch Step: 1 Loss: 3.123693 Tokens per Sec: 3296.499756\n",
            "Epoch Step: 1 Loss: 2.364956 Tokens per Sec: 3600.952637\n",
            "tensor(2.3473, device='cuda:0')\n",
            "Epoch Step: 1 Loss: 3.080377 Tokens per Sec: 3321.289551\n",
            "Epoch Step: 1 Loss: 2.271703 Tokens per Sec: 3774.984863\n",
            "tensor(2.2473, device='cuda:0')\n",
            "Epoch Step: 1 Loss: 2.915745 Tokens per Sec: 3699.261963\n",
            "Epoch Step: 1 Loss: 2.138281 Tokens per Sec: 3619.265137\n",
            "tensor(2.1206, device='cuda:0')\n",
            "Epoch Step: 1 Loss: 2.895420 Tokens per Sec: 3584.295898\n",
            "Epoch Step: 1 Loss: 1.980827 Tokens per Sec: 3549.277344\n",
            "tensor(2.0172, device='cuda:0')\n",
            "Epoch Step: 1 Loss: 2.748683 Tokens per Sec: 3413.561035\n",
            "Epoch Step: 1 Loss: 1.884940 Tokens per Sec: 3510.754883\n",
            "tensor(1.9069, device='cuda:0')\n",
            "Epoch Step: 1 Loss: 2.665075 Tokens per Sec: 3418.018799\n",
            "Epoch Step: 1 Loss: 1.764523 Tokens per Sec: 3485.940430\n",
            "tensor(1.7541, device='cuda:0')\n",
            "Epoch Step: 1 Loss: 2.568574 Tokens per Sec: 3570.413086\n",
            "Epoch Step: 1 Loss: 1.635008 Tokens per Sec: 3609.881592\n",
            "tensor(1.6342, device='cuda:0')\n",
            "Epoch Step: 1 Loss: 2.535348 Tokens per Sec: 3473.430664\n",
            "Epoch Step: 1 Loss: 1.518231 Tokens per Sec: 3533.479980\n",
            "tensor(1.5271, device='cuda:0')\n",
            "Epoch Step: 1 Loss: 2.481771 Tokens per Sec: 3257.052002\n",
            "Epoch Step: 1 Loss: 1.416753 Tokens per Sec: 3522.535156\n",
            "tensor(1.4291, device='cuda:0')\n",
            "Epoch Step: 1 Loss: 2.274065 Tokens per Sec: 3470.821533\n",
            "Epoch Step: 1 Loss: 1.332041 Tokens per Sec: 3721.396240\n",
            "tensor(1.3307, device='cuda:0')\n",
            "Epoch Step: 1 Loss: 2.197562 Tokens per Sec: 3430.538574\n",
            "Epoch Step: 1 Loss: 1.231421 Tokens per Sec: 3708.035400\n",
            "tensor(1.2246, device='cuda:0')\n",
            "Epoch Step: 1 Loss: 2.160405 Tokens per Sec: 3485.027832\n",
            "Epoch Step: 1 Loss: 1.065467 Tokens per Sec: 3529.106934\n",
            "tensor(1.0929, device='cuda:0')\n",
            "Epoch Step: 1 Loss: 2.038426 Tokens per Sec: 3594.827148\n",
            "Epoch Step: 1 Loss: 0.990905 Tokens per Sec: 3558.800049\n",
            "tensor(0.9884, device='cuda:0')\n",
            "Epoch Step: 1 Loss: 1.919556 Tokens per Sec: 3482.009277\n",
            "Epoch Step: 1 Loss: 0.895214 Tokens per Sec: 3575.860840\n",
            "tensor(0.9010, device='cuda:0')\n",
            "Epoch Step: 1 Loss: 1.807310 Tokens per Sec: 3498.883789\n",
            "Epoch Step: 1 Loss: 0.793068 Tokens per Sec: 3676.325684\n",
            "tensor(0.8035, device='cuda:0')\n",
            "Epoch Step: 1 Loss: 1.679111 Tokens per Sec: 3344.649170\n",
            "Epoch Step: 1 Loss: 0.730741 Tokens per Sec: 3713.866211\n",
            "tensor(0.7215, device='cuda:0')\n",
            "Epoch Step: 1 Loss: 1.639967 Tokens per Sec: 3441.241211\n",
            "Epoch Step: 1 Loss: 0.655118 Tokens per Sec: 3396.296143\n",
            "tensor(0.6500, device='cuda:0')\n",
            "Epoch Step: 1 Loss: 1.447282 Tokens per Sec: 3493.915283\n",
            "Epoch Step: 1 Loss: 0.573657 Tokens per Sec: 3684.836182\n",
            "tensor(0.5940, device='cuda:0')\n",
            "Epoch Step: 1 Loss: 1.380473 Tokens per Sec: 3526.896973\n",
            "Epoch Step: 1 Loss: 0.543550 Tokens per Sec: 3657.204834\n",
            "tensor(0.5515, device='cuda:0')\n",
            "Epoch Step: 1 Loss: 1.292085 Tokens per Sec: 3460.879395\n",
            "Epoch Step: 1 Loss: 0.511950 Tokens per Sec: 3541.639160\n",
            "tensor(0.5063, device='cuda:0')\n",
            "Epoch Step: 1 Loss: 1.197432 Tokens per Sec: 3508.238770\n",
            "Epoch Step: 1 Loss: 0.474272 Tokens per Sec: 3494.028564\n",
            "tensor(0.4665, device='cuda:0')\n",
            "Epoch Step: 1 Loss: 1.070323 Tokens per Sec: 3287.516113\n",
            "Epoch Step: 1 Loss: 0.432690 Tokens per Sec: 3558.858887\n",
            "tensor(0.4324, device='cuda:0')\n",
            "Epoch Step: 1 Loss: 0.992500 Tokens per Sec: 3369.936768\n",
            "Epoch Step: 1 Loss: 0.419500 Tokens per Sec: 3685.493896\n",
            "tensor(0.4170, device='cuda:0')\n",
            "Epoch Step: 1 Loss: 0.918507 Tokens per Sec: 3512.750488\n",
            "Epoch Step: 1 Loss: 0.387673 Tokens per Sec: 3592.039551\n",
            "tensor(0.4019, device='cuda:0')\n",
            "Epoch Step: 1 Loss: 0.841200 Tokens per Sec: 3519.272705\n",
            "Epoch Step: 1 Loss: 0.401061 Tokens per Sec: 3569.549805\n",
            "tensor(0.3944, device='cuda:0')\n",
            "Epoch Step: 1 Loss: 0.789446 Tokens per Sec: 3433.682617\n",
            "Epoch Step: 1 Loss: 0.374184 Tokens per Sec: 3548.419434\n",
            "tensor(0.3893, device='cuda:0')\n",
            "Epoch Step: 1 Loss: 0.683069 Tokens per Sec: 3469.510010\n",
            "Epoch Step: 1 Loss: 0.396087 Tokens per Sec: 3504.694336\n",
            "tensor(0.3859, device='cuda:0')\n",
            "Epoch Step: 1 Loss: 0.681291 Tokens per Sec: 3409.182617\n",
            "Epoch Step: 1 Loss: 0.384392 Tokens per Sec: 3436.429199\n",
            "tensor(0.3761, device='cuda:0')\n",
            "Epoch Step: 1 Loss: 0.624025 Tokens per Sec: 3544.440674\n",
            "Epoch Step: 1 Loss: 0.380688 Tokens per Sec: 3408.665039\n",
            "tensor(0.3712, device='cuda:0')\n",
            "Epoch Step: 1 Loss: 0.576501 Tokens per Sec: 3452.917480\n",
            "Epoch Step: 1 Loss: 0.375428 Tokens per Sec: 3458.436279\n",
            "tensor(0.3710, device='cuda:0')\n",
            "Epoch Step: 1 Loss: 0.542105 Tokens per Sec: 3618.616699\n",
            "Epoch Step: 1 Loss: 0.369819 Tokens per Sec: 3696.295410\n",
            "tensor(0.3782, device='cuda:0')\n",
            "Epoch Step: 1 Loss: 0.517231 Tokens per Sec: 3648.462158\n",
            "Epoch Step: 1 Loss: 0.364647 Tokens per Sec: 3581.344238\n",
            "tensor(0.3716, device='cuda:0')\n",
            "Epoch Step: 1 Loss: 0.500656 Tokens per Sec: 3476.631836\n",
            "Epoch Step: 1 Loss: 0.377965 Tokens per Sec: 3679.990967\n",
            "tensor(0.3702, device='cuda:0')\n",
            "Epoch Step: 1 Loss: 0.504320 Tokens per Sec: 3416.377441\n",
            "Epoch Step: 1 Loss: 0.367920 Tokens per Sec: 3604.420410\n",
            "tensor(0.3706, device='cuda:0')\n"
          ],
          "name": "stdout"
        }
      ]
    },
    {
      "cell_type": "code",
      "metadata": {
        "id": "WmzZLUCGD9YS",
        "colab_type": "code",
        "colab": {}
      },
      "source": [
        "def generate_word(words, max_len, model=model):\n",
        "\n",
        "  token = tokenizer.encode(words).ids[:-1]\n",
        "  token_word = torch.Tensor(token).long()\n",
        "  tok_word = token_word[None, ...]\n",
        "\n",
        "  model.eval()\n",
        "\n",
        "  out = greedy_decode(model, tok_word.cuda(), max_len=max_len)\n",
        "\n",
        "  rslt = tokenizer.decode([item.item() for item in out.data[0]])\n",
        "\n",
        "  return rslt"
      ],
      "execution_count": 0,
      "outputs": []
    },
    {
      "cell_type": "code",
      "metadata": {
        "id": "-QTW8dzJLrHD",
        "colab_type": "code",
        "colab": {}
      },
      "source": [
        "d = next(iter(valid_loader))"
      ],
      "execution_count": 0,
      "outputs": []
    },
    {
      "cell_type": "code",
      "metadata": {
        "id": "8e3xETieLwCS",
        "colab_type": "code",
        "colab": {}
      },
      "source": [
        "f = d[0][0]"
      ],
      "execution_count": 0,
      "outputs": []
    },
    {
      "cell_type": "code",
      "metadata": {
        "id": "XUeS44CiMDWS",
        "colab_type": "code",
        "colab": {}
      },
      "source": [
        "f_list = [x.item() for x in f.data]"
      ],
      "execution_count": 0,
      "outputs": []
    },
    {
      "cell_type": "code",
      "metadata": {
        "id": "lupnhjUrMe1M",
        "colab_type": "code",
        "colab": {}
      },
      "source": [
        "test = \" \".join(tokenizer.decode(f_list).split()[:])"
      ],
      "execution_count": 0,
      "outputs": []
    },
    {
      "cell_type": "code",
      "metadata": {
        "id": "Ug8vnd7dM2J8",
        "colab_type": "code",
        "colab": {
          "base_uri": "https://localhost:8080/",
          "height": 54
        },
        "outputId": "9b436c60-7f5c-4529-fb20-5bfe51a9e3c5"
      },
      "source": [
        "test"
      ],
      "execution_count": 187,
      "outputs": [
        {
          "output_type": "execute_result",
          "data": {
            "text/plain": [
              "'But on the eighth day they held a solemn assembly , because they had held the inauguration of the altar for seven days and the festival for seven days .'"
            ]
          },
          "metadata": {
            "tags": []
          },
          "execution_count": 187
        }
      ]
    },
    {
      "cell_type": "code",
      "metadata": {
        "id": "Y5FCSqrCJQYP",
        "colab_type": "code",
        "colab": {
          "base_uri": "https://localhost:8080/",
          "height": 34
        },
        "outputId": "78cc3f2c-12b3-4daa-f1d3-76fd70aa9d88"
      },
      "source": [
        "tokenizer.encode(\"<s> father\").ids"
      ],
      "execution_count": 155,
      "outputs": [
        {
          "output_type": "execute_result",
          "data": {
            "text/plain": [
              "[0, 0, 569, 2]"
            ]
          },
          "metadata": {
            "tags": []
          },
          "execution_count": 155
        }
      ]
    },
    {
      "cell_type": "code",
      "metadata": {
        "id": "B0OzZfceJa8z",
        "colab_type": "code",
        "colab": {
          "base_uri": "https://localhost:8080/",
          "height": 54
        },
        "outputId": "ad3d0cd8-3d6f-49e0-8ce5-c18e1f13622a"
      },
      "source": [
        "generate_word(\"Jesus\", 50)"
      ],
      "execution_count": 192,
      "outputs": [
        {
          "output_type": "execute_result",
          "data": {
            "text/plain": [
              "'Jesus said to him : “ The children of this system of things marry and are given in marriage , under the Kingdom of God is upon you did not see . been born to me in this one who sent me in Jerusalem , ,'"
            ]
          },
          "metadata": {
            "tags": []
          },
          "execution_count": 192
        }
      ]
    },
    {
      "cell_type": "markdown",
      "metadata": {
        "id": "lGWFngl2NQLS",
        "colab_type": "text"
      },
      "source": [
        ""
      ]
    },
    {
      "cell_type": "code",
      "metadata": {
        "id": "wHg9CrvbJnTH",
        "colab_type": "code",
        "colab": {}
      },
      "source": [
        ""
      ],
      "execution_count": 0,
      "outputs": []
    }
  ]
}